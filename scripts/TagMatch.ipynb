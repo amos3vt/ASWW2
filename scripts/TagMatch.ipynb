{
 "cells": [
  {
   "cell_type": "markdown",
   "metadata": {},
   "source": [
    "# Import necessary libraries"
   ]
  },
  {
   "cell_type": "code",
   "execution_count": 1,
   "metadata": {},
   "outputs": [
    {
     "name": "stderr",
     "output_type": "stream",
     "text": [
      "C:\\Users\\Savannah\\Anaconda3\\lib\\site-packages\\tensorflow\\python\\framework\\dtypes.py:526: FutureWarning: Passing (type, 1) or '1type' as a synonym of type is deprecated; in a future version of numpy, it will be understood as (type, (1,)) / '(1,)type'.\n",
      "  _np_qint8 = np.dtype([(\"qint8\", np.int8, 1)])\n",
      "C:\\Users\\Savannah\\Anaconda3\\lib\\site-packages\\tensorflow\\python\\framework\\dtypes.py:527: FutureWarning: Passing (type, 1) or '1type' as a synonym of type is deprecated; in a future version of numpy, it will be understood as (type, (1,)) / '(1,)type'.\n",
      "  _np_quint8 = np.dtype([(\"quint8\", np.uint8, 1)])\n",
      "C:\\Users\\Savannah\\Anaconda3\\lib\\site-packages\\tensorflow\\python\\framework\\dtypes.py:528: FutureWarning: Passing (type, 1) or '1type' as a synonym of type is deprecated; in a future version of numpy, it will be understood as (type, (1,)) / '(1,)type'.\n",
      "  _np_qint16 = np.dtype([(\"qint16\", np.int16, 1)])\n",
      "C:\\Users\\Savannah\\Anaconda3\\lib\\site-packages\\tensorflow\\python\\framework\\dtypes.py:529: FutureWarning: Passing (type, 1) or '1type' as a synonym of type is deprecated; in a future version of numpy, it will be understood as (type, (1,)) / '(1,)type'.\n",
      "  _np_quint16 = np.dtype([(\"quint16\", np.uint16, 1)])\n",
      "C:\\Users\\Savannah\\Anaconda3\\lib\\site-packages\\tensorflow\\python\\framework\\dtypes.py:530: FutureWarning: Passing (type, 1) or '1type' as a synonym of type is deprecated; in a future version of numpy, it will be understood as (type, (1,)) / '(1,)type'.\n",
      "  _np_qint32 = np.dtype([(\"qint32\", np.int32, 1)])\n",
      "C:\\Users\\Savannah\\Anaconda3\\lib\\site-packages\\tensorflow\\python\\framework\\dtypes.py:535: FutureWarning: Passing (type, 1) or '1type' as a synonym of type is deprecated; in a future version of numpy, it will be understood as (type, (1,)) / '(1,)type'.\n",
      "  np_resource = np.dtype([(\"resource\", np.ubyte, 1)])\n"
     ]
    }
   ],
   "source": [
    "import pandas as pd\n",
    "import numpy as np\n",
    "import scipy\n",
    "from sklearn.cluster import KMeans\n",
    "from sentence_transformers import SentenceTransformer"
   ]
  },
  {
   "cell_type": "markdown",
   "metadata": {},
   "source": [
    "# Load model"
   ]
  },
  {
   "cell_type": "code",
   "execution_count": 2,
   "metadata": {},
   "outputs": [],
   "source": [
    "model = SentenceTransformer('bert-base-nli-mean-tokens')"
   ]
  },
  {
   "cell_type": "markdown",
   "metadata": {},
   "source": [
    "# Load tag data"
   ]
  },
  {
   "cell_type": "code",
   "execution_count": 3,
   "metadata": {},
   "outputs": [],
   "source": [
    "path = \"../data/tags.xlsx\"\n",
    "transcriber_df = pd.read_excel(path, converters={'space':str, 'nospace':str}, sheet_name=\"ZooniverseTags\")\n",
    "expert_df = pd.read_excel(path, converters={'space':str, 'nospace':str}, sheet_name=\"ExpertTags\")\n",
    "expert_tags = expert_df[\"nospace\"].tolist()"
   ]
  },
  {
   "cell_type": "markdown",
   "metadata": {},
   "source": [
    "# Get tag embeddings"
   ]
  },
  {
   "cell_type": "code",
   "execution_count": 4,
   "metadata": {},
   "outputs": [],
   "source": [
    "expert_embed = model.encode(expert_df['space'].tolist())\n",
    "transcriber_embed = model.encode(transcriber_df['space'].tolist())"
   ]
  },
  {
   "cell_type": "markdown",
   "metadata": {},
   "source": [
    "# Compare embeddings"
   ]
  },
  {
   "cell_type": "code",
   "execution_count": 5,
   "metadata": {},
   "outputs": [],
   "source": [
    "def compare_all(i, tag, embed):\n",
    "    distances = scipy.spatial.distance.cdist([embed], expert_embed, \"cosine\")[0]\n",
    "    ranking = sorted(zip(range(len(distances)), distances), key=lambda x: x[1])\n",
    "    return {\n",
    "        \"index\": i,\n",
    "        \"transcriber_tag\": tag,\n",
    "        \"expert_tag_1\": expert_tags[ranking[0][0]],\n",
    "        \"score_1\": 1-ranking[0][1],\n",
    "        \"expert_tag_2\": expert_tags[ranking[1][0]],\n",
    "        \"score_2\": 1-ranking[1][1],\n",
    "        \"expert_tag_3\": expert_tags[ranking[2][0]],\n",
    "        \"score_3\": 1-ranking[2][1]\n",
    "    }\n",
    "    \n",
    "results = [compare_all(i, tag, embed) for i, tag, embed in \n",
    "           zip(range(len(transcriber_df)), transcriber_df['nospace'].tolist(), transcriber_embed)]"
   ]
  },
  {
   "cell_type": "markdown",
   "metadata": {},
   "source": [
    "# Save as .csv"
   ]
  },
  {
   "cell_type": "code",
   "execution_count": 7,
   "metadata": {},
   "outputs": [],
   "source": [
    "# Convert list of results to dataframe\n",
    "df = pd.DataFrame(results)\n",
    "# Sort results by cosine similarity\n",
    "df = df.sort_values('score_1', ascending=False)\n",
    "# Write to csv\n",
    "df.to_csv(\"../data/tag_match.csv\", index=False)"
   ]
  },
  {
   "cell_type": "markdown",
   "metadata": {},
   "source": [
    "# Cluster tags lacking close match"
   ]
  },
  {
   "cell_type": "code",
   "execution_count": 8,
   "metadata": {},
   "outputs": [
    {
     "name": "stdout",
     "output_type": "stream",
     "text": [
      "Cluster 0\n",
      "['everyminutecounts', 'living_day_by_day', 'longtimevolunteer', 'onceasoldieralwaysasoldier', 'plansnotchanged', 'prewarsalary', 'standinghispost']\n",
      "Cluster 1\n",
      "['australia', 'australian', 'baseball', 'brothel', 'china', 'communism', 'economist', 'fascism', 'musictheory', 'night', 'northvssouth', 'playboys', 'rats', 'russia', 'stalin', 'visitrussia']\n",
      "Cluster 2\n",
      "['biologicalresearch', 'biology', 'bloodtest', 'chemist', 'chemistry', 'civilengineering', 'constructionengineering', 'dieselwork', 'electrician', 'engineschool', 'firefighter', 'hairstylist', 'lithographer', 'metallurgy', 'oilindustry', 'physics', 'safteyengineering']\n",
      "Cluster 3\n",
      "['agriculture', 'boy_scout_tactics', 'boyscout', 'farmboy', 'farmboys', 'farmer', 'farmers', 'farming', 'farmlife', 'lumberjack', 'ranches', 'unclesam']\n",
      "Cluster 4\n",
      "['diabetes', 'dysentery', 'food_poisoning', 'hayfever', 'malaria-fever', 'malaria-zone', 'malaria', 'mosquitoes', 'tropical-fevers', 'tropical-sickness', 'tropicalfevers']\n",
      "Cluster 5\n",
      "['15days', '17hours', '17months', '22months', '24months', '3months', '4plusyears', '5moreyears', '6thgrade', '8hours', '93months', 'doublehours', 'eightmonths', 'fivemonths', 'fouryearsexperience', 'sixmonths', 'twoyears']\n",
      "Cluster 6\n",
      "['americancitizen', 'americandream', 'americanindustry', 'americannews', 'americanspirit', 'americanwin', 'billyrosemillionaire', 'franksinatra', 'getreadyforkorea', 'merchantmarines', 'religionoverrace', 'taxmoney', 'taxreturns']\n",
      "Cluster 7\n",
      "['coffee', 'handshaking', 'officersreadingmail', 'pencilpushers', 'readingmail', 'writingletters']\n",
      "Cluster 8\n",
      "['back2school', 'college', 'collegeeduction', 'finishcollege', 'graduatestudy', 'highschool', 'lifeafterthewar', 'livingafterwar', 'mastersdegree', 'whenwillthewarbeover']\n",
      "Cluster 9\n",
      "['basketball', 'bus', 'busservice', 'cobbler', 'jiggers', 'jumpingthroughhoops', 'monkey', 'phonebooth', 'sodas']\n",
      "Cluster 10\n",
      "['automotive', 'car', 'ford', 'mustang', 'speedbump', 'truckdriver', 'truckdrivers']\n",
      "Cluster 11\n",
      "['forestry', 'forests', 'frostbite', 'fruitfarm', 'golf', 'hiking', 'hillbilly', 'snow', 'winter']\n",
      "Cluster 12\n",
      "['brooklyn', 'buyingahouse', 'europeantheater', 'newcity', 'newguys', 'newmen', 'newyorkcity', 'newyorkharbor', 'putthecampsintowns']\n",
      "Cluster 13\n",
      "['11airborn', '2ndlieutenants', '4thtankgroup', '511paratrooper', '511th', '5dollarwords', '75thdivision', 'bachelor', 'bluefalcon', 'brownnose', 'crow', 'firstinfirstout', 'greek', 'green', 'purpleheart', 'telephone']\n",
      "Cluster 14\n",
      "['arthritis', 'brewingstorm', 'brokenarm', 'cantwaittogethome', 'deadyoungmen', 'deathinthefamily', 'food-shortages', 'greatdepressionhasended', 'ishouldnthavetofightformyrights', 'latetotheparty', 'missinghome', 'missme', 'nightschool', 'nomorewar', 'notenoughtimeathome', 'noworkweekend', 'previousinjury', 'starvingartist', 'taxationistheft', 'toendallwars', 'too_old_to_fight', 'toooldforflying']\n",
      "Cluster 15\n",
      "['30days', '30yearolds', '30years', '30yearsold', '30yrsplus', '4yearsor35', 'thirtyfive']\n",
      "Cluster 16\n",
      "['bullgang', 'court-martial', 'court-martials', 'courtmarshal', 'legalopportunities', 'lynching', 'officerversusenlisted']\n",
      "Cluster 17\n",
      "['barbershops', 'beefstew', 'bootlicker', 'browning_automatic_rifle', 'buckpassing', 'buckprivates', 'carbines', 'cavalryrulesinfantrydrools', 'dog', 'dogs', 'footsoldiers', 'handgrenade', 'medalhunter', 'olddogs', 'pigfood', 'roaches', 'shellshock', 'shootingrange', 'snipers', 'tankdestroyer', 'youngmenfight']\n",
      "Cluster 18\n",
      "['adviceforfamily', 'best-friends', 'bringthoseboyshome', 'brotherinarms', 'brothers', 'familyman', 'fatherforlife', 'fatherservingww2', 'friendsandfamily', 'hometownboy', 'lovedones', 'lovemywife', 'marriedman', 'marriedmen', 'supportingfamily', 'trainyoungermen']\n",
      "Cluster 19\n",
      "['bettermen', 'civilianspaidmore', 'deservebetter', 'hewilldogreatastheeconomywasbooming', 'improvingthearmy', 'iwanttotravelmoreoften', 'moremilk', 'moreradios', 'needmoredays', 'winningthewar', 'winthewar']\n",
      "Cluster 20\n",
      "['belgium', 'boston', 'buffalosoldiers', 'canada', 'chicago', 'minnesota', 'norwegian', 'vermont', 'wewantseasonaluniforms', 'wisconsin', 'wisconsinlakes']\n",
      "Cluster 21\n",
      "['overnightworkers', 'sunday', 'sundays', 'threedaypass', 'weekendbreak', 'weekends']\n",
      "Cluster 22\n",
      "['amphibianengineers', 'beachhead', 'boat', 'boating', 'motorpool', 'pond', 'sicily', 'sun-tans']\n",
      "Cluster 23\n",
      "['argentina', 'deepsouth', 'southamerica', 'southcarolina', 'southcarolinastatecollege', 'southerncalifornia', 'southernstates', 'southseas', 'theamericansouth']\n",
      "Cluster 24\n",
      "['believerinrandomcapitalization', 'chinese', 'cigarettes', 'gay', 'holocaust', 'jew', 'jewish', 'jews', 'pipedreams', 'slave']\n",
      "Cluster 25\n",
      "['forthuachuca', 'india-burma', 'indiaburma', 'mexican', 'mexico', 'mojave', 'newmexico', 'puertorico', 'san_francisco_conference', 'spanish', 'texas', 'x1186']\n",
      "Cluster 26\n",
      "['church', 'dance', 'dresscode', 'fairytale', 'frankieandeleanor', 'nightmare', 'poetry', 'salesgirls', 'train', 'trains', 'weddingbells', 'wine']\n",
      "Cluster 27\n",
      "['aircorpcadet', 'aircraftmechanic', 'aleutian', 'aliens', 'guadalcanal', 'powertrip', 'privateairlines', 'shippingspace', 'vetsatuni']\n",
      "Cluster 28\n",
      "['alluppercaps', 'besthandwriting', 'everybodywins', 'greendrafters', 'white_supremacy', 'whiteofficers', 'whitesoldier', 'whitesoldiers', 'whitesupremacy']\n",
      "Cluster 29\n",
      "['christianity', 'evalgelism', 'fightforwhatyoulove', 'fightthegoodfight', 'keepthepoliticsindc', 'learntoshoot', 'letsgetthisbread', 'practicewhatyoupreach', 'servingthecountry', 'stretchingthesamesentencetoreachwordlimi', 'heknowsexactlywhathewantstodo']\n"
     ]
    }
   ],
   "source": [
    "k = 30 # Adjust number of clusters\n",
    "\n",
    "cluster_results = [results[i] for i in range(len(results))\n",
    "                   if results[i]['score_1'] < 0.65 ] # Adjust similarity threshold\n",
    "\n",
    "cluster_embeds = [transcriber_embed[cluster_results[i]['index']] \n",
    "                  for i in range(len(cluster_results))]\n",
    "\n",
    "kmeans = KMeans(n_clusters=k).fit(cluster_embeds)\n",
    "\n",
    "for i in range(k):\n",
    "    print(\"Cluster\", i)\n",
    "    print([cluster_results[j]['transcriber_tag'] \n",
    "           for j in range(len(kmeans.labels_))\n",
    "           if kmeans.labels_[j] == i])"
   ]
  }
 ],
 "metadata": {
  "kernelspec": {
   "display_name": "Python 3",
   "language": "python",
   "name": "python3"
  },
  "language_info": {
   "codemirror_mode": {
    "name": "ipython",
    "version": 3
   },
   "file_extension": ".py",
   "mimetype": "text/x-python",
   "name": "python",
   "nbconvert_exporter": "python",
   "pygments_lexer": "ipython3",
   "version": "3.7.3"
  }
 },
 "nbformat": 4,
 "nbformat_minor": 4
}
