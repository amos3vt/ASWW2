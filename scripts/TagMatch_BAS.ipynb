{
 "cells": [
  {
   "cell_type": "markdown",
   "metadata": {},
   "source": [
    "# Import necessary libraries"
   ]
  },
  {
   "cell_type": "code",
   "execution_count": 1,
   "metadata": {},
   "outputs": [
    {
     "name": "stderr",
     "output_type": "stream",
     "text": [
      "C:\\Users\\Savannah\\Anaconda3\\lib\\site-packages\\smart_open\\smart_open_lib.py:253: UserWarning: This function is deprecated, use smart_open.open instead. See the migration notes for details: https://github.com/RaRe-Technologies/smart_open/blob/master/README.rst#migrating-to-the-new-open-function\n",
      "  'See the migration notes for details: %s' % _MIGRATION_NOTES_URL\n"
     ]
    }
   ],
   "source": [
    "import pandas as pd\n",
    "import numpy as np\n",
    "from sklearn.cluster import KMeans\n",
    "from bert_serving.client import BertClient\n",
    "bc = BertClient()\n",
    "import gensim.downloader as api\n",
    "wv = api.load('word2vec-google-news-300')"
   ]
  },
  {
   "cell_type": "markdown",
   "metadata": {},
   "source": [
    "# Load tag data"
   ]
  },
  {
   "cell_type": "code",
   "execution_count": 2,
   "metadata": {},
   "outputs": [],
   "source": [
    "# Load tag data\n",
    "column = \"space\" # Set to \"space\" or \"nospace\"\n",
    "transcriber_tags = pd.read_excel(\"../data/tags.xlsx\", converters={column:str}, sheet_name=\"ZooniverseTags\")\n",
    "expert_tags = pd.read_excel(\"../data/tags.xlsx\", converters={column:str}, sheet_name=\"ExpertTags\")"
   ]
  },
  {
   "cell_type": "markdown",
   "metadata": {},
   "source": [
    "# Print (some) tags that Word2Vec does not understand."
   ]
  },
  {
   "cell_type": "markdown",
   "metadata": {},
   "source": [
    "Many of these tags are short phrases which Word2Vec does not have in its base vocabulary. I do not currently have the resources to fine-tune Word2Vec to add these phrases. For this reason, the current version of this notebook only compares BERT tag embeddings."
   ]
  },
  {
   "cell_type": "code",
   "execution_count": 3,
   "metadata": {},
   "outputs": [
    {
     "name": "stdout",
     "output_type": "stream",
     "text": [
      "\"word '1 in 10 rations' not in vocabulary\"\n",
      "\"word 'afi courses' not in vocabulary\"\n",
      "\"word 'army films' not in vocabulary\"\n",
      "\"word 'army insurance' not in vocabulary\"\n",
      "\"word 'army living' not in vocabulary\"\n",
      "\"word 'army scorecard plan' not in vocabulary\"\n",
      "\"word 'army talks' not in vocabulary\"\n",
      "\"word 'attitude toward england' not in vocabulary\"\n",
      "\"word 'attitude toward france' not in vocabulary\"\n",
      "\"word 'attitude towards germany' not in vocabulary\"\n",
      "\"word 'attitude toward italy' not in vocabulary\"\n",
      "\"word 'base newspapers' not in vocabulary\"\n",
      "\"word 'base units' not in vocabulary\"\n",
      "\"word 'branch of service' not in vocabulary\"\n",
      "\"word 'british papers' not in vocabulary\"\n",
      "\"word 'business ownership' not in vocabulary\"\n",
      "\"word 'cbi roundup' not in vocabulary\"\n",
      "\"word 'chemical warfare' not in vocabulary\"\n",
      "\"word 'civilian skills' not in vocabulary\"\n",
      "\"word 'combat flying' not in vocabulary\"\n",
      "\"word 'combat stress' not in vocabulary\"\n",
      "\"word 'confidence in ship' not in vocabulary\"\n",
      "\"word 'confidence in troops' not in vocabulary\"\n",
      "\"word 'current events' not in vocabulary\"\n",
      "\"word 'dental care' not in vocabulary\"\n",
      "\"word 'dischargees' not in vocabulary\"\n",
      "\"word 'enemy atrocities' not in vocabulary\"\n",
      "\"word 'enemy vindictiveness' not in vocabulary\"\n",
      "\"word 'mental health' not in vocabulary\"\n",
      "\"word 'esprit de corps' not in vocabulary\"\n",
      "\"word 'fighting facts' not in vocabulary\"\n",
      "\"word 'foreign policy' not in vocabulary\"\n",
      "\"word 'forward areas' not in vocabulary\"\n",
      "\"word 'further service' not in vocabulary\"\n",
      "\"word 'german clothing' not in vocabulary\"\n",
      "\"word 'german radio' not in vocabulary\"\n",
      "\"word 'gi bill' not in vocabulary\"\n",
      "\"word 'goldbricking' not in vocabulary\"\n",
      "\"word 'ground personnel' not in vocabulary\"\n",
      "\"word 'heavy bombardment groups' not in vocabulary\"\n",
      "\"word 'hospital facilities' not in vocabulary\"\n",
      "\"word 'japanese surrender' not in vocabulary\"\n",
      "\"word 'job evaluation' not in vocabulary\"\n",
      "\"word 'job preference' not in vocabulary\"\n",
      "\"word 'job satisfaction' not in vocabulary\"\n",
      "\"word 'job turnover' not in vocabulary\"\n",
      "\"word 'k rations' not in vocabulary\"\n",
      "\"word 'leisure time' not in vocabulary\"\n",
      "\"word 'length of service' not in vocabulary\"\n",
      "\"word 'length of war' not in vocabulary\"\n",
      "\"word 'limited assignments' not in vocabulary\"\n",
      "\"word 'live talen' not in vocabulary\"\n",
      "\"word 'living conditions' not in vocabulary\"\n",
      "\"word 'local civilians' not in vocabulary\"\n",
      "\"word 'malary' not in vocabulary\"\n",
      "\"word 'marital status' not in vocabulary\"\n",
      "\"word 'media influence' not in vocabulary\"\n",
      "\"word 'medical care' not in vocabulary\"\n",
      "\"word 'medical dispensaries' not in vocabulary\"\n",
      "\"word 'mess hall' not in vocabulary\"\n",
      "\"word 'military police' not in vocabulary\"\n",
      "\"word 'morale program' not in vocabulary\"\n",
      "\"word 'ncos' not in vocabulary\"\n",
      "\"word 'newsmaps' not in vocabulary\"\n",
      "\"word 'officer training' not in vocabulary\"\n",
      "\"word 'opinion of allies' not in vocabulary\"\n",
      "\"word 'opinion of tomorrow' not in vocabulary\"\n",
      "\"word 'overseas combat' not in vocabulary\"\n",
      "\"word 'pacific toughness' not in vocabulary\"\n",
      "\"word 'patient care' not in vocabulary\"\n",
      "\"word 'personal services' not in vocabulary\"\n",
      "\"word 'physical fitness' not in vocabulary\"\n",
      "\"word 'point system' not in vocabulary\"\n",
      "\"word 'political views' not in vocabulary\"\n",
      "\"word 'post exchanges' not in vocabulary\"\n",
      "\"word 'postwar expectations' not in vocabulary\"\n",
      "\"word 'postwar opportunities' not in vocabulary\"\n",
      "\"word 'postwar world' not in vocabulary\"\n",
      "\"word 'pride in outfit' not in vocabulary\"\n",
      "\"word 'program preferences' not in vocabulary\"\n",
      "\"word 'prosecution of the war' not in vocabulary\"\n",
      "\"word 'pxs' not in vocabulary\"\n",
      "\"word 'radio listening habits' not in vocabulary\"\n",
      "\"word 'rec centers' not in vocabulary\"\n",
      "\"word 'red cross' not in vocabulary\"\n",
      "\"word 'redistribution stations' not in vocabulary\"\n",
      "\"word 'section chief' not in vocabulary\"\n",
      "\"word 'separation centers' not in vocabulary\"\n",
      "\"word 'service personnel' not in vocabulary\"\n",
      "\"word 'sex contact' not in vocabulary\"\n",
      "\"word 'soldier deposits' not in vocabulary\"\n",
      "\"word 'special services' not in vocabulary\"\n",
      "\"word 'stars and stripes' not in vocabulary\"\n",
      "\"word 'strategic bombing' not in vocabulary\"\n",
      "\"word 'sw pacific' not in vocabulary\"\n",
      "\"word 'time off' not in vocabulary\"\n",
      "\"word 'transfer account plan' not in vocabulary\"\n",
      "\"word 'treatment of pows' not in vocabulary\"\n",
      "\"word 'us-clubs' not in vocabulary\"\n",
      "\"word 'us in the world' not in vocabulary\"\n",
      "\"word 'uso clubs' not in vocabulary\"\n",
      "\"word 'usos' not in vocabulary\"\n",
      "\"word 'v-e day' not in vocabulary\"\n",
      "\"word 'venereal disease' not in vocabulary\"\n",
      "\"word 'war bonds' not in vocabulary\"\n",
      "\"word 'ward information' not in vocabulary\"\n",
      "\"word 'war industries' not in vocabulary\"\n",
      "\"word 'war news' not in vocabulary\"\n",
      "\"word 'war week' not in vocabulary\"\n",
      "\"word 'working with civilians' not in vocabulary\"\n"
     ]
    }
   ],
   "source": [
    "for e in expert_tags[column]:\n",
    "    try:\n",
    "        wv[e]\n",
    "    except Exception as err:\n",
    "        print(err)"
   ]
  },
  {
   "cell_type": "markdown",
   "metadata": {},
   "source": [
    "# Determine best approximations for transcriber tags"
   ]
  },
  {
   "cell_type": "markdown",
   "metadata": {},
   "source": [
    "## Get embeddings"
   ]
  },
  {
   "cell_type": "code",
   "execution_count": 4,
   "metadata": {
    "scrolled": true
   },
   "outputs": [
    {
     "name": "stdout",
     "output_type": "stream",
     "text": [
      "0\n",
      "500\n",
      "1000\n",
      "1500\n",
      "2000\n",
      "2500\n",
      "3000\n",
      "3500\n",
      "4000\n"
     ]
    }
   ],
   "source": [
    "# Redefine encoding function to allow progress tracking\n",
    "count = 0\n",
    "def encode(tag):\n",
    "    global count\n",
    "    if count%500 == 0:\n",
    "        print(count)\n",
    "    count += 1\n",
    "    return bc.encode([tag])[0]\n",
    "\n",
    "# Get embeddings\n",
    "expert_embed = [encode(i) for i in expert_tags[column]]\n",
    "transcriber_embed = [encode(i) for i in transcriber_tags[column]]"
   ]
  },
  {
   "cell_type": "markdown",
   "metadata": {},
   "source": [
    "## Compare embeddings"
   ]
  },
  {
   "cell_type": "code",
   "execution_count": 5,
   "metadata": {},
   "outputs": [],
   "source": [
    "# Compare transcriber tag at index i to all expert tags\n",
    "def compare_all(i):\n",
    "    \n",
    "    # Track best results\n",
    "    result = {\n",
    "        \"index\": i,\n",
    "        \"transcriber_tag\": transcriber_tags['nospace'].iloc[i],\n",
    "        \"expert_tag_1\": None,\n",
    "        \"score_1\": -1,\n",
    "        \"expert_tag_2\": None,\n",
    "        \"score_2\": -1,\n",
    "        \"expert_tag_3\": None,\n",
    "        \"score_3\": -1\n",
    "    }\n",
    "    \n",
    "    # Make comparisons\n",
    "    for j in range(len(expert_tags)):\n",
    "        score = np.dot(transcriber_embed[i], expert_embed[j]) / \\\n",
    "            (np.linalg.norm(transcriber_embed[i]) * np.linalg.norm(expert_embed[j]))\n",
    "        if score > result['score_1']:\n",
    "            result['expert_tag_1'] = expert_tags[column].iloc[j]\n",
    "            result['score_1'] = score\n",
    "        elif score > result['score_2']:\n",
    "            result['expert_tag_2'] = expert_tags[column].iloc[j]\n",
    "            result['score_2'] = score\n",
    "        elif score > result['score_3']:\n",
    "            result['expert_tag_3'] = expert_tags[column].iloc[j]\n",
    "            result['score_3'] = score\n",
    "            \n",
    "    return result\n",
    "\n",
    "results = [compare_all(i) for i in range(len(transcriber_tags))]"
   ]
  },
  {
   "cell_type": "markdown",
   "metadata": {},
   "source": [
    "# Write results as CSV"
   ]
  },
  {
   "cell_type": "code",
   "execution_count": 6,
   "metadata": {},
   "outputs": [],
   "source": [
    "# Convert list of results to dataframe\n",
    "df = pd.DataFrame(results)\n",
    "# Sort results by cosine similarity\n",
    "df = df.sort_values('score_1', ascending=False)\n",
    "# Write to excel file\n",
    "df.to_csv(\"../data/tag_match_BAS.csv\")"
   ]
  },
  {
   "cell_type": "markdown",
   "metadata": {},
   "source": [
    "# Cluster words that lack a close-enough approximation"
   ]
  },
  {
   "cell_type": "code",
   "execution_count": 8,
   "metadata": {},
   "outputs": [
    {
     "name": "stdout",
     "output_type": "stream",
     "text": [
      "Cluster 0\n",
      "['africanamerican', 'africanamericans', 'africanamericansoldier', 'africanamericansoldiers', 'antisemitism', 'desegregation', 'evalgelism', 'fascism', 'hitler', 'laborstrikes', 'lynching', 'nazism', 'race-relations', 'racial-discrimination', 'sexism', 'sexist']\n",
      "Cluster 1\n",
      "['allforone', 'b-24', 'b-29', 'coloredandwhite', 'columnacolumnb', 'goodpoints', 'northandsouth', 'northvssouth', 'oneanddone', 'oneandone', 'oneteam', 'youngvsold']\n",
      "Cluster 2\n",
      "['amallbusiness', 'biggovernmentisbad', 'callingsomeoneout', 'entepreneur', 'gethimoutofbarracks', 'ishouldnthavetofightformyrights', 'iwanttotravelmoreoften', 'keepthepoliticsindc', 'makemeanofficer', 'officersneedtotryit', 'onceasoldieralwaysasoldier', 'privileges-for-officers', 'proudtoserve', 'servingthecountry', 'settling_down', 'sickofwar', 'soldiersdontseecolor', 'stretchingthesamesentencetoreachwordlimi', 'too_old_to_fight', 'wecanallgetalong', 'whenwillthewarbeover', 'heknowsexactlywhathewantstodo']\n",
      "Cluster 3\n",
      "['believeme', 'bequiet', 'bettercare', 'betterleave', 'betterpay', 'bringmehome', 'bringthemhome', 'bringthoseboyshome', 'bringushome', 'clotheme', 'considerusplease', 'deservebetter', 'disable', 'dischargeme', 'everybodywins', 'fightordie', 'finishthis', 'fixthis', 'getitoverwith', 'getout', 'getthemoutofhere', 'giveitacrack', 'gohome', 'hatethis', 'hellwithtomorrow', 'helpme', 'hurryupandwait', 'igiveup', 'keepmeposted', 'keeptrying', 'letmebeme', 'letmeserve', 'letsgetthisbread', 'letsgohome', 'makethisbetter', 'makethishappen', 'moveon', 'moveout', 'readjust', 'removetheredtape', 'saveit', 'seewhereittakesme', 'sendme', 'sendmehome', 'settledown', 'sleepeasy', 'startsearching', 'stayin', 'stayorgo', 'stickwithit', 'time_will_tell', 'wakeupamerica', 'wecandoit', 'whenwillitend', 'whyarewedoingthis', 'youmatter']\n",
      "Cluster 4\n",
      "['afterthearmy', 'afterthewar', 'armyofoccupation', 'civilwar', 'concentrationcamp', 'fatherservingww2', 'german-prisoners-of-war', 'greatdepression', 'nazigermany', 'nopostwarplan', 'post-war', 'post-warjob', 'postworldwar', 'prisonerofwar', 'prisoners-of-war', 'worldwar', 'worldwar1', 'worldwar2soldier', 'worldwarii', 'worldwariisolider', 'ww1', 'ww2', 'ww2draft']\n",
      "Cluster 5\n",
      "['handshaking', 'littletosay', 'nocomment', 'nocomments', 'noinformation', 'nopolitics', 'noregrets', 'notax', 'nothingtosay']\n",
      "Cluster 6\n",
      "['aleutian', 'aleutianislands', 'aleutians', 'american', 'australian', 'greatbritain', 'guadalcanal', 'huachuca', 'india-burma', 'indiaburma', 'milnebay', 'negroes', 'negros', 'newguinea', 'newyorkcity', 'newyorkharbor', 'pearlharbor', 'portofembarkation', 'puertorico', 'southamerica', 'tropics', 'unitedstates', 'visitrussia']\n",
      "Cluster 7\n",
      "['noanswer', 'noanswers', 'nochance', 'nochoice', 'nofight', 'nofreedom', 'nofun', 'nohell', 'nohope', 'noidea', 'nomorewar', 'noneed', 'noneedfor', 'nopatience', 'noplans', 'noreturn', 'notanswering', 'nowords']\n",
      "Cluster 8\n",
      "['ablebodied', 'aircraftmechanic', 'allotment', 'allotments', 'amphibianengineers', 'chemicalengineer', 'chemistry', 'dispatcher', 'economist', 'electrician', 'embalming', 'exfarmer', 'firefighter', 'hairstylist', 'homeowner', 'homeownership', 'industrialization', 'journalist', 'khakis', 'lithographer', 'machinist', 'medic', 'merchandising', 'metallurgy', 'musictheory', 'nutritionist', 'oilindustry', 'ophthalmology', 'part-time', 'physicalexam', 'privatepractice', 'selfemployed', 'stenographer', 'weightgain', 'workinthearmy']\n",
      "Cluster 9\n",
      "['30yearsold', 'decidingdefiantly', 'donemypart', 'fedup', 'feelingfine', 'feelsgood', 'fittedfor', 'fouledup', 'goodshape', 'interupted', 'jobinhand', 'laidbacklifestyle', 'manwithaplan', 'messedup', 'mightstayin', 'movingaround', 'notsure', 'oldersolider', 'openarms', 'passedover', 'plannedout', 'sameculture', 'settleddown', 'sittingaround', 'smartguy', 'standinghispost', 'takestolong', 'treatedwell', 'washedout', 'wellpayed']\n",
      "Cluster 10\n",
      "['appreciative', 'clueless', 'diligent', 'disatisfied', 'discouraging', 'disgruntled', 'disorganized', 'displeased', 'disrespect', 'disrespected', 'homesick', 'illiterate', 'impractical', 'indecision', 'inefficient', 'mistreated', 'perpetuated', 'stagnant', 'undecided', 'uneduated', 'uneducated', 'unenjoyable', 'unexperienced', 'unfazed', 'unhealthful', 'unhealthy', 'unorganized', 'unprepared', 'unreadable', 'unsatisfied', 'unsatsfied', 'untrained', 'unwavering']\n",
      "Cluster 11\n",
      "['11airborn', '511paratrooper', 'battlestar', 'bayonet', 'blitzkrieg', 'browning_automatic_rifle', 'combatstars', 'combatveteran', 'comissionedofficers', 'enlistedmen', 'insignia', 'non-combat', 'non-combative', 'nonpilot', 'paratrooper', 'paratroopers', 'selectiveservice', 'tourofduty']\n",
      "Cluster 12\n",
      "['belittlement', 'clarification', 'cutmid-sentence', 'deferment', 'discrepancies', 'discrimintation', 'disenfranchised', 'dissatisified', 'facscism', 'falsifications', 'frustation', 'illegible', 'indepedence', 'millitaryrank', 'misspellingsleftin', 'noncombatant', 'outbuild', 'questionsfortranscribers', 'unassigned', 'underappreciated', 'underappreciatedsacrifice']\n",
      "Cluster 13\n",
      "['allcaps', 'appearance', 'awards', 'basketball', 'congress', 'countries', 'country', 'democratic', 'divisions', 'end', 'goals', 'golf', 'green', 'home-ownership', 'home', 'land', 'lost', 'marriage', 'married', 'newgoals', 'nogoals', 'onpar', 'overtime', 'points', 'population', 'potential', 'professional', 'ptsd', 'rangers', 'record', 'religion', 'religon', 'republic', 'reserved', 'reserves', 'results', 'rookies', 'state', 'united', 'win']\n",
      "Cluster 14\n",
      "['agegap', 'agegroup', 'agelimit', 'alluppercaps', 'best-friends', 'besthandwriting', 'bettercountry', 'betterdiscipline', 'bootcamp', 'brokenarm', 'brotherinarms', 'countdowntoretirement', 'court-martial', 'deathinthefamily', 'discardtosoldier', 'election', 'erased_text', 'finishcollege', 'firstchoice', 'friendsandfamily', 'greendrafters', 'joingovernment', 'lovedones', 'marriedsoldier', 'menofcolor', 'missedchances', 'missinghome', 'newstart', 'noteinmargin', 'notmarried', 'offduty', 'overallperformance', 'plansnotchanged', 'pre-planned', 'previousinjury', 'requestfordischarge', 'senthome', 'tableoforganization', 'undecidedonengland', 'unfitforposition', 'unknowngoals']\n",
      "Cluster 15\n",
      "['2ndarmy', 'airforce', 'americanarmy', 'armyaircorps', 'armyairforce', 'civilianaircorps', 'justicedepartment', 'marinecorps', 'unitedstatesmilitary', 'usarmy', 'usgovernment', 'veteransadministration', 'wardepartment']\n",
      "Cluster 16\n",
      "['1lt', '1stsergeant', '2lt', '2ndlieutenants', 'adj', 'afn', 'bff', 'corporal', 'courage', 'cpn', 'engineer', 'engineers', 'generalarnold', 'generalmarshall', 'med', 'normandy', 'patrickhenry', 'prescitation', 'rommel', 'rotten', 'single', 'staffsgt', 'stigma', 'train']\n",
      "Cluster 17\n",
      "['ageism', 'aggravations', 'allergy', 'antisemetic', 'believerinrandomcapitalization', 'blurry', 'cohabitation', 'convalescence', 'democracies', 'desegregatethemilitary', 'entitlement', 'entitlements', 'escalation', 'evaders', 'feverandsickness', 'frostbite', 'globalism', 'gonorrhea', 'greatdepressionhasended', 'grievance', 'grievances', 'homesickness', 'hypocrisy', 'illiteracy', 'inefficiency', 'inequity', 'infested', 'interracial', 'interuption', 'jingoistic', 'jumpingthroughhoops', 'logisitics', 'malaria-fever', 'meritocracy', 'misallocation', 'miscommunications', 'misfits', 'misogyny', 'mistreatment', 'mosquitoes', 'multilingual', 'nepotism', 'neurosis', 'officersreadingmail', 'overcrowding', 'poorphotography', 'positivity', 'precombateanxiety', 'profane', 'readingmail', 'realist', 'realworld', 'realworldapplication', 'roaches', 'seasickness', 'self-inflicted-wounds', 'sorefeet', 'spam', 'speedbump', 'stagnation', 'superpowers', 'tropical-diseases', 'tropical-fevers', 'tropical-sickness', 'tropical-ulcers', 'tropicalfevers', 'unhealthyclimate', 'unjust', 'untouchables', 'wagegap', 'yellowjaundice']\n",
      "Cluster 18\n",
      "[15874180, 16005, '30yearolds', '4yearsor35', '511th', '6thgrade', '9th_division', 'airfield', 'average', 'bilingual', 'brownnose', 'church', 'coloredmales', 'commercialairline', 'dance', 'darkcopy', 'daytoday', 'easternsector', 'elementary', 'grunt', 'highschool', 'hotclimate', 'independent', 'next', 'nextgeneration', 'nostalgia', 'plant', 'polishedreview', 'poll', 'positive', 'privateairlines', 'railroad', 'records', 'region', 'regularjoes', 's-106', 's-106eto', 's-106h', 'smallfry', 'specialistschool', 'station', 'stenotypy', 'sundays', 'university', 'visitinghours', 'weekendsfree', 'x1186']\n",
      "Cluster 19\n",
      "['aboutyou', 'amen', 'depressing', 'ewww', 'feelin22', 'fulough', 'good', 'goodjob', 'goodson', 'goodtime', 'grudge', 'lovedone', 'myfolks', 'mygirl', 'oops', 'pansy', 'pisspoor', 'snafu', 'thanks', 'thankyou', 'weddingbells', 'what', 'whyfight', 'wishfulthinking']\n",
      "Cluster 20\n",
      "['everyminutecounts', 'fightingfortoolong', 'longwait', 'morepasses', 'moretime', 'moretimeneeded', 'notenoughtime', 'notenoughtimeathome', 'notime', 'precioustime', 'timewasted', 'toolate', 'toolong', 'toomuchwork', 'wastedtime', 'wasteoftime', 'wastetime', 'wastingtime']\n",
      "Cluster 21\n",
      "['busservice', 'chapel', 'checksandbalances', 'fcc', 'flyinghours', 'flyingstatus', 'foreignaffairs', 'foreignlands', 'foreignservices', 'foreigntrade', 'gunuse', 'hierarchy', 'homesteaders', 'malaria-zone', 'malaria', 'mapping', 'marginalia', 'navy', 'postoffice', 'privatesector', 'publicfunds', 'ranches', 'rotc', 'rural', 'stipend', 'transportationservice', 'travelconditions', 'traveltime', 'warfinformation']\n",
      "Cluster 22\n",
      "['17hours', '17months', '22months', 24026, '24months', 29028, '30days', '30years', '3months', '5moreyears', 612, '8hours', '93months', 'eighteen', 'eightmonths', 'fivemonths', 'hours', 'laterhours', 'oneyear', 'sixmonths', 'thirtyfive', 'twoyears', 'years']\n",
      "Cluster 23\n",
      "['aceinthesky', 'affordablecollege', 'americanway', 'americathegreat', 'atlanticcity', 'beachhead', 'biggsfield', 'bootlicker', 'boowhittaker', 'campclaiborne', 'chilhood', 'fayetteville', 'ford', 'fortbelvoir', 'fortbenning', 'fortbragg', 'forthuachuca', 'fortknox', 'fortsheridan', 'frankieandeleanor', 'franksinatra', 'hillbilly', 'homeofthebrave', 'jackhitchell', 'joelouis', 'johnlewis', 'jughead', 'lowryfield', 'mojave', 'newcity', 'newfield', 'pattersonfield', 'pinupgirls', 'salesgirls', 'san_francisco_conference', 'sanantonio', 'scott_field', 'shakeup', 'southcarolina', 'southcarolinastatecollege', 'southernstates', 'takeaway', 'walterreedhospital', 'westcoast', 'westpoint']\n",
      "Cluster 24\n",
      "['buildahome', 'buyahome', 'buyahouse', 'changeyourmind', 'dosomething', 'dotherealthing', 'doyourpart', 'fightforwhatyoubelievein', 'fightforwhatyoulove', 'getajob', 'getalong', 'getbackourjobs', 'gettingajob', 'giveduerespect', 'givewhatyouget', 'gobackandlive', 'good_things_in_life', 'justdoyourjob', 'keepupthegoodwork', 'learntoshoot', 'livefortheday', 'livewhereiwant', 'living_day_by_day', 'makeastand', 'makethebestofit', 'mindonwhatmatters', 'passabill', 'practicewhatyoupreach', 'returntonormalcy', 'standtogether', 'startafamily', 'takelifeeasy', 'tellushowyoureallyfeel', 'winthewar', 'workharder']\n",
      "Cluster 25\n",
      "['backtoschool', 'getreadyforkorea', 'gettingbacktowork', 'gladiamback', 'goinghome', 'goodtobehome', 'iamback', 'keepmehome', 'latetotheparty', 'leftinthedark', 'lovemywife', 'missme', 'newyearnewme', 'peaceandquiet', 'reach_for_the_stars', 'readyforhome', 'readytodie', 'readytogetout', 'returninghome', 'returningtothestates', 'returntous', 'sayinggoodbye', 'sentback', 'soontobemarried', 'sunnydaystocome', 'tasteofhome', 'wantstoleave', 'wanttogoback', 'writehome']\n",
      "Cluster 26\n",
      "['anythingcanhappen', 'arguable', 'betterbecauseofit', 'close-by', 'fairchance', 'fairforall', 'givesusachance', 'hardtoread', 'hardway', 'hellofadeal', 'inmyopinion', 'insanecrazyfool', 'movingon', 'nogoodreason', 'noplacelikehome', 'notasinglefellow', 'notdumb', 'notenough', 'notfair', 'notforme', 'nothelping', 'notourproblem', 'notright', 'notthebestlife', 'notuptome', 'onemanshouldn', 'outwiththeold', 'oversoonaspossible', 'shortandtothepoint', 'singlebutnotforlong', 'thingsgotworse', 'tooeasy', 'tooold', 'toooldforflying', 'unclesamdoesn', 'whataview', 'whoknows', 'whoshouldlead', 'whoyouknow']\n",
      "Cluster 27\n",
      "['americanconstitution', 'billofrights', 'castesystem', 'chainofcommand', 'curfew', 'curfewregulations', 'dissent', 'dresscode', 'equalopportunity', 'equalrights', 'fordemocracy', 'formycountry', 'freedomofendeavor', 'freespeech', 'gibillofrights', 'lifeofthegovernment', 'preservethefreecountry', 'rulesandregulations', 'samerights', 'secondamendment', 'stoplynching', 'usconstitution', 'well-being']\n",
      "Cluster 28\n",
      "['besttime', 'disabled', 'firstinfirstout', 'inductees', 'misplaced', 'misused', 'non-commissioned', 'notqualified', 'ocs', 'open-endedquestions', 'overqualified', 'qualified', 'qualify', 'timeserved', 'unqualified', 'unqualifiedofficers', 'wrongplacement']\n",
      "Cluster 29\n",
      "['anythings_possible', 'cantwait', 'cantwaittogethome', 'dont', 'dontcare', 'hooah', 'warisnteasy', 'whatsnext']\n"
     ]
    }
   ],
   "source": [
    "# Perform KMeans on embeddings with low similarity scores\n",
    "k = 30 # Adjust number of clusters\n",
    "\n",
    "cluster_results = [results[i] for i in range(len(results))\n",
    "                   if results[i]['score_1'] < 0.75 ] # Adjust similarity threshold\n",
    "\n",
    "cluster_embeds = [transcriber_embed[cluster_results[i]['index']] \n",
    "                  for i in range(len(cluster_results))]\n",
    "\n",
    "kmeans = KMeans(n_clusters=k).fit(cluster_embeds)\n",
    "\n",
    "for i in range(k):\n",
    "    print(\"Cluster\", i)\n",
    "    print([cluster_results[j]['transcriber_tag'] \n",
    "           for j in range(len(kmeans.labels_))\n",
    "           if kmeans.labels_[j] == i])"
   ]
  }
 ],
 "metadata": {
  "kernelspec": {
   "display_name": "Python 3",
   "language": "python",
   "name": "python3"
  },
  "language_info": {
   "codemirror_mode": {
    "name": "ipython",
    "version": 3
   },
   "file_extension": ".py",
   "mimetype": "text/x-python",
   "name": "python",
   "nbconvert_exporter": "python",
   "pygments_lexer": "ipython3",
   "version": "3.7.3"
  }
 },
 "nbformat": 4,
 "nbformat_minor": 4
}
