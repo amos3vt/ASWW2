{
 "cells": [
  {
   "cell_type": "markdown",
   "metadata": {},
   "source": [
    "# Scoring the Interest of a Response"
   ]
  },
  {
   "cell_type": "markdown",
   "metadata": {},
   "source": [
    "**Goal**: Score responses by how interesting they may be.\n",
    "\n",
    "**Properties of an Interesting Response (for our purposes)**:\n",
    "- greater length\n",
    "- variation of ideas (not paraphrasing the same sentences repeatedly)\n",
    "- discussion of certain topics\n",
    "  - race\n",
    "  - gender\n",
    "  - combat\n",
    "  - training\n",
    "- lack of discussion of certain topics\n",
    "  - general comments about the survey itself\n",
    "- clarity of response\n",
    "  - few \"unclear\" tags"
   ]
  },
  {
   "cell_type": "markdown",
   "metadata": {},
   "source": [
    "The \"interest_training.xlsx\" file contains a curated sample of responses from multiple surveys which we will use to develop a model for scoring how \"interesting\" a response is overall."
   ]
  },
  {
   "cell_type": "code",
   "execution_count": 1,
   "metadata": {},
   "outputs": [],
   "source": [
    "import pandas as pd"
   ]
  },
  {
   "cell_type": "code",
   "execution_count": 2,
   "metadata": {},
   "outputs": [],
   "source": [
    "# Read in Survey data\n",
    "path = \"../data/interest_training.xlsx\"\n",
    "col = \"response\"\n",
    "df = pd.read_excel(path, na_filter=False, dtype={col: str})"
   ]
  },
  {
   "cell_type": "markdown",
   "metadata": {},
   "source": [
    "## Collecting Subscores"
   ]
  },
  {
   "cell_type": "markdown",
   "metadata": {},
   "source": [
    "First, we consider the length of a response by measuring the number of characters. (Note that counting the number of sentences was also considered, but this ended up being too similar to the rank and including it greatly weakened the model."
   ]
  },
  {
   "cell_type": "code",
   "execution_count": 3,
   "metadata": {},
   "outputs": [],
   "source": [
    "df['len_char'] = df[col].apply(len)"
   ]
  },
  {
   "cell_type": "markdown",
   "metadata": {},
   "source": [
    "### Response Sentence Similarity"
   ]
  },
  {
   "cell_type": "markdown",
   "metadata": {},
   "source": [
    "Next, we'll use BERT to score the similarity of sentences in a given response."
   ]
  },
  {
   "cell_type": "code",
   "execution_count": 4,
   "metadata": {},
   "outputs": [],
   "source": [
    "from itertools import combinations\n",
    "import numpy as np\n",
    "from scipy.spatial.distance import cosine\n",
    "import nltk"
   ]
  },
  {
   "cell_type": "code",
   "execution_count": 5,
   "metadata": {},
   "outputs": [
    {
     "name": "stderr",
     "output_type": "stream",
     "text": [
      "C:\\Users\\Savannah\\Anaconda3\\lib\\site-packages\\tensorflow\\python\\framework\\dtypes.py:526: FutureWarning: Passing (type, 1) or '1type' as a synonym of type is deprecated; in a future version of numpy, it will be understood as (type, (1,)) / '(1,)type'.\n",
      "  _np_qint8 = np.dtype([(\"qint8\", np.int8, 1)])\n",
      "C:\\Users\\Savannah\\Anaconda3\\lib\\site-packages\\tensorflow\\python\\framework\\dtypes.py:527: FutureWarning: Passing (type, 1) or '1type' as a synonym of type is deprecated; in a future version of numpy, it will be understood as (type, (1,)) / '(1,)type'.\n",
      "  _np_quint8 = np.dtype([(\"quint8\", np.uint8, 1)])\n",
      "C:\\Users\\Savannah\\Anaconda3\\lib\\site-packages\\tensorflow\\python\\framework\\dtypes.py:528: FutureWarning: Passing (type, 1) or '1type' as a synonym of type is deprecated; in a future version of numpy, it will be understood as (type, (1,)) / '(1,)type'.\n",
      "  _np_qint16 = np.dtype([(\"qint16\", np.int16, 1)])\n",
      "C:\\Users\\Savannah\\Anaconda3\\lib\\site-packages\\tensorflow\\python\\framework\\dtypes.py:529: FutureWarning: Passing (type, 1) or '1type' as a synonym of type is deprecated; in a future version of numpy, it will be understood as (type, (1,)) / '(1,)type'.\n",
      "  _np_quint16 = np.dtype([(\"quint16\", np.uint16, 1)])\n",
      "C:\\Users\\Savannah\\Anaconda3\\lib\\site-packages\\tensorflow\\python\\framework\\dtypes.py:530: FutureWarning: Passing (type, 1) or '1type' as a synonym of type is deprecated; in a future version of numpy, it will be understood as (type, (1,)) / '(1,)type'.\n",
      "  _np_qint32 = np.dtype([(\"qint32\", np.int32, 1)])\n",
      "C:\\Users\\Savannah\\Anaconda3\\lib\\site-packages\\tensorflow\\python\\framework\\dtypes.py:535: FutureWarning: Passing (type, 1) or '1type' as a synonym of type is deprecated; in a future version of numpy, it will be understood as (type, (1,)) / '(1,)type'.\n",
      "  np_resource = np.dtype([(\"resource\", np.ubyte, 1)])\n"
     ]
    },
    {
     "data": {
      "text/plain": [
       "''"
      ]
     },
     "execution_count": 5,
     "metadata": {},
     "output_type": "execute_result"
    }
   ],
   "source": [
    "from sentence_transformers import SentenceTransformer\n",
    "model_sen = SentenceTransformer('bert-base-nli-stsb-mean-tokens')\n",
    ";"
   ]
  },
  {
   "cell_type": "code",
   "execution_count": 6,
   "metadata": {
    "scrolled": true
   },
   "outputs": [],
   "source": [
    "def similarity(res):\n",
    "    \n",
    "    # Split response into sentences\n",
    "    res_split = nltk.sent_tokenize(res)\n",
    "    \n",
    "    # Embed each sentence\n",
    "    res_embed = model_sen.encode(res_split)\n",
    "    \n",
    "    # Get the rank of the response embedding matrix\n",
    "    # where each column is a different sentence\n",
    "    rank = np.linalg.matrix_rank(np.transpose(res_embed))\n",
    "    \n",
    "    # Too few sentences to do any comparison\n",
    "    if len(res_split) < 2:\n",
    "        return 0,0,0,0,rank\n",
    "    \n",
    "    # Compare combinations of sentences\n",
    "    # Responses generally have few enough sentences that this is reasonable\n",
    "    sim = [1 - cosine(c[0], c[1]) for c in combinations(res_embed,2)]\n",
    "    \n",
    "    # Return the min, max, mean, median sentence similarities\n",
    "    # as well as the rank and number of sentences\n",
    "    return np.amin(sim), np.amax(sim), np.mean(sim), np.median(sim), rank"
   ]
  },
  {
   "cell_type": "code",
   "execution_count": 7,
   "metadata": {},
   "outputs": [],
   "source": [
    "# Apply function and unpack results\n",
    "res = df[col].apply(similarity)\n",
    "df['min']     = [r[0] for r in res]\n",
    "df['max']     = [r[1] for r in res]\n",
    "df['mean']    = [r[2] for r in res]\n",
    "df['median']  = [r[3] for r in res]\n",
    "df['rank']    = [r[4] for r in res]"
   ]
  },
  {
   "cell_type": "markdown",
   "metadata": {},
   "source": [
    "### Response Topic"
   ]
  },
  {
   "cell_type": "markdown",
   "metadata": {},
   "source": [
    "Finally, we will use BERT again to determine if a given response discusses certain topics. For a more detailed explanation of our BERT-contextualized keyword searching method, read through the \"LongResponse_Filtering\" notebook."
   ]
  },
  {
   "cell_type": "code",
   "execution_count": 8,
   "metadata": {},
   "outputs": [
    {
     "data": {
      "text/plain": [
       "''"
      ]
     },
     "execution_count": 8,
     "metadata": {},
     "output_type": "execute_result"
    }
   ],
   "source": [
    "import torch\n",
    "\n",
    "from transformers import BertTokenizer, BertModel\n",
    "tokenizer = BertTokenizer.from_pretrained('bert-base-uncased')\n",
    "model = BertModel.from_pretrained('bert-base-uncased', output_hidden_states=True)\n",
    "model.eval()\n",
    ";"
   ]
  },
  {
   "cell_type": "code",
   "execution_count": 9,
   "metadata": {},
   "outputs": [],
   "source": [
    "# From https://mccormickml.com/2019/05/14/BERT-word-embeddings-tutorial/\n",
    "def get_token_embeddings(text):\n",
    "    \n",
    "    # Tokenize the text\n",
    "    split_text = text.split(\". \")\n",
    "    marked_text = \"[CLS] \" + \" [SEP] \".join(split_text) + \" [SEP]\"\n",
    "    tokenized_text = tokenizer.tokenize(marked_text)[:512] # Truncate if longer than 512\n",
    "    indexed_tokens = tokenizer.convert_tokens_to_ids(tokenized_text)\n",
    "\n",
    "    # Mark tokens belonging to a sentence\n",
    "    segment_ids = [0]*len(tokenized_text)\n",
    "    is_zero = True\n",
    "    for i in range(len(tokenized_text)):\n",
    "        segment_ids[i] = 0 if is_zero else 1\n",
    "        if tokenized_text[i] == \"[SEP]\":\n",
    "            is_zero = not is_zero\n",
    "\n",
    "    # Convert to torch tensors\n",
    "    tokens_tensor = torch.tensor([indexed_tokens])\n",
    "    segments_tensors = torch.tensor([segment_ids])\n",
    "\n",
    "    # Run through BERT\n",
    "    with torch.no_grad():\n",
    "        outputs = model(tokens_tensor, segments_tensors)\n",
    "        hidden_states = outputs[2]\n",
    "\n",
    "    # Adjust\n",
    "    token_embeddings = torch.stack(hidden_states, dim=0)\n",
    "    token_embeddings = torch.squeeze(token_embeddings, dim=1)\n",
    "    token_embeddings = token_embeddings.permute(1,0,2)\n",
    "\n",
    "    # Get token vectors\n",
    "    token_vecs_sum = []\n",
    "    for token in token_embeddings:\n",
    "        sum_vec = torch.sum(token[-4:], dim=0)\n",
    "        token_vecs_sum.append(sum_vec)\n",
    "    \n",
    "    return token_vecs_sum"
   ]
  },
  {
   "cell_type": "code",
   "execution_count": 10,
   "metadata": {},
   "outputs": [],
   "source": [
    "# Track the number of words in a given text that have\n",
    "#   a high similarity to at least one keyword.\n",
    "# Also track the highest similarity scores\n",
    "\n",
    "# df: Dataframe\n",
    "# column: column to consider for labeling\n",
    "# label: name of column to store results in\n",
    "# keys: keyword dictionary\n",
    "# thresh: similarity threshold\n",
    "def label_topic(df, column, label, keys, thresh):\n",
    "\n",
    "    # Initialize/Reset column\n",
    "    df[label] = 0\n",
    "    df[label+\"_score\"] = float(\"-inf\")\n",
    "    \n",
    "    # Track tokens that matched to keywords\n",
    "    token_matches = []\n",
    "    \n",
    "    # Search\n",
    "    for i in range(len(df)):\n",
    "        best_sim = float(\"-inf\")\n",
    "        embed = get_token_embeddings(df[column][i])\n",
    "        for j in range(len(embed)):\n",
    "            for k in keys:\n",
    "                sim = 1 - cosine(embed[j], k['embed'])\n",
    "                if sim > best_sim:\n",
    "                    best_sim = sim\n",
    "                if sim >= thresh:\n",
    "                    df.at[i, label] += 1\n",
    "                    \n",
    "                    # Get the token that matched to a keyword\n",
    "                    split_text = df[column][i].split(\". \")\n",
    "                    marked_text = \"[CLS] \" + \" [SEP] \".join(split_text) + \" [SEP]\"\n",
    "                    tokenized_text = tokenizer.tokenize(marked_text)\n",
    "                    token_matches.append((tokenized_text[j], k['text']))\n",
    "                    \n",
    "                    break\n",
    "        \n",
    "        df.at[i, label+\"_score\"] = best_sim\n",
    "        \n",
    "        # Track progress\n",
    "        #if i%100==0:\n",
    "        #    print(i,\"/\",len(df))\n",
    "                    \n",
    "    return token_matches"
   ]
  },
  {
   "cell_type": "markdown",
   "metadata": {},
   "source": [
    "Some topics have been predetermined to be particularly interesting or uninteresting for the prosepective audience. First, we will consider the interesting topics."
   ]
  },
  {
   "cell_type": "code",
   "execution_count": 11,
   "metadata": {},
   "outputs": [
    {
     "name": "stdout",
     "output_type": "stream",
     "text": [
      "{('##es', 'negro soldier'), ('white', 'negro soldier'), ('northern', 'negro soldier'), ('##s', 'negro soldier'), ('whites', 'negro soldier'), ('colored', 'negro soldier'), ('south', 'negro soldier'), ('north', 'negro soldier'), ('tough', 'negro soldier'), ('color', 'negro soldier'), ('white', 'the white man'), ('negro', 'negro soldier'), ('cattle', 'the white man'), ('southern', 'negro soldier'), ('soldiers', 'negro soldier'), ('chinese', 'negro soldier')}\n"
     ]
    }
   ],
   "source": [
    "# Topic 1: Race\n",
    "keys_race = [\n",
    "    {\"text\": \"negro soldier\", \"idx\": 1, \"embed\": None},\n",
    "    {\"text\": \"the white man\", \"idx\": 2, \"embed\": None}\n",
    "]\n",
    "\n",
    "for k in keys_race:\n",
    "    embed = get_token_embeddings(k['text'])\n",
    "    k['embed'] = embed[k['idx']]\n",
    "    \n",
    "    \n",
    "token_matches = label_topic(df, col, 'topic_race', keys_race, 0.5)\n",
    "print(set(token_matches))"
   ]
  },
  {
   "cell_type": "code",
   "execution_count": 12,
   "metadata": {},
   "outputs": [
    {
     "name": "stdout",
     "output_type": "stream",
     "text": [
      "{('married', 'woman'), ('wife', 'woman'), ('women', 'woman')}\n"
     ]
    }
   ],
   "source": [
    "# Topic 2: Gender\n",
    "keys_gender = [\n",
    "    {\"text\": \"woman\", \"idx\": 1, \"embed\": None}\n",
    "]\n",
    "\n",
    "man_embed = get_token_embeddings(\"man\")[1]\n",
    "for k in keys_gender:\n",
    "    embed = get_token_embeddings(k['text'])\n",
    "    k['embed'] = embed[k['idx']] - (np.dot(embed[k['idx']], man_embed) / np.dot(man_embed, man_embed)) * man_embed\n",
    "    \n",
    "token_matches = label_topic(df, col, 'topic_gender', keys_gender, 0.3)\n",
    "print(set(token_matches))"
   ]
  },
  {
   "cell_type": "code",
   "execution_count": null,
   "metadata": {},
   "outputs": [],
   "source": [
    "# TO DO: Expand the list of topics as requested"
   ]
  },
  {
   "cell_type": "markdown",
   "metadata": {},
   "source": [
    "Now we will consider the uninteresting topics."
   ]
  },
  {
   "cell_type": "code",
   "execution_count": 13,
   "metadata": {},
   "outputs": [
    {
     "name": "stdout",
     "output_type": "stream",
     "text": [
      "{('question', 'too many questions'), ('ideas', 'too many questions'), ('question', 'this is a good questionnaire'), ('questions', 'this is a good questionnaire'), ('questions', 'too many questions'), ('asked', 'too many questions'), ('##naire', 'this is a good questionnaire')}\n"
     ]
    }
   ],
   "source": [
    "# Topic 1: Survey\n",
    "keys_survey = [\n",
    "    {\"text\": \"this is a good questionnaire\", \"idx\": 5, \"embed\": None},\n",
    "    {\"text\": \"too many questions\", \"idx\": 3, \"embed\": None},\n",
    "    {\"text\": \"questions about\", \"idx\": 1, \"embed\": None},\n",
    "]\n",
    "\n",
    "for k in keys_survey:\n",
    "    embed = get_token_embeddings(k['text'])\n",
    "    k['embed'] = embed[k['idx']]\n",
    "    \n",
    "\n",
    "token_matches = label_topic(df, col, 'topic_survey', keys_survey, 0.6)\n",
    "print(set(token_matches))"
   ]
  },
  {
   "cell_type": "code",
   "execution_count": 14,
   "metadata": {},
   "outputs": [
    {
     "name": "stdout",
     "output_type": "stream",
     "text": [
      "{('no', 'nothing to add'), ('comments', 'no comments'), ('none', 'I have none')}\n"
     ]
    }
   ],
   "source": [
    "# Topic 2: \"No comments\"\n",
    "keys_comment = [\n",
    "    {\"text\": \"I have nothing else to say\", \"idx\": 3, \"embed\": None},\n",
    "    {\"text\": \"no comments\", \"idx\": 2, \"embed\": None},\n",
    "    {\"text\": \"nothing to add\", \"idx\": 1, \"embed\": None},\n",
    "    {\"text\": \"I have none\", \"idx\": 3, \"embed\": None},\n",
    "]\n",
    "\n",
    "for k in keys_comment:\n",
    "    embed = get_token_embeddings(k['text'])\n",
    "    k['embed'] = embed[k['idx']]\n",
    "    \n",
    "\n",
    "token_matches = label_topic(df, col, 'topic_comment', keys_comment, 0.70)\n",
    "print(set(token_matches))"
   ]
  },
  {
   "cell_type": "markdown",
   "metadata": {},
   "source": [
    "### Response Clarity"
   ]
  },
  {
   "cell_type": "code",
   "execution_count": 32,
   "metadata": {},
   "outputs": [],
   "source": [
    "def clarity(res):\n",
    "    if res.count(\"unclear\") == 0:\n",
    "        return 0\n",
    "    return res.count(\"unclear\") / len(res.split())\n",
    "\n",
    "df['clarity'] = df[col].apply(clarity)"
   ]
  },
  {
   "cell_type": "markdown",
   "metadata": {},
   "source": [
    "## Interest Function"
   ]
  },
  {
   "cell_type": "markdown",
   "metadata": {},
   "source": [
    "Now, we will use these results along with predetermined answers as to whether or not a response is interesting to construct a model for scoring the interest of a resposne."
   ]
  },
  {
   "cell_type": "code",
   "execution_count": 33,
   "metadata": {},
   "outputs": [],
   "source": [
    "# Grab rows for training\n",
    "A = df[[\"len_char\", \"min\", \"max\", \"mean\", \"median\", \"rank\", \"topic_survey\",\n",
    "        \"topic_survey_score\", \"topic_comment\", \"topic_comment_score\", \"clarity\"]]\n",
    "b = df[[\"interest\"]] # predetermined interest"
   ]
  },
  {
   "cell_type": "code",
   "execution_count": 34,
   "metadata": {},
   "outputs": [],
   "source": [
    "import matplotlib.pyplot as plt"
   ]
  },
  {
   "cell_type": "code",
   "execution_count": 35,
   "metadata": {},
   "outputs": [
    {
     "data": {
      "text/plain": [
       "[<matplotlib.lines.Line2D at 0x2cfd4df14a8>]"
      ]
     },
     "execution_count": 35,
     "metadata": {},
     "output_type": "execute_result"
    },
    {
     "data": {
      "image/png": "[encoded data removed]",
      "text/plain": [
       "<Figure size 432x288 with 1 Axes>"
      ]
     },
     "metadata": {
      "needs_background": "light"
     },
     "output_type": "display_data"
    }
   ],
   "source": [
    "# Plot singular values of A\n",
    "U,S,Vt = np.linalg.svd(A, full_matrices=False)\n",
    "plt.semilogy(S)"
   ]
  },
  {
   "cell_type": "markdown",
   "metadata": {},
   "source": [
    "### Inverse Problem"
   ]
  },
  {
   "cell_type": "code",
   "execution_count": 86,
   "metadata": {},
   "outputs": [
    {
     "name": "stdout",
     "output_type": "stream",
     "text": [
      "len_char:            0.0005499328530886769\n",
      "min:                 0.17943940546253914\n",
      "max:                 -0.28931352264366167\n",
      "mean:                1.468063223740845\n",
      "median:              -1.2308136602304747\n",
      "rank:                0.024345777632150265\n",
      "topic_survey:        0.11086410189840624\n",
      "topic_survey_score:  -0.4000235699670328\n",
      "topic_comment:       -0.08412383628239575\n",
      "topic_comment_score: 0.27711083687464166\n",
      "clarity:             -0.42591282694257143\n"
     ]
    }
   ],
   "source": [
    "# Solve: Ax = b\n",
    "x = (Vt.T)*(1/S)@(U.T@b)\n",
    "\n",
    "print(\"len_char:           \", x.iloc[ 0]['interest'])\n",
    "print(\"min:                \", x.iloc[ 1]['interest'])\n",
    "print(\"max:                \", x.iloc[ 2]['interest'])\n",
    "print(\"mean:               \", x.iloc[ 3]['interest'])\n",
    "print(\"median:             \", x.iloc[ 4]['interest'])\n",
    "print(\"rank:               \", x.iloc[ 5]['interest'])\n",
    "print(\"topic_survey:       \", x.iloc[ 6]['interest'])\n",
    "print(\"topic_survey_score: \", x.iloc[ 7]['interest'])\n",
    "print(\"topic_comment:      \", x.iloc[ 8]['interest'])\n",
    "print(\"topic_comment_score:\", x.iloc[ 9]['interest'])\n",
    "print(\"clarity:            \", x.iloc[10]['interest'])"
   ]
  },
  {
   "cell_type": "markdown",
   "metadata": {},
   "source": [
    "Note that each entry in \"x\" can be modified to further fine-tune results."
   ]
  },
  {
   "cell_type": "code",
   "execution_count": 81,
   "metadata": {},
   "outputs": [],
   "source": [
    "#x.iloc[10]['interest'] = -1.8"
   ]
  },
  {
   "cell_type": "markdown",
   "metadata": {},
   "source": [
    "The dot product of a vector of subscores with x gives the interest score."
   ]
  },
  {
   "cell_type": "code",
   "execution_count": 87,
   "metadata": {},
   "outputs": [],
   "source": [
    "def score(r):\n",
    "    return np.dot([r['len_char'], r['min'], r['max'], r['mean'], \n",
    "                   r['median'], r['rank'], r['topic_survey'], r['topic_survey_score'], \n",
    "                   r['clarity'], r['topic_comment'], r['topic_comment_score']], x)[0]\n",
    "    \n",
    "df['interest_score'] = df.apply(score, axis=1)"
   ]
  },
  {
   "cell_type": "code",
   "execution_count": 88,
   "metadata": {},
   "outputs": [],
   "source": [
    "# Save results to excel\n",
    "df.to_excel(path, index=False)"
   ]
  },
  {
   "cell_type": "markdown",
   "metadata": {},
   "source": [
    "## Applying Interest Function to Other Surveys"
   ]
  },
  {
   "cell_type": "code",
   "execution_count": 94,
   "metadata": {},
   "outputs": [],
   "source": [
    "def interest_score(path, col, encoding = 'cp1252'):\n",
    "    df = pd.read_csv(path, na_filter=False, dtype={col: str}, encoding=encoding)\n",
    "    \n",
    "    df['len_char'] = df[col].apply(len)\n",
    "    \n",
    "    res = df[col].apply(similarity)\n",
    "    df['min']     = [r[0] for r in res]\n",
    "    df['max']     = [r[1] for r in res]\n",
    "    df['mean']    = [r[2] for r in res]\n",
    "    df['median']  = [r[3] for r in res]\n",
    "    df['rank']    = [r[4] for r in res]\n",
    "    \n",
    "    #token_matches = label_topic(df, col, 'topic_race', keys_race, 0.5)\n",
    "    #print(set(token_matches), \"\\n\")\n",
    "    \n",
    "    #token_matches = label_topic(df, col, 'topic_gender', keys_gender, 0.3)\n",
    "    #print(set(token_matches), \"\\n\")\n",
    "    \n",
    "    token_matches = label_topic(df, col, 'topic_survey', keys_survey, 0.6)\n",
    "    print(set(token_matches), \"\\n\")\n",
    "    \n",
    "    token_matches = label_topic(df, col, 'topic_comment', keys_comment, 0.70)\n",
    "    print(set(token_matches))\n",
    "    \n",
    "    df['clarity'] = df[col].apply(clarity)\n",
    "    \n",
    "    df['interest_score'] = df.apply(score, axis=1)\n",
    "    \n",
    "    df.to_csv(path, index=False)"
   ]
  },
  {
   "cell_type": "code",
   "execution_count": 23,
   "metadata": {},
   "outputs": [
    {
     "name": "stdout",
     "output_type": "stream",
     "text": [
      "{('africa', 'negro soldier'), ('american', 'negro soldier'), ('natives', 'negro soldier'), ('enlisted', 'negro soldier'), ('white', 'the white man'), ('negro', 'negro soldier'), ('southern', 'negro soldier')} \n",
      "\n",
      "{('wives', 'woman'), ('woman', 'woman'), ('wife', 'woman'), ('women', 'woman'), ('men', 'woman'), ('paper', 'woman'), ('married', 'woman'), ('unclear', 'woman')} \n",
      "\n",
      "{('question', 'too many questions'), ('answer', 'too many questions'), ('suggestions', 'too many questions'), ('question', 'this is a good questionnaire'), ('questions', 'this is a good questionnaire'), ('questions', 'too many questions'), ('editorial', 'questions about'), ('articles', 'questions about'), ('facts', 'questions about')} \n",
      "\n",
      "{('suggestions', 'no comments'), ('no', 'nothing to add'), ('none', 'I have none')}\n"
     ]
    }
   ],
   "source": [
    "interest_score(\"../data/Survey_100A_pivoted.csv\", \"answer\")"
   ]
  },
  {
   "cell_type": "code",
   "execution_count": 24,
   "metadata": {},
   "outputs": [
    {
     "name": "stdout",
     "output_type": "stream",
     "text": [
      "{('black', 'negro soldier'), ('##o', 'negro soldier'), ('white', 'negro soldier'), ('yellow', 'the white man'), ('slaves', 'negro soldier'), ('jungle', 'negro soldier'), ('enlisted', 'negro soldier'), ('white', 'the white man'), ('##gger', 'negro soldier'), ('chinese', 'negro soldier')} \n",
      "\n",
      "{('wives', 'woman'), ('woman', 'woman'), ('wife', 'woman'), ('sex', 'woman'), ('men', 'woman'), ('women', 'woman'), ('girl', 'woman'), ('married', 'woman'), ('to', 'woman')} \n",
      "\n",
      "{('question', 'too many questions'), ('ask', 'too many questions'), ('question', 'this is a good questionnaire'), ('questions', 'this is a good questionnaire'), ('questions', 'too many questions'), ('ask', 'questions about')} \n",
      "\n",
      "{('none', 'I have none'), ('remarks', 'no comments'), ('nothing', 'I have nothing else to say')}\n"
     ]
    }
   ],
   "source": [
    "interest_score(\"../data/Survey_100B_pivoted.csv\", \"answer\")"
   ]
  },
  {
   "cell_type": "code",
   "execution_count": 89,
   "metadata": {},
   "outputs": [],
   "source": [
    "interest_score(\"../data/Survey_100C_pivoted.csv\", \"answer\")"
   ]
  },
  {
   "cell_type": "code",
   "execution_count": 26,
   "metadata": {},
   "outputs": [
    {
     "name": "stdout",
     "output_type": "stream",
     "text": [
      "{('black', 'negro soldier'), ('white', 'negro soldier'), ('yellow', 'the white man'), ('racial', 'negro soldier'), ('enlisted', 'negro soldier')} \n",
      "\n",
      "{('wife', 'woman')} \n",
      "\n",
      "{('concerning', 'questions about'), ('problems', 'too many questions'), ('questions', 'too many questions'), ('question', 'this is a good questionnaire')} \n",
      "\n",
      "{('remarks', 'no comments')}\n"
     ]
    }
   ],
   "source": [
    "interest_score(\"../data/Survey_100D_pivoted.csv\", \"answer\")"
   ]
  },
  {
   "cell_type": "code",
   "execution_count": 27,
   "metadata": {},
   "outputs": [
    {
     "name": "stdout",
     "output_type": "stream",
     "text": [
      "{('black', 'negro soldier'), ('white', 'negro soldier'), ('yellow', 'the white man'), ('slaves', 'negro soldier'), ('jungle', 'negro soldier'), ('enlisted', 'negro soldier'), ('white', 'the white man'), ('negro', 'negro soldier'), ('yankee', 'negro soldier')} \n",
      "\n",
      "{('wives', 'woman'), ('girlfriend', 'woman'), ('woman', 'woman'), ('wife', 'woman'), ('men', 'woman'), ('women', 'woman'), ('couples', 'woman'), ('girl', 'woman'), ('married', 'woman')} \n",
      "\n",
      "{('question', 'too many questions'), ('questions', 'too many questions'), ('question', 'this is a good questionnaire')} \n",
      "\n",
      "{('none', 'I have none')}\n"
     ]
    }
   ],
   "source": [
    "interest_score(\"../data/Survey_100E_pivoted.csv\", \"answer\")"
   ]
  },
  {
   "cell_type": "code",
   "execution_count": 28,
   "metadata": {},
   "outputs": [
    {
     "name": "stdout",
     "output_type": "stream",
     "text": [
      "{('black', 'negro soldier'), ('slave', 'negro soldier'), ('white', 'negro soldier'), ('jungle', 'negro soldier'), ('white', 'the white man')} \n",
      "\n",
      "{('wives', 'woman'), ('woman', 'woman'), ('wife', 'woman'), ('women', 'woman')} \n",
      "\n",
      "{('question', 'too many questions'), ('question', 'this is a good questionnaire'), ('questions', 'this is a good questionnaire'), ('questions', 'too many questions'), ('asked', 'too many questions')} \n",
      "\n",
      "{('none', 'I have none')}\n"
     ]
    }
   ],
   "source": [
    "interest_score(\"../data/Survey_100F_pivoted.csv\", \"answer\")"
   ]
  },
  {
   "cell_type": "code",
   "execution_count": 29,
   "metadata": {},
   "outputs": [
    {
     "name": "stdout",
     "output_type": "stream",
     "text": [
      "set() \n",
      "\n",
      "{('men', 'woman'), ('women', 'woman')} \n",
      "\n",
      "{('questions', 'this is a good questionnaire'), ('answer', 'too many questions'), ('question', 'this is a good questionnaire')} \n",
      "\n",
      "{('nothing', 'nothing to add'), ('comment', 'no comments'), ('none', 'I have none')}\n"
     ]
    }
   ],
   "source": [
    "interest_score(\"../data/Survey_100G_pivoted.csv\", \"answer\", 'utf8')"
   ]
  },
  {
   "cell_type": "code",
   "execution_count": 95,
   "metadata": {},
   "outputs": [
    {
     "name": "stdout",
     "output_type": "stream",
     "text": [
      "{('comments', 'questions about'), ('questioning', 'too many questions'), ('questions', 'too many questions'), ('answers', 'questions about'), ('facts', 'too many questions'), ('answer', 'this is a good questionnaire'), ('question', 'this is a good questionnaire'), ('questions', 'this is a good questionnaire'), ('question', 'questions about'), ('asked', 'too many questions'), ('##naire', 'this is a good questionnaire'), ('asks', 'too many questions'), ('answers', 'too many questions'), ('question', 'too many questions'), ('answer', 'too many questions'), ('questions', 'questions about'), ('ask', 'too many questions'), ('asked', 'questions about'), ('query', 'this is a good questionnaire')} \n",
      "\n",
      "{('nothing', 'nothing to add'), ('comment', 'no comments'), ('none', 'I have none'), ('one', 'I have none'), ('nothing', 'I have nothing else to say'), ('comments', 'no comments')}\n"
     ]
    }
   ],
   "source": [
    "interest_score(\"../data/Survey_32N_pivoted.csv\", \"answer\", 'utf8')"
   ]
  },
  {
   "cell_type": "code",
   "execution_count": 97,
   "metadata": {},
   "outputs": [
    {
     "name": "stdout",
     "output_type": "stream",
     "text": [
      "{('comments', 'questions about'), ('questions', 'too many questions'), ('answers', 'questions about'), ('answer', 'this is a good questionnaire'), ('question', 'this is a good questionnaire'), ('questions', 'this is a good questionnaire'), ('question', 'questions about'), ('ask', 'questions about'), ('asked', 'too many questions'), ('##naire', 'this is a good questionnaire'), ('restrictions', 'too many questions'), ('difficulties', 'questions about'), ('ideas', 'too many questions'), ('##der', 'questions about'), ('answers', 'too many questions'), ('examinations', 'too many questions'), ('question', 'too many questions'), ('answer', 'too many questions'), ('questions', 'questions about'), ('ask', 'too many questions')} \n",
      "\n",
      "{('any', 'I have none'), ('comment', 'no comments'), ('none', 'I have none'), ('nothing', 'I have nothing else to say'), ('no', 'nothing to add'), ('comments', 'no comments')}\n"
     ]
    }
   ],
   "source": [
    "interest_score(\"../data/Survey_32W_pivoted.csv\", \"answer\")"
   ]
  },
  {
   "cell_type": "markdown",
   "metadata": {},
   "source": [
    "# Appendix"
   ]
  },
  {
   "cell_type": "markdown",
   "metadata": {},
   "source": [
    "## Using BERT to Embed Multi-Sentence Responses"
   ]
  },
  {
   "cell_type": "markdown",
   "metadata": {},
   "source": [
    "To embed individual sentences, we used Sentence-BERT which is a tool extending BERT's base functionality to give \"semantially meaningful sentence embeddings\". The resulting embeddings from this method are comparable using cosine similarity [https://arxiv.org/abs/1908.10084]. \n",
    "\n",
    "In the following section, we demonstrate the use of Sentence-BERT to obtain comparable sentence embeddings."
   ]
  },
  {
   "cell_type": "markdown",
   "metadata": {},
   "source": [
    "### Sentence-BERT Demonstration"
   ]
  },
  {
   "cell_type": "markdown",
   "metadata": {},
   "source": [
    "Ideally, we would expect similar sentences to have similar embeddings. For each pair of example sentences, we will measure the cosine similarity of their embeddings."
   ]
  },
  {
   "cell_type": "code",
   "execution_count": null,
   "metadata": {},
   "outputs": [],
   "source": [
    "# Example text\n",
    "example_set_1 = [\n",
    "    ['I like dogs.', 'I love dogs.'],\n",
    "    ['I like dogs.', 'I want a puppy.'],\n",
    "    ['I like dogs.', 'I like cats.'],\n",
    "    ['I like dogs.', 'I want food.'],\n",
    "    ['I like dogs.', 'The hound ran around the yard.'],\n",
    "    ['I like dogs.', \"It snowed today.\"]\n",
    "]"
   ]
  },
  {
   "cell_type": "code",
   "execution_count": null,
   "metadata": {},
   "outputs": [],
   "source": [
    "from prettytable import PrettyTable\n",
    "from textwrap import fill"
   ]
  },
  {
   "cell_type": "code",
   "execution_count": null,
   "metadata": {},
   "outputs": [],
   "source": [
    "def compare_text(example_set):\n",
    "    \n",
    "    # Initialize table\n",
    "    t = PrettyTable(['Excerpt A', 'Excerpt B', 'Similarity'])\n",
    "    \n",
    "    for e in example_set:\n",
    "        \n",
    "        # Get embeddings for example\n",
    "        embed = model_sen.encode(e)\n",
    "        \n",
    "        # Calculate cosine similarity\n",
    "        sim = 1 - cosine(embed[0], embed[1])\n",
    "        \n",
    "        # Add results to table\n",
    "        t.add_row([fill(e[0], width=35), fill(e[1], width=35), round(sim,3)])\n",
    "        \n",
    "    # Display table\n",
    "    print(t)"
   ]
  },
  {
   "cell_type": "code",
   "execution_count": null,
   "metadata": {},
   "outputs": [],
   "source": [
    "compare_text(example_set_1)"
   ]
  },
  {
   "cell_type": "markdown",
   "metadata": {},
   "source": [
    "### Embedding Multi-Sentence Responses"
   ]
  },
  {
   "cell_type": "markdown",
   "metadata": {},
   "source": [
    "In the \"LongResponse_Embedding\" notebooks, different methods of embedding responses that may be multi-sentence were considered. For this purpose, we will revist Method 1 which simply passes the full response to the Sentence-BERT encoding function with no special handling.\n",
    "\n",
    "This method is demonstrated below:"
   ]
  },
  {
   "cell_type": "code",
   "execution_count": null,
   "metadata": {},
   "outputs": [],
   "source": [
    "example_set_2 = [\n",
    "    [\n",
    "        \"The ground was covered in snow. Icicles hung from branches. Snowflakes kept falling.\",\n",
    "        \"Winter has brought the coldest weather. This blizzard seems endless.\"\n",
    "    ],\n",
    "    [\n",
    "        \"Winter has brought the coldest weather. This blizzard seems endless.\",\n",
    "        \"Rain waters the blooming flowers. Spring is finally here.\"\n",
    "    ],\n",
    "    [\n",
    "        \"Winter has brought the coldest weather. This blizzard seems endless.\",\n",
    "        \"The table was filled with delicious food. I couldn't decide which dish to start with.\"\n",
    "    ],\n",
    "    [\n",
    "        \"The table was filled with delicious food. I couldn't decide which dish to start with.\",\n",
    "        \"The smell coming from the stove is mouth-watering.\"\n",
    "    ]\n",
    "]"
   ]
  },
  {
   "cell_type": "code",
   "execution_count": null,
   "metadata": {},
   "outputs": [],
   "source": [
    "compare_text(example_set_2)"
   ]
  },
  {
   "cell_type": "markdown",
   "metadata": {},
   "source": [
    "From these results, we see that the embeddings of short multi-sentence pieces are still useful. For our purposes, the longest of survey responses are still just a few sentences, so we will assume most embeddings will not be too diluted for use."
   ]
  }
 ],
 "metadata": {
  "kernelspec": {
   "display_name": "Python 3",
   "language": "python",
   "name": "python3"
  },
  "language_info": {
   "codemirror_mode": {
    "name": "ipython",
    "version": 3
   },
   "file_extension": ".py",
   "mimetype": "text/x-python",
   "name": "python",
   "nbconvert_exporter": "python",
   "pygments_lexer": "ipython3",
   "version": "3.7.3"
  }
 },
 "nbformat": 4,
 "nbformat_minor": 4
}
