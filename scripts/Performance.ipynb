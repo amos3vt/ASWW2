{
 "cells": [
  {
   "cell_type": "code",
   "execution_count": 1,
   "metadata": {},
   "outputs": [
    {
     "name": "stderr",
     "output_type": "stream",
     "text": [
      "C:\\Users\\Savannah\\Anaconda3\\lib\\site-packages\\tensorflow\\python\\framework\\dtypes.py:526: FutureWarning: Passing (type, 1) or '1type' as a synonym of type is deprecated; in a future version of numpy, it will be understood as (type, (1,)) / '(1,)type'.\n",
      "  _np_qint8 = np.dtype([(\"qint8\", np.int8, 1)])\n",
      "C:\\Users\\Savannah\\Anaconda3\\lib\\site-packages\\tensorflow\\python\\framework\\dtypes.py:527: FutureWarning: Passing (type, 1) or '1type' as a synonym of type is deprecated; in a future version of numpy, it will be understood as (type, (1,)) / '(1,)type'.\n",
      "  _np_quint8 = np.dtype([(\"quint8\", np.uint8, 1)])\n",
      "C:\\Users\\Savannah\\Anaconda3\\lib\\site-packages\\tensorflow\\python\\framework\\dtypes.py:528: FutureWarning: Passing (type, 1) or '1type' as a synonym of type is deprecated; in a future version of numpy, it will be understood as (type, (1,)) / '(1,)type'.\n",
      "  _np_qint16 = np.dtype([(\"qint16\", np.int16, 1)])\n",
      "C:\\Users\\Savannah\\Anaconda3\\lib\\site-packages\\tensorflow\\python\\framework\\dtypes.py:529: FutureWarning: Passing (type, 1) or '1type' as a synonym of type is deprecated; in a future version of numpy, it will be understood as (type, (1,)) / '(1,)type'.\n",
      "  _np_quint16 = np.dtype([(\"quint16\", np.uint16, 1)])\n",
      "C:\\Users\\Savannah\\Anaconda3\\lib\\site-packages\\tensorflow\\python\\framework\\dtypes.py:530: FutureWarning: Passing (type, 1) or '1type' as a synonym of type is deprecated; in a future version of numpy, it will be understood as (type, (1,)) / '(1,)type'.\n",
      "  _np_qint32 = np.dtype([(\"qint32\", np.int32, 1)])\n",
      "C:\\Users\\Savannah\\Anaconda3\\lib\\site-packages\\tensorflow\\python\\framework\\dtypes.py:535: FutureWarning: Passing (type, 1) or '1type' as a synonym of type is deprecated; in a future version of numpy, it will be understood as (type, (1,)) / '(1,)type'.\n",
      "  np_resource = np.dtype([(\"resource\", np.ubyte, 1)])\n"
     ]
    }
   ],
   "source": [
    "import time\n",
    "import matplotlib.pyplot as plt\n",
    "from bert_serving.client import BertClient\n",
    "bc = BertClient()\n",
    "from transformers import BertTokenizer\n",
    "tokenizer = BertTokenizer.from_pretrained('bert-base-uncased')"
   ]
  },
  {
   "cell_type": "code",
   "execution_count": 2,
   "metadata": {},
   "outputs": [],
   "source": [
    "sentences = [\n",
    "    \"as they rounded a bend in the path that ran beside the river, lara recognized the silhouette of a fig tree atop a nearby hill.\",\n",
    "    \"the weather was hot and the days were long.\",\n",
    "    \"the fig tree was in full leaf, but not yet bearing fruit.\",\n",
    "    \"soon lara spotted other landmarks—an outcropping of limestone beside the path that had a silhouette like a man’s face, a marshy spot beside the river where the waterfowl were easily startled, a tall tree that looked like a man with his arms upraised.\",\n",
    "    \"they were drawing near to the place where there was an island in the river.\",\n",
    "    \"the island was a good spot to make camp.\",\n",
    "    \"they would sleep on the island tonight.\",\n",
    "    \"lara had been back and forth along the river path many times in her short life.\",\n",
    "    \"her people had not created the path—it had always been there, like the river—but their deerskin-shod feet and the wooden wheels of their handcarts kept the path well worn.\",\n",
    "    \"lara’s people were salt traders, and their livelihood took them on a continual journey.\",\n",
    "    \"at the mouth of the river, the little group of half a dozen intermingled families gathered salt from the great salt beds beside the sea.\",\n",
    "    \"they groomed and sifted the salt and loaded it into handcarts.\",\n",
    "    \"when the carts were full, most of the group would stay behind, taking shelter amid rocks and simple lean-tos, while a band of fifteen or so of the heartier members set out on the path that ran alongside the river.\",\n",
    "    \"with their precious cargo of salt, the travelers crossed the coastal lowlands and traveled toward the mountains.\",\n",
    "    \"but lara’s people never reached the mountaintops; they traveled only as far as the foothills.\",\n",
    "    \"many people lived in the forests and grassy meadows of the foothills, gathered in small villages.\",\n",
    "    \"in return for salt, these people would give lara’s people dried meat, animal skins, cloth spun from wool, clay pots, needles and scraping tools carved from bone, and little toys made of wood.\",\n",
    "    \"their bartering done, lara and her people would travel back down the river path to the sea.\",\n",
    "    \"the cycle would begin again.\",\n",
    "    \"it had always been like this.\",\n",
    "    \"lara knew no other life.\",\n",
    "    \"she traveled back and forth, up and down the river path.\",\n",
    "    \"no single place was home.\",\n",
    "    \"she liked the seaside, where there was always fish to eat, and the gentle lapping of the waves lulled her to sleep at night.\",\n",
    "    \"she was less fond of the foothills, where the path grew steep, the nights could be cold, and views of great distances made her dizzy.\",\n",
    "    \"she felt uneasy in the villages, and was often shy around strangers.\",\n",
    "    \"the path itself was where she felt most at home.\",\n",
    "    \"she loved the smell of the river on a hot day, and the croaking of frogs at night.\",\n",
    "    \"vines grew amid the lush foliage along the river, with berries that were good to eat.\",\n",
    "    \"even on the hottest day, sundown brought a cool breeze off the water, which sighed and sang amid the reeds and tall grasses.\",\n",
    "    \"of all the places along the path, the area they were approaching, with the island in the river, was lara’s favorite.\",\n",
    "    \"the terrain along this stretch of the river was mostly flat, but in the immediate vicinity of the island, the land on the sunrise side was like a rumpled cloth, with hills and ridges and valleys.\",\n",
    "    \"among lara’s people, there was a wooden baby’s crib, suitable for strapping to a cart, that had been passed down for generations.\",\n",
    "    \"the island was shaped like that crib, longer than it was wide and pointed at the upriver end, where the flow had eroded both banks.\",\n",
    "    \"the island was like a crib, and the group of hills on the sunrise side of the river were like old women mantled in heavy cloaks gathered to have a look at the baby in the crib—that was how lara’s father had once described the lay of the land.\",\n",
    "    \"larth spoke like that all the time, conjuring images of giants and monsters in the landscape.\",\n",
    "    \"he could perceive the spirits, called numina, that dwelled in rocks and trees.\",\n",
    "    \"sometimes he could speak to them and hear what they had to say.\",\n",
    "    \"the river was his oldest friend and told him where the fishing would be best.\",\n",
    "    \"from whispers in the wind he could foretell the next day’s weather.\",\n",
    "    \"because of such skills, larth was the leader of the group.\",\n",
    "    \"we’re close to the island, aren’t we, papa? said lara.\",\n",
    "    \"how did you know?\",\n",
    "    \"the hills.\",\n",
    "    \"first we start to see the hills, off to the right.\",\n",
    "    \"the hills grow bigger.\",\n",
    "    \"and just before we come to the island, we can see the silhouette of that fig tree up there, along the crest of that hill.\",\n",
    "    \"good girl! said larth, proud of his daughter’s memory and powers of observation.\",\n",
    "    \"he was a strong, handsome man with flecks of gray in his black beard.\",\n",
    "    \"his wife had borne several children, but all had died very young except lara, the last, whom his wife had died bearing.\",\n",
    "    \"lara was very precious to him.\",\n",
    "    \"like her mother, she had golden hair.\",\n",
    "    \"now that she had reached the age of childbearing, lara was beginning to display the fullness of a woman’s hips and breasts.\",\n",
    "    \"it was larth’s greatest wish that he might live to see his own grandchildren.\",\n",
    "    \"not every man lived that long, but larth was hopeful.\",\n",
    "    \"he had been healthy all his life, partly, he believed, because he had always been careful to show respect to the numina he encountered on his journeys.\"\n",
    "]"
   ]
  },
  {
   "cell_type": "code",
   "execution_count": 3,
   "metadata": {},
   "outputs": [
    {
     "name": "stdout",
     "output_type": "stream",
     "text": [
      "as they rounded a bend in the path that ran beside the river, lara recognized the silhouette of a fig tree atop a nearby hill.\n",
      "the weather was hot and the days were long.\n",
      "the fig tree was in full leaf, but not yet bearing fruit.\n",
      "soon lara spotted other landmarks—an outcropping of limestone beside the path that had a silhouette like a man’s face, a marshy spot beside the river where the waterfowl were easily startled, a tall tree that looked like a man with his arms upraised.\n",
      "they were drawing near to the place where there was an island in the river.\n",
      "the island was a good spot to make camp.\n",
      "they would sleep on the island tonight.\n",
      "lara had been back and forth along the river path many times in her short life.\n",
      "her people had not created the path—it had always been there, like the river—but their deerskin-shod feet and the wooden wheels of their handcarts kept the path well worn.\n",
      "lara’s people were salt traders, and their livelihood took them on a continual journey.\n",
      "at the mouth of the river, the little group of half a dozen intermingled families gathered salt from the great salt beds beside the sea.\n",
      "they groomed and sifted the salt and loaded it into handcarts.\n",
      "when the carts were full, most of the group would stay behind, taking shelter amid rocks and simple lean-tos, while a band of fifteen or so of the heartier members set out on the path that ran alongside the river.\n",
      "with their precious cargo of salt, the travelers crossed the coastal lowlands and traveled toward the mountains.\n",
      "but lara’s people never reached the mountaintops; they traveled only as far as the foothills.\n",
      "many people lived in the forests and grassy meadows of the foothills, gathered in small villages.\n",
      "in return for salt, these people would give lara’s people dried meat, animal skins, cloth spun from wool, clay pots, needles and scraping tools carved from bone, and little toys made of wood.\n",
      "their bartering done, lara and her people would travel back down the river path to the sea.\n",
      "the cycle would begin again.\n",
      "it had always been like this.\n",
      "lara knew no other life.\n",
      "she traveled back and forth, up and down the river path.\n",
      "no single place was home.\n",
      "she liked the seaside, where there was always fish to eat, and the gentle lapping of the waves lulled her to sleep at night.\n",
      "she was less fond of the foothills, where the path grew steep, the nights could be cold, and views of great distances made her dizzy.\n",
      "she felt uneasy in the villages, and was often shy around strangers.\n",
      "the path itself was where she felt most at home.\n",
      "she loved the smell of the river on a hot day, and the croaking of frogs at night.\n",
      "vines grew amid the lush foliage along the river, with berries that were good to eat.\n",
      "even on the hottest day, sundown brought a cool breeze off the water, which sighed and sang amid the reeds and tall grasses.\n",
      "of all the places along the path, the area they were approaching, with the island in the river, was lara’s favorite.\n",
      "the terrain along this stretch of the river was mostly flat, but in the immediate vicinity of the island, the land on the sunrise side was like a rumpled cloth, with hills and ridges and valleys.\n",
      "among lara’s people, there was a wooden baby’s crib, suitable for strapping to a cart, that had been passed down for generations.\n",
      "the island was shaped like that crib, longer than it was wide and pointed at the upriver end, where the flow had eroded both banks.\n",
      "the island was like a crib, and the group of hills on the sunrise side of the river were like old women mantled in heavy cloaks gathered to have a look at the baby in the crib—that was how lara’s father had once described the lay of the land.\n",
      "larth spoke like that all the time, conjuring images of giants and monsters in the landscape.\n",
      "he could perceive the spirits, called numina, that dwelled in rocks and trees.\n",
      "sometimes he could speak to them and hear what they had to say.\n",
      "the river was his oldest friend and told him where the fishing would be best.\n",
      "from whispers in the wind he could foretell the next day’s weather.\n",
      "because of such skills, larth was the leader of the group.\n",
      "we’re close to the island, aren’t we, papa? said lara.\n",
      "how did you know?\n",
      "the hills.\n",
      "first we start to see the hills, off to the right.\n",
      "the hills grow bigger.\n",
      "and just before we come to the island, we can see the silhouette of that fig tree up there, along the crest of that hill.\n",
      "good girl! said larth, proud of his daughter’s memory and powers of observation.\n",
      "he was a strong, handsome man with flecks of gray in his black beard.\n",
      "his wife had borne several children, but all had died very young except lara, the last, whom his wife had died bearing.\n",
      "lara was very precious to him.\n",
      "like her mother, she had golden hair.\n",
      "now that she had reached the age of childbearing, lara was beginning to display the fullness of a woman’s hips and breasts.\n",
      "it was larth’s greatest wish that he might live to see his own grandchildren.\n",
      "not every man lived that long, but larth was hopeful.\n",
      "he had been healthy all his life, partly, he believed, because he had always been careful to show respect to the numina he encountered on his journeys.\n"
     ]
    }
   ],
   "source": [
    "num_chars = []\n",
    "num_words = []\n",
    "num_tokens = []\n",
    "avg_time = []\n",
    "\n",
    "for s in sentences:\n",
    "    num_chars.append(len(s))\n",
    "    num_words.append(len(s.split()))\n",
    "    num_tokens.append(len(tokenizer.tokenize(\"[CLS] \" + s + \" [SEP]\")))\n",
    "    time_total = 0\n",
    "    for i in range(100):\n",
    "        t0 = time.perf_counter() # or .process_time() to not include time sleeping\n",
    "        bc.encode([s])\n",
    "        t1 = time.perf_counter()\n",
    "        time_total += t1-t0\n",
    "    avg_time.append(time_total/100)\n",
    "    print(s)"
   ]
  },
  {
   "cell_type": "code",
   "execution_count": 4,
   "metadata": {},
   "outputs": [
    {
     "data": {
      "text/plain": [
       "<matplotlib.collections.PathCollection at 0x221e0f060f0>"
      ]
     },
     "execution_count": 4,
     "metadata": {},
     "output_type": "execute_result"
    },
    {
     "data": {
      "image/png": "[encoded data removed]",
      "text/plain": [
       "<Figure size 432x288 with 1 Axes>"
      ]
     },
     "metadata": {
      "needs_background": "light"
     },
     "output_type": "display_data"
    }
   ],
   "source": [
    "plt.scatter(num_chars, avg_time)"
   ]
  },
  {
   "cell_type": "code",
   "execution_count": 5,
   "metadata": {},
   "outputs": [
    {
     "data": {
      "text/plain": [
       "<matplotlib.collections.PathCollection at 0x221e08b4780>"
      ]
     },
     "execution_count": 5,
     "metadata": {},
     "output_type": "execute_result"
    },
    {
     "data": {
      "image/png": "[encoded data removed]",
      "text/plain": [
       "<Figure size 432x288 with 1 Axes>"
      ]
     },
     "metadata": {
      "needs_background": "light"
     },
     "output_type": "display_data"
    }
   ],
   "source": [
    "plt.scatter(num_words, avg_time)"
   ]
  },
  {
   "cell_type": "code",
   "execution_count": 6,
   "metadata": {},
   "outputs": [
    {
     "data": {
      "text/plain": [
       "<matplotlib.collections.PathCollection at 0x221e0915b70>"
      ]
     },
     "execution_count": 6,
     "metadata": {},
     "output_type": "execute_result"
    },
    {
     "data": {
      "image/png": "[encoded data removed]",
      "text/plain": [
       "<Figure size 432x288 with 1 Axes>"
      ]
     },
     "metadata": {
      "needs_background": "light"
     },
     "output_type": "display_data"
    }
   ],
   "source": [
    "plt.scatter(num_tokens, avg_time)"
   ]
  }
 ],
 "metadata": {
  "kernelspec": {
   "display_name": "Python 3",
   "language": "python",
   "name": "python3"
  },
  "language_info": {
   "codemirror_mode": {
    "name": "ipython",
    "version": 3
   },
   "file_extension": ".py",
   "mimetype": "text/x-python",
   "name": "python",
   "nbconvert_exporter": "python",
   "pygments_lexer": "ipython3",
   "version": "3.7.3"
  }
 },
 "nbformat": 4,
 "nbformat_minor": 4
}
