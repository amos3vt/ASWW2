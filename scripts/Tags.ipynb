{
 "cells": [
  {
   "cell_type": "markdown",
   "metadata": {},
   "source": [
    "# Import necessary libraries"
   ]
  },
  {
   "cell_type": "code",
   "execution_count": 1,
   "metadata": {},
   "outputs": [
    {
     "name": "stderr",
     "output_type": "stream",
     "text": [
      "C:\\Users\\Savannah\\Anaconda3\\lib\\site-packages\\tensorflow\\python\\framework\\dtypes.py:526: FutureWarning: Passing (type, 1) or '1type' as a synonym of type is deprecated; in a future version of numpy, it will be understood as (type, (1,)) / '(1,)type'.\n",
      "  _np_qint8 = np.dtype([(\"qint8\", np.int8, 1)])\n",
      "C:\\Users\\Savannah\\Anaconda3\\lib\\site-packages\\tensorflow\\python\\framework\\dtypes.py:527: FutureWarning: Passing (type, 1) or '1type' as a synonym of type is deprecated; in a future version of numpy, it will be understood as (type, (1,)) / '(1,)type'.\n",
      "  _np_quint8 = np.dtype([(\"quint8\", np.uint8, 1)])\n",
      "C:\\Users\\Savannah\\Anaconda3\\lib\\site-packages\\tensorflow\\python\\framework\\dtypes.py:528: FutureWarning: Passing (type, 1) or '1type' as a synonym of type is deprecated; in a future version of numpy, it will be understood as (type, (1,)) / '(1,)type'.\n",
      "  _np_qint16 = np.dtype([(\"qint16\", np.int16, 1)])\n",
      "C:\\Users\\Savannah\\Anaconda3\\lib\\site-packages\\tensorflow\\python\\framework\\dtypes.py:529: FutureWarning: Passing (type, 1) or '1type' as a synonym of type is deprecated; in a future version of numpy, it will be understood as (type, (1,)) / '(1,)type'.\n",
      "  _np_quint16 = np.dtype([(\"quint16\", np.uint16, 1)])\n",
      "C:\\Users\\Savannah\\Anaconda3\\lib\\site-packages\\tensorflow\\python\\framework\\dtypes.py:530: FutureWarning: Passing (type, 1) or '1type' as a synonym of type is deprecated; in a future version of numpy, it will be understood as (type, (1,)) / '(1,)type'.\n",
      "  _np_qint32 = np.dtype([(\"qint32\", np.int32, 1)])\n",
      "C:\\Users\\Savannah\\Anaconda3\\lib\\site-packages\\tensorflow\\python\\framework\\dtypes.py:535: FutureWarning: Passing (type, 1) or '1type' as a synonym of type is deprecated; in a future version of numpy, it will be understood as (type, (1,)) / '(1,)type'.\n",
      "  np_resource = np.dtype([(\"resource\", np.ubyte, 1)])\n"
     ]
    }
   ],
   "source": [
    "import pandas as pd\n",
    "import numpy as np\n",
    "import scipy\n",
    "from sklearn.cluster import KMeans\n",
    "from sentence_transformers import SentenceTransformer\n",
    "model = SentenceTransformer('bert-base-nli-mean-tokens')"
   ]
  },
  {
   "cell_type": "markdown",
   "metadata": {},
   "source": [
    "# Load tag data"
   ]
  },
  {
   "cell_type": "code",
   "execution_count": 2,
   "metadata": {},
   "outputs": [],
   "source": [
    "path = \"../data/tags.xlsx\"\n",
    "transcriber_df = pd.read_excel(path, converters={'space':str, 'nospace':str}, sheet_name=\"ZooniverseTags\")\n",
    "expert_df = pd.read_excel(path, converters={'space':str, 'nospace':str}, sheet_name=\"ExpertTags\")\n",
    "\n",
    "expert_tags = expert_df['nospace'].tolist()\n",
    "transcriber_tags = transcriber_df['nospace'].tolist()"
   ]
  },
  {
   "cell_type": "markdown",
   "metadata": {},
   "source": [
    "# Get tag embeddings"
   ]
  },
  {
   "cell_type": "code",
   "execution_count": 3,
   "metadata": {},
   "outputs": [],
   "source": [
    "transcriber_embed = model.encode(transcriber_df['space'].tolist())\n",
    "expert_embed = model.encode(expert_df['space'].tolist())"
   ]
  },
  {
   "cell_type": "markdown",
   "metadata": {},
   "source": [
    "# Compare transcriber tag embeddings to expert tag embeddings"
   ]
  },
  {
   "cell_type": "code",
   "execution_count": 8,
   "metadata": {},
   "outputs": [
    {
     "name": "stdout",
     "output_type": "stream",
     "text": [
      "Time: 10.677935100000013\n"
     ]
    }
   ],
   "source": [
    "def compare_all(i, tag, embed):\n",
    "    distances = scipy.spatial.distance.cdist([embed], expert_embed, \"cosine\")[0]\n",
    "    ranking = sorted(zip(range(len(distances)), distances), key=lambda x: x[1])\n",
    "    return {\n",
    "        \"index\": i,\n",
    "        \"transcriber_tag\": tag,\n",
    "        \"expert_tag_1\": expert_tags[ranking[0][0]],\n",
    "        \"score_1\": 1-ranking[0][1],\n",
    "        \"expert_tag_2\": expert_tags[ranking[1][0]],\n",
    "        \"score_2\": 1-ranking[1][1],\n",
    "        \"expert_tag_3\": expert_tags[ranking[2][0]],\n",
    "        \"score_3\": 1-ranking[2][1]\n",
    "    }\n",
    "\n",
    "results = [compare_all(i, tag, embed) for i, tag, embed in \n",
    "           zip(range(len(transcriber_df)), transcriber_tags, transcriber_embed)]\n",
    "\n",
    "match_df = pd.DataFrame(results)"
   ]
  },
  {
   "cell_type": "markdown",
   "metadata": {},
   "source": [
    "# Display 50 least-matched expert tags"
   ]
  },
  {
   "cell_type": "code",
   "execution_count": 10,
   "metadata": {},
   "outputs": [
    {
     "data": {
      "text/plain": [
       "opinionofallies           1\n",
       "heavybombardmentgroups    1\n",
       "attitudetowardgermany     1\n",
       "confidenceinship          1\n",
       "germanradio               1\n",
       "civilians                 2\n",
       "germanclothing            2\n",
       "moraleprogram             2\n",
       "sexcontact                2\n",
       "newsmaps                  2\n",
       "sex                       2\n",
       "italy                     2\n",
       "prideinoutfit             2\n",
       "bbc                       2\n",
       "mess                      2\n",
       "japan                     2\n",
       "usoclubs                  3\n",
       "pacifictoughness          3\n",
       "ratings                   3\n",
       "postwaropportunities      3\n",
       "aficourses                3\n",
       "redcross                  3\n",
       "germans                   3\n",
       "magazines                 3\n",
       "localcivilians            3\n",
       "workingwithcivilians      3\n",
       "krations                  3\n",
       "entalhealth               4\n",
       "basenewspapers            4\n",
       "hospitalfacilities        4\n",
       "pxs                       4\n",
       "strategicbombing          4\n",
       "honolulu                  4\n",
       "japanese                  4\n",
       "attitudetowardengland     4\n",
       "treatmentofpows           4\n",
       "chemicalwarfare           4\n",
       "artillery                 4\n",
       "espiritdcorps             4\n",
       "politicalviews            4\n",
       "branchofservice           5\n",
       "personalservices          5\n",
       "us-clubs                  5\n",
       "warweek                   5\n",
       "hospitalization           5\n",
       "sectioncief               5\n",
       "usintheworld              5\n",
       "patientcare               5\n",
       "reccenters                5\n",
       "minorities                5\n",
       "Name: expert_tag_1, dtype: int64"
      ]
     },
     "execution_count": 10,
     "metadata": {},
     "output_type": "execute_result"
    }
   ],
   "source": [
    "match_df['expert_tag_1'].value_counts().sort_values().head(50)"
   ]
  },
  {
   "cell_type": "markdown",
   "metadata": {},
   "source": [
    "# Top n transcriber tags to add to expert tags"
   ]
  },
  {
   "cell_type": "code",
   "execution_count": null,
   "metadata": {},
   "outputs": [],
   "source": [
    "best_sum = float('inf')\n",
    "best_tag = None\n",
    "\n",
    "for i in range(len(transcriber_df)):\n",
    "    expert_tags = np.append(expert_tags, transcriber_tags[i])\n",
    "    expert_embed = np.vstack((expert_embed, transcriber_embed[i]))\n",
    "    \n",
    "    results = [compare_all(j, tag, embed) for j, tag, embed in\n",
    "               zip(range(len(transcriber_df)), transcriber_tags, transcriber_embed)\n",
    "               if j != i]\n",
    "    \n",
    "    sum_cs = sum([r['score_1'] for r in results])\n",
    "        \n",
    "    if sum_cs < best_sum:\n",
    "        best_sum = sum_cs\n",
    "        best_tag = transcriber_tags[i]\n",
    "    \n",
    "    expert_tags = np.delete(expert_tags, len(expert_tags)-1,0)\n",
    "    expert_embed = np.delete(expert_embed, len(expert_embed)-1,0)\n",
    "\n",
    "print(best_tag)"
   ]
  }
 ],
 "metadata": {
  "kernelspec": {
   "display_name": "Python 3",
   "language": "python",
   "name": "python3"
  },
  "language_info": {
   "codemirror_mode": {
    "name": "ipython",
    "version": 3
   },
   "file_extension": ".py",
   "mimetype": "text/x-python",
   "name": "python",
   "nbconvert_exporter": "python",
   "pygments_lexer": "ipython3",
   "version": "3.7.3"
  }
 },
 "nbformat": 4,
 "nbformat_minor": 4
}
