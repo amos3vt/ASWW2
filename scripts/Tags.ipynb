{
 "cells": [
  {
   "cell_type": "markdown",
   "metadata": {},
   "source": [
    "# Import necessary libraries"
   ]
  },
  {
   "cell_type": "code",
   "execution_count": 1,
   "metadata": {},
   "outputs": [],
   "source": [
    "import pandas as pd\n",
    "import numpy as np\n",
    "import scipy\n",
    "from sklearn.cluster import KMeans"
   ]
  },
  {
   "cell_type": "markdown",
   "metadata": {},
   "source": [
    "# Load tag data"
   ]
  },
  {
   "cell_type": "code",
   "execution_count": 2,
   "metadata": {},
   "outputs": [],
   "source": [
    "path = \"../data/tags.xlsx\"\n",
    "\n",
    "df_transcriber = pd.read_excel(\n",
    "    path, \n",
    "    converters={'space':str, 'nospace':str}, \n",
    "    sheet_name=\"ZooniverseTags\"\n",
    ")\n",
    "\n",
    "df_expert = pd.read_excel(\n",
    "    path, \n",
    "    converters={'space':str, 'nospace':str}, \n",
    "    sheet_name=\"ExpertTags\"\n",
    ")\n",
    "\n",
    "tags_expert = df_expert[\"nospace\"].tolist()\n",
    "tags_transcriber = df_transcriber[\"nospace\"].tolist()"
   ]
  },
  {
   "cell_type": "markdown",
   "metadata": {},
   "source": [
    "# Word2Vec"
   ]
  },
  {
   "cell_type": "code",
   "execution_count": 3,
   "metadata": {},
   "outputs": [
    {
     "name": "stderr",
     "output_type": "stream",
     "text": [
      "C:\\Users\\Savannah\\Anaconda3\\lib\\site-packages\\smart_open\\smart_open_lib.py:253: UserWarning: This function is deprecated, use smart_open.open instead. See the migration notes for details: https://github.com/RaRe-Technologies/smart_open/blob/master/README.rst#migrating-to-the-new-open-function\n",
      "  'See the migration notes for details: %s' % _MIGRATION_NOTES_URL\n"
     ]
    }
   ],
   "source": [
    "import gensim.downloader as api\n",
    "wv = api.load('word2vec-google-news-300')"
   ]
  },
  {
   "cell_type": "markdown",
   "metadata": {},
   "source": [
    "## Print some tags Word2Vec does not understand"
   ]
  },
  {
   "cell_type": "markdown",
   "metadata": {},
   "source": [
    "These are a few words/short-phrases that do not appear in Word2Vec's base vocabulary. For the short phrases, it would be possible to use the embeddings for individual words in the phrase to get an embedding for the full phrase. However, for the one-word tags, I do ot have the resources to fine-tune Word2Vec to add these. Another limitation is that Word2Vec does not give contextualized embeddings. For these reasons, we will not be using Word2Vec to find tag approximations."
   ]
  },
  {
   "cell_type": "code",
   "execution_count": 4,
   "metadata": {},
   "outputs": [
    {
     "name": "stdout",
     "output_type": "stream",
     "text": [
      "\"word '1 in 10 rations' not in vocabulary\"\n",
      "\"word 'afi courses' not in vocabulary\"\n",
      "\"word 'army films' not in vocabulary\"\n",
      "\"word 'army insurance' not in vocabulary\"\n",
      "\"word 'army living' not in vocabulary\"\n",
      "\"word 'army scorecard plan' not in vocabulary\"\n",
      "\"word 'army talks' not in vocabulary\"\n",
      "\"word 'attitude toward england' not in vocabulary\"\n",
      "\"word 'attitude toward france' not in vocabulary\"\n",
      "\"word 'attitude towards germany' not in vocabulary\"\n",
      "\"word 'attitude toward italy' not in vocabulary\"\n",
      "\"word 'base newspapers' not in vocabulary\"\n",
      "\"word 'base units' not in vocabulary\"\n",
      "\"word 'branch of service' not in vocabulary\"\n",
      "\"word 'british papers' not in vocabulary\"\n",
      "\"word 'business ownership' not in vocabulary\"\n",
      "\"word 'cbi roundup' not in vocabulary\"\n",
      "\"word 'chemical warfare' not in vocabulary\"\n",
      "\"word 'civilian skills' not in vocabulary\"\n",
      "\"word 'combat flying' not in vocabulary\"\n",
      "\"word 'combat stress' not in vocabulary\"\n",
      "\"word 'confidence in ship' not in vocabulary\"\n",
      "\"word 'confidence in troops' not in vocabulary\"\n",
      "\"word 'current events' not in vocabulary\"\n",
      "\"word 'dental care' not in vocabulary\"\n",
      "\"word 'dischargees' not in vocabulary\"\n",
      "\"word 'enemy atrocities' not in vocabulary\"\n",
      "\"word 'enemy vindictiveness' not in vocabulary\"\n",
      "\"word 'mental health' not in vocabulary\"\n",
      "\"word 'esprit de corps' not in vocabulary\"\n",
      "\"word 'fighting facts' not in vocabulary\"\n",
      "\"word 'foreign policy' not in vocabulary\"\n",
      "\"word 'forward areas' not in vocabulary\"\n",
      "\"word 'further service' not in vocabulary\"\n",
      "\"word 'german clothing' not in vocabulary\"\n",
      "\"word 'german radio' not in vocabulary\"\n",
      "\"word 'gi bill' not in vocabulary\"\n",
      "\"word 'goldbricking' not in vocabulary\"\n",
      "\"word 'ground personnel' not in vocabulary\"\n",
      "\"word 'heavy bombardment groups' not in vocabulary\"\n",
      "\"word 'hospital facilities' not in vocabulary\"\n",
      "\"word 'japanese surrender' not in vocabulary\"\n",
      "\"word 'job evaluation' not in vocabulary\"\n",
      "\"word 'job preference' not in vocabulary\"\n",
      "\"word 'job satisfaction' not in vocabulary\"\n",
      "\"word 'job turnover' not in vocabulary\"\n",
      "\"word 'k rations' not in vocabulary\"\n",
      "\"word 'leisure time' not in vocabulary\"\n",
      "\"word 'length of service' not in vocabulary\"\n",
      "\"word 'length of war' not in vocabulary\"\n",
      "\"word 'limited assignments' not in vocabulary\"\n",
      "\"word 'live talen' not in vocabulary\"\n",
      "\"word 'living conditions' not in vocabulary\"\n",
      "\"word 'local civilians' not in vocabulary\"\n",
      "\"word 'malary' not in vocabulary\"\n",
      "\"word 'marital status' not in vocabulary\"\n",
      "\"word 'media influence' not in vocabulary\"\n",
      "\"word 'medical care' not in vocabulary\"\n",
      "\"word 'medical dispensaries' not in vocabulary\"\n",
      "\"word 'mess hall' not in vocabulary\"\n",
      "\"word 'military police' not in vocabulary\"\n",
      "\"word 'morale program' not in vocabulary\"\n",
      "\"word 'ncos' not in vocabulary\"\n",
      "\"word 'newsmaps' not in vocabulary\"\n",
      "\"word 'officer training' not in vocabulary\"\n",
      "\"word 'opinion of allies' not in vocabulary\"\n",
      "\"word 'opinion of tomorrow' not in vocabulary\"\n",
      "\"word 'overseas combat' not in vocabulary\"\n",
      "\"word 'pacific toughness' not in vocabulary\"\n",
      "\"word 'patient care' not in vocabulary\"\n",
      "\"word 'personal services' not in vocabulary\"\n",
      "\"word 'physical fitness' not in vocabulary\"\n",
      "\"word 'point system' not in vocabulary\"\n",
      "\"word 'political views' not in vocabulary\"\n",
      "\"word 'post exchanges' not in vocabulary\"\n",
      "\"word 'postwar expectations' not in vocabulary\"\n",
      "\"word 'postwar opportunities' not in vocabulary\"\n",
      "\"word 'postwar world' not in vocabulary\"\n",
      "\"word 'pride in outfit' not in vocabulary\"\n",
      "\"word 'program preferences' not in vocabulary\"\n",
      "\"word 'prosecution of the war' not in vocabulary\"\n",
      "\"word 'pxs' not in vocabulary\"\n",
      "\"word 'radio listening habits' not in vocabulary\"\n",
      "\"word 'rec centers' not in vocabulary\"\n",
      "\"word 'red cross' not in vocabulary\"\n",
      "\"word 'redistribution stations' not in vocabulary\"\n",
      "\"word 'section chief' not in vocabulary\"\n",
      "\"word 'separation centers' not in vocabulary\"\n",
      "\"word 'service personnel' not in vocabulary\"\n",
      "\"word 'sex contact' not in vocabulary\"\n",
      "\"word 'soldier deposits' not in vocabulary\"\n",
      "\"word 'special services' not in vocabulary\"\n",
      "\"word 'stars and stripes' not in vocabulary\"\n",
      "\"word 'strategic bombing' not in vocabulary\"\n",
      "\"word 'sw pacific' not in vocabulary\"\n",
      "\"word 'time off' not in vocabulary\"\n",
      "\"word 'transfer account plan' not in vocabulary\"\n",
      "\"word 'treatment of pows' not in vocabulary\"\n",
      "\"word 'us-clubs' not in vocabulary\"\n",
      "\"word 'us in the world' not in vocabulary\"\n",
      "\"word 'uso clubs' not in vocabulary\"\n",
      "\"word 'usos' not in vocabulary\"\n",
      "\"word 'v-e day' not in vocabulary\"\n",
      "\"word 'venereal disease' not in vocabulary\"\n",
      "\"word 'war bonds' not in vocabulary\"\n",
      "\"word 'ward information' not in vocabulary\"\n",
      "\"word 'war industries' not in vocabulary\"\n",
      "\"word 'war news' not in vocabulary\"\n",
      "\"word 'war week' not in vocabulary\"\n",
      "\"word 'working with civilians' not in vocabulary\"\n"
     ]
    }
   ],
   "source": [
    "for e in df_expert[\"space\"]:\n",
    "    try:\n",
    "        wv[e]\n",
    "    except Exception as err:\n",
    "        print(err)"
   ]
  },
  {
   "cell_type": "markdown",
   "metadata": {},
   "source": [
    "# bert-as-service"
   ]
  },
  {
   "cell_type": "markdown",
   "metadata": {},
   "source": [
    "Make sure to run\n",
    "- bert-serving-start -model_dir [PATH TO MODEL] -num_worker=4 -max_seq_len=50\n",
    "\n",
    "I used the base uncased model. Adjust num_worker as needed."
   ]
  },
  {
   "cell_type": "code",
   "execution_count": 5,
   "metadata": {},
   "outputs": [],
   "source": [
    "from bert_serving.client import BertClient\n",
    "bc = BertClient()"
   ]
  },
  {
   "cell_type": "markdown",
   "metadata": {},
   "source": [
    "## Embed tags"
   ]
  },
  {
   "cell_type": "code",
   "execution_count": 6,
   "metadata": {},
   "outputs": [],
   "source": [
    "embed_expert = bc.encode(df_expert['space'].tolist())\n",
    "embed_transcriber = bc.encode(df_transcriber['space'].tolist())"
   ]
  },
  {
   "cell_type": "markdown",
   "metadata": {},
   "source": [
    "## Compare transcriber tag embeddings to expert tag embeddings"
   ]
  },
  {
   "cell_type": "code",
   "execution_count": 7,
   "metadata": {},
   "outputs": [],
   "source": [
    "def compare_all():\n",
    "    distances = scipy.spatial.distance.cdist(embed_transcriber, embed_expert, \"cosine\")\n",
    "    \n",
    "    ranking = [\n",
    "        sorted(\n",
    "            zip(range(len(distances[i])), distances[i]), \n",
    "            key=lambda x: x[1]\n",
    "        ) \n",
    "        for i in range(len(df_transcriber))\n",
    "    ]\n",
    "    \n",
    "    return [\n",
    "        {\n",
    "            \"index\": i,\n",
    "            \"transcriber_tag\": tags_transcriber[i],\n",
    "            \"expert_tag_1\": tags_expert[ranking[i][0][0]],\n",
    "            \"score_1\": 1-ranking[i][0][1],\n",
    "            \"expert_tag_2\": tags_expert[ranking[i][1][0]],\n",
    "            \"score_2\": 1-ranking[i][1][1],\n",
    "            \"expert_tag_3\": tags_expert[ranking[i][2][0]],\n",
    "            \"score_3\": 1-ranking[i][2][1]\n",
    "        }\n",
    "        for i in range(len(df_transcriber))\n",
    "    ]"
   ]
  },
  {
   "cell_type": "code",
   "execution_count": 8,
   "metadata": {},
   "outputs": [],
   "source": [
    "df_match = pd.DataFrame(compare_all())"
   ]
  },
  {
   "cell_type": "markdown",
   "metadata": {},
   "source": [
    "## Write to Excel"
   ]
  },
  {
   "cell_type": "code",
   "execution_count": 9,
   "metadata": {},
   "outputs": [],
   "source": [
    "# Sort results by cosine similarity\n",
    "df_match = df_match.sort_values('score_1', ascending=False)\n",
    "# Write to excel file\n",
    "df_match.to_excel(\"../data/tag_match_BAS.xlsx\")"
   ]
  },
  {
   "cell_type": "markdown",
   "metadata": {},
   "source": [
    "## Cluster tags lacking \"close enough\" approximation"
   ]
  },
  {
   "cell_type": "code",
   "execution_count": 10,
   "metadata": {},
   "outputs": [],
   "source": [
    "def show_clusters(k, thresh):\n",
    "    \n",
    "    # Do Kmeans on tags with low similarity score\n",
    "    df_match_low = df_match[df_match['score_1'] < thresh].reset_index()\n",
    "    \n",
    "    embed_transcriber_low = [\n",
    "        embed_transcriber[df_match_low['index'][i]] \n",
    "        for i in range(len(df_match_low))\n",
    "    ]\n",
    "\n",
    "    kmeans = KMeans(n_clusters=k).fit(embed_transcriber_low)\n",
    "    \n",
    "    # Print results\n",
    "    for i in range(k):\n",
    "        print(\"Cluster\", i+1)\n",
    "        print([\n",
    "            df_match_low['transcriber_tag'][j]\n",
    "            for j in range(len(kmeans.labels_)) \n",
    "            if kmeans.labels_[j] == i\n",
    "        ])"
   ]
  },
  {
   "cell_type": "code",
   "execution_count": 11,
   "metadata": {},
   "outputs": [
    {
     "name": "stdout",
     "output_type": "stream",
     "text": [
      "Cluster 1\n",
      "['onceasoldieralwaysasoldier', 'lovedones', 'livefortheday', 'stretchingthesamesentencetoreachwordlimi', 'realworld', 'friendsandfamily', 'homeofthebrave', 'newyearnewme', 'reach_for_the_stars', 'peaceandquiet', 'laterhours', 'shortandtothepoint', 'leftinthedark', 'tasteofhome', 'lovedone', 'sunnydaystocome', 'best-friends', 'seewhereittakesme', 'hellwithtomorrow']\n",
      "Cluster 2\n",
      "['selectiveservice', 'foreignservices', 'privatesector', 'foreignaffairs', 'med', 'chapel', 'flyingstatus', 'navy', 'traveltime', 'stigma', 'courage', 'physicalexam', 'travelconditions', 'engineers', 'disabled', 'foreigntrade', 'mapping', 'rotc', 'transportationservice', 'hierarchy', 'flyinghours', 'fcc', 'potential', 'publicfunds', 'prescitation', 'rotten', 'rural', 'foreignlands', 'marginalia', 'stipend', 'postoffice', 'cpn', 'timeserved', 'ranches', 'homesteaders']\n",
      "Cluster 3\n",
      "['workharder', 'fightforwhatyoubelievein', 'dosomething', 'makemeanofficer', 'takelifeeasy', 'learntoshoot', 'winthewar', 'officersneedtotryit', 'dotherealthing', 'giveduerespect', 'anythingcanhappen', 'livewhereiwant', 'mindonwhatmatters', 'getbackourjobs', 'givesusachance', 'fightforwhatyoulove', 'standtogether', 'stickwithit', 'makethisbetter', 'makethishappen', 'keepupthegoodwork', 'ishouldnthavetofightformyrights', 'giveitacrack', 'practicewhatyoupreach', 'getalong', 'makeastand', 'wecandoit', 'heknowsexactlywhathewantstodo', 'changeyourmind', 'donemypart', 'tellushowyoureallyfeel', 'givewhatyouget', 'wecanallgetalong', 'makethebestofit', 'doyourpart', 'justdoyourjob', 'getitoverwith']\n",
      "Cluster 4\n",
      "['atlanticcity', 'san_francisco_conference', 'affordablecollege', 'chilhood', 'newcity', 'scott_field', 'lowryfield', 'newfield', 'westpoint', 'pattersonfield', 'westcoast', 'walterreedhospital', 'campclaiborne', 'beachhead', 'biggsfield', 'southcarolinastatecollege', 'forthuachuca', 'huachuca', 'fortbelvoir', 'x1186', 'fayetteville']\n",
      "Cluster 5\n",
      "['notdumb', 'noplacelikehome', 'notthebestlife', 'notanswering', 'notfair', 'fightingfortoolong', 'notourproblem', 'tooold', 'notright', 'onemanshouldn', 'nothelping', 'depressing', 'notasinglefellow', 'hardtoread', 'notforme', 'notenoughtimeathome', 'notenough', 'nogoodreason', 'whataview', 'fairforall', 'unclesamdoesn', 'notsure', 'betterbecauseofit', 'allforone', 'notuptome', 'singlebutnotforlong', 'inmyopinion', 'hellofadeal']\n",
      "Cluster 6\n",
      "['pansy', 'feelin22', 'darkcopy', 'bootlicker', 'fulough', 'superpowers', 'polishedreview', 'johnlewis', 'hitler', 'nextgeneration', 'weddingbells', 'shakeup', 'mygirl', 'snafu', 'grudge', 'countdowntoretirement', 'salesgirls', 'speedbump', 'jackhitchell', 'americanway', 'regularjoes', 'southernstates', 'grunt', 'americathegreat', 'roaches', 'frankieandeleanor', 'hillbilly', 'takeaway', 'franksinatra', 'jughead', 'boowhittaker', 'myfolks', 'pinupgirls', 'bootcamp', 'oops', 'misfits', 'joelouis', 'aceinthesky']\n",
      "Cluster 7\n",
      "['s-106eto', 'b-24', 'adj', 's-106', 'b-29', 's-106h', '612', '16005', '29028', '24026', '15874180', '511th', 'ewww']\n",
      "Cluster 8\n",
      "['weightgain', 'poorphotography', 'seasickness', 'tropical-sickness', 'neurosis', 'officersreadingmail', 'embalming', 'tropical-diseases', 'misallocation', 'brownnose', 'homesickness', 'sorefeet', 'tropical-ulcers', 'millitaryrank', 'malaria-fever', 'antisemetic', 'mosquitoes', 'tropical-fevers', 'feverandsickness', 'handshaking', 'tropicalfevers', 'allergy', 'interuption', 'malaria-zone', 'yellowjaundice', 'frostbite', 'brokenarm', 'malaria', 'khakis', 'infested', 'blurry', 'hotclimate', 'gonorrhea']\n",
      "Cluster 9\n",
      "['workinthearmy', 'dresscode', 'joingovernment', 'returninghome', 'deathinthefamily', 'comissionedofficers', 'afterthearmy', 'agegap', 'rulesandregulations', 'americanconstitution', 'returningtothestates', 'lifeofthegovernment', 'visitrussia', 'election', 'requestfordischarge', 'chainofcommand', 'secondamendment', 'nopostwarplan', 'court-martial', 'tableoforganization', 'usconstitution', 'brotherinarms', 'gibillofrights', 'finishcollege', 'greatdepressionhasended', 'billofrights', 'inductees', 'firstchoice', 'menofcolor', 'home-ownership', 'portofembarkation']\n",
      "Cluster 10\n",
      "['offduty', 'marriedsoldier', 'marriage', 'nonpilot', 'notmarried', 'married', 'independent', 'plansnotchanged', 'privatepractice', 'interracial', 'previousinjury', 'exfarmer', 'agelimit', 'erased_text', 'agegroup', 'commercialairline', 'misused', 'selfemployed', 'gunuse', 'fittedfor', 'smallfry', 'non-commissioned', '30yearsold', 'alluppercaps', 'pre-planned', 'part-time', 'stenotypy', '4yearsor35', 'unassigned']\n",
      "Cluster 11\n",
      "['questionsfortranscribers', 'outbuild', 'indepedence', 'discouraging', 'disable', 'belittlement', 'clarification', 'falsifications', 'grievance', 'disenfranchised', 'entepreneur', 'noncombatant', 'discrimintation', 'underappreciatedsacrifice', 'appreciative', 'multilingual', 'escalation', 'deferment', 'facscism', 'frustation', 'arguable', 'misspellingsleftin', 'impractical', 'dissatisified', 'underappreciated', 'cutmid-sentence', 'discrepancies', 'illegible']\n",
      "Cluster 12\n",
      "['australian', 'busservice', 'highschool', 'dance', 'oilindustry', 'chemistry', 'privateairlines', 'congress', 'state', 'american', 'airfield', 'region', 'basketball', 'bilingual', 'poll', 'nostalgia', 'republic', 'golf', 'records', 'visitinghours', 'afn', 'train', 'elementary', 'university', 'land', 'plant', 'positive', 'patrickhenry', 'countries', 'sundays', 'religon', 'religion', 'green', 'united', 'specialistschool', 'church', 'average', 'easternsector', 'population', 'weekendsfree', 'dissent', 'ford', 'station', 'railroad', 'democratic', '6thgrade', 'single']\n",
      "Cluster 13\n",
      "['privileges-for-officers', 'profane', 'servingthecountry', 'evaders', 'equalrights', 'racial-discrimination', 'unjust', 'samerights', 'untouchables', 'self-inflicted-wounds', 'sexist', 'freespeech', 'unhealthful', 'perpetuated', 'equalopportunity', 'mistreated', 'preservethefreecountry', 'unhealthyclimate', 'unorganized', 'unhealthy', 'stoplynching', 'freedomofendeavor', 'fordemocracy', 'formycountry']\n",
      "Cluster 14\n",
      "['record', 'end', 'qualify', 'appearance', 'professional', 'results', 'divisions', 'ocs', 'home', 'reserved', 'qualified', 'reserves', 'win', 'lost', 'awards', 'overtime', 'goals', 'ptsd', 'allcaps', 'notqualified', 'newgoals', 'points', 'country', 'rookies', 'nogoals', 'rangers', 'open-endedquestions', 'bff', 'onpar']\n",
      "Cluster 15\n",
      "['indiaburma', 'unitedstates', 'aleutian', 'southcarolina', 'aleutians', 'newyorkharbor', 'puertorico', 'india-burma', 'negroes', 'southamerica', 'tropics', 'greatbritain', 'newyorkcity', 'newguinea', 'sanantonio', 'milnebay', 'pearlharbor', 'guadalcanal', 'mojave', 'aleutianislands', 'negros']\n",
      "Cluster 16\n",
      "['17months', '3months', 'oneyear', 'hours', 'sixmonths', '22months', 'twoyears', '30days', '8hours', '24months', '17hours', 'fivemonths', '5moreyears', 'eightmonths', 'eighteen', '30years', 'years', '93months', 'thirtyfive']\n",
      "Cluster 17\n",
      "['noplans', 'notax', 'nowords', 'openarms', 'nocomments', 'noreturn', 'nofight', 'nopolitics', 'noinformation', 'nofreedom', 'noregrets', 'noanswers', 'nomorewar', 'nocomment', 'nothingtosay', 'littletosay', 'noanswer']\n",
      "Cluster 18\n",
      "['armyofoccupation', 'german-prisoners-of-war', 'prisonerofwar', 'blitzkrieg', 'fatherservingww2', 'worldwar2soldier', 'post-warjob', 'civilwar', 'post-war', 'afterthewar', 'prisoners-of-war', 'concentrationcamp', 'warfinformation', 'ww2draft', 'greatdepression', 'worldwar1', 'nazigermany', 'worldwar', 'worldwarii', 'postworldwar', 'worldwariisolider', 'ww2', 'ww1']\n",
      "Cluster 19\n",
      "['nohell', 'wastedtime', 'good', 'wastetime', 'nopatience', 'precioustime', 'wastingtime', 'nofun', 'moretimeneeded', 'goodjob', 'timewasted', 'morepasses', 'wasteoftime', 'nohope', 'fairchance', 'longwait', 'noneed', 'toomuchwork', 'tooeasy', 'noidea', 'hardway', 'goodtime', 'noneedfor', 'toolong', 'nochoice', 'wishfulthinking', 'nochance', 'moretime', 'pisspoor', 'notenoughtime', 'thingsgotworse', 'notime', 'toolate', 'hooah']\n",
      "Cluster 20\n",
      "['normandy', 'fortknox', '11airborn', 'combatstars', '2ndarmy', 'insignia', '9th_division', 'generalmarshall', 'corporal', 'staffsgt', '1lt', '2lt', 'fortbragg', 'enlistedmen', '1stsergeant', '2ndlieutenants', 'generalarnold', 'battlestar', 'fortsheridan', 'rommel', 'fortbenning']\n",
      "Cluster 21\n",
      "['firefighter', 'aircraftmechanic', 'ablebodied', 'africanamericansoldiers', 'browning_automatic_rifle', 'dispatcher', 'nutritionist', 'africanamerican', 'engineer', 'chemicalengineer', 'amphibianengineers', 'oldersolider', 'paratrooper', 'electrician', 'africanamericansoldier', 'africanamericans', 'realist', 'economist', 'paratroopers', 'journalist', 'medic', 'stenographer', '511paratrooper', 'hairstylist', 'lithographer', 'machinist', '30yearolds', 'bayonet', 'homeowner']\n",
      "Cluster 22\n",
      "['dischargeme', 'returntous', 'bringthemhome', 'letmebeme', 'aboutyou', 'hatethis', 'soldiersdontseecolor', 'writehome', 'deservebetter', 'sleepeasy', 'thanks', 'bringushome', 'stayin', 'sendme', 'bringmehome', 'sendmehome', 'considerusplease', 'keepmehome', 'saveit', 'betterpay', 'warisnteasy', 'gethimoutofbarracks', 'letsgohome', 'letmeserve', 'helpme', 'betterleave', 'lovemywife', 'clotheme', 'bequiet', 'iamback', 'getout', 'bringthoseboyshome', 'wakeupamerica', 'missme', 'anythings_possible', 'settledown', 'iwanttotravelmoreoften', 'bettercare', 'fixthis', 'wanttogoback', 'gohome', 'thankyou', 'believeme', 'dont', 'hurryupandwait', 'keepmeposted', 'cantwait', 'cantwaittogethome', 'amen', 'getthemoutofhere', 'dontcare']\n",
      "Cluster 23\n",
      "['marinecorps', 'americanarmy', 'combatveteran', 'usarmy', 'airforce', 'unitedstatesmilitary', 'usgovernment', 'non-combat', 'civilianaircorps', 'armyaircorps', 'armyairforce', 'justicedepartment', 'non-combative', 'veteransadministration', 'wardepartment', 'tourofduty']\n",
      "Cluster 24\n",
      "['nazism', 'disrespect', 'industrialization', 'ageism', 'wagegap', 'meritocracy', 'musictheory', 'precombateanxiety', 'stagnation', 'miscommunications', 'mistreatment', 'laborstrikes', 'believerinrandomcapitalization', 'nepotism', 'fascism', 'globalism', 'convalescence', 'inequity', 'disrespected', 'misogyny', 'aggravations', 'well-being', 'sexism', 'logisitics', 'grievances', 'hypocrisy', 'positivity', 'cohabitation', 'diligent', 'metallurgy', 'entitlements', 'race-relations', 'desegregatethemilitary', 'spam', 'jingoistic', 'illiteracy', 'lynching', 'castesystem', 'allotment', 'inefficiency', 'curfewregulations', 'illiterate', 'antisemitism', 'overcrowding', 'allotments', 'entitlement', 'realworldapplication', 'inefficient', 'democracies', 'ophthalmology', 'homeownership', 'checksandbalances', 'curfew', 'desegregation', 'merchandising', 'evalgelism', 'daytoday']\n",
      "Cluster 25\n",
      "['coloredandwhite', 'betterdiscipline', 'besttime', 'wrongplacement', 'goodpoints', 'unqualifiedofficers', 'fouledup', 'discardtosoldier', 'oneteam', 'besthandwriting', 'senthome', 'greendrafters', 'bettercountry', 'missinghome', 'overallperformance', 'newstart', 'coloredmales', 'youngvsold', 'unknowngoals', 'unfitforposition', 'missedchances', 'wellpayed', 'northvssouth', 'overqualified', 'noteinmargin', 'misplaced', 'unqualified', 'firstinfirstout', 'undecidedonengland', 'columnacolumnb']\n",
      "Cluster 26\n",
      "['washedout', 'goodshape', 'messedup', 'treatedwell', 'keepthepoliticsindc', 'passedover', 'sickofwar', 'returntonormalcy', 'settling_down', 'biggovernmentisbad', 'laidbacklifestyle', 'insanecrazyfool', 'backtoschool', 'plannedout', 'standinghispost', 'settleddown', 'sentback', 'goodson', 'smartguy', 'sameculture', 'movingaround', 'proudtoserve', 'callingsomeoneout', 'interupted', 'close-by', 'readytogetout', 'mightstayin', 'readytodie', 'latetotheparty', 'getreadyforkorea', 'sittingaround', 'toooldforflying', 'readyforhome', 'jobinhand', 'soontobemarried', 'manwithaplan', 'takestolong', 'too_old_to_fight', 'feelsgood', 'wantstoleave', 'amallbusiness', 'feelingfine', 'oversoonaspossible', 'gladiamback', 'outwiththeold', 'goodtobehome']\n",
      "Cluster 27\n",
      "['decidingdefiantly', 'disgruntled', 'clueless', 'disorganized', 'indecision', 'homesick', 'untrained', 'unenjoyable', 'unprepared', 'disatisfied', 'undecided', 'stagnant', 'fedup', 'displeased', 'uneducated', 'uneduated', 'unexperienced', 'unsatsfied', 'unsatisfied', 'unwavering', 'unfazed', 'unreadable']\n",
      "Cluster 28\n",
      "['whyfight', 'what', 'youmatter', 'whenwillthewarbeover', 'whoshouldlead', 'whenwillitend', 'whoyouknow', 'whyarewedoingthis', 'whatsnext', 'whoknows']\n",
      "Cluster 29\n",
      "['readingmail', 'sayinggoodbye', 'good_things_in_life', 'gettingajob', 'goinghome', 'buyahome', 'gobackandlive', 'jumpingthroughhoops', 'gettingbacktowork', 'buildahome', 'getajob', 'passabill', 'buyahouse', 'startafamily', 'living_day_by_day']\n",
      "Cluster 30\n",
      "['moveout', 'startsearching', 'moveon', 'readjust', 'finishthis', 'removetheredtape', 'everyminutecounts', 'northandsouth', 'everybodywins', 'movingon', 'next', 'letsgetthisbread', 'igiveup', 'oneanddone', 'keeptrying', 'oneandone', 'stayorgo', 'time_will_tell', 'fightordie']\n"
     ]
    }
   ],
   "source": [
    "show_clusters(30, 0.75)"
   ]
  },
  {
   "cell_type": "markdown",
   "metadata": {},
   "source": [
    "# Sentence-BERT"
   ]
  },
  {
   "cell_type": "code",
   "execution_count": 12,
   "metadata": {},
   "outputs": [
    {
     "name": "stderr",
     "output_type": "stream",
     "text": [
      "C:\\Users\\Savannah\\Anaconda3\\lib\\site-packages\\tensorflow\\python\\framework\\dtypes.py:526: FutureWarning: Passing (type, 1) or '1type' as a synonym of type is deprecated; in a future version of numpy, it will be understood as (type, (1,)) / '(1,)type'.\n",
      "  _np_qint8 = np.dtype([(\"qint8\", np.int8, 1)])\n",
      "C:\\Users\\Savannah\\Anaconda3\\lib\\site-packages\\tensorflow\\python\\framework\\dtypes.py:527: FutureWarning: Passing (type, 1) or '1type' as a synonym of type is deprecated; in a future version of numpy, it will be understood as (type, (1,)) / '(1,)type'.\n",
      "  _np_quint8 = np.dtype([(\"quint8\", np.uint8, 1)])\n",
      "C:\\Users\\Savannah\\Anaconda3\\lib\\site-packages\\tensorflow\\python\\framework\\dtypes.py:528: FutureWarning: Passing (type, 1) or '1type' as a synonym of type is deprecated; in a future version of numpy, it will be understood as (type, (1,)) / '(1,)type'.\n",
      "  _np_qint16 = np.dtype([(\"qint16\", np.int16, 1)])\n",
      "C:\\Users\\Savannah\\Anaconda3\\lib\\site-packages\\tensorflow\\python\\framework\\dtypes.py:529: FutureWarning: Passing (type, 1) or '1type' as a synonym of type is deprecated; in a future version of numpy, it will be understood as (type, (1,)) / '(1,)type'.\n",
      "  _np_quint16 = np.dtype([(\"quint16\", np.uint16, 1)])\n",
      "C:\\Users\\Savannah\\Anaconda3\\lib\\site-packages\\tensorflow\\python\\framework\\dtypes.py:530: FutureWarning: Passing (type, 1) or '1type' as a synonym of type is deprecated; in a future version of numpy, it will be understood as (type, (1,)) / '(1,)type'.\n",
      "  _np_qint32 = np.dtype([(\"qint32\", np.int32, 1)])\n",
      "C:\\Users\\Savannah\\Anaconda3\\lib\\site-packages\\tensorflow\\python\\framework\\dtypes.py:535: FutureWarning: Passing (type, 1) or '1type' as a synonym of type is deprecated; in a future version of numpy, it will be understood as (type, (1,)) / '(1,)type'.\n",
      "  np_resource = np.dtype([(\"resource\", np.ubyte, 1)])\n"
     ]
    }
   ],
   "source": [
    "from sentence_transformers import SentenceTransformer\n",
    "model = SentenceTransformer('bert-base-nli-mean-tokens')"
   ]
  },
  {
   "cell_type": "markdown",
   "metadata": {},
   "source": [
    "## Embed tags"
   ]
  },
  {
   "cell_type": "code",
   "execution_count": 13,
   "metadata": {},
   "outputs": [],
   "source": [
    "embed_expert = model.encode(df_expert['space'].tolist())\n",
    "embed_transcriber = model.encode(df_transcriber['space'].tolist())"
   ]
  },
  {
   "cell_type": "markdown",
   "metadata": {},
   "source": [
    "## Compare transcriber tag embeddings to expert tag embeddings"
   ]
  },
  {
   "cell_type": "code",
   "execution_count": 14,
   "metadata": {},
   "outputs": [],
   "source": [
    "df_match = pd.DataFrame(compare_all())"
   ]
  },
  {
   "cell_type": "markdown",
   "metadata": {},
   "source": [
    "## Write to Excel"
   ]
  },
  {
   "cell_type": "code",
   "execution_count": 15,
   "metadata": {},
   "outputs": [],
   "source": [
    "# Sort results by cosine similarity\n",
    "df_match = df_match.sort_values('score_1', ascending=False)\n",
    "# Write to excel file\n",
    "df_match.to_excel(\"../data/tag_match_SB.xlsx\")"
   ]
  },
  {
   "cell_type": "markdown",
   "metadata": {},
   "source": [
    "## Cluster tags lacking \"close enough\" approximation"
   ]
  },
  {
   "cell_type": "code",
   "execution_count": 16,
   "metadata": {},
   "outputs": [
    {
     "name": "stdout",
     "output_type": "stream",
     "text": [
      "Cluster 1\n",
      "['engineer', 'engineers', 'chemicalengineer', 'experiments', 'ophthalmology', 'optomistic', 'technicalschool', 'philosophy', 'engineering', 'masteringacraft', 'neurosis', 'railroad', 'techschool', 'psychology', 'mechanicschool', 'bombardier', 'chemist', 'engineschool', 'safteyengineering', 'chemistry', 'lithographer', 'powertrip', 'constructionengineering', 'electrician', 'metallurgy', 'physics', 'biology', 'oilindustry', 'civilengineering', 'dieselwork', 'biologicalresearch', 'amphibianengineers', 'musictheory']\n",
      "Cluster 2\n",
      "['islands', 'southernofficers', 'drifting', 'island', 'southerners', 'south', 'atlanticcity', 'southerner', 'slaves', 'tropics', 'northandsouth', 'tropical-ulcers', 'tropical-diseases', 'southerncamps', 'mississippi', 'tropical-sickness', 'sicily', 'southernstates', 'guadalcanal', 'beachhead', 'northvssouth', 'purpleheart', 'theamericansouth', 'nightmare', 'sun-tans', 'deepsouth', 'southseas', 'southamerica', 'bluefalcon', 'southcarolina', 'southerncalifornia', 'southcarolinastatecollege', 'baseball']\n",
      "Cluster 3\n",
      "['anythings_possible', 'oversoonaspossible', 'livefortheday', 'simpleman', 'sleepeasy', 'amallbusiness', 'allwork', 'keepingitsimple', 'preservethefreecountry', 'landofthefree', 'realworld', 'keepmeposted', 'allamry', 'modern', 'onedream', 'record', 'noregrets', 'livewhereiwant', 'weekendsfree', 'regularjoes', 'onemanshouldn', 'forever', 'originalplans', 'allcaps', 'anyjob', 'nonracist', 'ownbusiness', 'financeindependent', 'lifeofasolider', 'anythingcanhappen', 'samewar', 'theworldismine', 'daytoday', 'dailylife', 'plansnotchanged', 'heknowsexactlywhathewantstodo', 'bachelor', 'everyminutecounts', 'alluppercaps', 'living_day_by_day']\n",
      "Cluster 4\n",
      "['travelingtimeadded', 'decidingdefiantly', 'guardduty', 'exams', 'competition', 'open-endedquestions', 'dodging', 'pre-planned', 'movethecamps', 'readytogetout', 'waiting', 'bidingtime', 'students', 'keeptrying', 'whyarewedoingthis', 'waitingaround', 'date', 'searchforhope', 'curfew', 'othersfirst', 'fightforwhatyoubelievein', 'cantwait', 'trainingreformneeded', 'hurryupandwait', 'callingsomeoneout', 'detailspostedearlier', 'waitinglines', 'officersneedtotryit', 'bootcamp', 'questionsfortranscribers', 'curfewregulations', 'wewantseasonaluniforms', 'getreadyforkorea', 'stretchingthesamesentencetoreachwordlimi']\n",
      "Cluster 5\n",
      "['geography', 'outdoorlife', 'pack', 'camps', 'branches', 'climate', 'rangers', 'scott_field', 'leaves', 'landscape', 'ranch', 'formycountry', 'cotton', 'farm', 'nature', 'fieldmanuevers', 'foreignlands', 'rural', 'cavalry', 'hunt', 'fieldhours', 'outsidejob', 'homesteaders', 'camplife', 'wilderness', 'farming', 'winter', 'farmer', 'ranches', 'agriculture', 'servingthecountry', 'chicago', 'argentina', 'hillbilly', 'farmers', 'dog', 'snow', 'pond', 'forestry', 'dogs', 'forests', 'farmlife', 'buckpassing', 'hiking', 'golf', 'texas', 'fruitfarm', 'buffalosoldiers']\n",
      "Cluster 6\n",
      "['nowars', 'forgottenhonor', 'littlehouse', 'stalehomecoming', 'farfromhome', 'unemployed', 'nobigguns', 'selfemployed', 'onefight', 'nocomplaints', 'untrainedsoldiers', 'undecidedonengland', 'notdoingjobtrainedfor', 'nonewofficers', 'leftinthedark', 'notlikehome', 'notstayinginmilitary', 'noplacelikehome', 'civiliansversussoldiers', 'nopostwarplan', 'armydelayed', 'sleepdeprived', 'hometrouble', 'civilianvsmilitary', 'enlistedvsofficer', 'soldiersdontseecolor', 'night', 'officerversusenlisted', 'missinghome', 'noworkweekend', 'latetotheparty', 'notenoughtimeathome', 'nightschool']\n",
      "Cluster 7\n",
      "['fakeillnesses', 'washedout', 'self-inflicted-wounds', 'tragicsacrifice', 'deserters', 'untouchables', 'antisemetic', 'fate', 'crime', 'suicide', 'boowhittaker', 'kill', 'spies', 'strike', 'crack-pots', 'nazism', 'racewar', 'gonorrhea', 'prostitute', 'officercriticism', 'killing', 'death', 'suicidemission', 'revenge', 'fightingchance', 'allergy', 'religioninwar', 'cutmid-sentence', 'classwar', 'familyawol', 'removetheredtape', 'prostitution', 'internmentcamp', 'makesomeonepay', 'prohibition', 'concentrationcamp', 'newsinterference', 'prostitutes', 'fightingspirt', 'criminals', 'narcissisticofficers', 'coldwar', 'fire', 'murder', 'dermatitis', 'fevers', 'feverandsickness', 'undercoveroperative', 'dysentery', 'brewingstorm', 'court-martial', 'food_poisoning', 'malaria', 'slave', 'rats', 'holocaust', 'court-martials', 'lynching', 'brothel', 'malaria-zone', 'tropical-fevers', 'tropicalfevers', 'roaches', 'deathinthefamily', 'hayfever', 'malaria-fever', 'mosquitoes']\n",
      "Cluster 8\n",
      "['signalcompany', 'armyofoccupation', 'soldierdoctor', 'afterthearmy', 'vethotel', 'militaryjustice', 'govtjob', 'lieutenants', 'armybuses', 'prison', 'generals', 'armyproblems', 'changeinthearmy', 'militaryindustrialcomplex', 'educationforsoldiers', 'makemeanofficer', 'wwii', '44threservecorp', 'governmentalerts', 'lifeonthebase', 'singalcorps', 'signalcorps', 'sergeants', 'armyprivate', 'defensespending', 'generalmarshall', 'soldierlyadvice', 'walterreedhospital', 'machanistsoldier', 'fortbragg', 'stayarmy', 'vets', 'ammunitioncompany', '2ndarmy', 'unitedstatesmilitary', 'medschool', 'soldiercomplaints', 'skilltransfersoldiertocivilian', 'defensejobs', 'platoonsergeant', 'armymedic', 'fortsheridan', 'armyvsnavy', 'worldwar1', 'officersabovesoldiers', 'generalarnold', 'worldwarii', 'peacetimearmy', 'ww2draft', 'marinecorps', 'mogulwarrior', '1stsergeant', 'rotc', 'worldwar2soldier', 'mailreading', 'moraleofblacksoldiers', 'navyorganization', 'mixingsoldiers', 'womensarmycorps', 'civiliansoldierdivide', 'kingofbattle', 'bedchecks', 'worldwariisolider', 'bedcheck', 'improvingthearmy', '2ndlieutenants', 'vetsatuni', 'writingletters', 'cavalryrulesinfantrydrools', 'readingmail', 'officersreadingmail']\n",
      "Cluster 9\n",
      "['father', 'manwithaplan', 'fatherfigure', 'husband', 'militaryhusband', 'fathersinwar', 'fathers', 'marriedman', 'hometownboy', 'marriedmen', 'onceasoldieralwaysasoldier', 'familyman', 'boyscout', 'trainyoungermen', 'unclesam', 'fatherforlife', 'youngmenfight', 'brothers', 'farmboys', 'boy_scout_tactics', 'farmboy', 'billyrosemillionaire', 'brotherinarms', 'fatherservingww2']\n",
      "Cluster 10\n",
      "['longlines', 'escalation', 'competitive', 'toolong', 'overworked', 'hardworker', 'fast', 'toomuchwork', 'workingharder', 'biggerissues', 'workharder', 'busywork', 'hellofadeal', 'longwait', 'overcrowding', 'takestolong', 'morebreaks', 'toomuchdrilling', 'needmoney', 'hungry', 'highprices', 'everyonefights', 'longhours', 'fightingfortoolong', 'longerhours', 'moreraceissues', 'moretimeneeded', 'needmoredays']\n",
      "Cluster 11\n",
      "['buildahome', 'hometown', 'buyahouse', 'lifeafterranks', 'sendmehome', 'cominghome', 'settlinginlife', 'gobackandlive', 'goodtobehome', 'gettingbacktowork', 'resetcamps', 'vacation', 'homesickness', 'stayorgo', 'homecoming', 'keepmehome', 'sayinggoodbye', 'backtoschool', 'changebackhome', 'sendpeoplehome', 'homesick', 'mightstayin', 'livinglikerielly', 'gohome', 'lifeafterdischarge', 'graduateschool', 'dreams', 'ready4home', 'camp', 'stayinghome', 'goinghome', 'neededathome', 'writehome', 'letsgohome', 'liveoffbase', 'college', 'graduatestudy', 'buyingahouse', 'bringthoseboyshome', 'cantwaittogethome', 'collegeeduction', 'finishcollege', 'missme', 'overnightworkers']\n",
      "Cluster 12\n",
      "['cook', 'pinupgirls', 'takeaway', 'sandwiches', 'giveitacrack', 'salty', 'washout', 'pansy', 'breadline', 'pie', 'jokester', 'smallfry', 'pulledteeth', 'campcooke', 'chef', 'meat', 'yellowjaundice', 'liquor', 'gasrations', 'polish', 'beer', 'fish', 'pigfood', 'spanish', 'greek', 'jews', 'jew', 'believerinrandomcapitalization', 'chinese', 'pipedreams', 'bootlicker', 'letsgetthisbread', 'jewish', 'mexican', 'cobbler', 'jiggers', 'crow', 'cigarettes', 'monkey', 'sodas', 'beefstew']\n",
      "Cluster 13\n",
      "['newlife', 'newbeginnings', 'newplans', 'changeinleadership', 'lifechange', 'newopportunities', 'newjob', 'newgear', 'newideas', 'startup', 'personalgrowth', 'newofficers', 'newrelationships', 'newnormal', 'newbusiness', 'newsoldiers', 'newarmy', 'rookies', 'newyearnewme', 'nyc', 'newmen', 'newcity', 'newguys', 'newyorkharbor', 'newyorkcity']\n",
      "Cluster 14\n",
      "['afterwar', 'endwar', 'civilwar', 'post-warjob', 'endthewar', 'fightordie', 'german-prisoners-of-war', 'getthemoutofhere', 'changethemilitary', 'soldiersleaving', 'afterthewar', 'afterleavingarmy', 'lifeafterwar', 'warorpeace', 'stoplynching', 'gethimoutofbarracks', 'readytodie', 'stopracism', 'finishthewar', 'nomorewar', 'livingafterwar', 'lifeafterthewar', 'whenwillthewarbeover', 'winthewar', 'greatdepressionhasended', 'religionoverrace', 'keepthepoliticsindc', 'toendallwars', 'ishouldnthavetofightformyrights']\n",
      "Cluster 15\n",
      "['coaches', 'weight', 'drinks', 'heat', 'grunts', 'driver', 'radiobiz', 'phone', 'radio', 'radioman', 'alcohol', 'bar', 'slide', 'oil', 'drivers', 'tank', 'transportationcorps', 'radiomen', 'photography', 'radios', 'theaters', 'sittingaround', 'zodiac', 'takingupspace', 'stenographer', 'tanks', 'phones', 'seat', 'truck', 'battery', 'ships', 'drinking', 'parades', 'races', 'driving', 'race', 'trucks', 'trafficmanagement', 'jail', 'shellshock', 'moreradios', 'automotive', 'phonebooth', 'telephone', 'boat', 'bus', 'train', 'motorpool', 'trains', 'car', 'speedbump', 'ford', 'tankdestroyer', 'boating', 'busservice', 'mustang', '4thtankgroup', 'bullgang']\n",
      "Cluster 16\n",
      "['bleakfuture', 'greatdepression', 'drought', 'eyecomplications', 'disability', 'languagebarrier', 'debt', 'foreignsoil', 'wounded', 'injury', 'disabilities', 'officerproblems', 'exhaustion', 'travelweary', 'fatigues', 'cold', 'tired', 'ptsd', 'latehours', 'mud', 'schizophrenia', 'rheumatism', 'injuredsoldier', 'sorefeet', 'seasickness', 'woundedsoldiers', 'arthritis', 'brokenarm', 'diabetes', 'previousinjury', 'frostbite']\n",
      "Cluster 17\n",
      "['americanlegion', 'america', 'americanarmy', 'hitler', 'american', 'americans', 'americanconstitution', 'americathegreat', 'hollywood', 'americanprograms', 'americanway', 'americanequipment', 'wakeupamerica', 'americanradio', 'americaninfluence', 'americanspirit', 'americannews', 'americanwin', 'americanindustry', 'americancitizen', 'americandream', 'fascism', 'franksinatra']\n",
      "Cluster 18\n",
      "['raisingkids', 'cohabitation', 'relationship', 'familytime', 'caregiver', 'families', 'friends', 'widow', 'family', 'futurefamily', 'girlfriend', 'familyprovider', 'daughters', 'soontobemarried', 'mothers', 'neighbors', 'familyfirst', 'relationships', 'bride', 'mother', 'parent', 'wife', 'commitemettowife', 'marriedsoldier', 'missloveones', 'babyboomers', 'startafamily', 'marriedwomen', 'soldiersspouses', 'dating', 'parents', 'lovedones', 'adviceforfamily', 'supportingfamily', 'weddingbells', 'friendsandfamily', 'lovemywife', 'best-friends']\n",
      "Cluster 19\n",
      "['diversity', 'medals', 'rainbowdivision', 'multilingual', 'medal', 'citizenship', 'weareallhuman', 'rainbow', 'coloredandwhite', 'racialtolerance', 'whiteprivilege', 'bilingual', 'whitesupremacy', 'white_supremacy', 'whitesoldier', 'green', 'brownnose', 'whitesoldiers', 'whiteofficers', 'greendrafters']\n",
      "Cluster 20\n",
      "['paratroopers', 'aircorps', 'usafl', 'pilotcareer', 'pilot', 'armyaircorps', 'aeronautics', 'flights', 'flyingpay', 'armypilot', 'airmen', 'airline', 'armyairforce', 'airplaneplant', 'civilianaircorps', 'aircorp', 'armyplanes', 'missile', 'flyinghours', 'airlines', 'pearlharbor', 'space', 'paratopers', 'aleutianislands', 'parachuterigger', 'radar', 'flyboys', 'commercialairline', 'aleutians', 'aceinthesky', 'aleutian', 'aircraftmechanic', 'aircorpcadet', 'shippingspace', '511paratrooper', 'privateairlines', 'aliens']\n",
      "Cluster 21\n",
      "['90daywonder', 'age36', 'part-time', '29028', '372ndunit', '1year', 'hours', '30daywonder', 'weekend', 'yearly', 'oneyear', 'highschool', '93months', 'thirtyfive', 'twoyears', '30yearsold', '75thdivision', 'sunday', '30yrsplus', 'weekends', '17months', '22months', '4plusyears', '24months', '30years', '15days', 'doublehours', 'back2school', '30yearolds', '17hours', 'eightmonths', 'threedaypass', '4yearsor35', '30days', 'weekendbreak', '3months', 'sixmonths', '8hours', 'sundays', '5moreyears', 'fouryearsexperience', '6thgrade', 'fivemonths', '5dollarwords']\n",
      "Cluster 22\n",
      "['physicalexam', 'gym', 'firepower', 'sports', 'run', 'athletes-foot', 'athletesfoot', 'standtogether', 'khakis', 'marching', 'riflemen', 'stillfighting', 'makeastand', 'trenchfoot', 'bayonet', 'shootingrange', 'snipers', 'footsoldiers', 'carbines', 'dance', 'standinghispost', 'handgrenade', 'learntoshoot', 'browning_automatic_rifle', 'jumpingthroughhoops', 'basketball']\n",
      "Cluster 23\n",
      "['musteroutpay', 'loans', 'presidentialpower', 'university', 'ranksystem', 'stocks', 'finance', 'salesman', 'socialevents', 'accountant', 'civilanlife', 'merchants', 'passabill', 'pricecontrols', 'moneyedman', 'journalism', 'lawmakers', 'uppermanagement', 'elections', 'ceo', 'paycheck', 'onthegovtdime', 'logisitics', 'pension', 'merchandising', 'socialwork', 'journalist', 'bargain_plea', 'taxpayermoney', 'history', 'payreservation', 'justicesystem', 'interviews', 'socialplans', 'tableoforganization', 'weightgain', 'taxes', 'salesmanship', 'congress', 'checksandbalances', 'socialife', 'privatesopinion', 'lawyer', 'lawschool', 'democracies', 'chairborne', 'economics', 'books', 'privatesector', 'justicedepartment', 'theater', 'lendlease', 'castesystem', 'sociological', 'classsystem', 'privatepractice', 'visitinghours', 'capitalism', 'interracial', 'economist', 'mastersdegree', 'brooklyn', 'courtmarshal', 'buckprivates', 'medalhunter', 'legalopportunities', 'taxmoney', 'stalin', 'taxreturns', 'salesgirls', 'prewarsalary', 'communism', 'playboys', 'europeantheater', 'merchantmarines', 'china']\n",
      "Cluster 24\n",
      "['thestrong', 'lifechangingexperience', 'sunnydaystocome', 'fancyjobs', 'entrepreneur', 'funny', 'unenjoyable', 'lovedone', 'promilitary', 'valuabletime', 'combatstars', 'famous', 'prolongedservice', 'privileged', 'besttime', 'hero', 'superpowers', 'celebrity', 'prettygirls', 'highrank', 'bigplans', 'affordablecollege', 'proudveteran', 'goodson', 'proudamerican', 'homeofthebrave', 'greatestgeneration', 'dreamjob', 'hotclimate', 'careersoldier', 'bigego', 'bestarmy', 'economicboom', 'privilegedofficers', 'everybodywins', 'hewilldogreatastheeconomywasbooming', 'longtimevolunteer', 'fightthegoodfight', 'fightforwhatyoulove', 'besthandwriting', 'winningthewar', 'gay']\n",
      "Cluster 25\n",
      "['laborfront', 'shipyard', 'contractor', 'paperwork', 'factoryworker', 'factoryworkers', 'tradeschool', 'union', 'factorylife', 'unions', 'workingman', 'strikers', 'machinist', 'cleaningduties', 'storehours', 'industrialization', 'mining', 'factories', 'barber', 'officeworkers', 'handwashing', 'kitchenpatrol', 'hairstylist', 'barbershops', 'truckdriver', 'firefighter', 'putthecampsintowns', 'pencilpushers', 'lumberjack', 'truckdrivers']\n",
      "Cluster 26\n",
      "['internationalorganization', 'homeland', 'fortressgunner', 'treaty', 'mainland', 'jimcrow', 'republic', '15874180', 's-106eto', 's-106', '612', 'millitarycode', 'president', 'globalism', 'election', 'eastern', 'eighteen', '1lt', 'insurance', 'washington', 'auckland', 'usconstitution', 'returningtothestates', 'westpoint', 'roosevelt', 'augusta', '2lt', 'question18', 'navigator', 'north', 'india', 'jackhitchell', 'billofrights', 'normandy', 'campfunston', 'overtime', 'fcc', 'patrickhenry', 'latinx', 'xmas', 'question57', 'calcutta', 'prewar', 'prewar_trends', 'westcoast', 'secondamendment', 'europe', 'sanantonio', 'columnacolumnb', 'joelouis', 'colonialism', 'prewarlife', 'fayetteville', 'newzealand', 'indian', 'prewarplans', 'northern', 'asia', 'nickel', 'campshelby', 'colby', 'newguinea', 'burma', 'rommel', 'campmurray', 'b-24', 'northernfield', 'b-29', 'oklahoma', 'milnebay', 'feelin22', 'easternsector', '16005', '24026', 'huachuca', 'question68', 'prewarjobs', 'midwest', 'aberdeen', 'fraternity', 'california', 'nebraska', '9th_division', 'newmexico', '11airborn', 'mexico', '511th', 'vermont', 'puertorico', 'boston', 'india-burma', 'australian', 'forthuachuca', 'wisconsin', 'indiaburma', 'minnesota', 'san_francisco_conference', 'norwegian', 'x1186', 'mojave', 'australia', 'russia', 'firstinfirstout', 'belgium', 'canada', 'wisconsinlakes', 'visitrussia']\n",
      "Cluster 27\n",
      "['badforeating', 'sickofwar', 'unfitsoldiers', 'wastingtime', 'saltysoldier', 'hatesarmy', 'warisnteasy', 'drunkenness', 'poorlivingconditions', 'lowjobsatisfaction', 'angryatofficers', 'poorkid', 'hatesalaska', 'poorfood', 'cowardice', 'poormangement', 'thefoodisbad', 'wastingmoney', 'theunfortunatelifeofasolider', 'hatethearmy', 'armylifeiscrazy', 'racistofficers', 'drunk', 'biggovernmentisbad', 'starvingartist', 'taxationistheft', 'food-shortages', 'deadyoungmen']\n",
      "Cluster 28\n",
      "['oldlife', 'oldersolider', 'formeroccupation', 'formerjob', 'tooold', 'oldlifestyle', 'veteranownedbusiness', 'oldarmy', 'oldsoldiers', 'oldjob', 'previousservice', 'previousemployment', 'releasingoldermen', 'oldmen', 'exfarmer', 'too_old_to_fight', 'olddogs', 'toooldforflying']\n",
      "Cluster 29\n",
      "['betterworld', 'betterlife', 'betterjobplacement', 'betterassignment', 'betterpositions', 'moremanpower', 'higherstandards', 'greaterincome', 'betterdiscipline', 'bettercountry', 'morejobs', 'bigger', 'bettertreatment', 'betterpay', 'higherpay', 'bettertesting', 'bettertraining', 'betterofficers', 'deservebetter', 'bettermen', 'civilianspaidmore', 'iwanttotravelmoreoften']\n",
      "Cluster 30\n",
      "['romance', 'english', 'whitewash', 'religious', 'religous', 'scholarship', 'sanitation', 'kia', 'civilcontrol', 'compassion', 'sympathy', 'letmebeme', 'paint', 'clotheme', 'spiritual', 'wartimelove', 'hygiene', 'biblical', 'fordemocracy', 'waterproof', 'religion', 'religon', 'portuguese', 'milk', 'socks', 'poem', 'socialism', 'singer', 'democratic', 'helpthecountry', 'savelifes', 'civilrights', 'fairytale', 'bloodtest', 'dresscode', 'evalgelism', 'wine', 'christianity', 'church', 'moremilk', 'coffee', 'frankieandeleanor', 'poetry', 'practicewhatyoupreach', 'handshaking']\n"
     ]
    }
   ],
   "source": [
    "show_clusters(30, 0.75)"
   ]
  },
  {
   "cell_type": "markdown",
   "metadata": {},
   "source": [
    "## Display 50 least-matched expert tags"
   ]
  },
  {
   "cell_type": "code",
   "execution_count": 17,
   "metadata": {},
   "outputs": [
    {
     "data": {
      "text/plain": [
       "germanradio               1\n",
       "confidenceinship          1\n",
       "heavybombardmentgroups    1\n",
       "attitudetowardgermany     1\n",
       "opinionofallies           1\n",
       "bbc                       2\n",
       "sex                       2\n",
       "moraleprogram             2\n",
       "japan                     2\n",
       "civilians                 2\n",
       "germanclothing            2\n",
       "sexcontact                2\n",
       "italy                     2\n",
       "mess                      2\n",
       "prideinoutfit             2\n",
       "newsmaps                  2\n",
       "localcivilians            3\n",
       "magazines                 3\n",
       "aficourses                3\n",
       "workingwithcivilians      3\n",
       "usoclubs                  3\n",
       "ratings                   3\n",
       "postwaropportunities      3\n",
       "krations                  3\n",
       "redcross                  3\n",
       "germans                   3\n",
       "pacifictoughness          3\n",
       "hospitalfacilities        4\n",
       "espiritdcorps             4\n",
       "basenewspapers            4\n",
       "politicalviews            4\n",
       "pxs                       4\n",
       "treatmentofpows           4\n",
       "japanese                  4\n",
       "honolulu                  4\n",
       "entalhealth               4\n",
       "attitudetowardengland     4\n",
       "artillery                 4\n",
       "chemicalwarfare           4\n",
       "strategicbombing          4\n",
       "minorities                5\n",
       "sectioncief               5\n",
       "branchofservice           5\n",
       "armfilms                  5\n",
       "warweek                   5\n",
       "usintheworld              5\n",
       "hospitalization           5\n",
       "reccenters                5\n",
       "businessownership         5\n",
       "personalservices          5\n",
       "Name: expert_tag_1, dtype: int64"
      ]
     },
     "execution_count": 17,
     "metadata": {},
     "output_type": "execute_result"
    }
   ],
   "source": [
    "df_match['expert_tag_1'].value_counts().sort_values().head(50)"
   ]
  },
  {
   "cell_type": "markdown",
   "metadata": {},
   "source": [
    "## Top transcriber tags to add to expert tags"
   ]
  },
  {
   "cell_type": "code",
   "execution_count": null,
   "metadata": {},
   "outputs": [
    {
     "name": "stdout",
     "output_type": "stream",
     "text": [
      "Progress: 0 0\n",
      "Progress: 0 100\n",
      "Progress: 0 200\n",
      "Progress: 0 300\n",
      "Progress: 0 400\n",
      "Progress: 0 500\n",
      "Progress: 0 600\n",
      "Progress: 0 700\n",
      "Progress: 0 800\n",
      "Progress: 0 900\n",
      "Progress: 0 1000\n",
      "Progress: 0 1100\n",
      "Progress: 0 1200\n",
      "Progress: 0 1300\n",
      "Progress: 0 1400\n",
      "Progress: 0 1500\n",
      "Progress: 0 1600\n",
      "Progress: 0 1700\n",
      "Progress: 0 1800\n",
      "Progress: 0 1900\n",
      "Progress: 0 2000\n",
      "Progress: 0 2100\n",
      "Progress: 0 2200\n",
      "Progress: 0 2300\n",
      "Progress: 0 2400\n",
      "Progress: 0 2500\n",
      "Progress: 0 2600\n",
      "Progress: 0 2700\n",
      "Progress: 0 2800\n",
      "Progress: 0 2900\n",
      "Progress: 0 3000\n",
      "Progress: 0 3100\n"
     ]
    }
   ],
   "source": [
    "n = 5 # number of top tags to find\n",
    "\n",
    "best_indices = [-1]*n\n",
    "\n",
    "for i in range(n):\n",
    "    best_sum = 0\n",
    "    best_index = -1\n",
    "    \n",
    "    for j in range(len(df_transcriber)):\n",
    "        if j in best_indices:\n",
    "            continue\n",
    "            \n",
    "        tags_expert = np.append(tags_expert, tags_transcriber[j])\n",
    "        embed_expert = np.vstack((embed_expert, embed_transcriber[j]))\n",
    "        \n",
    "        results = compare_all()\n",
    "        \n",
    "        sum_cs = sum([results[k]['score_1'] for k in range(len(results)) if k!=j and k not in best_indices])\n",
    "        \n",
    "        if sum_cs > best_sum:\n",
    "            best_sum = sum_cs\n",
    "            best_index = j\n",
    "        \n",
    "        tags_expert = np.delete(tags_expert, len(tags_expert)-1,0)\n",
    "        embed_expert = np.delete(embed_expert, len(embed_expert)-1,0)\n",
    "        \n",
    "        if j%100==0:\n",
    "            print(\"Progress:\",i,j)\n",
    "            \n",
    "    print(\"TAG FOUND:\",tags_transcriber[best_index])\n",
    "    best_indices[i] = best_index\n",
    "    tags_expert = np.append(tags_expert, tags_transcriber[best_index])\n",
    "    embed_expert = np.vstack((embed_expert, embed_transcriber[best_index]))"
   ]
  }
 ],
 "metadata": {
  "kernelspec": {
   "display_name": "Python 3",
   "language": "python",
   "name": "python3"
  },
  "language_info": {
   "codemirror_mode": {
    "name": "ipython",
    "version": 3
   },
   "file_extension": ".py",
   "mimetype": "text/x-python",
   "name": "python",
   "nbconvert_exporter": "python",
   "pygments_lexer": "ipython3",
   "version": "3.7.3"
  }
 },
 "nbformat": 4,
 "nbformat_minor": 4
}
