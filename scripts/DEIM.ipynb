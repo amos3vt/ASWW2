{
 "cells": [
  {
   "cell_type": "markdown",
   "metadata": {},
   "source": [
    "# Implementation of the Discrete Empirical Interpolation Method (DEIM)"
   ]
  },
  {
   "cell_type": "code",
   "execution_count": 1,
   "metadata": {},
   "outputs": [],
   "source": [
    "import numpy as np"
   ]
  },
  {
   "cell_type": "code",
   "execution_count": 2,
   "metadata": {},
   "outputs": [],
   "source": [
    "def cur(A):\n",
    "    rank = np.linalg.matrix_rank(A)\n",
    "    p = np.zeros(rank, dtype=int) # array of indices\n",
    "    \n",
    "    def select(Vt, axis): # Easier access to columns of V if we use V^T\n",
    "        p[0] = np.argmax(np.abs(Vt[0])) # row index of the largest value in the first column of V\n",
    "        for i in range(1,rank):\n",
    "            v1 = Vt[i]\n",
    "            v0 = Vt[i-1]\n",
    "            res = v1 - (v1[p[i-1]]/v0[p[i-1]]) * v0\n",
    "            p[i] = np.argmax(np.abs(res))\n",
    "        return np.transpose(np.transpose(A)[p]) if axis else A[p]\n",
    "    \n",
    "    C = select(np.transpose(np.linalg.svd(np.transpose(A))[0]), 1)\n",
    "    R = select(np.transpose(np.linalg.svd(A)[0]), 0)\n",
    "    U = np.linalg.pinv(C) @ A @ np.linalg.pinv(R)\n",
    "    return C,U,R"
   ]
  },
  {
   "cell_type": "markdown",
   "metadata": {},
   "source": [
    "# Example 1, m > n = r"
   ]
  },
  {
   "cell_type": "code",
   "execution_count": 3,
   "metadata": {},
   "outputs": [
    {
     "name": "stdout",
     "output_type": "stream",
     "text": [
      "A =\n",
      " [[1 0 0]\n",
      " [0 3 0]\n",
      " [0 0 2]\n",
      " [1 1 0]]\n",
      "C =\n",
      " [[0 0 1]\n",
      " [3 0 0]\n",
      " [0 2 0]\n",
      " [1 0 1]]\n",
      "U =\n",
      " [[ 3.33333333e-01  0.00000000e+00 -5.55111512e-17]\n",
      " [ 0.00000000e+00  5.00000000e-01  0.00000000e+00]\n",
      " [-7.40148683e-17  0.00000000e+00  1.00000000e+00]]\n",
      "R =\n",
      " [[0 3 0]\n",
      " [0 0 2]\n",
      " [1 0 0]]\n"
     ]
    }
   ],
   "source": [
    "A = np.array([[1,0,0],[0,3,0],[0,0,2],[1,1,0]])\n",
    "C,U,R = cur(A)\n",
    "print(\"A =\\n\", A)\n",
    "print(\"C =\\n\", C)\n",
    "print(\"U =\\n\", U)\n",
    "print(\"R =\\n\", R)"
   ]
  },
  {
   "cell_type": "markdown",
   "metadata": {},
   "source": [
    "# Example 2, m < n = r"
   ]
  },
  {
   "cell_type": "code",
   "execution_count": 4,
   "metadata": {},
   "outputs": [
    {
     "name": "stdout",
     "output_type": "stream",
     "text": [
      "A =\n",
      " [[1 0 0 0]\n",
      " [0 3 0 0]\n",
      " [0 0 2 0]]\n",
      "C =\n",
      " [[0 0 1]\n",
      " [3 0 0]\n",
      " [0 2 0]]\n",
      "U =\n",
      " [[0.33333333 0.         0.        ]\n",
      " [0.         0.5        0.        ]\n",
      " [0.         0.         1.        ]]\n",
      "R =\n",
      " [[0 3 0 0]\n",
      " [0 0 2 0]\n",
      " [1 0 0 0]]\n"
     ]
    }
   ],
   "source": [
    "A = np.array([[1,0,0,0],[0,3,0,0],[0,0,2,0]])\n",
    "C,U,R = cur(A)\n",
    "print(\"A =\\n\", A)\n",
    "print(\"C =\\n\", C)\n",
    "print(\"U =\\n\", U)\n",
    "print(\"R =\\n\", R)"
   ]
  },
  {
   "cell_type": "markdown",
   "metadata": {},
   "source": [
    "# Example 3, m = n = r"
   ]
  },
  {
   "cell_type": "code",
   "execution_count": 5,
   "metadata": {},
   "outputs": [
    {
     "name": "stdout",
     "output_type": "stream",
     "text": [
      "A =\n",
      " [[1 0 0]\n",
      " [0 3 0]\n",
      " [0 0 2]]\n",
      "C =\n",
      " [[0 0 1]\n",
      " [3 0 0]\n",
      " [0 2 0]]\n",
      "U =\n",
      " [[0.33333333 0.         0.        ]\n",
      " [0.         0.5        0.        ]\n",
      " [0.         0.         1.        ]]\n",
      "R =\n",
      " [[0 3 0]\n",
      " [0 0 2]\n",
      " [1 0 0]]\n"
     ]
    }
   ],
   "source": [
    "A = np.array([[1,0,0],[0,3,0],[0,0,2]])\n",
    "C,U,R = cur(A)\n",
    "print(\"A =\\n\", A)\n",
    "print(\"C =\\n\", C)\n",
    "print(\"U =\\n\", U)\n",
    "print(\"R =\\n\", R)"
   ]
  },
  {
   "cell_type": "markdown",
   "metadata": {},
   "source": [
    "# Example 4, m = n < r"
   ]
  },
  {
   "cell_type": "code",
   "execution_count": 6,
   "metadata": {
    "scrolled": true
   },
   "outputs": [
    {
     "name": "stdout",
     "output_type": "stream",
     "text": [
      "A =\n",
      " [[1 0 0]\n",
      " [0 3 0]\n",
      " [0 2 0]]\n",
      "C =\n",
      " [[0 1]\n",
      " [3 0]\n",
      " [2 0]]\n",
      "U =\n",
      " [[ 3.33333333e-01  0.00000000e+00]\n",
      " [-2.96059473e-16  1.00000000e+00]]\n",
      "R =\n",
      " [[0 3 0]\n",
      " [1 0 0]]\n"
     ]
    }
   ],
   "source": [
    "A = np.array([[1,0,0],[0,3,0],[0,2,0]])\n",
    "C,U,R = cur(A)\n",
    "print(\"A =\\n\", A)\n",
    "print(\"C =\\n\", C)\n",
    "print(\"U =\\n\", U)\n",
    "print(\"R =\\n\", R)"
   ]
  },
  {
   "cell_type": "markdown",
   "metadata": {},
   "source": [
    "# This A was used in the other script. Comparing results."
   ]
  },
  {
   "cell_type": "code",
   "execution_count": 7,
   "metadata": {},
   "outputs": [
    {
     "name": "stdout",
     "output_type": "stream",
     "text": [
      "A =\n",
      " [[ 1  2  3]\n",
      " [ 4  5  6]\n",
      " [ 7  8  9]\n",
      " [10 11 12]]\n",
      "C =\n",
      " [[ 3  1]\n",
      " [ 6  4]\n",
      " [ 9  7]\n",
      " [12 10]]\n",
      "U =\n",
      " [[-0.05555556  0.55555556]\n",
      " [ 0.16666667 -0.66666667]]\n",
      "R =\n",
      " [[10 11 12]\n",
      " [ 1  2  3]]\n"
     ]
    }
   ],
   "source": [
    "A = np.array([[1,2,3],[4,5,6],[7,8,9],[10,11,12]])\n",
    "C,U,R = cur(A)\n",
    "print(\"A =\\n\", A)\n",
    "print(\"C =\\n\", C)\n",
    "print(\"U =\\n\", U)\n",
    "print(\"R =\\n\", R)"
   ]
  }
 ],
 "metadata": {
  "kernelspec": {
   "display_name": "Python 3",
   "language": "python",
   "name": "python3"
  },
  "language_info": {
   "codemirror_mode": {
    "name": "ipython",
    "version": 3
   },
   "file_extension": ".py",
   "mimetype": "text/x-python",
   "name": "python",
   "nbconvert_exporter": "python",
   "pygments_lexer": "ipython3",
   "version": "3.7.3"
  }
 },
 "nbformat": 4,
 "nbformat_minor": 4
}
