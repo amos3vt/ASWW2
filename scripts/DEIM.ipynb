{
 "cells": [
  {
   "cell_type": "markdown",
   "metadata": {},
   "source": [
    "# Implementation of the Discrete Empirical Interpolation Method (DEIM)"
   ]
  },
  {
   "cell_type": "code",
   "execution_count": 3,
   "metadata": {},
   "outputs": [],
   "source": [
    "import numpy as np"
   ]
  },
  {
   "cell_type": "code",
   "execution_count": 134,
   "metadata": {},
   "outputs": [],
   "source": [
    "def cur(A):\n",
    "    \n",
    "    def select(V,rank,axis):\n",
    "        if axis:\n",
    "            V = np.transpose(V)\n",
    "        p = np.zeros(rank, dtype=int) # to store indices of rows of V\n",
    "        p[0] = np.argmax(np.abs(V[:,0])) # row index of the largest value in the first column of V\n",
    "        for i in range(1,rank):\n",
    "            v1 = V[:,i]\n",
    "            v0 = V[:,i-1]\n",
    "            res = v1 - (v1[p[i-1]]/v0[p[i-1]]) * v0\n",
    "            p[i] = np.argmax(np.abs(res))\n",
    "        R = V[p]\n",
    "        return np.transpose(R) if axis else R\n",
    "             \n",
    "    V = np.linalg.svd(A)[0]\n",
    "    rank = np.linalg.matrix_rank(A)\n",
    "    R = select(V,rank,0)\n",
    "    C = select(V,rank,1)\n",
    "    U = 0 #np.linalg.pinv(C) @ A @ np.linalg.pinv(R)\n",
    "    return C,U,R"
   ]
  },
  {
   "cell_type": "code",
   "execution_count": 135,
   "metadata": {},
   "outputs": [],
   "source": [
    "A = np.array([[1,0,0],[0,1,0],[0,0,1],[1,1,0]])\n",
    "C,U,R = cur(A)"
   ]
  },
  {
   "cell_type": "code",
   "execution_count": 136,
   "metadata": {},
   "outputs": [
    {
     "name": "stdout",
     "output_type": "stream",
     "text": [
      "[[ 7.07106781e-01 -5.77350269e-01  0.00000000e+00]\n",
      " [-7.07106781e-01 -5.77350269e-01  0.00000000e+00]\n",
      " [ 0.00000000e+00  0.00000000e+00  1.00000000e+00]\n",
      " [-1.66533454e-16  5.77350269e-01  0.00000000e+00]]\n"
     ]
    }
   ],
   "source": [
    "print(C)"
   ]
  },
  {
   "cell_type": "code",
   "execution_count": 137,
   "metadata": {},
   "outputs": [
    {
     "name": "stdout",
     "output_type": "stream",
     "text": [
      "0\n"
     ]
    }
   ],
   "source": [
    "print(U)"
   ]
  },
  {
   "cell_type": "code",
   "execution_count": 138,
   "metadata": {},
   "outputs": [
    {
     "name": "stdout",
     "output_type": "stream",
     "text": [
      "[[-8.16496581e-01  0.00000000e+00 -1.66533454e-16  5.77350269e-01]\n",
      " [ 0.00000000e+00  1.00000000e+00  0.00000000e+00  0.00000000e+00]\n",
      " [-4.08248290e-01  0.00000000e+00 -7.07106781e-01 -5.77350269e-01]]\n"
     ]
    }
   ],
   "source": [
    "print(R)"
   ]
  }
 ],
 "metadata": {
  "kernelspec": {
   "display_name": "Python 3",
   "language": "python",
   "name": "python3"
  },
  "language_info": {
   "codemirror_mode": {
    "name": "ipython",
    "version": 3
   },
   "file_extension": ".py",
   "mimetype": "text/x-python",
   "name": "python",
   "nbconvert_exporter": "python",
   "pygments_lexer": "ipython3",
   "version": "3.7.3"
  }
 },
 "nbformat": 4,
 "nbformat_minor": 4
}
