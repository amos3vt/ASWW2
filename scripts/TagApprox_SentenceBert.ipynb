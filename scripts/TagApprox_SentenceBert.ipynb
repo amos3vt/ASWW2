{
 "cells": [
  {
   "cell_type": "markdown",
   "metadata": {},
   "source": [
    "# Import necessary libraries"
   ]
  },
  {
   "cell_type": "code",
   "execution_count": 1,
   "metadata": {},
   "outputs": [
    {
     "name": "stderr",
     "output_type": "stream",
     "text": [
      "C:\\Users\\Savannah\\Anaconda3\\lib\\site-packages\\tensorflow\\python\\framework\\dtypes.py:526: FutureWarning: Passing (type, 1) or '1type' as a synonym of type is deprecated; in a future version of numpy, it will be understood as (type, (1,)) / '(1,)type'.\n",
      "  _np_qint8 = np.dtype([(\"qint8\", np.int8, 1)])\n",
      "C:\\Users\\Savannah\\Anaconda3\\lib\\site-packages\\tensorflow\\python\\framework\\dtypes.py:527: FutureWarning: Passing (type, 1) or '1type' as a synonym of type is deprecated; in a future version of numpy, it will be understood as (type, (1,)) / '(1,)type'.\n",
      "  _np_quint8 = np.dtype([(\"quint8\", np.uint8, 1)])\n",
      "C:\\Users\\Savannah\\Anaconda3\\lib\\site-packages\\tensorflow\\python\\framework\\dtypes.py:528: FutureWarning: Passing (type, 1) or '1type' as a synonym of type is deprecated; in a future version of numpy, it will be understood as (type, (1,)) / '(1,)type'.\n",
      "  _np_qint16 = np.dtype([(\"qint16\", np.int16, 1)])\n",
      "C:\\Users\\Savannah\\Anaconda3\\lib\\site-packages\\tensorflow\\python\\framework\\dtypes.py:529: FutureWarning: Passing (type, 1) or '1type' as a synonym of type is deprecated; in a future version of numpy, it will be understood as (type, (1,)) / '(1,)type'.\n",
      "  _np_quint16 = np.dtype([(\"quint16\", np.uint16, 1)])\n",
      "C:\\Users\\Savannah\\Anaconda3\\lib\\site-packages\\tensorflow\\python\\framework\\dtypes.py:530: FutureWarning: Passing (type, 1) or '1type' as a synonym of type is deprecated; in a future version of numpy, it will be understood as (type, (1,)) / '(1,)type'.\n",
      "  _np_qint32 = np.dtype([(\"qint32\", np.int32, 1)])\n",
      "C:\\Users\\Savannah\\Anaconda3\\lib\\site-packages\\tensorflow\\python\\framework\\dtypes.py:535: FutureWarning: Passing (type, 1) or '1type' as a synonym of type is deprecated; in a future version of numpy, it will be understood as (type, (1,)) / '(1,)type'.\n",
      "  np_resource = np.dtype([(\"resource\", np.ubyte, 1)])\n"
     ]
    }
   ],
   "source": [
    "import pandas as pd\n",
    "import numpy as np\n",
    "import scipy\n",
    "from sklearn.cluster import KMeans\n",
    "from sentence_transformers import SentenceTransformer"
   ]
  },
  {
   "cell_type": "markdown",
   "metadata": {},
   "source": [
    "# Load model"
   ]
  },
  {
   "cell_type": "code",
   "execution_count": 2,
   "metadata": {},
   "outputs": [],
   "source": [
    "model = SentenceTransformer('bert-base-nli-mean-tokens')"
   ]
  },
  {
   "cell_type": "markdown",
   "metadata": {},
   "source": [
    "# Load tag data"
   ]
  },
  {
   "cell_type": "code",
   "execution_count": 3,
   "metadata": {},
   "outputs": [],
   "source": [
    "column = \"space\" # Set to \"nospace\" or \"space\"\n",
    "path = \"../data/tags.xlsx\"\n",
    "transcriber_df = pd.read_excel(path, converters={'space':str, 'nospace':str}, sheet_name=\"ZooniverseTags\")\n",
    "expert_df = pd.read_excel(path, converters={'space':str, 'nospace':str}, sheet_name=\"ExpertTags\")\n",
    "expert_tags = expert_df[\"nospace\"].tolist()"
   ]
  },
  {
   "cell_type": "markdown",
   "metadata": {},
   "source": [
    "# Get tag embeddings"
   ]
  },
  {
   "cell_type": "code",
   "execution_count": 4,
   "metadata": {},
   "outputs": [],
   "source": [
    "expert_embed = model.encode(expert_df[column].tolist())\n",
    "transcriber_embed = model.encode(transcriber_df[column].tolist())"
   ]
  },
  {
   "cell_type": "markdown",
   "metadata": {},
   "source": [
    "# Compare embeddings"
   ]
  },
  {
   "cell_type": "code",
   "execution_count": 5,
   "metadata": {},
   "outputs": [],
   "source": [
    "def compare_all(i, tag, embed):\n",
    "    distances = scipy.spatial.distance.cdist([embed], expert_embed, \"cosine\")[0]\n",
    "    ranking = sorted(zip(range(len(distances)), distances), key=lambda x: x[1])\n",
    "    return {\n",
    "        \"index\": i,\n",
    "        \"transcriber_tag\": tag,\n",
    "        \"expert_tag_1\": expert_tags[ranking[0][0]],\n",
    "        \"score_1\": 1-ranking[0][1],\n",
    "        \"expert_tag_2\": expert_tags[ranking[1][0]],\n",
    "        \"score_2\": 1-ranking[1][1],\n",
    "        \"expert_tag_3\": expert_tags[ranking[2][0]],\n",
    "        \"score_3\": 1-ranking[2][1]\n",
    "    }\n",
    "    \n",
    "results = [compare_all(i, tag, embed) for i, tag, embed in \n",
    "           zip(range(len(transcriber_df)), transcriber_df['nospace'].tolist(), transcriber_embed)]"
   ]
  },
  {
   "cell_type": "markdown",
   "metadata": {},
   "source": [
    "# Save as .csv"
   ]
  },
  {
   "cell_type": "code",
   "execution_count": 6,
   "metadata": {},
   "outputs": [],
   "source": [
    "# Convert list of results to dataframe\n",
    "df = pd.DataFrame(results)\n",
    "# Sort results by cosine similarity\n",
    "df = df.sort_values('score_1', ascending=False)\n",
    "# Write to csv\n",
    "df.to_csv(\"../data/tag_approx_\"+column+\".csv\", index=False)"
   ]
  },
  {
   "cell_type": "markdown",
   "metadata": {},
   "source": [
    "# Cluster tags lacking close match"
   ]
  },
  {
   "cell_type": "code",
   "execution_count": 10,
   "metadata": {},
   "outputs": [
    {
     "name": "stdout",
     "output_type": "stream",
     "text": [
      "Cluster 0\n",
      "['bettermen', 'civilianspaidmore', 'deservebetter', 'everybodywins', 'fightforwhatyoulove', 'fightthegoodfight', 'hewilldogreatastheeconomywasbooming', 'improvingthearmy', 'iwanttotravelmoreoften', 'moreradios', 'religionoverrace', 'toendallwars', 'winningthewar', 'winthewar', 'heknowsexactlywhathewantstodo']\n",
      "Cluster 1\n",
      "['aleutian', 'forthuachuca', 'guadalcanal', 'mojave', 'puertorico']\n",
      "Cluster 2\n",
      "['boston', 'canada', 'chicago', 'india-burma', 'indiaburma', 'minnesota', 'norwegian', 'vermont', 'wisconsin', 'wisconsinlakes']\n",
      "Cluster 3\n",
      "['everyminutecounts', 'living_day_by_day', 'overnightworkers', 'sunday', 'sundays', 'weekendbreak', 'weekends']\n",
      "Cluster 4\n",
      "['4plusyears', '4thtankgroup', '4yearsor35', 'fouryearsexperience']\n",
      "Cluster 5\n",
      "['bachelor', 'believerinrandomcapitalization', 'besthandwriting', 'brooklyn', 'brownnose', 'chinese', 'firstinfirstout', 'gay', 'greek', 'jew', 'jewish', 'jews', 'mexican', 'spanish']\n",
      "Cluster 6\n",
      "['boy_scout_tactics', 'boyscout', 'bringthoseboyshome', 'brotherinarms', 'brothers', 'fatherforlife', 'fatherservingww2', 'hometownboy', 'newguys', 'newmen', 'onceasoldieralwaysasoldier', 'trainyoungermen', 'unclesam', 'youngmenfight']\n",
      "Cluster 7\n",
      "['automotive', 'belgium', 'buckprivates', 'bullgang', 'dieselwork', 'economist', 'electrician', 'engineschool', 'firefighter', 'ford', 'green', 'handgrenade', 'hillbilly', 'holocaust', 'musictheory', 'newmexico', 'oilindustry', 'phonebooth', 'powertrip', 'speedbump', 'telephone', 'x1186']\n",
      "Cluster 8\n",
      "['diabetes', 'dysentery', 'food_poisoning', 'hayfever', 'malaria-fever', 'malaria-zone', 'malaria', 'mosquitoes', 'tropical-fevers', 'tropical-sickness', 'tropicalfevers']\n",
      "Cluster 9\n",
      "['11airborn', 'aliens', 'americancitizen', 'americandream', 'americanindustry', 'americannews', 'americanspirit', 'americanwin', 'australia', 'australian', 'baseball', 'billyrosemillionaire', 'communism', 'fascism', 'franksinatra', 'getreadyforkorea', 'mexico', 'mustang', 'newyorkcity', 'newyorkharbor', 'playboys', 'san_francisco_conference']\n",
      "Cluster 10\n",
      "['agriculture', 'farmboy', 'farmboys', 'farmer', 'farmers', 'farming', 'farmlife', 'forestry', 'forests', 'fruitfarm', 'ranches', 'servingthecountry']\n",
      "Cluster 11\n",
      "['browning_automatic_rifle', 'carbines', 'cavalryrulesinfantrydrools', 'court-martial', 'court-martials', 'golf', 'learntoshoot', 'lynching', 'medalhunter', 'shootingrange', 'snipers']\n",
      "Cluster 12\n",
      "['2ndlieutenants', 'biologicalresearch', 'biology', 'bloodtest', 'chemist', 'chemistry', 'civilengineering', 'constructionengineering', 'hairstylist', 'lithographer', 'mastersdegree', 'metallurgy', 'physics', 'safteyengineering']\n",
      "Cluster 13\n",
      "['brothel', 'cigarettes', 'crow', 'europeantheater', 'fairytale', 'frankieandeleanor', 'night', 'nightmare', 'nightschool', 'pipedreams', 'poetry', 'purpleheart', 'slave', 'wine']\n",
      "Cluster 14\n",
      "['buyingahouse', 'cantwaittogethome', 'college', 'collegeeduction', 'finishcollege', 'graduatestudy', 'ishouldnthavetofightformyrights', 'lifeafterthewar', 'livingafterwar', 'needmoredays', 'newcity', 'plansnotchanged', 'weddingbells', 'wewantseasonaluniforms', 'whenwillthewarbeover']\n",
      "Cluster 15\n",
      "['511th', '5dollarwords', '5moreyears', '6thgrade', '75thdivision', 'fivemonths', 'sixmonths']\n",
      "Cluster 16\n",
      "['30days', '30yearolds', '30years', '30yearsold', '30yrsplus', 'thirtyfive']\n",
      "Cluster 17\n",
      "['barbershops', 'beefstew', 'bootlicker', 'buckpassing', 'buffalosoldiers', 'lumberjack', 'pigfood', 'putthecampsintowns', 'tankdestroyer', 'truckdriver', 'truckdrivers']\n",
      "Cluster 18\n",
      "['alluppercaps', 'greendrafters', 'white_supremacy', 'whiteofficers', 'whitesoldier', 'whitesoldiers', 'whitesupremacy']\n",
      "Cluster 19\n",
      "['arthritis', 'brokenarm', 'deadyoungmen', 'deathinthefamily', 'food-shortages', 'greatdepressionhasended', 'latetotheparty', 'missinghome', 'missme', 'nomorewar', 'notenoughtimeathome', 'noworkweekend', 'officerversusenlisted', 'olddogs', 'previousinjury', 'rats', 'roaches', 'starvingartist', 'too_old_to_fight']\n",
      "Cluster 20\n",
      "['christianity', 'church', 'coffee', 'dresscode', 'evalgelism', 'handshaking', 'hiking', 'keepthepoliticsindc', 'letsgetthisbread', 'officersreadingmail', 'pencilpushers', 'practicewhatyoupreach', 'readingmail', 'standinghispost', 'stretchingthesamesentencetoreachwordlimi', 'writingletters']\n",
      "Cluster 21\n",
      "['511paratrooper', 'aircorpcadet', 'aircraftmechanic', 'privateairlines', 'toooldforflying', 'vetsatuni']\n",
      "Cluster 22\n",
      "['15days', '17hours', '17months', '22months', '24months', '3months', '8hours', '93months', 'back2school', 'doublehours', 'eightmonths', 'highschool', 'prewarsalary', 'threedaypass', 'twoyears']\n",
      "Cluster 23\n",
      "['argentina', 'deepsouth', 'northvssouth', 'sicily', 'southamerica', 'southcarolina', 'southcarolinastatecollege', 'southerncalifornia', 'southernstates', 'southseas', 'texas', 'theamericansouth']\n",
      "Cluster 24\n",
      "['amphibianengineers', 'beachhead', 'bluefalcon', 'boat', 'boating', 'dog', 'dogs', 'motorpool', 'pond', 'shellshock', 'sun-tans']\n",
      "Cluster 25\n",
      "['adviceforfamily', 'best-friends', 'familyman', 'friendsandfamily', 'longtimevolunteer', 'lovedones', 'lovemywife', 'marriedman', 'marriedmen', 'supportingfamily']\n",
      "Cluster 26\n",
      "['russia', 'stalin', 'visitrussia']\n",
      "Cluster 27\n",
      "['china', 'courtmarshal', 'footsoldiers', 'legalopportunities', 'merchantmarines', 'salesgirls', 'shippingspace', 'taxationistheft', 'taxmoney', 'taxreturns']\n",
      "Cluster 28\n",
      "['basketball', 'bus', 'busservice', 'car', 'cobbler', 'dance', 'jiggers', 'jumpingthroughhoops', 'monkey', 'moremilk', 'sodas', 'train', 'trains']\n",
      "Cluster 29\n",
      "['brewingstorm', 'frostbite', 'snow', 'winter']\n"
     ]
    }
   ],
   "source": [
    "k = 30 # Adjust number of clusters\n",
    "\n",
    "cluster_results = [results[i] for i in range(len(results))\n",
    "                   if results[i]['score_1'] < 0.65 ] # Adjust similarity threshold\n",
    "\n",
    "cluster_embeds = [transcriber_embed[cluster_results[i]['index']] \n",
    "                  for i in range(len(cluster_results))]\n",
    "\n",
    "kmeans = KMeans(n_clusters=k).fit(cluster_embeds)\n",
    "\n",
    "for i in range(k):\n",
    "    print(\"Cluster\", i)\n",
    "    print([cluster_results[j]['transcriber_tag'] \n",
    "           for j in range(len(kmeans.labels_))\n",
    "           if kmeans.labels_[j] == i])"
   ]
  }
 ],
 "metadata": {
  "kernelspec": {
   "display_name": "Python 3",
   "language": "python",
   "name": "python3"
  },
  "language_info": {
   "codemirror_mode": {
    "name": "ipython",
    "version": 3
   },
   "file_extension": ".py",
   "mimetype": "text/x-python",
   "name": "python",
   "nbconvert_exporter": "python",
   "pygments_lexer": "ipython3",
   "version": "3.7.3"
  }
 },
 "nbformat": 4,
 "nbformat_minor": 4
}
