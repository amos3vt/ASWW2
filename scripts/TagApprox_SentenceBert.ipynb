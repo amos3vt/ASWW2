{
 "cells": [
  {
   "cell_type": "markdown",
   "metadata": {},
   "source": [
    "# Import necessary libraries"
   ]
  },
  {
   "cell_type": "code",
   "execution_count": 1,
   "metadata": {},
   "outputs": [
    {
     "name": "stderr",
     "output_type": "stream",
     "text": [
      "C:\\Users\\Savannah\\Anaconda3\\lib\\site-packages\\tensorflow\\python\\framework\\dtypes.py:526: FutureWarning: Passing (type, 1) or '1type' as a synonym of type is deprecated; in a future version of numpy, it will be understood as (type, (1,)) / '(1,)type'.\n",
      "  _np_qint8 = np.dtype([(\"qint8\", np.int8, 1)])\n",
      "C:\\Users\\Savannah\\Anaconda3\\lib\\site-packages\\tensorflow\\python\\framework\\dtypes.py:527: FutureWarning: Passing (type, 1) or '1type' as a synonym of type is deprecated; in a future version of numpy, it will be understood as (type, (1,)) / '(1,)type'.\n",
      "  _np_quint8 = np.dtype([(\"quint8\", np.uint8, 1)])\n",
      "C:\\Users\\Savannah\\Anaconda3\\lib\\site-packages\\tensorflow\\python\\framework\\dtypes.py:528: FutureWarning: Passing (type, 1) or '1type' as a synonym of type is deprecated; in a future version of numpy, it will be understood as (type, (1,)) / '(1,)type'.\n",
      "  _np_qint16 = np.dtype([(\"qint16\", np.int16, 1)])\n",
      "C:\\Users\\Savannah\\Anaconda3\\lib\\site-packages\\tensorflow\\python\\framework\\dtypes.py:529: FutureWarning: Passing (type, 1) or '1type' as a synonym of type is deprecated; in a future version of numpy, it will be understood as (type, (1,)) / '(1,)type'.\n",
      "  _np_quint16 = np.dtype([(\"quint16\", np.uint16, 1)])\n",
      "C:\\Users\\Savannah\\Anaconda3\\lib\\site-packages\\tensorflow\\python\\framework\\dtypes.py:530: FutureWarning: Passing (type, 1) or '1type' as a synonym of type is deprecated; in a future version of numpy, it will be understood as (type, (1,)) / '(1,)type'.\n",
      "  _np_qint32 = np.dtype([(\"qint32\", np.int32, 1)])\n",
      "C:\\Users\\Savannah\\Anaconda3\\lib\\site-packages\\tensorflow\\python\\framework\\dtypes.py:535: FutureWarning: Passing (type, 1) or '1type' as a synonym of type is deprecated; in a future version of numpy, it will be understood as (type, (1,)) / '(1,)type'.\n",
      "  np_resource = np.dtype([(\"resource\", np.ubyte, 1)])\n"
     ]
    }
   ],
   "source": [
    "import pandas as pd\n",
    "import numpy as np\n",
    "import scipy\n",
    "from sklearn.cluster import KMeans\n",
    "from sentence_transformers import SentenceTransformer"
   ]
  },
  {
   "cell_type": "markdown",
   "metadata": {},
   "source": [
    "# Load model"
   ]
  },
  {
   "cell_type": "code",
   "execution_count": 2,
   "metadata": {},
   "outputs": [],
   "source": [
    "model = SentenceTransformer('bert-base-nli-mean-tokens')"
   ]
  },
  {
   "cell_type": "markdown",
   "metadata": {},
   "source": [
    "# Load tag data"
   ]
  },
  {
   "cell_type": "code",
   "execution_count": 3,
   "metadata": {},
   "outputs": [],
   "source": [
    "column = \"space\" # Set to \"nospace\" or \"space\"\n",
    "path = \"../data/tags.xlsx\"\n",
    "transcriber_df = pd.read_excel(path, converters={'space':str, 'nospace':str}, sheet_name=\"ZooniverseTags\")\n",
    "expert_df = pd.read_excel(path, converters={'space':str, 'nospace':str}, sheet_name=\"ExpertTags\")\n",
    "expert_tags = expert_df[\"nospace\"].tolist()"
   ]
  },
  {
   "cell_type": "markdown",
   "metadata": {},
   "source": [
    "# Get tag embeddings"
   ]
  },
  {
   "cell_type": "code",
   "execution_count": 4,
   "metadata": {},
   "outputs": [],
   "source": [
    "expert_embed = model.encode(expert_df[column].tolist())\n",
    "transcriber_embed = model.encode(transcriber_df[column].tolist())"
   ]
  },
  {
   "cell_type": "markdown",
   "metadata": {},
   "source": [
    "# Compare embeddings"
   ]
  },
  {
   "cell_type": "code",
   "execution_count": 7,
   "metadata": {},
   "outputs": [],
   "source": [
    "def compare_all(i, tag, embed):\n",
    "    distances = scipy.spatial.distance.cdist([embed], expert_embed, \"cosine\")[0]\n",
    "    ranking = sorted(zip(range(len(distances)), distances), key=lambda x: x[1])\n",
    "    return {\n",
    "        \"index\": i,\n",
    "        \"transcriber_tag\": tag,\n",
    "        \"expert_tag_1\": expert_tags[ranking[0][0]],\n",
    "        \"score_1\": 1-ranking[0][1],\n",
    "        \"expert_tag_2\": expert_tags[ranking[1][0]],\n",
    "        \"score_2\": 1-ranking[1][1],\n",
    "        \"expert_tag_3\": expert_tags[ranking[2][0]],\n",
    "        \"score_3\": 1-ranking[2][1]\n",
    "    }\n",
    "    \n",
    "results = [compare_all(i, tag, embed) for i, tag, embed in \n",
    "           zip(range(len(transcriber_df)), transcriber_df['nospace'].tolist(), transcriber_embed)]"
   ]
  },
  {
   "cell_type": "markdown",
   "metadata": {},
   "source": [
    "# Save as .csv"
   ]
  },
  {
   "cell_type": "code",
   "execution_count": 11,
   "metadata": {},
   "outputs": [],
   "source": [
    "# Convert list of results to dataframe\n",
    "df = pd.DataFrame(results)\n",
    "# Sort results by cosine similarity\n",
    "df = df.sort_values('score_1', ascending=False)\n",
    "# Write to csv\n",
    "df.to_csv(\"../data/tag_approx_\"+column+\".csv\", index=False)"
   ]
  },
  {
   "cell_type": "markdown",
   "metadata": {},
   "source": [
    "# Cluster tags lacking close match"
   ]
  },
  {
   "cell_type": "code",
   "execution_count": 13,
   "metadata": {},
   "outputs": [
    {
     "name": "stdout",
     "output_type": "stream",
     "text": [
      "Cluster 0\n",
      "['barbershops', 'busservice', 'cobbler', 'courtmarshal', 'legalopportunities', 'merchantmarines', 'phonebooth', 'salesgirls', 'shippingspace', 'taxationistheft', 'taxmoney', 'telephone']\n",
      "Cluster 1\n",
      "['agriculture', 'economist', 'farmboy', 'farmboys', 'farmer', 'farmers', 'farming', 'farmlife', 'forestry', 'forests', 'fruitfarm', 'lumberjack', 'ranches', 'servingthecountry', 'wewantseasonaluniforms']\n",
      "Cluster 2\n",
      "['30days', '30yearolds', '30years', '30yearsold', '30yrsplus', '3months', '4plusyears', '4yearsor35', 'doublehours', 'fouryearsexperience', 'prewarsalary', 'thirtyfive', 'threedaypass', 'twoyears']\n",
      "Cluster 3\n",
      "['brownnose', 'greendrafters', 'moremilk', 'white_supremacy', 'whiteofficers', 'whitesoldier', 'whitesoldiers', 'whitesupremacy']\n",
      "Cluster 4\n",
      "['court-martial', 'court-martials', 'officerversusenlisted', 'religionoverrace', 'too_old_to_fight', 'toooldforflying', 'worldwar2soldier']\n",
      "Cluster 5\n",
      "['beefstew', 'diabetes', 'food_poisoning', 'food-shortages', 'pigfood']\n",
      "Cluster 6\n",
      "['bootlicker', 'buckpassing', 'buckprivates', 'buffalosoldiers', 'cavalryrulesinfantrydrools', 'dog', 'dogs', 'footsoldiers', 'hiking', 'hillbilly', 'medalhunter', 'olddogs', 'unclesam']\n",
      "Cluster 7\n",
      "['2ndlieutenants', 'bachelor', 'belgium', 'believerinrandomcapitalization', 'china', 'chinese', 'coffee', 'forthuachuca', 'frankieandeleanor', 'greek', 'green', 'mexican', 'mexico', 'mojave', 'newmexico', 'puertorico', 'sodas', 'spanish', 'wine']\n",
      "Cluster 8\n",
      "['15days', '17hours', '17months', '22months', '24months', '511th', '5dollarwords', '5moreyears', '6thgrade', '75thdivision', '8hours', '93months', 'eightmonths', 'fivemonths', 'sixmonths']\n",
      "Cluster 9\n",
      "['biologicalresearch', 'biology', 'chemist', 'chemistry', 'civilengineering', 'constructionengineering', 'electrician', 'hairstylist', 'lithographer', 'metallurgy', 'musictheory', 'physics', 'safteyengineering']\n",
      "Cluster 10\n",
      "['adviceforfamily', 'best-friends', 'bringthoseboyshome', 'brotherinarms', 'brothers', 'familyman', 'fatherforlife', 'fatherservingww2', 'friendsandfamily', 'hometownboy', 'livingafterwar', 'longtimevolunteer', 'lovedones', 'marriedman', 'marriedmen', 'onceasoldieralwaysasoldier', 'supportingfamily']\n",
      "Cluster 11\n",
      "['argentina', 'deepsouth', 'guadalcanal', 'northvssouth', 'sicily', 'southamerica', 'southcarolina', 'southcarolinastatecollege', 'southerncalifornia', 'southernstates', 'southseas', 'texas', 'theamericansouth']\n",
      "Cluster 12\n",
      "['bloodtest', 'dieselwork', 'engineschool', 'firefighter', 'oilindustry', 'powertrip', 'tankdestroyer', 'train', 'trains', 'truckdriver', 'truckdrivers']\n",
      "Cluster 13\n",
      "['boston', 'canada', 'chicago', 'india-burma', 'indiaburma', 'minnesota', 'norwegian', 'russia', 'snow', 'vermont', 'visitrussia', 'winter', 'wisconsin', 'wisconsinlakes', 'x1186']\n",
      "Cluster 14\n",
      "['living_day_by_day', 'needmoredays', 'overnightworkers', 'sunday', 'sundays', 'weekendbreak', 'weekends']\n",
      "Cluster 15\n",
      "['brooklyn', 'cigarettes', 'communism', 'holocaust', 'jew', 'jewish', 'jews', 'lynching', 'slave', 'stalin']\n",
      "Cluster 16\n",
      "['basketball', 'browning_automatic_rifle', 'carbines', 'dance', 'golf', 'jumpingthroughhoops', 'learntoshoot', 'shootingrange', 'snipers']\n",
      "Cluster 17\n",
      "['dresscode', 'handshaking', 'officersreadingmail', 'pencilpushers', 'readingmail', 'stretchingthesamesentencetoreachwordlimi', 'writingletters']\n",
      "Cluster 18\n",
      "['alluppercaps', 'everybodywins', 'everyminutecounts', 'fairytale', 'hewilldogreatastheeconomywasbooming', 'lovemywife', 'plansnotchanged', 'weddingbells', 'winningthewar', 'winthewar', 'heknowsexactlywhathewantstodo']\n",
      "Cluster 19\n",
      "['arthritis', 'cantwaittogethome', 'deadyoungmen', 'deathinthefamily', 'greatdepressionhasended', 'latetotheparty', 'lifeafterthewar', 'missinghome', 'missme', 'nightschool', 'nomorewar', 'notenoughtimeathome', 'noworkweekend', 'previousinjury', 'toendallwars', 'whenwillthewarbeover']\n",
      "Cluster 20\n",
      "['americancitizen', 'americandream', 'americanindustry', 'americannews', 'americanspirit', 'americanwin', 'australia', 'australian', 'baseball', 'billyrosemillionaire', 'fascism', 'franksinatra', 'getreadyforkorea', 'newyorkcity', 'newyorkharbor', 'playboys', 'san_francisco_conference']\n",
      "Cluster 21\n",
      "['automotive', 'car', 'ford', 'mustang', 'speedbump']\n",
      "Cluster 22\n",
      "['boy_scout_tactics', 'boyscout', 'firstinfirstout', 'gay', 'moreradios', 'newcity', 'newguys', 'newmen', 'standinghispost', 'trainyoungermen', 'youngmenfight']\n",
      "Cluster 23\n",
      "['christianity', 'church', 'evalgelism', 'keepthepoliticsindc', 'letsgetthisbread', 'practicewhatyoupreach']\n",
      "Cluster 24\n",
      "['11airborn', '511paratrooper', 'aircorpcadet', 'aircraftmechanic', 'aleutian', 'privateairlines', 'vetsatuni']\n",
      "Cluster 25\n",
      "['aliens', 'bluefalcon', 'brothel', 'crow', 'monkey', 'night', 'nightmare', 'purpleheart', 'roaches']\n",
      "Cluster 26\n",
      "['brewingstorm', 'dysentery', 'frostbite', 'hayfever', 'malaria-fever', 'malaria-zone', 'malaria', 'mosquitoes', 'tropical-fevers', 'tropical-sickness', 'tropicalfevers']\n",
      "Cluster 27\n",
      "['back2school', 'buyingahouse', 'college', 'collegeeduction', 'europeantheater', 'finishcollege', 'graduatestudy', 'highschool', 'mastersdegree', 'putthecampsintowns']\n",
      "Cluster 28\n",
      "['4thtankgroup', 'amphibianengineers', 'beachhead', 'boat', 'boating', 'bullgang', 'bus', 'handgrenade', 'jiggers', 'motorpool', 'pipedreams', 'poetry', 'pond', 'shellshock', 'sun-tans']\n",
      "Cluster 29\n",
      "['besthandwriting', 'bettermen', 'civilianspaidmore', 'deservebetter', 'fightforwhatyoulove', 'fightthegoodfight', 'improvingthearmy', 'ishouldnthavetofightformyrights', 'iwanttotravelmoreoften']\n"
     ]
    }
   ],
   "source": [
    "k = 30 # Adjust number of clusters\n",
    "\n",
    "cluster_results = [results[i] for i in range(len(results))\n",
    "                   if results[i]['score_1'] < 0.65 ] # Adjust similarity threshold\n",
    "\n",
    "cluster_embeds = [transcriber_embed[cluster_results[i]['index']] \n",
    "                  for i in range(len(cluster_results))]\n",
    "\n",
    "kmeans = KMeans(n_clusters=k).fit(cluster_embeds)\n",
    "\n",
    "for i in range(k):\n",
    "    print(\"Cluster\", i)\n",
    "    print([cluster_results[j]['transcriber_tag'] \n",
    "           for j in range(len(kmeans.labels_))\n",
    "           if kmeans.labels_[j] == i])"
   ]
  }
 ],
 "metadata": {
  "kernelspec": {
   "display_name": "Python 3",
   "language": "python",
   "name": "python3"
  },
  "language_info": {
   "codemirror_mode": {
    "name": "ipython",
    "version": 3
   },
   "file_extension": ".py",
   "mimetype": "text/x-python",
   "name": "python",
   "nbconvert_exporter": "python",
   "pygments_lexer": "ipython3",
   "version": "3.7.3"
  }
 },
 "nbformat": 4,
 "nbformat_minor": 4
}
