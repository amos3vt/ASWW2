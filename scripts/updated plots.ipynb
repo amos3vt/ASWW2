{
 "cells": [
  {
   "cell_type": "code",
   "execution_count": 27,
   "metadata": {},
   "outputs": [],
   "source": [
    "import numpy as np\n",
    "from scipy import linalg\n",
    "import pandas as pd\n",
    "import matplotlib.pyplot as plt"
   ]
  },
  {
   "cell_type": "code",
   "execution_count": 2,
   "metadata": {},
   "outputs": [],
   "source": [
    "# Read it in\n",
    "path = \"../data/surveys.xlsx\"\n",
    "survey_32W = pd.read_excel('Survey_32N and 32W consolidated.xlsx', sheet_name=\"Survey_32W\", converters={'T3':str})\n",
    "survey_32N = pd.read_excel('Survey_32N and 32W consolidated.xlsx', sheet_name=\"Survey_32N\")\n",
    "\n",
    "# Drop unnecessary columns\n",
    "survey_32W.drop(columns=['Unnamed: 0', 'subject_id', 'image_name', 'image_name_2'], inplace=True)\n",
    "survey_32N.drop(columns=['Unnamed: 0', 'subject_id', 'image_name', 'image_name_2'], inplace=True)\n",
    "\n",
    "# Drop rows missing response\n",
    "survey_32W = survey_32W[\n",
    "    (survey_32W['T3'] != ' ') &\n",
    "    (survey_32W['T3'] != 'none') &\n",
    "    (survey_32W['T3'].notnull()) &\n",
    "    (survey_32W['T3'] != 'No Comments ') &\n",
    "    (survey_32W['T3'] != 0) &\n",
    "    (survey_32W['T3'] != 'None') &\n",
    "    (survey_32W['T3'] != '[NO ANSWER]')]\n",
    "\n",
    "# Select responses\n",
    "res_together = survey_32W['T3'][survey_32W['T1'] == \"['They should be together in the same outfits']\"].tolist()\n",
    "res_separate = survey_32W['T3'][survey_32W['T1'] == \"['They should be in separate outfits']\"].tolist()\n",
    "\n",
    "res_N = survey_32N['T5'].tolist()\n",
    "long_together = survey_32W['T4'][survey_32W['T1'] == \"['They should be together in the same outfits']\"].tolist()\n",
    "long_separate = survey_32W['T3'][survey_32W['T1'] == \"['They should be in separate outfits']\"].tolist()"
   ]
  },
  {
   "cell_type": "markdown",
   "metadata": {},
   "source": [
    "# Importing Embedding tool"
   ]
  },
  {
   "cell_type": "code",
   "execution_count": 3,
   "metadata": {},
   "outputs": [],
   "source": [
    "from sentence_transformers import SentenceTransformer\n",
    "model = SentenceTransformer('bert-base-nli-stsb-mean-tokens')"
   ]
  },
  {
   "cell_type": "code",
   "execution_count": 4,
   "metadata": {},
   "outputs": [
    {
     "name": "stdout",
     "output_type": "stream",
     "text": [
      "3461\n",
      "2435\n"
     ]
    }
   ],
   "source": [
    "no_float = [i for i in res_N if type(i) != float]\n",
    "print(len(no_float))\n",
    "no_unclear = [i for i in no_float if '[unclear]' not in i]\n",
    "print(len(no_unclear))"
   ]
  },
  {
   "cell_type": "code",
   "execution_count": 5,
   "metadata": {},
   "outputs": [],
   "source": [
    "responses = pd.DataFrame({'Responses': no_unclear})"
   ]
  },
  {
   "cell_type": "code",
   "execution_count": 6,
   "metadata": {},
   "outputs": [],
   "source": [
    "all_sentences = []\n",
    "response_numbers = []\n",
    "idx = 1\n",
    "for i in responses['Responses']:\n",
    "    temp = i.split('.')\n",
    "    for k in temp:\n",
    "        response_numbers.append(idx)\n",
    "    for j in temp:\n",
    "        all_sentences.append(j)\n",
    "    idx += 1"
   ]
  },
  {
   "cell_type": "code",
   "execution_count": 7,
   "metadata": {},
   "outputs": [
    {
     "data": {
      "text/plain": [
       "10510"
      ]
     },
     "execution_count": 7,
     "metadata": {},
     "output_type": "execute_result"
    }
   ],
   "source": [
    "len(all_sentences)"
   ]
  },
  {
   "cell_type": "code",
   "execution_count": 8,
   "metadata": {},
   "outputs": [
    {
     "data": {
      "text/plain": [
       "10510"
      ]
     },
     "execution_count": 8,
     "metadata": {},
     "output_type": "execute_result"
    }
   ],
   "source": [
    "len(response_numbers)"
   ]
  },
  {
   "cell_type": "code",
   "execution_count": 9,
   "metadata": {},
   "outputs": [],
   "source": [
    "split_responses = pd.DataFrame({'Individual_sentences': all_sentences, 'Response #': response_numbers, 'Pure_index':\n",
    "                               range(0, len(all_sentences))})"
   ]
  },
  {
   "cell_type": "code",
   "execution_count": 10,
   "metadata": {
    "scrolled": true
   },
   "outputs": [
    {
     "data": {
      "text/html": [
       "<div>\n",
       "<style scoped>\n",
       "    .dataframe tbody tr th:only-of-type {\n",
       "        vertical-align: middle;\n",
       "    }\n",
       "\n",
       "    .dataframe tbody tr th {\n",
       "        vertical-align: top;\n",
       "    }\n",
       "\n",
       "    .dataframe thead th {\n",
       "        text-align: right;\n",
       "    }\n",
       "</style>\n",
       "<table border=\"1\" class=\"dataframe\">\n",
       "  <thead>\n",
       "    <tr style=\"text-align: right;\">\n",
       "      <th></th>\n",
       "      <th>Individual_sentences</th>\n",
       "      <th>Response #</th>\n",
       "      <th>Pure_index</th>\n",
       "    </tr>\n",
       "  </thead>\n",
       "  <tbody>\n",
       "    <tr>\n",
       "      <td>0</td>\n",
       "      <td>Negroes have been told many times they're figh...</td>\n",
       "      <td>1</td>\n",
       "      <td>0</td>\n",
       "    </tr>\n",
       "    <tr>\n",
       "      <td>1</td>\n",
       "      <td>But a colored soldier is more discriminated a...</td>\n",
       "      <td>1</td>\n",
       "      <td>1</td>\n",
       "    </tr>\n",
       "    <tr>\n",
       "      <td>2</td>\n",
       "      <td>Its evident to those who care to see it that ...</td>\n",
       "      <td>1</td>\n",
       "      <td>2</td>\n",
       "    </tr>\n",
       "    <tr>\n",
       "      <td>3</td>\n",
       "      <td>Since the Emancipation Proclamation Negroes h...</td>\n",
       "      <td>1</td>\n",
       "      <td>3</td>\n",
       "    </tr>\n",
       "    <tr>\n",
       "      <td>4</td>\n",
       "      <td>Each right, each privilege was fought for</td>\n",
       "      <td>1</td>\n",
       "      <td>4</td>\n",
       "    </tr>\n",
       "    <tr>\n",
       "      <td>...</td>\n",
       "      <td>...</td>\n",
       "      <td>...</td>\n",
       "      <td>...</td>\n",
       "    </tr>\n",
       "    <tr>\n",
       "      <td>10505</td>\n",
       "      <td>This his your war and I am just fighting in it</td>\n",
       "      <td>2434</td>\n",
       "      <td>10505</td>\n",
       "    </tr>\n",
       "    <tr>\n",
       "      <td>10506</td>\n",
       "      <td></td>\n",
       "      <td>2434</td>\n",
       "      <td>10506</td>\n",
       "    </tr>\n",
       "    <tr>\n",
       "      <td>10507</td>\n",
       "      <td>I think personally this questionnaire is a goo...</td>\n",
       "      <td>2435</td>\n",
       "      <td>10507</td>\n",
       "    </tr>\n",
       "    <tr>\n",
       "      <td>10508</td>\n",
       "      <td>It bring out the opinion of the soldiers and ...</td>\n",
       "      <td>2435</td>\n",
       "      <td>10508</td>\n",
       "    </tr>\n",
       "    <tr>\n",
       "      <td>10509</td>\n",
       "      <td></td>\n",
       "      <td>2435</td>\n",
       "      <td>10509</td>\n",
       "    </tr>\n",
       "  </tbody>\n",
       "</table>\n",
       "<p>10510 rows × 3 columns</p>\n",
       "</div>"
      ],
      "text/plain": [
       "                                    Individual_sentences  Response #  \\\n",
       "0      Negroes have been told many times they're figh...           1   \n",
       "1       But a colored soldier is more discriminated a...           1   \n",
       "2       Its evident to those who care to see it that ...           1   \n",
       "3       Since the Emancipation Proclamation Negroes h...           1   \n",
       "4              Each right, each privilege was fought for           1   \n",
       "...                                                  ...         ...   \n",
       "10505     This his your war and I am just fighting in it        2434   \n",
       "10506                                                           2434   \n",
       "10507  I think personally this questionnaire is a goo...        2435   \n",
       "10508   It bring out the opinion of the soldiers and ...        2435   \n",
       "10509                                                           2435   \n",
       "\n",
       "       Pure_index  \n",
       "0               0  \n",
       "1               1  \n",
       "2               2  \n",
       "3               3  \n",
       "4               4  \n",
       "...           ...  \n",
       "10505       10505  \n",
       "10506       10506  \n",
       "10507       10507  \n",
       "10508       10508  \n",
       "10509       10509  \n",
       "\n",
       "[10510 rows x 3 columns]"
      ]
     },
     "execution_count": 10,
     "metadata": {},
     "output_type": "execute_result"
    }
   ],
   "source": [
    "split_responses"
   ]
  },
  {
   "cell_type": "markdown",
   "metadata": {},
   "source": [
    "# Including DEIM implementation"
   ]
  },
  {
   "cell_type": "code",
   "execution_count": 11,
   "metadata": {},
   "outputs": [],
   "source": [
    "list_of_sentences = split_responses['Individual_sentences'].to_list()"
   ]
  },
  {
   "cell_type": "code",
   "execution_count": 12,
   "metadata": {},
   "outputs": [],
   "source": [
    "embeddings = model.encode(list_of_sentences)"
   ]
  },
  {
   "cell_type": "code",
   "execution_count": 13,
   "metadata": {},
   "outputs": [],
   "source": [
    "U, S, Vt = linalg.svd(embeddings)"
   ]
  },
  {
   "cell_type": "code",
   "execution_count": 14,
   "metadata": {},
   "outputs": [
    {
     "data": {
      "text/plain": [
       "(10510, 768)"
      ]
     },
     "execution_count": 14,
     "metadata": {},
     "output_type": "execute_result"
    }
   ],
   "source": [
    "np.shape(embeddings)"
   ]
  },
  {
   "cell_type": "code",
   "execution_count": 15,
   "metadata": {},
   "outputs": [],
   "source": [
    "my_matrix = np.array([list(np.array(i)) for i in embeddings])"
   ]
  },
  {
   "cell_type": "code",
   "execution_count": 16,
   "metadata": {},
   "outputs": [
    {
     "data": {
      "text/plain": [
       "(10510, 768)"
      ]
     },
     "execution_count": 16,
     "metadata": {},
     "output_type": "execute_result"
    }
   ],
   "source": [
    "np.shape(my_matrix)"
   ]
  },
  {
   "cell_type": "code",
   "execution_count": 17,
   "metadata": {},
   "outputs": [],
   "source": [
    "\n",
    "U, S, Vt = linalg.svd(my_matrix, full_matrices = False)"
   ]
  },
  {
   "cell_type": "code",
   "execution_count": null,
   "metadata": {},
   "outputs": [],
   "source": []
  },
  {
   "cell_type": "code",
   "execution_count": 18,
   "metadata": {},
   "outputs": [],
   "source": [
    "def DEIM(M): # row/column selection\n",
    "        p = []\n",
    "        p.append(np.argmax(np.abs(M[:,0]))) # row index of the largest value in the first column of M\n",
    "        for i in range(1,768):\n",
    "            res = M[:,i] - np.dot(M[:,:i],np.dot(np.linalg.inv(M[:,:i][p]), M[:,i][p]))\n",
    "            p.append(np.argmax(np.abs(res)))\n",
    "        return p"
   ]
  },
  {
   "cell_type": "code",
   "execution_count": 19,
   "metadata": {
    "scrolled": true
   },
   "outputs": [],
   "source": [
    "rankings = DEIM(U)"
   ]
  },
  {
   "cell_type": "code",
   "execution_count": 20,
   "metadata": {},
   "outputs": [],
   "source": [
    "response_idx = []\n",
    "count = 0\n",
    "for i in rankings:\n",
    "    temp = split_responses.loc[i][1]\n",
    "    if temp not in response_idx:\n",
    "        response_idx.append(temp)"
   ]
  },
  {
   "cell_type": "code",
   "execution_count": 21,
   "metadata": {},
   "outputs": [],
   "source": [
    "ordered_responses = [no_unclear[i] for i in response_idx]"
   ]
  },
  {
   "cell_type": "code",
   "execution_count": 22,
   "metadata": {},
   "outputs": [],
   "source": [
    "final = pd.DataFrame({'Ordered Responses': ordered_responses})"
   ]
  },
  {
   "cell_type": "code",
   "execution_count": 23,
   "metadata": {},
   "outputs": [],
   "source": [
    "final.to_excel('ordered_responses_sentence_embedding.xlsx')"
   ]
  },
  {
   "cell_type": "code",
   "execution_count": 24,
   "metadata": {},
   "outputs": [],
   "source": [
    "sep = [i.split(' ') for i in ordered_responses]"
   ]
  },
  {
   "cell_type": "code",
   "execution_count": 25,
   "metadata": {},
   "outputs": [],
   "source": [
    "sep1 = [i.split(' ') for i in ordered_responses[:100]]\n",
    "sep2 = [i.split(' ') for i in ordered_responses[100:]]"
   ]
  },
  {
   "cell_type": "markdown",
   "metadata": {},
   "source": [
    "## Histogram of length of first 100 selected by DEIM"
   ]
  },
  {
   "cell_type": "code",
   "execution_count": 28,
   "metadata": {},
   "outputs": [
    {
     "data": {
      "image/png": "[encoded data removed]",
      "text/plain": [
       "<Figure size 432x288 with 1 Axes>"
      ]
     },
     "metadata": {
      "needs_background": "light"
     },
     "output_type": "display_data"
    }
   ],
   "source": [
    "plt.hist([len(i) for i in sep1]);\n",
    "plt.title('Distribution of first 100 DEIM ranks');\n",
    "plt.ylabel('Frequency');\n",
    "plt.xlabel('Response lengths(words)');\n",
    "plt.xlim(0, 250);"
   ]
  },
  {
   "cell_type": "code",
   "execution_count": 29,
   "metadata": {},
   "outputs": [
    {
     "data": {
      "image/png": "[encoded data removed]",
      "text/plain": [
       "<Figure size 432x288 with 1 Axes>"
      ]
     },
     "metadata": {
      "needs_background": "light"
     },
     "output_type": "display_data"
    }
   ],
   "source": [
    "plt.hist([len(i) for i in sep2]);\n",
    "plt.title('Distribution of the rest of the DEIM ranks');\n",
    "plt.ylabel('Frequency');\n",
    "plt.xlabel('Response lengths(words)');\n",
    "plt.xlim(0, 250);"
   ]
  },
  {
   "cell_type": "code",
   "execution_count": null,
   "metadata": {},
   "outputs": [],
   "source": []
  },
  {
   "cell_type": "code",
   "execution_count": 30,
   "metadata": {},
   "outputs": [],
   "source": [
    "import matplotlib.pyplot as plt"
   ]
  },
  {
   "cell_type": "code",
   "execution_count": 31,
   "metadata": {},
   "outputs": [
    {
     "data": {
      "text/plain": [
       "Text(0.5, 1.0, 'Response Length against DEIM index')"
      ]
     },
     "execution_count": 31,
     "metadata": {},
     "output_type": "execute_result"
    },
    {
     "data": {
      "image/png": "[encoded data removed]",
      "text/plain": [
       "<Figure size 432x288 with 1 Axes>"
      ]
     },
     "metadata": {
      "needs_background": "light"
     },
     "output_type": "display_data"
    }
   ],
   "source": [
    "plt.plot([len(i) for i in sep], 'o')\n",
    "plt.xlabel('response #')\n",
    "plt.ylabel('response Length')\n",
    "plt.title('Response Length against DEIM index')"
   ]
  },
  {
   "cell_type": "code",
   "execution_count": 32,
   "metadata": {},
   "outputs": [],
   "source": [
    "lengths = [len(i) for i in sep]\n",
    "tempsum = 0\n",
    "av = []\n",
    "for i in range(0, len(lengths)):\n",
    "    if i % 5 == 0:\n",
    "        av.append(tempsum / 5)\n",
    "        tempsum = 0\n",
    "    tempsum += lengths[i]"
   ]
  },
  {
   "cell_type": "code",
   "execution_count": 33,
   "metadata": {},
   "outputs": [
    {
     "data": {
      "text/plain": [
       "Text(0.5, 1.0, 'Response Length against DEIM index')"
      ]
     },
     "execution_count": 33,
     "metadata": {},
     "output_type": "execute_result"
    },
    {
     "data": {
      "image/png": "[encoded data removed]",
      "text/plain": [
       "<Figure size 432x288 with 1 Axes>"
      ]
     },
     "metadata": {
      "needs_background": "light"
     },
     "output_type": "display_data"
    }
   ],
   "source": [
    "plt.plot(av[1:], 'o')\n",
    "plt.xlabel('response #')\n",
    "plt.ylabel('response Length')\n",
    "plt.title('Response Length against DEIM index')"
   ]
  },
  {
   "cell_type": "code",
   "execution_count": 34,
   "metadata": {},
   "outputs": [
    {
     "data": {
      "text/plain": [
       "Text(0.5, 1.0, 'Response Length against DEIM index')"
      ]
     },
     "execution_count": 34,
     "metadata": {},
     "output_type": "execute_result"
    },
    {
     "data": {
      "image/png": "[encoded data removed]",
      "text/plain": [
       "<Figure size 432x288 with 1 Axes>"
      ]
     },
     "metadata": {
      "needs_background": "light"
     },
     "output_type": "display_data"
    }
   ],
   "source": [
    "sentence = [i.split('.') for i in ordered_responses]\n",
    "plt.plot([len(i) for i in sentence], 'o')\n",
    "plt.xlabel('response #')\n",
    "plt.ylabel('Number of sentences')\n",
    "plt.title('Response Length against DEIM index')"
   ]
  },
  {
   "cell_type": "markdown",
   "metadata": {},
   "source": [
    "### One last experiment with black surveys"
   ]
  },
  {
   "cell_type": "markdown",
   "metadata": {},
   "source": [
    "## Not Taking out any of the duplicates"
   ]
  },
  {
   "cell_type": "code",
   "execution_count": 35,
   "metadata": {},
   "outputs": [],
   "source": [
    "response_idx = []\n",
    "for i in rankings:\n",
    "    temp = split_responses.loc[i][1]\n",
    "    response_idx.append(temp)\n",
    "full_order = [no_unclear[i] for i in response_idx]"
   ]
  },
  {
   "cell_type": "code",
   "execution_count": 36,
   "metadata": {},
   "outputs": [
    {
     "data": {
      "text/plain": [
       "Text(0.5, 1.0, 'Response Length against DEIM index')"
      ]
     },
     "execution_count": 36,
     "metadata": {},
     "output_type": "execute_result"
    },
    {
     "data": {
      "image/png": "[encoded data removed]",
      "text/plain": [
       "<Figure size 432x288 with 1 Axes>"
      ]
     },
     "metadata": {
      "needs_background": "light"
     },
     "output_type": "display_data"
    }
   ],
   "source": [
    "sep = [i.split(' ') for i in full_order]\n",
    "plt.plot([len(i) for i in sep], 'o')\n",
    "plt.xlabel('response #')\n",
    "plt.ylabel('response Length')\n",
    "plt.title('Response Length against DEIM index')"
   ]
  },
  {
   "cell_type": "code",
   "execution_count": 37,
   "metadata": {},
   "outputs": [],
   "source": [
    "lengths = [len(i) for i in sep]\n",
    "tempsum = 0\n",
    "av = []\n",
    "for i in range(0, len(lengths)):\n",
    "    if i % 5 == 0:\n",
    "        av.append(tempsum / 5)\n",
    "        tempsum = 0\n",
    "    tempsum += lengths[i]"
   ]
  },
  {
   "cell_type": "code",
   "execution_count": 38,
   "metadata": {},
   "outputs": [
    {
     "data": {
      "text/plain": [
       "Text(0.5, 1.0, 'Response Length against DEIM index')"
      ]
     },
     "execution_count": 38,
     "metadata": {},
     "output_type": "execute_result"
    },
    {
     "data": {
      "image/png": "[encoded data removed]",
      "text/plain": [
       "<Figure size 432x288 with 1 Axes>"
      ]
     },
     "metadata": {
      "needs_background": "light"
     },
     "output_type": "display_data"
    }
   ],
   "source": [
    "plt.plot(av[1:], 'o')\n",
    "plt.xlabel('response #')\n",
    "plt.ylabel('response Length')\n",
    "plt.title('Response Length against DEIM index')"
   ]
  },
  {
   "cell_type": "code",
   "execution_count": 39,
   "metadata": {},
   "outputs": [
    {
     "data": {
      "text/plain": [
       "Text(0.5, 1.0, 'Response Length against DEIM index')"
      ]
     },
     "execution_count": 39,
     "metadata": {},
     "output_type": "execute_result"
    },
    {
     "data": {
      "image/png": "[encoded data removed]",
      "text/plain": [
       "<Figure size 432x288 with 1 Axes>"
      ]
     },
     "metadata": {
      "needs_background": "light"
     },
     "output_type": "display_data"
    }
   ],
   "source": [
    "sentence = [i.split('.') for i in full_order]\n",
    "plt.plot([len(i) for i in sentence], 'o')\n",
    "plt.xlabel('response #')\n",
    "plt.ylabel('Number of sentences')\n",
    "plt.title('Response Length against DEIM index')"
   ]
  },
  {
   "cell_type": "markdown",
   "metadata": {},
   "source": [
    "## Now the white surveys"
   ]
  },
  {
   "cell_type": "code",
   "execution_count": 40,
   "metadata": {},
   "outputs": [],
   "source": [
    "white = long_together + long_separate\n",
    "true = [i for i in white if type(i) != float]\n",
    "no_u = [i for i in true if '[unclear]' not in i]"
   ]
  },
  {
   "cell_type": "code",
   "execution_count": 41,
   "metadata": {},
   "outputs": [],
   "source": [
    "white_embed = model.encode(no_u)"
   ]
  },
  {
   "cell_type": "code",
   "execution_count": 42,
   "metadata": {},
   "outputs": [],
   "source": [
    "my_matrix2 = np.array([list(np.array(i)) for i in white_embed])"
   ]
  },
  {
   "cell_type": "code",
   "execution_count": 43,
   "metadata": {},
   "outputs": [
    {
     "data": {
      "text/plain": [
       "(1193, 768)"
      ]
     },
     "execution_count": 43,
     "metadata": {},
     "output_type": "execute_result"
    }
   ],
   "source": [
    "np.shape(my_matrix2)"
   ]
  },
  {
   "cell_type": "code",
   "execution_count": null,
   "metadata": {},
   "outputs": [],
   "source": []
  },
  {
   "cell_type": "code",
   "execution_count": 44,
   "metadata": {},
   "outputs": [
    {
     "ename": "NameError",
     "evalue": "name 'U2' is not defined",
     "output_type": "error",
     "traceback": [
      "\u001b[1;31m---------------------------------------------------------------------------\u001b[0m",
      "\u001b[1;31mNameError\u001b[0m                                 Traceback (most recent call last)",
      "\u001b[1;32m<ipython-input-44-a7ab53e3a791>\u001b[0m in \u001b[0;36m<module>\u001b[1;34m\u001b[0m\n\u001b[1;32m----> 1\u001b[1;33m \u001b[0mrankings2\u001b[0m \u001b[1;33m=\u001b[0m \u001b[0mDEIM\u001b[0m\u001b[1;33m(\u001b[0m\u001b[0mU2\u001b[0m\u001b[1;33m)\u001b[0m\u001b[1;33m\u001b[0m\u001b[1;33m\u001b[0m\u001b[0m\n\u001b[0m",
      "\u001b[1;31mNameError\u001b[0m: name 'U2' is not defined"
     ]
    }
   ],
   "source": [
    "rankings2 = DEIM(U2)"
   ]
  },
  {
   "cell_type": "markdown",
   "metadata": {},
   "source": [
    "### Making the split responses DataFrame"
   ]
  },
  {
   "cell_type": "code",
   "execution_count": 45,
   "metadata": {},
   "outputs": [],
   "source": [
    "responses = pd.DataFrame({'Responses': no_u})"
   ]
  },
  {
   "cell_type": "code",
   "execution_count": 46,
   "metadata": {},
   "outputs": [],
   "source": [
    "all_sentences = []\n",
    "response_numbers = []\n",
    "idx = 1\n",
    "for i in responses['Responses']:\n",
    "    temp = i.split('.')\n",
    "    for k in temp:\n",
    "        response_numbers.append(idx)\n",
    "    for j in temp:\n",
    "        all_sentences.append(j)\n",
    "    idx += 1"
   ]
  },
  {
   "cell_type": "code",
   "execution_count": 48,
   "metadata": {},
   "outputs": [
    {
     "data": {
      "text/html": [
       "<div>\n",
       "<style scoped>\n",
       "    .dataframe tbody tr th:only-of-type {\n",
       "        vertical-align: middle;\n",
       "    }\n",
       "\n",
       "    .dataframe tbody tr th {\n",
       "        vertical-align: top;\n",
       "    }\n",
       "\n",
       "    .dataframe thead th {\n",
       "        text-align: right;\n",
       "    }\n",
       "</style>\n",
       "<table border=\"1\" class=\"dataframe\">\n",
       "  <thead>\n",
       "    <tr style=\"text-align: right;\">\n",
       "      <th></th>\n",
       "      <th>Individual_sentences</th>\n",
       "      <th>Response #</th>\n",
       "      <th>Pure_index</th>\n",
       "    </tr>\n",
       "  </thead>\n",
       "  <tbody>\n",
       "    <tr>\n",
       "      <td>0</td>\n",
       "      <td>Many of our non-coms[non commissioned officers...</td>\n",
       "      <td>1</td>\n",
       "      <td>0</td>\n",
       "    </tr>\n",
       "    <tr>\n",
       "      <td>1</td>\n",
       "      <td></td>\n",
       "      <td>1</td>\n",
       "      <td>1</td>\n",
       "    </tr>\n",
       "    <tr>\n",
       "      <td>2</td>\n",
       "      <td>I would like to take this opportunity to speak...</td>\n",
       "      <td>2</td>\n",
       "      <td>2</td>\n",
       "    </tr>\n",
       "    <tr>\n",
       "      <td>3</td>\n",
       "      <td>They say it is a soldier's privilege to \"bitch\"</td>\n",
       "      <td>2</td>\n",
       "      <td>3</td>\n",
       "    </tr>\n",
       "    <tr>\n",
       "      <td>4</td>\n",
       "      <td>Since I come in this highly disorganized 45th...</td>\n",
       "      <td>2</td>\n",
       "      <td>4</td>\n",
       "    </tr>\n",
       "    <tr>\n",
       "      <td>...</td>\n",
       "      <td>...</td>\n",
       "      <td>...</td>\n",
       "      <td>...</td>\n",
       "    </tr>\n",
       "    <tr>\n",
       "      <td>2052</td>\n",
       "      <td></td>\n",
       "      <td>1191</td>\n",
       "      <td>2052</td>\n",
       "    </tr>\n",
       "    <tr>\n",
       "      <td>2053</td>\n",
       "      <td>Men fight better with their own race</td>\n",
       "      <td>1192</td>\n",
       "      <td>2053</td>\n",
       "    </tr>\n",
       "    <tr>\n",
       "      <td>2054</td>\n",
       "      <td></td>\n",
       "      <td>1192</td>\n",
       "      <td>2054</td>\n",
       "    </tr>\n",
       "    <tr>\n",
       "      <td>2055</td>\n",
       "      <td>They should be in different outfits so that al...</td>\n",
       "      <td>1193</td>\n",
       "      <td>2055</td>\n",
       "    </tr>\n",
       "    <tr>\n",
       "      <td>2056</td>\n",
       "      <td></td>\n",
       "      <td>1193</td>\n",
       "      <td>2056</td>\n",
       "    </tr>\n",
       "  </tbody>\n",
       "</table>\n",
       "<p>2057 rows × 3 columns</p>\n",
       "</div>"
      ],
      "text/plain": [
       "                                   Individual_sentences  Response #  \\\n",
       "0     Many of our non-coms[non commissioned officers...           1   \n",
       "1                                                                 1   \n",
       "2     I would like to take this opportunity to speak...           2   \n",
       "3       They say it is a soldier's privilege to \"bitch\"           2   \n",
       "4      Since I come in this highly disorganized 45th...           2   \n",
       "...                                                 ...         ...   \n",
       "2052                                                           1191   \n",
       "2053               Men fight better with their own race        1192   \n",
       "2054                                                           1192   \n",
       "2055  They should be in different outfits so that al...        1193   \n",
       "2056                                                           1193   \n",
       "\n",
       "      Pure_index  \n",
       "0              0  \n",
       "1              1  \n",
       "2              2  \n",
       "3              3  \n",
       "4              4  \n",
       "...          ...  \n",
       "2052        2052  \n",
       "2053        2053  \n",
       "2054        2054  \n",
       "2055        2055  \n",
       "2056        2056  \n",
       "\n",
       "[2057 rows x 3 columns]"
      ]
     },
     "execution_count": 48,
     "metadata": {},
     "output_type": "execute_result"
    }
   ],
   "source": [
    "split_responses = pd.DataFrame({'Individual_sentences': all_sentences, 'Response #': response_numbers, 'Pure_index':\n",
    "                               range(0, len(all_sentences))})\n",
    "split_responses"
   ]
  },
  {
   "cell_type": "code",
   "execution_count": 49,
   "metadata": {},
   "outputs": [],
   "source": [
    "list_of_sentences = split_responses['Individual_sentences'].to_list()"
   ]
  },
  {
   "cell_type": "code",
   "execution_count": 50,
   "metadata": {},
   "outputs": [],
   "source": [
    "embed_w = model.encode(list_of_sentences)"
   ]
  },
  {
   "cell_type": "code",
   "execution_count": 51,
   "metadata": {},
   "outputs": [],
   "source": [
    "my_matrix2 = np.array([list(np.array(i)) for i in embed_w])"
   ]
  },
  {
   "cell_type": "code",
   "execution_count": 52,
   "metadata": {},
   "outputs": [
    {
     "data": {
      "text/plain": [
       "(2057, 768)"
      ]
     },
     "execution_count": 52,
     "metadata": {},
     "output_type": "execute_result"
    }
   ],
   "source": [
    "np.shape(my_matrix2)"
   ]
  },
  {
   "cell_type": "code",
   "execution_count": 53,
   "metadata": {},
   "outputs": [],
   "source": [
    "U2, S2, Vt2 = linalg.svd(my_matrix2, full_matrices = False)"
   ]
  },
  {
   "cell_type": "code",
   "execution_count": 54,
   "metadata": {},
   "outputs": [],
   "source": [
    "rankings2 = DEIM(U2)"
   ]
  },
  {
   "cell_type": "code",
   "execution_count": 55,
   "metadata": {},
   "outputs": [],
   "source": [
    "response_idx2 = []\n",
    "count = 0\n",
    "for i in rankings2:\n",
    "    temp = split_responses.loc[i][1]\n",
    "    if temp not in response_idx2:\n",
    "        response_idx2.append(temp)"
   ]
  },
  {
   "cell_type": "code",
   "execution_count": 56,
   "metadata": {},
   "outputs": [],
   "source": [
    "ordered_responses = [no_u[i-1] for i in response_idx2]"
   ]
  },
  {
   "cell_type": "code",
   "execution_count": 57,
   "metadata": {},
   "outputs": [],
   "source": [
    "left_out = [i for i in split_responses['Response #'] if i not in response_idx2]"
   ]
  },
  {
   "cell_type": "code",
   "execution_count": 58,
   "metadata": {},
   "outputs": [
    {
     "data": {
      "text/plain": [
       "908"
      ]
     },
     "execution_count": 58,
     "metadata": {},
     "output_type": "execute_result"
    }
   ],
   "source": [
    "len(left_out)"
   ]
  },
  {
   "cell_type": "markdown",
   "metadata": {},
   "source": [
    "## Plotting some lengths"
   ]
  },
  {
   "cell_type": "code",
   "execution_count": 59,
   "metadata": {},
   "outputs": [
    {
     "data": {
      "text/plain": [
       "[<matplotlib.lines.Line2D at 0x1fc2aece848>]"
      ]
     },
     "execution_count": 59,
     "metadata": {},
     "output_type": "execute_result"
    },
    {
     "data": {
      "image/png": "[encoded data removed]",
      "text/plain": [
       "<Figure size 432x288 with 1 Axes>"
      ]
     },
     "metadata": {
      "needs_background": "light"
     },
     "output_type": "display_data"
    }
   ],
   "source": [
    "sep = [i.split(' ') for i in ordered_responses]\n",
    "lengths = [len(i) for i in sep]\n",
    "plt.plot(lengths, 'o')\n",
    "plt.title('Response length vs DEIM index white survey')\n",
    "plt.xlabel('DEIM index')\n",
    "plt.ylabel('number of words')\n",
    "y = lengths\n",
    "x = range(0, len(lengths))\n",
    "m, b = np. polyfit(x, y, 1)\n",
    "plt. plot(x, m*x + b)"
   ]
  },
  {
   "cell_type": "markdown",
   "metadata": {},
   "source": [
    "### Binning the responses"
   ]
  },
  {
   "cell_type": "code",
   "execution_count": 60,
   "metadata": {},
   "outputs": [],
   "source": [
    "lengths = [len(i) for i in sep]\n",
    "tempsum = 0\n",
    "av = []\n",
    "for i in range(0, len(lengths)):\n",
    "    if i % 5 == 0:\n",
    "        av.append(tempsum / 5)\n",
    "        tempsum = 0\n",
    "    tempsum += lengths[i]"
   ]
  },
  {
   "cell_type": "code",
   "execution_count": 61,
   "metadata": {},
   "outputs": [
    {
     "data": {
      "text/plain": [
       "[<matplotlib.lines.Line2D at 0x1fc2ac22ec8>]"
      ]
     },
     "execution_count": 61,
     "metadata": {},
     "output_type": "execute_result"
    },
    {
     "data": {
      "image/png": "[encoded data removed]",
      "text/plain": [
       "<Figure size 432x288 with 1 Axes>"
      ]
     },
     "metadata": {
      "needs_background": "light"
     },
     "output_type": "display_data"
    }
   ],
   "source": [
    "plt.plot(av[1:], 'o')\n",
    "plt.xlabel('DEIM index')\n",
    "plt.ylabel('response Length, averagin every 5')\n",
    "plt.title('Response Length against DEIM index')\n",
    "y = av[1:]\n",
    "x = range(0, len(av[1:]))\n",
    "m, b = np. polyfit(x, y, 1)\n",
    "plt. plot(x, m*x + b)"
   ]
  },
  {
   "cell_type": "markdown",
   "metadata": {},
   "source": [
    "## Doingt the same histogram analysis as above"
   ]
  },
  {
   "cell_type": "code",
   "execution_count": 62,
   "metadata": {},
   "outputs": [],
   "source": [
    "sep3 = [i.split(' ') for i in ordered_responses[:100]]\n",
    "sep4 = [i.split(' ') for i in ordered_responses[100:]]"
   ]
  },
  {
   "cell_type": "code",
   "execution_count": 65,
   "metadata": {},
   "outputs": [
    {
     "data": {
      "image/png": "[encoded data removed]",
      "text/plain": [
       "<Figure size 432x288 with 1 Axes>"
      ]
     },
     "metadata": {
      "needs_background": "light"
     },
     "output_type": "display_data"
    }
   ],
   "source": [
    "plt.hist([len(i) for i in sep3]);\n",
    "plt.title('Distribution of first 100 DEIM ranks');\n",
    "plt.ylabel('Frequency');\n",
    "plt.xlabel('Response lengths(words)');"
   ]
  },
  {
   "cell_type": "code",
   "execution_count": 66,
   "metadata": {},
   "outputs": [
    {
     "data": {
      "image/png": "[encoded data removed]",
      "text/plain": [
       "<Figure size 432x288 with 1 Axes>"
      ]
     },
     "metadata": {
      "needs_background": "light"
     },
     "output_type": "display_data"
    }
   ],
   "source": [
    "plt.hist([len(i) for i in sep4]);\n",
    "plt.title('Distribution of the rest of the DEIM ranks');\n",
    "plt.ylabel('Frequency');\n",
    "plt.xlabel('Response lengths(words)');"
   ]
  }
 ],
 "metadata": {
  "kernelspec": {
   "display_name": "Python 3",
   "language": "python",
   "name": "python3"
  },
  "language_info": {
   "codemirror_mode": {
    "name": "ipython",
    "version": 3
   },
   "file_extension": ".py",
   "mimetype": "text/x-python",
   "name": "python",
   "nbconvert_exporter": "python",
   "pygments_lexer": "ipython3",
   "version": "3.7.4"
  }
 },
 "nbformat": 4,
 "nbformat_minor": 2
}
