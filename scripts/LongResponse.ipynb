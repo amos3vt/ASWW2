{
 "cells": [
  {
   "cell_type": "markdown",
   "metadata": {},
   "source": [
    "# Import necessary libraries"
   ]
  },
  {
   "cell_type": "code",
   "execution_count": 1,
   "metadata": {},
   "outputs": [
    {
     "name": "stderr",
     "output_type": "stream",
     "text": [
      "C:\\Users\\Savannah\\Anaconda3\\lib\\site-packages\\tensorflow\\python\\framework\\dtypes.py:526: FutureWarning: Passing (type, 1) or '1type' as a synonym of type is deprecated; in a future version of numpy, it will be understood as (type, (1,)) / '(1,)type'.\n",
      "  _np_qint8 = np.dtype([(\"qint8\", np.int8, 1)])\n",
      "C:\\Users\\Savannah\\Anaconda3\\lib\\site-packages\\tensorflow\\python\\framework\\dtypes.py:527: FutureWarning: Passing (type, 1) or '1type' as a synonym of type is deprecated; in a future version of numpy, it will be understood as (type, (1,)) / '(1,)type'.\n",
      "  _np_quint8 = np.dtype([(\"quint8\", np.uint8, 1)])\n",
      "C:\\Users\\Savannah\\Anaconda3\\lib\\site-packages\\tensorflow\\python\\framework\\dtypes.py:528: FutureWarning: Passing (type, 1) or '1type' as a synonym of type is deprecated; in a future version of numpy, it will be understood as (type, (1,)) / '(1,)type'.\n",
      "  _np_qint16 = np.dtype([(\"qint16\", np.int16, 1)])\n",
      "C:\\Users\\Savannah\\Anaconda3\\lib\\site-packages\\tensorflow\\python\\framework\\dtypes.py:529: FutureWarning: Passing (type, 1) or '1type' as a synonym of type is deprecated; in a future version of numpy, it will be understood as (type, (1,)) / '(1,)type'.\n",
      "  _np_quint16 = np.dtype([(\"quint16\", np.uint16, 1)])\n",
      "C:\\Users\\Savannah\\Anaconda3\\lib\\site-packages\\tensorflow\\python\\framework\\dtypes.py:530: FutureWarning: Passing (type, 1) or '1type' as a synonym of type is deprecated; in a future version of numpy, it will be understood as (type, (1,)) / '(1,)type'.\n",
      "  _np_qint32 = np.dtype([(\"qint32\", np.int32, 1)])\n",
      "C:\\Users\\Savannah\\Anaconda3\\lib\\site-packages\\tensorflow\\python\\framework\\dtypes.py:535: FutureWarning: Passing (type, 1) or '1type' as a synonym of type is deprecated; in a future version of numpy, it will be understood as (type, (1,)) / '(1,)type'.\n",
      "  np_resource = np.dtype([(\"resource\", np.ubyte, 1)])\n"
     ]
    }
   ],
   "source": [
    "import pandas as pd\n",
    "import numpy as np\n",
    "import matplotlib.pyplot as plt\n",
    "\n",
    "from sentence_transformers import SentenceTransformer\n",
    "model = SentenceTransformer('bert-base-nli-stsb-mean-tokens')"
   ]
  },
  {
   "cell_type": "markdown",
   "metadata": {},
   "source": [
    "# Define method for CUR decomposition"
   ]
  },
  {
   "cell_type": "code",
   "execution_count": 22,
   "metadata": {},
   "outputs": [],
   "source": [
    "def cur(A, idx=False, SVD=None, rank=None):\n",
    "    \n",
    "    if SVD==None:\n",
    "        SVD = np.linalg.svd(A, full_matrices=False)\n",
    "    if rank==None:\n",
    "        rank = np.linalg.matrix_rank(A)\n",
    "    \n",
    "    V,S,Wt = SVD\n",
    "    \n",
    "    def DEIM(M): # row/column selection method\n",
    "        p = []\n",
    "        p.append(np.argmax(np.abs(M[:,0]))) # row index of the largest value in the first column of M\n",
    "        for i in range(1,rank):\n",
    "            res = M[:,i] - np.dot(M[:,:i],np.dot(np.linalg.inv(M[:,:i][p]), M[:,i][p]))\n",
    "            p.append(np.argmax(np.abs(res)))\n",
    "        return p\n",
    "    \n",
    "    p_C = DEIM(np.transpose(Wt))\n",
    "    C = A[:,p_C]\n",
    "    \n",
    "    p_R = DEIM(V)\n",
    "    R = A[p_R]\n",
    "    \n",
    "    U = np.linalg.pinv(C) @ A @ np.linalg.pinv(R)\n",
    "    \n",
    "    return (C,U,R, p_C, p_R) if idx else (C,U,R)"
   ]
  },
  {
   "cell_type": "markdown",
   "metadata": {},
   "source": [
    "# Load survey data"
   ]
  },
  {
   "cell_type": "code",
   "execution_count": 2,
   "metadata": {},
   "outputs": [],
   "source": [
    "# Read it in\n",
    "path = \"../data/surveys.xlsx\"\n",
    "survey_32W = pd.read_excel(path, sheet_name=\"Survey_32W\", converters={'T1':str, 'T3':str, 'T4':str}, na_filter=False)\n",
    "\n",
    "# Drop unnecessary columns\n",
    "survey_32W.drop(columns=['Unnamed: 0', 'subject_id', 'image_name', 'image_name_2'], inplace=True)\n",
    "\n",
    "# Drop rows missing response\n",
    "survey_32W = survey_32W[\n",
    "    (survey_32W['T4'] != '') &\n",
    "    (survey_32W['T4'] != 'None.') &\n",
    "    (survey_32W['T4'] != 'none') &\n",
    "    (survey_32W['T4'] != 'N/A') &\n",
    "    (survey_32W['T4'] != 'No comments') &\n",
    "    (survey_32W['T4'] != 'NO COMMENTS MADE') &\n",
    "    (survey_32W['T4'] != 'None') &\n",
    "    (survey_32W['T4'] != 'no comments') &\n",
    "    (survey_32W['T4'] != 'No comments.') &\n",
    "    (survey_32W['T4'] != 'I have none to make') &\n",
    "    (survey_32W['T4'] != 'LEFT BLANK') &\n",
    "    (survey_32W['T4'] != 'gujfujuj') &\n",
    "    (survey_32W['T4'] != \"I don't know any\") &\n",
    "    (survey_32W['T4'] != \"I don't have any thing to write.\") &\n",
    "    (survey_32W['T4'] != 'I have nothing else to say here') &\n",
    "    (survey_32W['T4'] != '[deletion][/deletion]') &\n",
    "    (survey_32W['T4'] != 'None they answer themselves.') &\n",
    "    (survey_32W['T4'] != '(no statement)') &\n",
    "    (survey_32W['T4'] != '[unclear][/unclear]') &\n",
    "    (survey_32W['T4'] != \"I don't have any.\") &\n",
    "    (survey_32W['T4'] != '[insertion][/insertion]') &\n",
    "    (survey_32W['T4'] != '---- ----') &\n",
    "    (survey_32W['T4'] != 'No Comment!!!')\n",
    "]\n",
    "\n",
    "# Group by answer choice\n",
    "survey_32W_same = survey_32W[survey_32W['T1'] == \"['They should be together in the same outfits']\"]\n",
    "survey_32W_separate = survey_32W[survey_32W['T1'] == \"['They should be in separate outfits']\"]\n",
    "\n",
    "# Get long responses (T4)\n",
    "res_long_32W_same = survey_32W_same['T4'].tolist()\n",
    "res_long_32W_separate = survey_32W_separate['T4'].tolist()"
   ]
  },
  {
   "cell_type": "markdown",
   "metadata": {},
   "source": [
    "# Embedding Method: Use entire response"
   ]
  },
  {
   "cell_type": "code",
   "execution_count": 29,
   "metadata": {},
   "outputs": [],
   "source": [
    "# Transpose so each column is one response embedding\n",
    "embed_long_32W_same = np.transpose(model.encode(res_long_32W_same))\n",
    "embed_long_32W_separate = np.transpose(model.encode(res_long_32W_separate))\n",
    "embed_long_32W = np.concatenate((embed_long_32W_same, embed_long_32W_separate), axis=1)"
   ]
  },
  {
   "cell_type": "markdown",
   "metadata": {},
   "source": [
    "## Plot singular values"
   ]
  },
  {
   "cell_type": "code",
   "execution_count": 4,
   "metadata": {},
   "outputs": [
    {
     "data": {
      "text/plain": [
       "Text(0.5, 1.0, 'Singular values of matrix of long response embeddings')"
      ]
     },
     "execution_count": 4,
     "metadata": {},
     "output_type": "execute_result"
    },
    {
     "data": {
      "image/png": "[encoded data removed]",
      "text/plain": [
       "<Figure size 432x288 with 1 Axes>"
      ]
     },
     "metadata": {
      "needs_background": "light"
     },
     "output_type": "display_data"
    }
   ],
   "source": [
    "for A in [\n",
    "    embed_long_32W_same,\n",
    "    embed_long_32W_separate,\n",
    "    embed_long_32W\n",
    "]:\n",
    "    U,S,Vt = np.linalg.svd(A, full_matrices=False)\n",
    "    S = [S[i]/S[0] for i in range(len(S))]\n",
    "    plt.semilogy(S)\n",
    "plt.legend([\"Same Outfit\", \"Separate Outfit\", \"All Responses\"])\n",
    "plt.title(\"Singular values of matrix of long response embeddings\")"
   ]
  },
  {
   "cell_type": "markdown",
   "metadata": {},
   "source": [
    "Note \"Separate Outfit\" overlaps \"All Responses\""
   ]
  },
  {
   "cell_type": "markdown",
   "metadata": {},
   "source": [
    "## Use CUR to form a matrix of the \"most important\" responses"
   ]
  },
  {
   "cell_type": "code",
   "execution_count": 30,
   "metadata": {},
   "outputs": [],
   "source": [
    "C_same,U_same,R_same, p_C_same, p_R_same = cur(embed_long_32W_same, idx=True)\n",
    "C_separate,U_separate,R_separate, p_C_separate, p_R_separate = cur(embed_long_32W_separate, idx=True)"
   ]
  },
  {
   "cell_type": "markdown",
   "metadata": {},
   "source": [
    "## Display top 20 responses from each category"
   ]
  },
  {
   "cell_type": "code",
   "execution_count": 31,
   "metadata": {},
   "outputs": [
    {
     "name": "stdout",
     "output_type": "stream",
     "text": [
      "Same\n",
      "\n",
      "\n",
      "This questionnaire is a fine way to let government officials know just what the \"G.I.\" Soldier thinks. Some of the questions may have seemed unfair but when everyone states his honest opinion then something fine and outstanding will be achieved. One thing that worries me about this war is that the American people are taking victory too much for granted. May God help and make them realize that this is not a push over war. It will be won only after suffering and hardship. People should begin to realize this more every day! \n",
      "\n",
      "No place for a married man with 3 children in the army as man married should be home with his wife a children. not in the army. There is lot of men is not married and in the army & no \n",
      "\n",
      "The negro problem is one we must solve ourselves. We must raise them all to our standard of living and except [accept] them as equals or separate them in localities of their own. This is going to be a big problem in the near future and we must face it squarely. I am white but believe a democracy stands for an equal opportunity for all regardless of color. The negros are growing in population and I believe unless we educate them properly they will revolt against us at a later date. \n",
      "\n",
      "We should have better [unclear][/unclear] \n",
      "\n",
      "I personally hope the questions I have answered in this questioner will help army conditions. \n",
      "\n",
      "[Circle] 1 [Circle] I like California best because of climate, proximity to the ocean, and scenery. [Circle] 2 [Circle] \n",
      "\n",
      "Personally I do not see to much to these question because it would not make but very little difference to anybody else except to the man that answers these questions. \n",
      "\n",
      "How is it when a man has all farm eqment to farm with. \n",
      "\n",
      "That way thing is good and what I really would like to do for 1 a job in America is to drive an aeroplane to just go and work hard with an other group of planes and bomb the Tokoyo, Japan and Germany. [paragraph] Every question was easy and some of them I did not know ho to answer them so I just put undecided.  \n",
      "\n",
      "This private is 42 yrs of age and having a hell of a time trying to do thing the young soldiers do easily \n",
      "\n",
      "Question (7) Bus [unclear][/unclear] should have more busses - and they should run on a prescribed schedule. (EN) should know what is happened all the time [unclear](Buwacs)[/unclear] \n",
      "\n",
      "Promotions are usually given for longevity or favoritism and not for personal ability. \n",
      "\n",
      "Placement of inductees in different branches of service is definitely rotten absolutely no care is given [unclear][or ? no with ?/unclear] is used in placing men in position [prof?/unclear] to the government \n",
      "\n",
      "I think that there is too many questions on the relationship between the white and negro soldiers. The red race is let to intermigle with the white, why not the black, as long as they are Americans? That is why they call this the United States \n",
      "\n",
      "I think that instead of giving one soldier a week end pass just about every week because he is close to home that he should give other boys a 5 or 6 day furlough and cut down on these person [people] who get week end pases [passes] just about every week. I think that they should have a better system of bus transportation in this camp where I am at. [paragraph] P.S. I know and hope we keep up till the Axis powers are crushed beyond human life. \n",
      "\n",
      "I think this questionnaire is good for the soldier, because he should have something to say about things that are going on in the country. I do think that they should take all the old men out of the Army. I think they would do more by staying at home.  \n",
      "\n",
      "No comments, except that it waz a fair questionnaire in every respect and I'm glad I was given the opportunity to express my opinion. \n",
      "\n",
      "Our orientation lectures included this statements. \"The doctrine of Manifest Destiny must be revived in regard to Central and South America. Poster throughout the camp proclaim \"We alone are capable of dictating the terms of a peace These statements seem to me to be the things we are fighting against. Why if we are fighting for equal rights for all peoples are we taught these things? \n",
      "\n",
      "Why should non-coms who have spent alot of time in the Service [deletion]be given[/deletion] who happen to be a little over age be allowed to get commissions. These men are sitting in offices doing the work of officers, who would not be able to function without these same men. \n",
      "\n",
      "I think it is impossible for a fellow to give a useful and constructive opinion to the army in a test like this. \n",
      "\n",
      "\n",
      "Separate\n",
      "\n",
      "\n",
      "If the Army would treat its men as real men and not as boy scouts it would make a man feel like a soldier. They waste too much time on silly and unnecessary inspections. That valuable time could be used for good training. We came here to fight and not to see whether our left shoe is where the right one should be. Good inspections are all right but not the kind we have. There have been times in this camp when the morale of the men was so low it was pitiful. \n",
      "\n",
      "I think this questionnaire is a good idea \n",
      "\n",
      "I think that every man should have at least one year of military training, preferablyto him after graduation from high school. For those that go to college a course of military training should be mandatory. \n",
      "\n",
      "I have none. \n",
      "\n",
      "Negroes should always be separated from the whites in the South, in every way. \n",
      "\n",
      "I think at we should have more time off that is leave like three day poss. the food should be better + more of it \n",
      "\n",
      "A negro is a negro and he should stay in his place But they are true Americans \n",
      "\n",
      "As far as I am concerned I am very well satisfied with the army and have plenty of interest and I am going to put 30 years in. Food is excellent clothing is fine and instructers are efficient The army has plenty of opportunities for anyone who wants to get somewheres. \n",
      "\n",
      "Lets hope win this war soon. \n",
      "\n",
      "Experienced men should be put into jobs which they are best qualified for and positions which they are experienced. [paragraph] Many gruadates of Technical Schools are never given an oportunity to use their training.  \n",
      "\n",
      "I personally [deletion][/deletion] think if you can call the first Sgt by his first name you are all right and [unclear][/unclear] will come your way. In other words kiss his ass. \n",
      "\n",
      "As to answer 21 I have been waiting to attend Tech school as of engines but haven't as yet any notice whatsoever. I believe if I could go to such school I could serve my country better as a mechanic. \n",
      "\n",
      "I believe the individual should have an opportunity to talk there things over with his company commander personally. \n",
      "\n",
      "Some question overlap others and you might think I just checked them to get finished but I checked them as I feel. \n",
      "\n",
      "I don't think the Jews are doing their part most of them are still civilians and are busy gathering up the good money that can be made now. \n",
      "\n",
      "In question no. 63 I believe also that the negroes can fight better when they are together \n",
      "\n",
      "I don't think it shows a clear picture of what a man really thinks because the type of men who are answering this questionnaire along with me this date are of the \"don't care attitude\" & they are [unclear][/unclear] to put in anything & not actually what they think. \n",
      "\n",
      "Perhaps in the future a check on the soldiers attitude toward the industrial front would be interesting. A soldier, putting in a hard eighteen hour day, becomes disgusted upon reading reports of sit-downs and strikes for higher wages. It is not harmonious with his sense of fairness. \n",
      "\n",
      "  The soldiers do not have priviage out of camp most places are close when they get to town. Such as taverans and night clubs. Soldiers like a little excitement and pleasure when they leave camp.  At the camps the non coms do not treat the private right. They show too much of their authoraties. They think the privates are just a bunch of kids which they can use for decoys. \n",
      "\n",
      "I am willing to make great sacrifices and help others all I can while in the army to further the war effort and return to civilian life once again \n",
      "\n"
     ]
    }
   ],
   "source": [
    "print(\"Same\\n\\n\")\n",
    "for i in range(20):\n",
    "    print(res_long_32W_same[p_C_same[i]], '\\n')\n",
    "print(\"\\nSeparate\\n\\n\")\n",
    "for i in range(20):\n",
    "    print(res_long_32W_separate[p_C_separate[i]], '\\n')"
   ]
  },
  {
   "cell_type": "markdown",
   "metadata": {},
   "source": [
    "## Look into possible rank-k approximations"
   ]
  },
  {
   "cell_type": "code",
   "execution_count": 32,
   "metadata": {},
   "outputs": [],
   "source": [
    "def plot_eta_c(A):\n",
    "    V,S,Wt = np.linalg.svd(A, full_matrices=False)\n",
    "    rank = np.linalg.matrix_rank(A)\n",
    "    \n",
    "    eta_c = np.zeros(rank)\n",
    "    norm = np.zeros(rank)\n",
    "    sig = np.zeros(rank)\n",
    "    \n",
    "    A_k = np.zeros(A.shape)\n",
    "    for k in range(rank):\n",
    "        SVD_k = (V[:,:k+1],S[:k+1],Wt[:k+1,:])\n",
    "        A_k = (SVD_k[0] * SVD_k[1][...,None,:]) @ SVD_k[2]\n",
    "        C_k, U_k, R_k, p_C_k, p_R_k = cur(A_k, idx=True, SVD=SVD_k, rank=k+1)\n",
    "        \n",
    "        WtF_k = SVD_k[2][:k+1,:][:,p_C_k[:k+1]] #Wt?\n",
    "        eta_c[k] = np.linalg.norm(np.linalg.inv(WtF_k))\n",
    "        \n",
    "        X_k = np.linalg.pinv(C_k) @ A\n",
    "        norm[k] = np.linalg.norm(A - C_k@X_k)\n",
    "        \n",
    "        sig[k] = np.linalg.norm(A - (SVD_k[0] * SVD_k[1][...,None,:]) @ SVD_k[2])\n",
    "        \n",
    "        if k%100==0:\n",
    "            print(k)\n",
    "        \n",
    "    plt.scatter(range(rank), eta_c)\n",
    "    plt.scatter(range(rank), norm)\n",
    "    plt.scatter(range(1,rank+1), sig)\n",
    "    \n",
    "    plt.xlabel('k')\n",
    "    plt.legend([\"(eta_c)_k\", \"|| A - C_k(X_k) ||\", \"sigma_k\"])"
   ]
  },
  {
   "cell_type": "code",
   "execution_count": 33,
   "metadata": {},
   "outputs": [
    {
     "name": "stdout",
     "output_type": "stream",
     "text": [
      "0\n"
     ]
    },
    {
     "data": {
      "image/png": "[encoded data removed]",
      "text/plain": [
       "<Figure size 432x288 with 1 Axes>"
      ]
     },
     "metadata": {
      "needs_background": "light"
     },
     "output_type": "display_data"
    }
   ],
   "source": [
    "plot_eta_c(embed_long_32W_same)"
   ]
  },
  {
   "cell_type": "code",
   "execution_count": null,
   "metadata": {},
   "outputs": [],
   "source": [
    "plot_eta_c(embed_long_32W_same)"
   ]
  },
  {
   "cell_type": "markdown",
   "metadata": {},
   "source": [
    "# Embedding Method: Add the embeddings of each sentence in a response"
   ]
  },
  {
   "cell_type": "code",
   "execution_count": 13,
   "metadata": {},
   "outputs": [],
   "source": [
    "# Transpose so each column is one response embedding\n",
    "res_long_32W_same_split = [r.split(\". \") for r in res_long_32W_same]\n",
    "embed_long_32W_same = np.transpose([np.sum(model.encode(r), axis=0) for r in res_long_32W_same_split])\n",
    "\n",
    "res_long_32W_separate_split = [r.split(\". \") for r in res_long_32W_separate]\n",
    "embed_long_32W_separate = np.transpose([np.sum(model.encode(r), axis=0) for r in res_long_32W_separate_split])\n",
    "\n",
    "embed_long_32W = np.concatenate((embed_long_32W_same, embed_long_32W_separate), axis=1)"
   ]
  },
  {
   "cell_type": "markdown",
   "metadata": {},
   "source": [
    "## Plot singular values"
   ]
  },
  {
   "cell_type": "code",
   "execution_count": 14,
   "metadata": {},
   "outputs": [
    {
     "data": {
      "text/plain": [
       "Text(0.5, 1.0, 'Singular values of matrix of long response embeddings')"
      ]
     },
     "execution_count": 14,
     "metadata": {},
     "output_type": "execute_result"
    },
    {
     "data": {
      "image/png": "[encoded data removed]",
      "text/plain": [
       "<Figure size 432x288 with 1 Axes>"
      ]
     },
     "metadata": {
      "needs_background": "light"
     },
     "output_type": "display_data"
    }
   ],
   "source": [
    "for A in [\n",
    "    embed_long_32W_same,\n",
    "    embed_long_32W_separate,\n",
    "    embed_long_32W\n",
    "]:\n",
    "    U,S,Vt = np.linalg.svd(A, full_matrices=False)\n",
    "    S = [S[i]/S[0] for i in range(len(S))]\n",
    "    plt.semilogy(S)\n",
    "plt.legend([\"Same Outfit\", \"Separate Outfit\", \"All Responses\"])\n",
    "plt.title(\"Singular values of matrix of long response embeddings\")"
   ]
  },
  {
   "cell_type": "markdown",
   "metadata": {},
   "source": [
    "Note \"Separate Outfit\" overlaps \"All Responses\""
   ]
  },
  {
   "cell_type": "markdown",
   "metadata": {},
   "source": [
    "## Use CUR to form a matrix of the \"most important\" responses"
   ]
  },
  {
   "cell_type": "code",
   "execution_count": 23,
   "metadata": {},
   "outputs": [],
   "source": [
    "C_same,U_same,R_same, p_C_same, p_R_same = cur(embed_long_32W_same, idx=True)\n",
    "C_separate,U_separate,R_separate, p_C_separate, p_R_separate = cur(embed_long_32W_separate, idx=True)"
   ]
  },
  {
   "cell_type": "markdown",
   "metadata": {},
   "source": [
    "## Display top 20 responses from each category"
   ]
  },
  {
   "cell_type": "code",
   "execution_count": 25,
   "metadata": {},
   "outputs": [
    {
     "name": "stdout",
     "output_type": "stream",
     "text": [
      "Same\n",
      "\n",
      "\n",
      "This is a darn good questionnaire. I hope you can use the results to the Army's good advantage. I'm [unclear][/unclear] that this time, in this war, the administration is sincerely trying to do all possible to put our intelligent, hard fighting army in the field. [unclear][/unclear] entering the Army, I [unclear][/unclear] at the interest and ? shown in the treatment of the brick private. I hope this questionnaire is not put out by the War Department just to keep office workers busy and that they pile these up in the basement and forget them. I'm sure, however, that Mr. [unclear][/unclear] is sincere about this. \n",
      "\n",
      "Speaking about transportation, why must a soldier on furlough be kicked around on trains or buses. Civilians who have no place to go but are riding just to be doing something. Soldiers have stand up most of their trips on trains and eat last on dinning [dining] cars. If this question were asked each soldier, he would have plenty to say. A soldier on furlough is just a dog when it comes to riding a bus or train on furlough. I am not refering [referring] to army buses or trains. I think civilians who have only good reasons to ride buses or trains should be allowed to use then. \n",
      "\n",
      "1 The president of the United States didn't treat the young boys [insertion]18-19[/insertion] fair because we are old enough to fight for our country same as a man Then why shouldnt We had a right to vote maybe there wouldn't be a War. 2 After every War they elect a Republican president then the depresson comes then the Democrats gets and sticks their nose out where It don't belong and trade with foreign countries then theres a boom Then war starts in Europe the U. S. sticks her nose out where It doesn't belong the Democrats dig up the old draft Bill again Then we are at War again Read this carefully and watch in 15 or 30 years from now it will be the same thing and the people is getting mighty sick of it to. This War is nothing but a money scheme to get the people killed off. But theres a day when you rich men a politics will pay dear for this. \n",
      "\n",
      "I would like to take this opportunity to speak my mind. They say it is a soldier's privilege to \"bitch\". Since I come in this highly disorganized 45th Division I have found out what sectionalism is at first hand. This Division is primarily the Oklahoma Nat. Guard. Many so-called \"Yankees\" have been placed in this Division upon completion of their basic training. The thing that hits you first is that unless you are an \"Oky\" [\"Okie\"] you haven't a chance. And in my 6th month in this outfit I have been reliving the Civil War which we thought was settled. As a result of this \"feuding\" the morale is very low - nobody gives a dam [damn] about anything! Although I hate to say it - the happiest day of my life (outside of getting an honorable discharge) would be the day when I was transferred from this outfit!!! \n",
      "\n",
      "I only hope that the soldier will have a better chance after the war. To get a job. with all the men working at defense plants and men being taught trades it will be a tough job. I only Hope [hope] & pray that Congress will set up something that will be positive [,] not half & half to assume a [unclear][/unclear] of a job when he get [gets] home after the war. [paragraph] I haven't been down south yet but the negroes that I've seen in New York are not and should not be together with white men. They should be in the same outfit but sleep in there [their] own seperate [separate] quarters [.] There is something about them that doesnt [doesn't] fit for them to be associated in the same [unclear][/unclear] [.] They are getting now the best chanc [chance] of there [their] lives [.] Maybe they will have some common sense when they come back. \n",
      "\n",
      "the army should have the best type of classification board as it would make the men like the army and work much harder at their own free will than have to be driven to do some job they hate. also should remove some of the Induction board doctors as they don't make any effort to find out if man is sick or in poor heath lot of them just rush you through they take better care of animals than do of men. because animals ar hard to get and men can be gotten so easily. [paragraph] Also some of the doctors in army should have to take an examination. [unclear]like[/unclear] given at final close of medical Studies before entering the army and should have a grade of 87 - 100 not any lower. also men should be given the right size clothing and right size of shoe. as I have seen many men wearing shoes too large or small and getting feet they could not walk on after few week in army \n",
      "\n",
      "This questionairre is undoubtedly a very good one, as it is easy to see that it has been carefully prepared. However, I think it fails to take into account the fact that many of the men who will answer this questionairre are very recent arrivals in the army. I, for example, have been in the army for only 2 months. I haven't been assigned to any job yet, & I haven't been assigned to any permanent outfit as yet. So [deletion]question[/deletion] I find it very difficult to answer questions 20-32 honestly. I really haven't had time to make up my mind. \n",
      "\n",
      "Have much trouble in getting proper treatment and to cause of my troubled eyes. I was given a pair of Govt. Issue glasses, they were incorrect, and had to buy the next pair of glasses issued to me, because of their mistake. Gladly done that to get relief! as yet it's OK! The army is a great experience for any man, it was meant for man to suffer somewhat, to appreciate the peace, and a [deletion]help[/deletion] healthful life. Our Government is a Gov't. of the People and by the People, and for the people. It is the best form of gov't or ruling in the history of the world. Free of speech, Free of religion; it is wonderful! \n",
      "\n",
      "How about stopping men like Captain Rickenbacker from taken it apon himself to speak for the soldiers. Lets not have another prohibition. Lets give our working people a better chance to earn a living and not keep degrading them. People in defense plants are working 60 to 70 hrs a week and 7 days a week these days. So lets not say they are slackers and should be in the army. Capital has just the same amount of power to prevent strikes and labor disturbances as do the working people. So lets not blame the worker. \n",
      "\n",
      "The negro question should be worked on in the schools. Racial superiority themes should be left to the Axis. Our theme should be equality for all. Everyone shouts about the shortage of manpower but if there were a general crack-down we could accomplish twice as much. Clean up Wash. D.C. [insertion]for a starter[/insertion] ‚Äì there's more than enough work for everyone & everyone should be working. \n",
      "\n",
      "I am a lad of 20 years, have been scholarly minded all my life. Passed the Army test with 124 & similar high marks yet I find myself in a rifle company designed for the simplest minds and strongest backs. I am not rugged, my eyes are deficient to make one unfit for active combat yet I must not ask for a transfer under penalty of extra duty, KP, & general antagonism from the officers above me. I feel sure I would be much more valuable in any technical branch & expect any day to develop into a nervous wreck from the strenous & hectic moments of late. I think there should be a personnel man to listen to each man's desires & to be able to help him should he consider it essential to the Armys & man's welfare. Again I say I am a misfit in my present job when I'm sure I could be of far greater value to the Air Corps. \n",
      "\n",
      "There is too much friction between the white officers of the south and the men of the north. [paragraph] The treatment of the Negroes in the army while in the [unclear][/unclear] is unfair. [unclear][/unclear] [unclear][/unclear] [unclear][/unclear] [unclear][/unclear] staffed with abled bodied men who should be put in the field The equipment in many cases is too expensive when cheaper material would do as good a job. [paragraph] Better supervision of the cooking of food [unclear][/unclear] good [unclear][/unclear] to lack of experience [paragraph] The stressing of personal hygiene more strongly particularly with southern soldiers & officers. \n",
      "\n",
      "The classification of the individual soldier is still not what it should be. After a certain length of time a soldier that is not qualified for the line of duty he is in should be placed without question in his proper place. There are too many men in the service that are in outfits where they are not beneficial at all. A man 5 ft. 125 lbs. that tires quickly is put into the Infantry while a man 6 ft. 175 lbs is put driving a jeep or truck or put on a job that does not require much physical work at all \n",
      "\n",
      "1. I believe that the Army is not making the best use of the men they place in non-combatant classification. Certainly men of executive caliber or men with college education should not be shoved aboard a sanitation outfit or into a menial physical job. 2. The Army realizes the need of good food -- but does it recognize theneed of adequate sleep for trainees? Certainly good health is essential while in training and sleep is a prerequisite. 3. When do we get time to relax? - Certainly we should be entitled to one or two hours to ourselves to read the latest news reports or to listen to [deletion][/deletion] a good orchestra or band. With the high cost of laundry most of my spare time is filled with laundry, shoe polishing and changing uniforms and just waiting [deletion][/deletion] in formation for orders, for this & that or just waiting to wait! \n",
      "\n",
      "No place for a married man with 3 children in the army as man married should be home with his wife a children. not in the army. There is lot of men is not married and in the army & no \n",
      "\n",
      "The questionnaire seems to be thorough and fair in the questions it asks. I feel that the information gathered from the last question could be better judged if the questionnaire asked the race of the person answering. The writer is white and has long hoped for negro equality and further education of the negro race so that they might have the opportunity to use their new liberties properly. \n",
      "\n",
      "This is a very good questionnaire. It makes a person get a better look on the army life. I think if a person get in and helps he would like the army and he should be glad to do anything he can to help win our freedom. It doesn't matter if they are white, yellow, black, to they are Americans and they are all in to get freedom. We all hope it come very soon. \n",
      "\n",
      "The negro problem is one we must solve ourselves. We must raise them all to our standard of living and except [accept] them as equals or separate them in localities of their own. This is going to be a big problem in the near future and we must face it squarely. I am white but believe a democracy stands for an equal opportunity for all regardless of color. The negros are growing in population and I believe unless we educate them properly they will revolt against us at a later date. \n",
      "\n",
      "Our orientation lectures included this statements. \"The doctrine of Manifest Destiny must be revived in regard to Central and South America. Poster throughout the camp proclaim \"We alone are capable of dictating the terms of a peace These statements seem to me to be the things we are fighting against. Why if we are fighting for equal rights for all peoples are we taught these things? \n",
      "\n",
      "Any soldier who has received specialized training when assigned to an outfit you be entitled to a rating. Where I am now you have to belong to a clan or an organization to get a rating. My ideas of officers and non-coms are fellows who should be leaders not men to kick the fellow below them like sand under their shoes. [Paragraph] When you are entitled to a forlough you should be able to get it with out begging and tipping the higher ups. \n",
      "\n",
      "\n",
      "Separate\n",
      "\n",
      "\n",
      "In my oppinion, the army life is alright. Civilians treat us fairly good. I am contented because the boys in our outfit are just like brothers. We all complain as a whole. Our officers and men are shifted so much we don't have chance to learn much. Men are in our outfit who shouldn't be here. They only hinder us. To many men kiss asses for their rating, while other, less conservative men who have ability, lose faith in the army and don't give a damn. As a result we have a lot of good men lost in the pile. We have a bunch of gold briggers and ass kissing non-coms, showing off their day old stripes. The officers conduct to many needless inspections, and are shifted around to much to be of any aid to the men under them. Only men with brains should run the army. Not ones with loud mouths. \n",
      "\n",
      "Questions 15-20 C.O,'s should use more care in picking + [and] promoting New N. C. O.'s. Should become acquainted with their men. Take more interest in encouraging qualified men to O. C. S. --- there are a few outside the orderly Room. \n",
      "\n",
      "I would only like to say this: They should not mix the Northerners with the south. There is no cooperation. The Moral of the men has it stands is very poor. The food has been terrible. We are not fully clothed as we should be. The way these non commissioned also some commissioned officers give out their orders, breaks up the Moral. Moral and food is of vital importance in any line of Military service also in civilian life. Moral & Food is very poor in this outfit. You may not believe what I have to say, but if you was to mix in with the men, especially around the PX's and Service Clubs and listen to what they have to say, you will learn a lot, and will agree that the Moral, Food and Servis is very poor. I hate to be with this outfit in combat, because there will be more fighting among themselves done than the fighting done with the enemies. Many men don't forget how they have been mistreated. They are waiting for the day to get even. It will be terrible if they want [last line is cut off]. \n",
      "\n",
      "I've been with the past band since it started, in Aug. 1942. I had responsibilities regarding the Drummers, teaching them to march and routine them. I had charge of a dance band, I also had charge of the [unclear][/unclear] Band. I was asked to go home for my own instruments and music at my own [unclear][/unclear]. The music was very helpful to the organization as we hardly had any at that time. Most of the dance band work was done after duty hours. All the time on my music was done at my spare time. All experiences were paid by me - no payment from the band fund was ever offered to me. I was the first to volunteer my services in the mess hall, playing for enlisted men. Also played at the officers club with both bands every Saturday night or when the occasion called for music. This was also on off duty hours. No allotment was made until another unit joined us, the fund paid the EM 3.00 - I was then given a chance one night a month to play the [unclear][/unclear] for the 3.00, playing the drums. In other words when the fund money was handed out, I got the neck of the chicken - meanwhile, EM who are hardly musicians were getting ratings - and also put with the band as assigned - I was still to be with the band as \n",
      "\n",
      "At the rate this war is going it can last indefinitely as I don't think we're doing as much as we could to bring it to a close. All the common people are anixous to end the war as soon as possible so that they may return home to their loved ones and a normal way of life. To many people are using this war as a get rich quick ckeme. Soldiere are fighting this war and paying for it. For example I am a S/Sgt and have charge of thirteen men. We buy war bonds and donate to the red cross every month. This month we bought $400 worth of bonds and donated $44 to the red cross. That's why I say we are fighting the war and paying for it. Let's get it over with \n",
      "\n",
      "The idea of this questionnaire is good. I hope it is more than just a scrap of paper. All soldiers thrive on good meals. A good meal smooths over a lot of rough spots & stops soldiers from complaining so much. Our meals are not so hot. Breakfast is pretty good but dinner & supper sometimes smell. You never get two good meals in a row. I have been in 3 camps & in all of them the bus service has been lousy. Some outfits do not give enough week end passes & if they do they are so short that you meet yourselve going & coming. Between a very short pass & lousy bus service a [deletion][/deletion] soldier gets disgusted. Induction centers herd you around like cattle. [deletion][/deletion] New soldiers are badly treated. Little is thought of their needs or comforts. As a soldier I got very little practice with a rifle. I fired a 22 but never a 30-30 & I am in the army 4 months.  \n",
      "\n",
      "No. 9 I would want to come back if I could get in the Ordinance Department. No. 20 I would be interested if I could get the job I want. No. 24 I think I would be worth more to the Army if I can get the job I want. Anyone can fire the boilers I am firing. No. 26 because of mothers health. 30 I would rather be in a combat outfit if my vision were better 31 I would rather have a fighting job if my eyes were fixed. 41 It will help me if I get the job I want. 43. There is no complete victory in war, that is my belief. 53 Some people don't like negros and in some cases they can do the job better than a white. \n",
      "\n",
      "The first thing about all of this questionnaire it is to find out my opinion as a soldier. Since I enlisted in the army I have been on guard duty. I myself being young & quite active could could contribute my services to my country very much better if I could be put in a fighting branch. I have tried to be transferred and they tell me you can transfer out of the Air Camp. I would enlist for four years if I could only get out of here. Having a fair knowledge of the army & its ways of operation and also having a love to be a top rated soldier. I could readily say, that I would be a 100% more good to the army in the young man's place. Guard takes all of the good things out of a young man & makes him feel as if he doesn't have a thing left to live for. Guard should be for older men that can't qualify for overseas service. The army is not making a man out of me, but destroying me. I enlisted to become a good soldier & a good built man. \n",
      "\n",
      "The negro is a good citizen. He is given a fair chance. But the majority of them are ignorant. If he had better education he probably wouldn't have to [unclear][/unclear] as he does. [unclear][/unclear] is not any more so he should try to better himself. I know we will win the war. We have too. [unclear][/unclear] we should do something to prevent it from happening again. I also think everyone is doing his part to win. \n",
      "\n",
      "I sincerely believe that there is not ample opportunity for these who desire to apply for Officer Candidate School. Here it is impossible. Applications are not approved because there is a lack of strength. I am one of ten or twelve Class I men. This group desires an opportunity. [paragraph] Many of our men are in jobs that do not permit a full display of talents. I believe a man adequate method for discovering possibilities should be evolved. Why should men with no mechanical aptitude be shoved into the mechanic's position? Similarly, why should high intelligence and experiences be used on typewriter ribbons? [paragraph] Soldiers do not keep up with current events. I came int the Army saying, \"Now I shall see men who know what is happening in the world.\" What a mistaken idea!  \n",
      "\n",
      "Men over 35 should not have to compete physically with boys of 20 + 21. The army should not place a man in a young mans outfit just because his ability to do some job is needed. He should have a job (of which there are thousands done by young men) where he could have some physical comfort and not get up every morning more tired than he went to bed. [paragraph] Don't try to make a Division of 95% draftees and 5% volunteers. most draftees are dissatisfied and the morale is low. [paragraph] Have non-coms [non-commissioned officer] made by competitive exams and not on recommendation of some B.C. who knows little or nothing of his men individually. \n",
      "\n",
      "This questionnaire is O.K. excepting for the last part. It seems to be trying to distinguish the negroes from the whites & vice versa. It is a hard matter to tell yourself that a negroe is just as good as yourself. Where one race is black & one is white, it is hardly fitting that they sleep & eat & associate together. There are numerous cases of white women marrying negroes & bearing negroe children. I do believe there is some solution whereby the white does not mingle with the black & still not oppress them. Oppression is not right so I say ship them back to Africa, providing we keep Africa. \n",
      "\n",
      "They left out the food. Here I think there should be something done about it. Some soldiers get all the food those are so called chow huns. If you don't get there first well your out of luck. They ought to have different system too see that some doesn't get it all while others half too go over too the P.X. and buy their old stale sandwich. There is no table maners at all. Some of the fellows even grabe the food out of your hands. When you go up for coffe or something and come back somebody takes your bread. Personaly if I should happen too go out for dinner at somebody's place I don't thing I could know how too eat. I'm too getting the same way cause if you don't you go out half starved. \n",
      "\n",
      "I think this questionnaire is a good idea, but our minds are flexible and some times we may feel a little different than we do at other times. The questions answered here will have to be taken with discretion or use a few broad minded view points on some subjects. As for my part all I can think of is getting out of the Army and back to my family. I know this is not the right attitude to take, but I was raised a \"peace maker\" and don't care to participate in warfare. However if it is my duty and since I've been called I'm going to go as far in the army as my conscience and my [insertion]beliefs[/insertion] [unclear]rights[/unclear] to God will let me go. I am a non-Combatant.  \n",
      "\n",
      "My suggestion would be to spend more time getting men to the fight & less time on surveys to see how the feel about going. They have enjoyed the privileges of this country and anything that is worth having is worth fighting for. Lets do more fighting & less talking. So far this war we have talked a very good fight but actually produced very little in comparison. Lets stop the hero worship when a man kills a Jap. or German. He is dong a job And in all the jobs I've had they pay off in results and not the kind of a job I can talk. Yours truly a G. I. \n",
      "\n",
      "I think the Army camps are run too much like a kindergarten. We are not treated like grown men. More like a bunch of kids. There is no system what ever. They tell you one thing one day and the next day they curse you out for not doing something entirely different from what was first told us. Also, they send us to an A.M. school to be specialists and we got to a camp afterwards to do K.P. Not that I object to K.P. but why should a fellow go to A.M. school to get it? We could pull K.P. without going to A.M. school. Also they put Non Coms over us on the line that have never been to an A.M. school. In other words I think they run the Army just backwards. \n",
      "\n",
      "I realize that we have to work and cooperate to win the war but the people on the outside are being steped on. Farming is where we get our grub & we have to have it. Some plan needs to be worked out so farmers some help. These defense jobs have wages too high & farmers gets nothing for his crop & can't afford to pay the wages for help. Something must be done or we don't eat. I think after a soldier gets his training he should help in the crops. We are rationed here for boys overseas & the hell of it they don't get it either. Its alright to do without here but they should get it if we do so here. Thank you kindly \n",
      "\n",
      "There is only one thing I don't like about this Army and that is. Why must they put Yankees into a rebel Division. In my outfit here, if you're not a Southern Boy you don't get the N.C.O. rateing. The highest rateing a Yankee gets in this division is A.P.S.C. and he's darn lucky to get that. [Paragraph] I would also like to comment on the food we get here. The only meat we get is Goat meat. Everybody is getting to look like a goat. All you ever hear on the Radio is how the Army is getting everything. But where is it going to. We're not getting it. And also where is all this Butter and Milk the army is supposed to be getting. Please let us boys in the Army know. We like to hear some lies once in a while. \n",
      "\n",
      "I am a married man and my wife will have a baby almost any time now and I think a married man belongs on a defense job or farm so he can take care of his family and keep his mind on his work. Personally I cant keep my mind on my work the way things are. I can't do any good when I dont know how my family is and am worried all the time and have my mind on them. I have been nearly struck by trucks and automobiles on many occassions while going along thinking and worrying about my family at home. I am trying to carry on through this thing so that we may be together again soon. \n",
      "\n",
      "The army sales talk to us when we were civilians regarding that we would be placed to work in the army which we are better suited for proved to be a farce. I am just one of the many who are in the same position we are doing work which we dislike, have no interest in. I feel sincerely that my army career has been a failure because of this. If ever I live thru this war and go home again I shall feel that my time past in the organization has been lost. The whole thing boils down to the fact that it isn't what you know in the army but who you know in order to be successful. Because of these disappointments we cannot help but feel that we are \"suckers\" to fight and die in order that others will become rich. When I came in to the army I was full of ambition and hopes. Today I am broken in spirit and have lost all sparks that I possessed toward achievement. Only a transfer to a suitable line of work can restore my hopes etc again.  \n",
      "\n"
     ]
    }
   ],
   "source": [
    "print(\"Same\\n\\n\")\n",
    "for i in range(20):\n",
    "    print(res_long_32W_same[p_C_same[i]], '\\n')\n",
    "print(\"\\nSeparate\\n\\n\")\n",
    "for i in range(20):\n",
    "    print(res_long_32W_separate[p_C_separate[i]], '\\n')"
   ]
  },
  {
   "cell_type": "markdown",
   "metadata": {},
   "source": [
    "## Look into possible rank-k approximations"
   ]
  },
  {
   "cell_type": "code",
   "execution_count": 27,
   "metadata": {},
   "outputs": [
    {
     "name": "stdout",
     "output_type": "stream",
     "text": [
      "0\n"
     ]
    },
    {
     "data": {
      "image/png": "[encoded data removed]",
      "text/plain": [
       "<Figure size 432x288 with 1 Axes>"
      ]
     },
     "metadata": {
      "needs_background": "light"
     },
     "output_type": "display_data"
    }
   ],
   "source": [
    "plot_eta_c(embed_long_32W_same)"
   ]
  },
  {
   "cell_type": "code",
   "execution_count": 34,
   "metadata": {},
   "outputs": [],
   "source": [
    "plot_eta_c(embed_long_32W_separate)"
   ]
  }
 ],
 "metadata": {
  "kernelspec": {
   "display_name": "Python 3",
   "language": "python",
   "name": "python3"
  },
  "language_info": {
   "codemirror_mode": {
    "name": "ipython",
    "version": 3
   },
   "file_extension": ".py",
   "mimetype": "text/x-python",
   "name": "python",
   "nbconvert_exporter": "python",
   "pygments_lexer": "ipython3",
   "version": "3.7.3"
  }
 },
 "nbformat": 4,
 "nbformat_minor": 4
}
