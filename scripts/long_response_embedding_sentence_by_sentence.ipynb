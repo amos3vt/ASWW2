{
 "cells": [
  {
   "cell_type": "code",
   "execution_count": 1,
   "metadata": {},
   "outputs": [],
   "source": [
    "import numpy as np\n",
    "from scipy import linalg\n",
    "import pandas as pd"
   ]
  },
  {
   "cell_type": "code",
   "execution_count": 2,
   "metadata": {},
   "outputs": [],
   "source": [
    "# Read it in\n",
    "path = \"../data/surveys.xlsx\"\n",
    "survey_32W = pd.read_excel('Survey_32N and 32W consolidated.xlsx', sheet_name=\"Survey_32W\", converters={'T3':str})\n",
    "survey_32N = pd.read_excel('Survey_32N and 32W consolidated.xlsx', sheet_name=\"Survey_32N\")\n",
    "\n",
    "# Drop unnecessary columns\n",
    "survey_32W.drop(columns=['Unnamed: 0', 'subject_id', 'image_name', 'image_name_2'], inplace=True)\n",
    "survey_32N.drop(columns=['Unnamed: 0', 'subject_id', 'image_name', 'image_name_2'], inplace=True)\n",
    "\n",
    "# Drop rows missing response\n",
    "survey_32W = survey_32W[\n",
    "    (survey_32W['T3'] != ' ') &\n",
    "    (survey_32W['T3'] != 'none') &\n",
    "    (survey_32W['T3'].notnull()) &\n",
    "    (survey_32W['T3'] != 'No Comments ') &\n",
    "    (survey_32W['T3'] != 0) &\n",
    "    (survey_32W['T3'] != 'None') &\n",
    "    (survey_32W['T3'] != '[NO ANSWER]')]\n",
    "\n",
    "# Select responses\n",
    "res_together = survey_32W['T3'][survey_32W['T1'] == \"['They should be together in the same outfits']\"].tolist()\n",
    "res_separate = survey_32W['T3'][survey_32W['T1'] == \"['They should be in separate outfits']\"].tolist()\n",
    "\n",
    "res_N = survey_32N['T5'].tolist()\n",
    "long_together = survey_32W['T4'][survey_32W['T1'] == \"['They should be together in the same outfits']\"].tolist()\n",
    "long_separate = survey_32W['T3'][survey_32W['T1'] == \"['They should be in separate outfits']\"].tolist()"
   ]
  },
  {
   "cell_type": "markdown",
   "metadata": {},
   "source": [
    "# Importing Embedding tool"
   ]
  },
  {
   "cell_type": "code",
   "execution_count": 3,
   "metadata": {},
   "outputs": [],
   "source": [
    "from sentence_transformers import SentenceTransformer\n",
    "model = SentenceTransformer('bert-base-nli-stsb-mean-tokens')"
   ]
  },
  {
   "cell_type": "code",
   "execution_count": 5,
   "metadata": {},
   "outputs": [
    {
     "name": "stdout",
     "output_type": "stream",
     "text": [
      "3461\n",
      "2435\n"
     ]
    }
   ],
   "source": [
    "no_float = [i for i in res_N if type(i) != float]\n",
    "print(len(no_float))\n",
    "no_unclear = [i for i in no_float if '[unclear]' not in i]\n",
    "print(len(no_unclear))"
   ]
  },
  {
   "cell_type": "code",
   "execution_count": 6,
   "metadata": {},
   "outputs": [],
   "source": [
    "responses = pd.DataFrame({'Responses': no_unclear})"
   ]
  },
  {
   "cell_type": "code",
   "execution_count": 26,
   "metadata": {},
   "outputs": [],
   "source": [
    "all_sentences = []\n",
    "response_numbers = []\n",
    "idx = 1\n",
    "for i in responses['Responses']:\n",
    "    temp = i.split('.')\n",
    "    for k in temp:\n",
    "        response_numbers.append(idx)\n",
    "    for j in temp:\n",
    "        all_sentences.append(j)\n",
    "    idx += 1"
   ]
  },
  {
   "cell_type": "code",
   "execution_count": 27,
   "metadata": {},
   "outputs": [
    {
     "data": {
      "text/plain": [
       "10510"
      ]
     },
     "execution_count": 27,
     "metadata": {},
     "output_type": "execute_result"
    }
   ],
   "source": [
    "len(all_sentences)"
   ]
  },
  {
   "cell_type": "code",
   "execution_count": 28,
   "metadata": {},
   "outputs": [
    {
     "data": {
      "text/plain": [
       "10510"
      ]
     },
     "execution_count": 28,
     "metadata": {},
     "output_type": "execute_result"
    }
   ],
   "source": [
    "len(response_numbers)"
   ]
  },
  {
   "cell_type": "code",
   "execution_count": 40,
   "metadata": {},
   "outputs": [],
   "source": [
    "split_responses = pd.DataFrame({'Individual_sentences': all_sentences, 'Response #': response_numbers, 'Pure_index':\n",
    "                               range(0, len(all_sentences))})"
   ]
  },
  {
   "cell_type": "code",
   "execution_count": 41,
   "metadata": {
    "scrolled": true
   },
   "outputs": [
    {
     "data": {
      "text/html": [
       "<div>\n",
       "<style scoped>\n",
       "    .dataframe tbody tr th:only-of-type {\n",
       "        vertical-align: middle;\n",
       "    }\n",
       "\n",
       "    .dataframe tbody tr th {\n",
       "        vertical-align: top;\n",
       "    }\n",
       "\n",
       "    .dataframe thead th {\n",
       "        text-align: right;\n",
       "    }\n",
       "</style>\n",
       "<table border=\"1\" class=\"dataframe\">\n",
       "  <thead>\n",
       "    <tr style=\"text-align: right;\">\n",
       "      <th></th>\n",
       "      <th>Individual_sentences</th>\n",
       "      <th>Response #</th>\n",
       "      <th>Pure_index</th>\n",
       "    </tr>\n",
       "  </thead>\n",
       "  <tbody>\n",
       "    <tr>\n",
       "      <td>0</td>\n",
       "      <td>Negroes have been told many times they're figh...</td>\n",
       "      <td>1</td>\n",
       "      <td>0</td>\n",
       "    </tr>\n",
       "    <tr>\n",
       "      <td>1</td>\n",
       "      <td>But a colored soldier is more discriminated a...</td>\n",
       "      <td>1</td>\n",
       "      <td>1</td>\n",
       "    </tr>\n",
       "    <tr>\n",
       "      <td>2</td>\n",
       "      <td>Its evident to those who care to see it that ...</td>\n",
       "      <td>1</td>\n",
       "      <td>2</td>\n",
       "    </tr>\n",
       "    <tr>\n",
       "      <td>3</td>\n",
       "      <td>Since the Emancipation Proclamation Negroes h...</td>\n",
       "      <td>1</td>\n",
       "      <td>3</td>\n",
       "    </tr>\n",
       "    <tr>\n",
       "      <td>4</td>\n",
       "      <td>Each right, each privilege was fought for</td>\n",
       "      <td>1</td>\n",
       "      <td>4</td>\n",
       "    </tr>\n",
       "    <tr>\n",
       "      <td>...</td>\n",
       "      <td>...</td>\n",
       "      <td>...</td>\n",
       "      <td>...</td>\n",
       "    </tr>\n",
       "    <tr>\n",
       "      <td>10505</td>\n",
       "      <td>This his your war and I am just fighting in it</td>\n",
       "      <td>2434</td>\n",
       "      <td>10505</td>\n",
       "    </tr>\n",
       "    <tr>\n",
       "      <td>10506</td>\n",
       "      <td></td>\n",
       "      <td>2434</td>\n",
       "      <td>10506</td>\n",
       "    </tr>\n",
       "    <tr>\n",
       "      <td>10507</td>\n",
       "      <td>I think personally this questionnaire is a goo...</td>\n",
       "      <td>2435</td>\n",
       "      <td>10507</td>\n",
       "    </tr>\n",
       "    <tr>\n",
       "      <td>10508</td>\n",
       "      <td>It bring out the opinion of the soldiers and ...</td>\n",
       "      <td>2435</td>\n",
       "      <td>10508</td>\n",
       "    </tr>\n",
       "    <tr>\n",
       "      <td>10509</td>\n",
       "      <td></td>\n",
       "      <td>2435</td>\n",
       "      <td>10509</td>\n",
       "    </tr>\n",
       "  </tbody>\n",
       "</table>\n",
       "<p>10510 rows × 3 columns</p>\n",
       "</div>"
      ],
      "text/plain": [
       "                                    Individual_sentences  Response #  \\\n",
       "0      Negroes have been told many times they're figh...           1   \n",
       "1       But a colored soldier is more discriminated a...           1   \n",
       "2       Its evident to those who care to see it that ...           1   \n",
       "3       Since the Emancipation Proclamation Negroes h...           1   \n",
       "4              Each right, each privilege was fought for           1   \n",
       "...                                                  ...         ...   \n",
       "10505     This his your war and I am just fighting in it        2434   \n",
       "10506                                                           2434   \n",
       "10507  I think personally this questionnaire is a goo...        2435   \n",
       "10508   It bring out the opinion of the soldiers and ...        2435   \n",
       "10509                                                           2435   \n",
       "\n",
       "       Pure_index  \n",
       "0               0  \n",
       "1               1  \n",
       "2               2  \n",
       "3               3  \n",
       "4               4  \n",
       "...           ...  \n",
       "10505       10505  \n",
       "10506       10506  \n",
       "10507       10507  \n",
       "10508       10508  \n",
       "10509       10509  \n",
       "\n",
       "[10510 rows x 3 columns]"
      ]
     },
     "execution_count": 41,
     "metadata": {},
     "output_type": "execute_result"
    }
   ],
   "source": [
    "split_responses"
   ]
  },
  {
   "cell_type": "markdown",
   "metadata": {},
   "source": [
    "# Including DEIM implementation"
   ]
  },
  {
   "cell_type": "code",
   "execution_count": 34,
   "metadata": {},
   "outputs": [],
   "source": [
    "def DEIM(V):\n",
    "    #Modified Row Selection\n",
    "    E = np.identity(len(V))\n",
    "    Pcol = []\n",
    "    p1 = np.argmax(abs(V[:,0]))\n",
    "    Pcol.append(p1)\n",
    "    \n",
    "    for j in range(1, np.shape(V)[1]):\n",
    "        Ei = np.array([E[i] for i in Pcol])\n",
    "        Vi = np.transpose(np.array([V[:, i] for i in range(0, j)]))\n",
    "        inv = linalg.inv(Ei @ Vi)\n",
    "        P_i = Vi @ inv @ Ei\n",
    "        ri = V[:, j] - P_i @ V[:, j]\n",
    "        Pcol.append(np.argmax(abs(ri)))\n",
    "        \n",
    "    return Pcol"
   ]
  },
  {
   "cell_type": "code",
   "execution_count": 43,
   "metadata": {},
   "outputs": [],
   "source": [
    "list_of_sentences = split_responses['Individual_sentences'].to_list()"
   ]
  },
  {
   "cell_type": "code",
   "execution_count": 46,
   "metadata": {},
   "outputs": [],
   "source": [
    "embeddings = model.encode(list_of_sentences)"
   ]
  },
  {
   "cell_type": "code",
   "execution_count": 65,
   "metadata": {},
   "outputs": [
    {
     "ename": "AttributeError",
     "evalue": "'list' object has no attribute 'transpose'",
     "output_type": "error",
     "traceback": [
      "\u001b[1;31m---------------------------------------------------------------------------\u001b[0m",
      "\u001b[1;31mAttributeError\u001b[0m                            Traceback (most recent call last)",
      "\u001b[1;32m<ipython-input-65-f118ac1697ae>\u001b[0m in \u001b[0;36m<module>\u001b[1;34m\u001b[0m\n\u001b[1;32m----> 1\u001b[1;33m \u001b[0mU\u001b[0m\u001b[1;33m,\u001b[0m \u001b[0mS\u001b[0m\u001b[1;33m,\u001b[0m \u001b[0mVt\u001b[0m \u001b[1;33m=\u001b[0m \u001b[0mlinalg\u001b[0m\u001b[1;33m.\u001b[0m\u001b[0msvd\u001b[0m\u001b[1;33m(\u001b[0m\u001b[0membeddings\u001b[0m\u001b[1;33m.\u001b[0m\u001b[0mtranspose\u001b[0m\u001b[1;33m)\u001b[0m\u001b[1;33m\u001b[0m\u001b[1;33m\u001b[0m\u001b[0m\n\u001b[0m",
      "\u001b[1;31mAttributeError\u001b[0m: 'list' object has no attribute 'transpose'"
     ]
    }
   ],
   "source": [
    "U, S, Vt = linalg.svd(embeddings)"
   ]
  },
  {
   "cell_type": "code",
   "execution_count": 66,
   "metadata": {},
   "outputs": [
    {
     "data": {
      "text/plain": [
       "(10510, 768)"
      ]
     },
     "execution_count": 66,
     "metadata": {},
     "output_type": "execute_result"
    }
   ],
   "source": [
    "np.shape(embeddings)"
   ]
  },
  {
   "cell_type": "code",
   "execution_count": 89,
   "metadata": {},
   "outputs": [],
   "source": [
    "my_matrix = np.array([list(np.array(i)) for i in embeddings])"
   ]
  },
  {
   "cell_type": "code",
   "execution_count": 96,
   "metadata": {},
   "outputs": [],
   "source": [
    "U, S, Vt = linalg.svd(my_matrix)"
   ]
  },
  {
   "cell_type": "code",
   "execution_count": null,
   "metadata": {},
   "outputs": [],
   "source": [
    "ranking = DEIM(U)"
   ]
  }
 ],
 "metadata": {
  "kernelspec": {
   "display_name": "Python 3",
   "language": "python",
   "name": "python3"
  },
  "language_info": {
   "codemirror_mode": {
    "name": "ipython",
    "version": 3
   },
   "file_extension": ".py",
   "mimetype": "text/x-python",
   "name": "python",
   "nbconvert_exporter": "python",
   "pygments_lexer": "ipython3",
   "version": "3.7.4"
  }
 },
 "nbformat": 4,
 "nbformat_minor": 2
}
