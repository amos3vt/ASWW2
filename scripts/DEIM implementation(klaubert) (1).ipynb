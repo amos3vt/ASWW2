{
 "cells": [
  {
   "cell_type": "code",
   "execution_count": 1,
   "metadata": {},
   "outputs": [],
   "source": [
    "import numpy as np\n",
    "from scipy import linalg\n",
    "import pandas as pd"
   ]
  },
  {
   "cell_type": "code",
   "execution_count": 2,
   "metadata": {},
   "outputs": [],
   "source": [
    "# Read it in\n",
    "path = \"../data/surveys.xlsx\"\n",
    "survey_32W = pd.read_excel('Survey_32N and 32W consolidated.xlsx', sheet_name=\"Survey_32W\", converters={'T3':str})\n",
    "survey_32N = pd.read_excel('Survey_32N and 32W consolidated.xlsx', sheet_name=\"Survey_32N\")\n",
    "\n",
    "# Drop unnecessary columns\n",
    "survey_32W.drop(columns=['Unnamed: 0', 'subject_id', 'image_name', 'image_name_2'], inplace=True)\n",
    "survey_32N.drop(columns=['Unnamed: 0', 'subject_id', 'image_name', 'image_name_2'], inplace=True)\n",
    "\n",
    "# Drop rows missing response\n",
    "survey_32W = survey_32W[\n",
    "    (survey_32W['T3'] != ' ') &\n",
    "    (survey_32W['T3'] != 'none') &\n",
    "    (survey_32W['T3'].notnull()) &\n",
    "    (survey_32W['T3'] != 'No Comments ') &\n",
    "    (survey_32W['T3'] != 0) &\n",
    "    (survey_32W['T3'] != 'None') &\n",
    "    (survey_32W['T3'] != '[NO ANSWER]')]\n",
    "\n",
    "# Select responses\n",
    "res_together = survey_32W['T3'][survey_32W['T1'] == \"['They should be together in the same outfits']\"].tolist()\n",
    "res_separate = survey_32W['T3'][survey_32W['T1'] == \"['They should be in separate outfits']\"].tolist()\n",
    "\n",
    "res_N = survey_32N['T5'].tolist()"
   ]
  },
  {
   "cell_type": "code",
   "execution_count": 3,
   "metadata": {},
   "outputs": [],
   "source": [
    "from sentence_transformers import SentenceTransformer\n",
    "model = SentenceTransformer('bert-base-nli-stsb-mean-tokens')"
   ]
  },
  {
   "cell_type": "code",
   "execution_count": 4,
   "metadata": {},
   "outputs": [],
   "source": [
    "embeddings = model.encode(res_together)"
   ]
  },
  {
   "cell_type": "code",
   "execution_count": 5,
   "metadata": {},
   "outputs": [],
   "source": [
    "testing = embeddings"
   ]
  },
  {
   "cell_type": "code",
   "execution_count": 6,
   "metadata": {},
   "outputs": [
    {
     "data": {
      "text/plain": [
       "(76, 768)"
      ]
     },
     "execution_count": 6,
     "metadata": {},
     "output_type": "execute_result"
    }
   ],
   "source": [
    "np.shape(testing)"
   ]
  },
  {
   "cell_type": "markdown",
   "metadata": {},
   "source": [
    "## Implementing DEIM"
   ]
  },
  {
   "cell_type": "markdown",
   "metadata": {},
   "source": [
    "I did this implementation in two different functions to clearly split the tasks.  The DEIM function is the row selection process, and the CUR function is then execution of the actual factorization using the DEIM row selection method"
   ]
  },
  {
   "cell_type": "code",
   "execution_count": 7,
   "metadata": {},
   "outputs": [],
   "source": [
    "def DEIM(V):\n",
    "    #Column Selection\n",
    "    Pcol = []\n",
    "    p1 = np.argmax(abs(V[:, 0]))\n",
    "    Pcol.append(p1)\n",
    "    for j in range(1, np.shape(V)[1]):\n",
    "        r = V[:, j] - (V[:, j][Pcol[0]] / V[:, j-1][Pcol[0]]) * V[:, j-1]\n",
    "        pj = np.argmax(abs(r))\n",
    "        Pcol.append(pj)\n",
    "        \n",
    "    #Row selection\n",
    "    Prow = []\n",
    "    p1 = np.argmax(abs(V[0]))\n",
    "    Prow.append(p1)\n",
    "    for j in range(1, np.shape(V)[0]):\n",
    "        r = V[j] - (V[j][Prow[0]] / V[j-1][Prow[0]]) * V[j-1]\n",
    "        pj = np.argmax(abs(r))\n",
    "        Prow.append(pj)\n",
    "    return (Prow, Pcol)"
   ]
  },
  {
   "cell_type": "code",
   "execution_count": 16,
   "metadata": {},
   "outputs": [],
   "source": [
    "def cur(A):\n",
    "    #computing the SVD\n",
    "    U, S, Vt = np.linalg.svd(A)\n",
    "    rowID, colID = DEIM(U)\n",
    "    C = np.array([A[i] for i in colID])\n",
    "    R = np.array([A[i] for i in rowID])\n",
    "    U = linalg.pinv(C) @ A @ linalg.pinv(R)\n",
    "    return (C, U, np.transpose(R))"
   ]
  },
  {
   "cell_type": "code",
   "execution_count": 20,
   "metadata": {},
   "outputs": [],
   "source": [
    "test = np.array([[1, 2, 3], [4, 5, 6], [7, 8, 9], [10, 11, 12]])"
   ]
  },
  {
   "cell_type": "code",
   "execution_count": 21,
   "metadata": {},
   "outputs": [],
   "source": [
    "C, U, R = cur(test)"
   ]
  },
  {
   "cell_type": "code",
   "execution_count": 22,
   "metadata": {},
   "outputs": [
    {
     "data": {
      "text/plain": [
       "array([[10, 11, 12],\n",
       "       [ 1,  2,  3],\n",
       "       [ 1,  2,  3],\n",
       "       [ 4,  5,  6]])"
      ]
     },
     "execution_count": 22,
     "metadata": {},
     "output_type": "execute_result"
    }
   ],
   "source": [
    "C"
   ]
  },
  {
   "cell_type": "code",
   "execution_count": 23,
   "metadata": {},
   "outputs": [
    {
     "data": {
      "text/plain": [
       "array([[-0.08080808, -0.11616162, -0.15151515, -0.15151515],\n",
       "       [ 0.02525253,  0.00505051, -0.01515152, -0.01515152],\n",
       "       [ 0.13131313,  0.12626263,  0.12121212,  0.12121212]])"
      ]
     },
     "execution_count": 23,
     "metadata": {},
     "output_type": "execute_result"
    }
   ],
   "source": [
    "U"
   ]
  },
  {
   "cell_type": "code",
   "execution_count": 24,
   "metadata": {},
   "outputs": [
    {
     "data": {
      "text/plain": [
       "array([[ 4,  7, 10, 10],\n",
       "       [ 5,  8, 11, 11],\n",
       "       [ 6,  9, 12, 12]])"
      ]
     },
     "execution_count": 24,
     "metadata": {},
     "output_type": "execute_result"
    }
   ],
   "source": [
    "R"
   ]
  },
  {
   "cell_type": "code",
   "execution_count": 28,
   "metadata": {},
   "outputs": [],
   "source": [
    "row, col = DEIM(linalg.svd(testing)[0])"
   ]
  },
  {
   "cell_type": "code",
   "execution_count": 30,
   "metadata": {},
   "outputs": [],
   "source": [
    "most_important_same = pd.DataFrame({'Responses sorted from most to least important': [res_together[i] for i in row]})"
   ]
  },
  {
   "cell_type": "code",
   "execution_count": 35,
   "metadata": {},
   "outputs": [],
   "source": [
    "most_important_same.to_excel('most_important.xlsx')"
   ]
  },
  {
   "cell_type": "markdown",
   "metadata": {},
   "source": [
    "### For separate responses"
   ]
  },
  {
   "cell_type": "code",
   "execution_count": 36,
   "metadata": {},
   "outputs": [],
   "source": [
    "embeddings2 = model.encode(res_separate)"
   ]
  },
  {
   "cell_type": "code",
   "execution_count": 38,
   "metadata": {},
   "outputs": [],
   "source": [
    "row, col = DEIM(linalg.svd(embeddings2)[0])"
   ]
  },
  {
   "cell_type": "code",
   "execution_count": 40,
   "metadata": {},
   "outputs": [],
   "source": [
    "most_important_same = pd.DataFrame({'Responses sorted from most to least important': [res_separate[i] for i in row]})"
   ]
  },
  {
   "cell_type": "code",
   "execution_count": 41,
   "metadata": {},
   "outputs": [],
   "source": [
    "most_important_same.to_excel('most_important_separate_outfit.xlsx')"
   ]
  }
 ],
 "metadata": {
  "kernelspec": {
   "display_name": "Python 3",
   "language": "python",
   "name": "python3"
  },
  "language_info": {
   "codemirror_mode": {
    "name": "ipython",
    "version": 3
   },
   "file_extension": ".py",
   "mimetype": "text/x-python",
   "name": "python",
   "nbconvert_exporter": "python",
   "pygments_lexer": "ipython3",
   "version": "3.7.4"
  }
 },
 "nbformat": 4,
 "nbformat_minor": 2
}
