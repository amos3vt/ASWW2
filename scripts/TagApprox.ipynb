{
 "cells": [
  {
   "cell_type": "markdown",
   "metadata": {},
   "source": [
    "# Import necessary libraries"
   ]
  },
  {
   "cell_type": "code",
   "execution_count": 1,
   "metadata": {},
   "outputs": [],
   "source": [
    "import pandas as pd\n",
    "import numpy as np\n",
    "from bert_serving.client import BertClient\n",
    "bc = BertClient()"
   ]
  },
  {
   "cell_type": "markdown",
   "metadata": {},
   "source": [
    "# Load tag data"
   ]
  },
  {
   "cell_type": "code",
   "execution_count": 2,
   "metadata": {},
   "outputs": [],
   "source": [
    "# Load tag data\n",
    "transcriber_tags = pd.read_excel('../data/Unique_Zooniverse-tags (June2020).xlsx', \n",
    "                            converters={'name':str},\n",
    "                            sheet_name=\"ZooniverseTags\")\n",
    "\n",
    "expert_tags = pd.read_excel('../data/Unique_Zooniverse-tags (June2020).xlsx', \n",
    "                            converters={'name':str},\n",
    "                           sheet_name=\"ExpertTags\")\n",
    "\n",
    "# Get only the unique tags\n",
    "transcriber_tags = transcriber_tags.drop_duplicates('name')"
   ]
  },
  {
   "cell_type": "markdown",
   "metadata": {},
   "source": [
    "# Determine best approximations for transcriber tags"
   ]
  },
  {
   "cell_type": "markdown",
   "metadata": {},
   "source": [
    "Notes:\n",
    "- Consider adding spaces to multi-word tags\n",
    "- Word2Vec does not recognize some tags, so I'm just using BERT for now."
   ]
  },
  {
   "cell_type": "markdown",
   "metadata": {},
   "source": [
    "## Get embeddings"
   ]
  },
  {
   "cell_type": "code",
   "execution_count": null,
   "metadata": {},
   "outputs": [],
   "source": [
    "# Redefine encoding function to allow progress tracking\n",
    "def encode(tag):\n",
    "    return bc.encode([tag])[0]\n",
    "\n",
    "# Get embeddings\n",
    "expert_embed = [encode(i) for i in expert_tags['name']]\n",
    "transcriber_embed = [encode(i) for i in transcriber_tags['name']]"
   ]
  },
  {
   "cell_type": "markdown",
   "metadata": {},
   "source": [
    "## Compare embeddings"
   ]
  },
  {
   "cell_type": "code",
   "execution_count": null,
   "metadata": {},
   "outputs": [],
   "source": [
    "# Compare transcriber tag at index i to all expert tags\n",
    "def compare_all(i):\n",
    "    \n",
    "    # Track best results\n",
    "    result = {\n",
    "        \"transcriber_tag\": transcriber_tags['name'].iloc[i],\n",
    "        \"best_expert_tag\": None,\n",
    "        \"best_score\": -1\n",
    "    }\n",
    "    \n",
    "    # Make comparisons\n",
    "    for j in range(len(expert_tags)):\n",
    "        score = np.dot(transcriber_embed[i], expert_embed[j]) / \\\n",
    "            (np.linalg.norm(transcriber_embed[i]) * np.linalg.norm(expert_embed[j]))\n",
    "        if score > result['best_score']:\n",
    "            result['best_expert_tag'] = expert_tags['name'].iloc[j]\n",
    "            result['best_score'] = score\n",
    "            \n",
    "    return result\n",
    "    \n",
    "results = [compare_all(i) for i in range(len(transcriber_tags))]"
   ]
  },
  {
   "cell_type": "markdown",
   "metadata": {},
   "source": [
    "# Write results to Excel"
   ]
  },
  {
   "cell_type": "code",
   "execution_count": null,
   "metadata": {},
   "outputs": [],
   "source": [
    "# Convert list of results to dataframe\n",
    "df = pd.DataFrame(results)\n",
    "# Sort results by cosine similarity\n",
    "df = df.sort_values('best_score', ascending=False)\n",
    "# Write to excel file\n",
    "df.to_excel(\"../data/tag_approx_bert_nospace.xlsx\")"
   ]
  },
  {
   "cell_type": "markdown",
   "metadata": {},
   "source": [
    "# Cluster words that lack a close-enough approximation"
   ]
  },
  {
   "cell_type": "code",
   "execution_count": null,
   "metadata": {},
   "outputs": [],
   "source": [
    "# Cluster transcriber words that don't have good expert matches\n",
    "# kmeans, spectral"
   ]
  }
 ],
 "metadata": {
  "kernelspec": {
   "display_name": "Python 3",
   "language": "python",
   "name": "python3"
  },
  "language_info": {
   "codemirror_mode": {
    "name": "ipython",
    "version": 3
   },
   "file_extension": ".py",
   "mimetype": "text/x-python",
   "name": "python",
   "nbconvert_exporter": "python",
   "pygments_lexer": "ipython3",
   "version": "3.7.3"
  }
 },
 "nbformat": 4,
 "nbformat_minor": 4
}
