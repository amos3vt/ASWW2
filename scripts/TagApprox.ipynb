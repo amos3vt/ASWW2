{
 "cells": [
  {
   "cell_type": "markdown",
   "metadata": {},
   "source": [
    "# Import necessary libraries"
   ]
  },
  {
   "cell_type": "code",
   "execution_count": 1,
   "metadata": {},
   "outputs": [],
   "source": [
    "import pandas as pd\n",
    "import numpy as np\n",
    "from sklearn.cluster import KMeans\n",
    "from bert_serving.client import BertClient\n",
    "bc = BertClient()"
   ]
  },
  {
   "cell_type": "markdown",
   "metadata": {},
   "source": [
    "# Use tags with spaces?"
   ]
  },
  {
   "cell_type": "code",
   "execution_count": 2,
   "metadata": {},
   "outputs": [],
   "source": [
    "column = \"space\" # Set to \"space\" or \"nospace\""
   ]
  },
  {
   "cell_type": "markdown",
   "metadata": {},
   "source": [
    "# Load tag data"
   ]
  },
  {
   "cell_type": "code",
   "execution_count": 20,
   "metadata": {},
   "outputs": [],
   "source": [
    "# Load tag data\n",
    "transcriber_tags = pd.read_excel(\"../data/tags.xlsx\", converters={column:str}, sheet_name=\"ZooniverseTags\")\n",
    "expert_tags = pd.read_excel(\"../data/tags.xlsx\", converters={column:str}, sheet_name=\"ExpertTags\")"
   ]
  },
  {
   "cell_type": "markdown",
   "metadata": {},
   "source": [
    "# Determine best approximations for transcriber tags"
   ]
  },
  {
   "cell_type": "markdown",
   "metadata": {},
   "source": [
    "Notes:\n",
    "- Consider adding spaces to multi-word tags\n",
    "- Word2Vec does not recognize some tags, so I'm just using BERT for now."
   ]
  },
  {
   "cell_type": "markdown",
   "metadata": {},
   "source": [
    "## Get embeddings"
   ]
  },
  {
   "cell_type": "code",
   "execution_count": null,
   "metadata": {
    "scrolled": true
   },
   "outputs": [
    {
     "name": "stdout",
     "output_type": "stream",
     "text": [
      "0\n",
      "500\n",
      "1000\n",
      "1500\n",
      "2000\n"
     ]
    }
   ],
   "source": [
    "# Redefine encoding function to allow progress tracking\n",
    "count = 0\n",
    "def encode(tag):\n",
    "    global count\n",
    "    if count%500 == 0:\n",
    "        print(count)\n",
    "    count += 1\n",
    "    return bc.encode([tag])[0]\n",
    "\n",
    "# Get embeddings\n",
    "expert_embed = [encode(i) for i in expert_tags[column]]\n",
    "transcriber_embed = [encode(i) for i in transcriber_tags[column]]"
   ]
  },
  {
   "cell_type": "markdown",
   "metadata": {},
   "source": [
    "## Compare embeddings"
   ]
  },
  {
   "cell_type": "code",
   "execution_count": null,
   "metadata": {},
   "outputs": [],
   "source": [
    "# Compare transcriber tag at index i to all expert tags\n",
    "def compare_all(i):\n",
    "    \n",
    "    # Track best results\n",
    "    result = {\n",
    "        \"index\": i,\n",
    "        \"transcriber_tag\": transcriber_tags[column].iloc[i],\n",
    "        \"best_expert_tag_bert\": None,\n",
    "        \"best_score_bert\": -1,\n",
    "        \"best_expert_tag_w2v\": None,\n",
    "        \"best_score_w2v\": -1\n",
    "    }\n",
    "    \n",
    "    # Make comparisons\n",
    "    for j in range(len(expert_tags)):\n",
    "        score = np.dot(transcriber_embed[i], expert_embed[j]) / \\\n",
    "            (np.linalg.norm(transcriber_embed[i]) * np.linalg.norm(expert_embed[j]))\n",
    "        if score > result['best_score_bert']:\n",
    "            result['best_expert_tag_bert'] = expert_tags[column].iloc[j]\n",
    "            result['best_score_bert'] = score\n",
    "            \n",
    "    return result\n",
    "\n",
    "results = [compare_all(i) for i in range(len(transcriber_tags))]"
   ]
  },
  {
   "cell_type": "markdown",
   "metadata": {},
   "source": [
    "# Write results to Excel"
   ]
  },
  {
   "cell_type": "code",
   "execution_count": null,
   "metadata": {},
   "outputs": [],
   "source": [
    "# Convert list of results to dataframe\n",
    "df = pd.DataFrame(results)\n",
    "# Sort results by cosine similarity\n",
    "df = df.sort_values('best_score_bert', ascending=False)\n",
    "# Write to excel file\n",
    "df.to_excel(\"../data/tag_approx_\"+column+\".xlsx\")"
   ]
  },
  {
   "cell_type": "markdown",
   "metadata": {},
   "source": [
    "# Cluster words that lack a close-enough approximation"
   ]
  },
  {
   "cell_type": "code",
   "execution_count": 19,
   "metadata": {},
   "outputs": [
    {
     "name": "stdout",
     "output_type": "stream",
     "text": [
      "Cluster 0\n",
      "['disatisfied', 'discrepancies', 'displeased', 'disrespect', 'disrespected', 'inefficiency', 'inefficient', 'miscommunications', 'underappreciated', 'unexperienced']\n",
      "Cluster 1\n",
      "['back to school', 'bring me home', 'cant wait to get home', 'get ready for korea', 'getting back to work', 'glad I am back', 'go back and live', 'going home', 'good to be home', 'I am back', 'I want to travel more often', 'keep me home', 'keep the politics in dc', 'late to the party', 'lets go home', 'might stay in', 'ready for home', 'ready to get out', 'returning home', 'returning to the states', 'return to us', 'saying goodbye', 'see where it takes me', 'send me home', 'soon to be married', 'wants to leave', 'want to go back', 'when will it end', 'when will the war be over', 'write home']\n",
      "Cluster 2\n",
      "['american way', 'america the great', 'bootcamp', 'bootlicker', 'boo whittaker', 'close by', 'countdown to retirement', 'disable', 'espirit de corps', 'frank sinatra', 'fulough', 'grudge', 'grunt', 'hillbilly', 'hitler', 'home of the brave', 'jack hitchell', 'jughead', 'next generation', 'outbuild', 'pansy', 'paycheck', 'pinup girls', 'polished review', 'prewar', 'privileges-for-officers', 'realist', 'real-world', 'real-world application', 'records', 'regular joes', 'salesgirls', 'settling_down', 'shakeup', 'snafu', 'southernstates', 'superpowers', 'takeaway', 'young vs old']\n",
      "Cluster 3\n",
      "['disenfranchised', 'evaders', 'grievances', 'hypocrisy', 'illiteracy', 'illiterate', 'impractical', 'inductees', 'misallocation', 'misfits', 'misogyny', 'misplaced', 'mistreated', 'mistreatment', 'overqualified', 'perpetuated', 'profane', 'self-inflicted-wounds', 'sexist', 'uneducated', 'uneducated', 'unhealthful', 'unhealthy', 'unhealthy climate', 'unjust', 'unorganized', 'unqualified', 'unqualified officers', 'untouchables']\n",
      "Cluster 4\n",
      "['day-to-day', 'every minute counts', 'fighting for too long', 'long wait', 'more passes', 'more time', 'more time needed', 'moving on', 'not enough time', 'not enough time at home', 'no time', 'precious time', 'takes to long', 'things got worse', 'time wasted', 'too easy', 'too late', 'too long', 'too much work', 'wasted time', 'waste of time', 'waste time', 'wasting time']\n",
      "Cluster 5\n",
      "['about you', 'am all business', 'amen', 'anythings possible', 'believe me', 'better care', 'better leave', 'better pay', 'cant wait', 'deserve better', 'done my part', 'dont', 'dont care', 'feelin 22', 'feels good', 'for my country', 'good job', 'good son', 'good time', 'hooah', 'in my opinion', 'I shouldnt have to fight for my rights', 'keep me posted', 'miss me', 'my folks', 'oops', 'piss poor', 'send me', 'sent back', 'soldiers dont see color', 'thanks', 'thank you', 'uncle sam doesn’t', 'war isnt easy', 'whats next', 'why are we doing this', 'you matter']\n",
      "Cluster 6\n",
      "['all for one', 'anything can happen', 'better because of it', 'everybody wins', 'fair chance', 'fair for all', 'fight or die', 'gives us a chance', 'hard way', 'hell of a deal', 'hell with tomorrow', 'i give up', 'job in hand', 'man with a plan', 'not up to me', 'one and done', 'one man shouldn', 'out with the old', 'over soon as possible', 'ready to die', 'short and to the point', 'stay or go', 'time will tell', 'who should lead', 'he knows exactly what he wants to do']\n",
      "Cluster 7\n",
      "['australian', 'awards', 'best time', 'congress', 'countries', 'country', 'dance', 'divisions', 'lost', 'not qualified', 'ocs', 'overall performance', 'overtime', 'poll', 'professional', 'qualified', 'qualify', 'record', 'republic', 'results', 'rookies', 'state']\n",
      "Cluster 8\n",
      "['aggravations', 'allergy', 'antisemetic', 'antisemitism', 'broken arm', 'convalescence', 'curfew', 'curfew regulations', 'embalming', 'evangelism', 'fascism', 'fever and sickness', 'frostbite', 'gonorrhea', 'great depression has ended', 'homesickness', 'india-burma', 'india burma', 'industrialization', 'infested', 'interuption', 'jingoistic', 'khakis', 'labor strikes', 'lynching', 'malaria fever', 'malaria zone', 'malaria', 'mosquitoes', 'nazism', 'neurosis', 'officers reading mail', 'ophthalmology', 'overcrowding', 'poor photography', 'roaches', 'seasickness', 'sexism', 'spam', 'tropical-diseases', 'tropical-fevers', 'tropical-sickness', 'tropical-ulcers', 'tropical fevers', 'tropics', 'yellow jaundice']\n",
      "Cluster 9\n",
      "['30 year olds', '6th grade', 'age group', 'american', 'average', 'basketball', 'best handwriting', 'better discipline', 'colored and white', 'column a column b', 'democratic', 'dissent', 'elementary', 'first in first out', 'golf', 'good points', 'green', 'land', 'next', 'north vs south', 'nostalgia', 'one team', 'open-ended questions', 'positive', 'region', 'religion', 'religion', 'rules and regulations', 'sundays', 'weight gain']\n",
      "Cluster 10\n",
      "['1 lt', '1st sergeant', '2 lt', '2nd army', '2nd lieutenants', '511 paratrooper', '9th division', 'battle star', 'bayonet', 'browning automatic rifle', 'combat stars', 'combat veteran', 'corporal', 'court martial', 'cpn', 'enlisted men', 'insignia', 'non-combat', 'non-combative', 'paratrooper', 'paratroopers', 'selective service', 'staff sgt', 'tour of duty']\n",
      "Cluster 11\n",
      "['after the army', 'after the war', 'army of occupation', 'blitzkrieg', 'civil war', 'concentration camp', 'father serving ww2', 'german prisoners of war', 'great depression', 'nazi germany', 'no post-war plan', 'post-war', 'post-war job', 'post world war', 'prisoner of war', 'prisoners-of-war', 'war information', 'world war', 'world war 1', 'world war 2 soldier', 'world war ii', 'world war ii solider', 'ww1', 'ww2', 'ww2 draft']\n",
      "Cluster 12\n",
      "['17 hours', '17 months', '22 months', '24 months', '30 days', '30 years', '3 months', '4 years or 35', '5 more years', '8 hours', '93 months', 'eighteen', 'eight months', 'five months', 'hours', 'one year', 'six months', 'thirty five', 'two years', 'years']\n",
      "Cluster 13\n",
      "['aircraft mechanic', 'amphibian engineers', 'chemical engineer', 'chemistry', 'dispatcher', 'economist', 'electrician', 'engineer', 'ex-farmer', 'firefighter', 'hairstylist', 'journalist', 'lithographer', 'machinist', 'medic', 'merchandising', 'metallurgy', 'music theory', 'nutritionist', 'oil industry', 'part-time', 'physical exam', 'prescitation', 'self-employed', 'stenographer', 'work in the army']\n",
      "Cluster 14\n",
      "['affordable college', 'atlantic city', 'biggsfield', 'chilhood', 'ford', 'high school', 'huachuca', 'joe louis', 'john lewis', 'lowry field', 'new city', 'newfield', 'new york city', 'new york harbor', 'patrick henry', 'patterson field', 'san francisco conference', 'scott field', 'south carolina', 'south carolina state college', 'university', 'walter reed hospital', 'westcoast', 'westpoint', 'x1186']\n",
      "Cluster 15\n",
      "['airforce', 'american army', 'army air corps', 'army air force', 'civilian air corps', 'great britain', 'justice department', 'marine corps', 'rotc', 'united states', 'united states military', 'us army', 'us constitution', 'us government', 'veterans administration', 'war department']\n",
      "Cluster 16\n",
      "['15874180', '16005', '24026', '29028', '511th', '612', 'adj', 'b-24', 'b-29', 'ewww', 's-106', 's-106 eto', 's-106h']\n",
      "Cluster 17\n",
      "['depressing', 'good', 'little to say', 'no answer', 'no answers', 'no chance', 'no choice', 'no comment', 'no comments', 'no fight', 'no freedom', 'no fun', 'no good reason', 'no hell', 'no hope', 'no idea', 'no more war', 'no need', 'no need for', 'no patience', 'no place like home', 'no plans', 'no politics', 'no regrets', 'no return', 'not answering', 'not a single fellow', 'not dumb', 'not enough', 'not fair', 'not for me', 'not helping', 'nothing to say', 'not our problem', 'not right', 'not sure', 'not the best life', 'no words', 'what', 'what a view', 'who knows', 'who know', 'why fight']\n",
      "Cluster 18\n",
      "['be quiet', 'bring them home', 'bring those boys home', 'bring us home', 'change your mind', 'clothe me', 'consider us please', 'discharge me', 'do something', 'do the real thing', 'do your part', 'enjoy life', 'fight for what you believe in', 'fight for what you love', 'finish this', 'fix this', 'get along', 'get back our jobs', 'get him out of barracks', 'get it over with', 'get out', 'get them out of here', 'give due respect', 'give it a crack', 'give what you get', 'go home', 'hate this', 'help me', 'hurry up and wait', 'just do your job', 'keep trying', 'keep up the good work', 'learn to shoot', 'let me be me', 'let me serve', 'lets get this bread', 'live where I want', 'make a stand', 'make me an officer', 'make the best of it', 'make this better', 'make this happen', 'mind on what matters', 'move on', 'move out', 'officers need to try it', 'practice what you preach', 'readjust', 'remove the red tape', 'save it', 'settle down', 'sleep easy', 'stand together', 'start searching', 'stay in', 'stick with it', 'stop lynching', 'take life easy', 'tell us how you really feel', 'we can all get along', 'we can do it', 'win the war', 'work harder']\n",
      "Cluster 19\n",
      "['aleutian', 'aleutian islands', 'aleutians', 'camp claiborne', 'fayetteville', 'fort belvoir', 'fort benning', 'fort bragg', 'fort huachuca', 'fort knox', 'fort sheridan', 'general arnold', 'general marshall', 'guadalcanal', 'milne bay', 'mojave', 'new guinea', 'normandy', 'pearl harbor', 'rommel', 'san antonio']\n",
      "Cluster 20\n",
      "['comissioned officers', 'death in the family', 'discard to soldier', 'finish college', 'fouled up', 'green drafters', 'missed chances', 'missing home', 'new start', 'no information', 'note in margin', 'off duty', 'plans not changed', 'pre-planned', 'previous injury', 'request for discharge', 'sent home', 'table of organization', 'undecided on england', 'unfit for position', 'unknown goals', 'well played', 'wrong placement']\n",
      "Cluster 21\n",
      "['airfield', 'beachhead', 'bus service', 'chapel', 'church', 'commercial airline', 'eastern sector', 'fcc', 'flying hours', 'flying status', 'foreign affairs', 'foreign lands', 'foreign services', 'foreign trade', 'hot climate', 'mapping', 'marginalia', 'navy', 'outdoor life', 'port of embarkation', 'post office', 'private airlines', 'private practice', 'private sector', 'public funds', 'railroad', 'ranches', 'rural', 'specialist school', 'station', 'transportation service', 'travel conditions', 'travel time', 'visiting hours', 'visit russia', 'weekends free']\n",
      "Cluster 22\n",
      "['ace in the sky', 'best friends', 'better country', 'brother in arms', 'build a home', 'buy a home', 'buy a house', 'frankie and eleanor', 'friends and family', 'get a job', 'getting a job', 'good things in life', 'jumping through hoops', 'later hours', 'live for the day', 'loved one', 'loved ones', 'love my wife', 'my girl', 'new year new me', 'once a soldier always a soldier', 'one and one', 'pass a bill', 'peace and quiet', 'reach for the stars', 'start a family', 'sunny days to come', 'taste of home', 'wake up america', 'wedding bells']\n",
      "Cluster 23\n",
      "['allotment', 'allotments', 'homeowner', 'homeownership', 'homesteaders', 'stipend']\n",
      "Cluster 24\n",
      "['age limit', 'all upper caps', 'bilingual', 'election', 'erased text', 'fitted for', 'gun use', 'illegible', 'independent', 'interracial', 'join government', 'marriage', 'married', 'married soldier', 'misused', 'non-commissioned', 'non pilot', 'not married', 'plant', 'small fry', 'stenotype', 'unassigned']\n",
      "Cluster 25\n",
      "['30 years old', 'able-bodied', 'big government is bad', 'blurry', 'brown nose', 'calling someone out', 'clueless', 'deciding defiantly', 'diligent', 'disgruntled', 'disorganized', 'fed up', 'feeling fine', 'good shape', 'handshaking', 'hard to read', 'homesick', 'indecision', 'insane crazy fool', 'interupted', 'left in the dark', 'living day by day', 'messed up', 'moving around', 'north and south', 'older solider', 'open arms', 'passed over', 'planned out', 'proud to serve', 'reading mail', 'return to normalcy', 'serving the country', 'settled down', 'sick of war', 'single but not for long', 'sitting around', 'sore feet', 'stagnant', 'standing his post', 'too old to fight', 'too old', 'too old for flying', 'treated well', 'undecided', 'unenjoyable', 'unfazed', 'unprepared', 'unreadable', 'unsatisfied', 'unsatisfied', 'untrained', 'unwavering', 'washed out', 'wishful thinking']\n",
      "Cluster 26\n",
      "['afn', 'all caps', 'appearance', 'bff', 'courage', 'disabled', 'end', 'engineers', 'first choice', 'goals', 'hierarchy', 'home-ownership', 'home', 'med', 'new goals', 'no goals', 'on par', 'points', 'population', 'potential', 'ptsd', 'rangers', 'reserved', 'reserves', 'rotten', 'single', 'stigma', 'time served', 'train', 'united', 'win']\n",
      "Cluster 27\n",
      "['african american', 'african americans', 'african american soldier', 'african american soldiers', 'colored males', 'men of color', 'negroes', 'negros', 'puerto rico', 'south america']\n",
      "Cluster 28\n",
      "['appreciative', 'arguable', 'believer in random capitalization', 'belittlement', 'clarification', 'cohabitation', 'cut mid-sentence', 'deferment', 'discouraging', 'discrimintation', 'dissatisified', 'entepreneur', 'escalation', 'facscism', 'falsifications', 'frustation', 'grievance', 'indepedence', 'inequity', 'logisitics', 'millitary rank', 'misspellings left in', 'multilingual', 'nepotism', 'noncombatant', 'positivity', 'precombate anxiety', 'stretching the same sentence to reach word limit', 'underappreciated sacrifice']\n",
      "Cluster 29\n",
      "['age gap', 'american constitution', 'bill of rights', 'caste system', 'chain of command', 'checks and balances', 'democracies', 'desegregate the military', 'desegregation', 'dress code', 'entitlement', 'entitlements', 'equal opportunity', 'equal rights', 'for democracy', 'freedom of endeavor', 'free speech', 'gi bill of rights', 'globalism', 'life of the government', 'no tax', 'preserve the free country', 'race-relations', 'racial-discrimination', 'same rights', 'second amendment', 'wage gap', 'well-being']\n"
     ]
    }
   ],
   "source": [
    "# Perform KMeans on embeddings with low similarity scores\n",
    "k = 30\n",
    "\n",
    "cluster_results = [results[i] for i in range(len(results))\n",
    "                   if results[i]['best_score_bert'] < 0.75 ]\n",
    "\n",
    "cluster_embeds = [transcriber_embed[cluster_results[i]['index']] \n",
    "                  for i in range(len(cluster_results))]\n",
    "\n",
    "kmeans = KMeans(n_clusters=k).fit(cluster_embeds)\n",
    "\n",
    "for i in range(k):\n",
    "    print(\"Cluster\", i)\n",
    "    print([cluster_results[j]['transcriber_tag'] \n",
    "           for j in range(len(kmeans.labels_))\n",
    "           if kmeans.labels_[j] == i])"
   ]
  }
 ],
 "metadata": {
  "kernelspec": {
   "display_name": "Python 3",
   "language": "python",
   "name": "python3"
  },
  "language_info": {
   "codemirror_mode": {
    "name": "ipython",
    "version": 3
   },
   "file_extension": ".py",
   "mimetype": "text/x-python",
   "name": "python",
   "nbconvert_exporter": "python",
   "pygments_lexer": "ipython3",
   "version": "3.7.3"
  }
 },
 "nbformat": 4,
 "nbformat_minor": 4
}
