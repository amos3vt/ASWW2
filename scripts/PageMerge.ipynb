{
 "cells": [
  {
   "cell_type": "code",
   "execution_count": 36,
   "metadata": {
    "scrolled": true
   },
   "outputs": [],
   "source": [
    "import pandas as pd\n",
    "\n",
    "# import data\n",
    "path = \"../data/Survey_64_export.csv\"\n",
    "df = pd.read_csv(path, na_filter=False)\n",
    "\n",
    "# merge columns\n",
    "df['S64.Q97.Full'] = df['S64.Q97.F']\n",
    "for i in range(1,6):\n",
    "    df['S64.Q97.Full'] = df['S64.Q97.Full'].str.cat(df['S64.Q97.C_{}'.format(i)],sep=\" \")\n",
    "    \n",
    "# remove trailing whitespace\n",
    "df['S64.Q97.Full'] = df['S64.Q97.Full'].map(lambda x: x.strip())\n",
    "\n",
    "# save\n",
    "df.to_csv(\"../data/Survey_64_export.csv\", index=False)"
   ]
  }
 ],
 "metadata": {
  "kernelspec": {
   "display_name": "Python 3",
   "language": "python",
   "name": "python3"
  },
  "language_info": {
   "codemirror_mode": {
    "name": "ipython",
    "version": 3
   },
   "file_extension": ".py",
   "mimetype": "text/x-python",
   "name": "python",
   "nbconvert_exporter": "python",
   "pygments_lexer": "ipython3",
   "version": "3.7.3"
  }
 },
 "nbformat": 4,
 "nbformat_minor": 4
}
