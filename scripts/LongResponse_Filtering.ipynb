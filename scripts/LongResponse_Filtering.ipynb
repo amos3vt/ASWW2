{
 "cells": [
  {
   "cell_type": "markdown",
   "metadata": {},
   "source": [
    "# Import libraries"
   ]
  },
  {
   "cell_type": "code",
   "execution_count": 1,
   "metadata": {},
   "outputs": [
    {
     "name": "stderr",
     "output_type": "stream",
     "text": [
      "C:\\Users\\Savannah\\Anaconda3\\lib\\site-packages\\tensorflow\\python\\framework\\dtypes.py:526: FutureWarning: Passing (type, 1) or '1type' as a synonym of type is deprecated; in a future version of numpy, it will be understood as (type, (1,)) / '(1,)type'.\n",
      "  _np_qint8 = np.dtype([(\"qint8\", np.int8, 1)])\n",
      "C:\\Users\\Savannah\\Anaconda3\\lib\\site-packages\\tensorflow\\python\\framework\\dtypes.py:527: FutureWarning: Passing (type, 1) or '1type' as a synonym of type is deprecated; in a future version of numpy, it will be understood as (type, (1,)) / '(1,)type'.\n",
      "  _np_quint8 = np.dtype([(\"quint8\", np.uint8, 1)])\n",
      "C:\\Users\\Savannah\\Anaconda3\\lib\\site-packages\\tensorflow\\python\\framework\\dtypes.py:528: FutureWarning: Passing (type, 1) or '1type' as a synonym of type is deprecated; in a future version of numpy, it will be understood as (type, (1,)) / '(1,)type'.\n",
      "  _np_qint16 = np.dtype([(\"qint16\", np.int16, 1)])\n",
      "C:\\Users\\Savannah\\Anaconda3\\lib\\site-packages\\tensorflow\\python\\framework\\dtypes.py:529: FutureWarning: Passing (type, 1) or '1type' as a synonym of type is deprecated; in a future version of numpy, it will be understood as (type, (1,)) / '(1,)type'.\n",
      "  _np_quint16 = np.dtype([(\"quint16\", np.uint16, 1)])\n",
      "C:\\Users\\Savannah\\Anaconda3\\lib\\site-packages\\tensorflow\\python\\framework\\dtypes.py:530: FutureWarning: Passing (type, 1) or '1type' as a synonym of type is deprecated; in a future version of numpy, it will be understood as (type, (1,)) / '(1,)type'.\n",
      "  _np_qint32 = np.dtype([(\"qint32\", np.int32, 1)])\n",
      "C:\\Users\\Savannah\\Anaconda3\\lib\\site-packages\\tensorflow\\python\\framework\\dtypes.py:535: FutureWarning: Passing (type, 1) or '1type' as a synonym of type is deprecated; in a future version of numpy, it will be understood as (type, (1,)) / '(1,)type'.\n",
      "  np_resource = np.dtype([(\"resource\", np.ubyte, 1)])\n"
     ]
    },
    {
     "data": {
      "text/plain": [
       "BertModel(\n",
       "  (embeddings): BertEmbeddings(\n",
       "    (word_embeddings): Embedding(30522, 768, padding_idx=0)\n",
       "    (position_embeddings): Embedding(512, 768)\n",
       "    (token_type_embeddings): Embedding(2, 768)\n",
       "    (LayerNorm): LayerNorm((768,), eps=1e-12, elementwise_affine=True)\n",
       "    (dropout): Dropout(p=0.1, inplace=False)\n",
       "  )\n",
       "  (encoder): BertEncoder(\n",
       "    (layer): ModuleList(\n",
       "      (0): BertLayer(\n",
       "        (attention): BertAttention(\n",
       "          (self): BertSelfAttention(\n",
       "            (query): Linear(in_features=768, out_features=768, bias=True)\n",
       "            (key): Linear(in_features=768, out_features=768, bias=True)\n",
       "            (value): Linear(in_features=768, out_features=768, bias=True)\n",
       "            (dropout): Dropout(p=0.1, inplace=False)\n",
       "          )\n",
       "          (output): BertSelfOutput(\n",
       "            (dense): Linear(in_features=768, out_features=768, bias=True)\n",
       "            (LayerNorm): LayerNorm((768,), eps=1e-12, elementwise_affine=True)\n",
       "            (dropout): Dropout(p=0.1, inplace=False)\n",
       "          )\n",
       "        )\n",
       "        (intermediate): BertIntermediate(\n",
       "          (dense): Linear(in_features=768, out_features=3072, bias=True)\n",
       "        )\n",
       "        (output): BertOutput(\n",
       "          (dense): Linear(in_features=3072, out_features=768, bias=True)\n",
       "          (LayerNorm): LayerNorm((768,), eps=1e-12, elementwise_affine=True)\n",
       "          (dropout): Dropout(p=0.1, inplace=False)\n",
       "        )\n",
       "      )\n",
       "      (1): BertLayer(\n",
       "        (attention): BertAttention(\n",
       "          (self): BertSelfAttention(\n",
       "            (query): Linear(in_features=768, out_features=768, bias=True)\n",
       "            (key): Linear(in_features=768, out_features=768, bias=True)\n",
       "            (value): Linear(in_features=768, out_features=768, bias=True)\n",
       "            (dropout): Dropout(p=0.1, inplace=False)\n",
       "          )\n",
       "          (output): BertSelfOutput(\n",
       "            (dense): Linear(in_features=768, out_features=768, bias=True)\n",
       "            (LayerNorm): LayerNorm((768,), eps=1e-12, elementwise_affine=True)\n",
       "            (dropout): Dropout(p=0.1, inplace=False)\n",
       "          )\n",
       "        )\n",
       "        (intermediate): BertIntermediate(\n",
       "          (dense): Linear(in_features=768, out_features=3072, bias=True)\n",
       "        )\n",
       "        (output): BertOutput(\n",
       "          (dense): Linear(in_features=3072, out_features=768, bias=True)\n",
       "          (LayerNorm): LayerNorm((768,), eps=1e-12, elementwise_affine=True)\n",
       "          (dropout): Dropout(p=0.1, inplace=False)\n",
       "        )\n",
       "      )\n",
       "      (2): BertLayer(\n",
       "        (attention): BertAttention(\n",
       "          (self): BertSelfAttention(\n",
       "            (query): Linear(in_features=768, out_features=768, bias=True)\n",
       "            (key): Linear(in_features=768, out_features=768, bias=True)\n",
       "            (value): Linear(in_features=768, out_features=768, bias=True)\n",
       "            (dropout): Dropout(p=0.1, inplace=False)\n",
       "          )\n",
       "          (output): BertSelfOutput(\n",
       "            (dense): Linear(in_features=768, out_features=768, bias=True)\n",
       "            (LayerNorm): LayerNorm((768,), eps=1e-12, elementwise_affine=True)\n",
       "            (dropout): Dropout(p=0.1, inplace=False)\n",
       "          )\n",
       "        )\n",
       "        (intermediate): BertIntermediate(\n",
       "          (dense): Linear(in_features=768, out_features=3072, bias=True)\n",
       "        )\n",
       "        (output): BertOutput(\n",
       "          (dense): Linear(in_features=3072, out_features=768, bias=True)\n",
       "          (LayerNorm): LayerNorm((768,), eps=1e-12, elementwise_affine=True)\n",
       "          (dropout): Dropout(p=0.1, inplace=False)\n",
       "        )\n",
       "      )\n",
       "      (3): BertLayer(\n",
       "        (attention): BertAttention(\n",
       "          (self): BertSelfAttention(\n",
       "            (query): Linear(in_features=768, out_features=768, bias=True)\n",
       "            (key): Linear(in_features=768, out_features=768, bias=True)\n",
       "            (value): Linear(in_features=768, out_features=768, bias=True)\n",
       "            (dropout): Dropout(p=0.1, inplace=False)\n",
       "          )\n",
       "          (output): BertSelfOutput(\n",
       "            (dense): Linear(in_features=768, out_features=768, bias=True)\n",
       "            (LayerNorm): LayerNorm((768,), eps=1e-12, elementwise_affine=True)\n",
       "            (dropout): Dropout(p=0.1, inplace=False)\n",
       "          )\n",
       "        )\n",
       "        (intermediate): BertIntermediate(\n",
       "          (dense): Linear(in_features=768, out_features=3072, bias=True)\n",
       "        )\n",
       "        (output): BertOutput(\n",
       "          (dense): Linear(in_features=3072, out_features=768, bias=True)\n",
       "          (LayerNorm): LayerNorm((768,), eps=1e-12, elementwise_affine=True)\n",
       "          (dropout): Dropout(p=0.1, inplace=False)\n",
       "        )\n",
       "      )\n",
       "      (4): BertLayer(\n",
       "        (attention): BertAttention(\n",
       "          (self): BertSelfAttention(\n",
       "            (query): Linear(in_features=768, out_features=768, bias=True)\n",
       "            (key): Linear(in_features=768, out_features=768, bias=True)\n",
       "            (value): Linear(in_features=768, out_features=768, bias=True)\n",
       "            (dropout): Dropout(p=0.1, inplace=False)\n",
       "          )\n",
       "          (output): BertSelfOutput(\n",
       "            (dense): Linear(in_features=768, out_features=768, bias=True)\n",
       "            (LayerNorm): LayerNorm((768,), eps=1e-12, elementwise_affine=True)\n",
       "            (dropout): Dropout(p=0.1, inplace=False)\n",
       "          )\n",
       "        )\n",
       "        (intermediate): BertIntermediate(\n",
       "          (dense): Linear(in_features=768, out_features=3072, bias=True)\n",
       "        )\n",
       "        (output): BertOutput(\n",
       "          (dense): Linear(in_features=3072, out_features=768, bias=True)\n",
       "          (LayerNorm): LayerNorm((768,), eps=1e-12, elementwise_affine=True)\n",
       "          (dropout): Dropout(p=0.1, inplace=False)\n",
       "        )\n",
       "      )\n",
       "      (5): BertLayer(\n",
       "        (attention): BertAttention(\n",
       "          (self): BertSelfAttention(\n",
       "            (query): Linear(in_features=768, out_features=768, bias=True)\n",
       "            (key): Linear(in_features=768, out_features=768, bias=True)\n",
       "            (value): Linear(in_features=768, out_features=768, bias=True)\n",
       "            (dropout): Dropout(p=0.1, inplace=False)\n",
       "          )\n",
       "          (output): BertSelfOutput(\n",
       "            (dense): Linear(in_features=768, out_features=768, bias=True)\n",
       "            (LayerNorm): LayerNorm((768,), eps=1e-12, elementwise_affine=True)\n",
       "            (dropout): Dropout(p=0.1, inplace=False)\n",
       "          )\n",
       "        )\n",
       "        (intermediate): BertIntermediate(\n",
       "          (dense): Linear(in_features=768, out_features=3072, bias=True)\n",
       "        )\n",
       "        (output): BertOutput(\n",
       "          (dense): Linear(in_features=3072, out_features=768, bias=True)\n",
       "          (LayerNorm): LayerNorm((768,), eps=1e-12, elementwise_affine=True)\n",
       "          (dropout): Dropout(p=0.1, inplace=False)\n",
       "        )\n",
       "      )\n",
       "      (6): BertLayer(\n",
       "        (attention): BertAttention(\n",
       "          (self): BertSelfAttention(\n",
       "            (query): Linear(in_features=768, out_features=768, bias=True)\n",
       "            (key): Linear(in_features=768, out_features=768, bias=True)\n",
       "            (value): Linear(in_features=768, out_features=768, bias=True)\n",
       "            (dropout): Dropout(p=0.1, inplace=False)\n",
       "          )\n",
       "          (output): BertSelfOutput(\n",
       "            (dense): Linear(in_features=768, out_features=768, bias=True)\n",
       "            (LayerNorm): LayerNorm((768,), eps=1e-12, elementwise_affine=True)\n",
       "            (dropout): Dropout(p=0.1, inplace=False)\n",
       "          )\n",
       "        )\n",
       "        (intermediate): BertIntermediate(\n",
       "          (dense): Linear(in_features=768, out_features=3072, bias=True)\n",
       "        )\n",
       "        (output): BertOutput(\n",
       "          (dense): Linear(in_features=3072, out_features=768, bias=True)\n",
       "          (LayerNorm): LayerNorm((768,), eps=1e-12, elementwise_affine=True)\n",
       "          (dropout): Dropout(p=0.1, inplace=False)\n",
       "        )\n",
       "      )\n",
       "      (7): BertLayer(\n",
       "        (attention): BertAttention(\n",
       "          (self): BertSelfAttention(\n",
       "            (query): Linear(in_features=768, out_features=768, bias=True)\n",
       "            (key): Linear(in_features=768, out_features=768, bias=True)\n",
       "            (value): Linear(in_features=768, out_features=768, bias=True)\n",
       "            (dropout): Dropout(p=0.1, inplace=False)\n",
       "          )\n",
       "          (output): BertSelfOutput(\n",
       "            (dense): Linear(in_features=768, out_features=768, bias=True)\n",
       "            (LayerNorm): LayerNorm((768,), eps=1e-12, elementwise_affine=True)\n",
       "            (dropout): Dropout(p=0.1, inplace=False)\n",
       "          )\n",
       "        )\n",
       "        (intermediate): BertIntermediate(\n",
       "          (dense): Linear(in_features=768, out_features=3072, bias=True)\n",
       "        )\n",
       "        (output): BertOutput(\n",
       "          (dense): Linear(in_features=3072, out_features=768, bias=True)\n",
       "          (LayerNorm): LayerNorm((768,), eps=1e-12, elementwise_affine=True)\n",
       "          (dropout): Dropout(p=0.1, inplace=False)\n",
       "        )\n",
       "      )\n",
       "      (8): BertLayer(\n",
       "        (attention): BertAttention(\n",
       "          (self): BertSelfAttention(\n",
       "            (query): Linear(in_features=768, out_features=768, bias=True)\n",
       "            (key): Linear(in_features=768, out_features=768, bias=True)\n",
       "            (value): Linear(in_features=768, out_features=768, bias=True)\n",
       "            (dropout): Dropout(p=0.1, inplace=False)\n",
       "          )\n",
       "          (output): BertSelfOutput(\n",
       "            (dense): Linear(in_features=768, out_features=768, bias=True)\n",
       "            (LayerNorm): LayerNorm((768,), eps=1e-12, elementwise_affine=True)\n",
       "            (dropout): Dropout(p=0.1, inplace=False)\n",
       "          )\n",
       "        )\n",
       "        (intermediate): BertIntermediate(\n",
       "          (dense): Linear(in_features=768, out_features=3072, bias=True)\n",
       "        )\n",
       "        (output): BertOutput(\n",
       "          (dense): Linear(in_features=3072, out_features=768, bias=True)\n",
       "          (LayerNorm): LayerNorm((768,), eps=1e-12, elementwise_affine=True)\n",
       "          (dropout): Dropout(p=0.1, inplace=False)\n",
       "        )\n",
       "      )\n",
       "      (9): BertLayer(\n",
       "        (attention): BertAttention(\n",
       "          (self): BertSelfAttention(\n",
       "            (query): Linear(in_features=768, out_features=768, bias=True)\n",
       "            (key): Linear(in_features=768, out_features=768, bias=True)\n",
       "            (value): Linear(in_features=768, out_features=768, bias=True)\n",
       "            (dropout): Dropout(p=0.1, inplace=False)\n",
       "          )\n",
       "          (output): BertSelfOutput(\n",
       "            (dense): Linear(in_features=768, out_features=768, bias=True)\n",
       "            (LayerNorm): LayerNorm((768,), eps=1e-12, elementwise_affine=True)\n",
       "            (dropout): Dropout(p=0.1, inplace=False)\n",
       "          )\n",
       "        )\n",
       "        (intermediate): BertIntermediate(\n",
       "          (dense): Linear(in_features=768, out_features=3072, bias=True)\n",
       "        )\n",
       "        (output): BertOutput(\n",
       "          (dense): Linear(in_features=3072, out_features=768, bias=True)\n",
       "          (LayerNorm): LayerNorm((768,), eps=1e-12, elementwise_affine=True)\n",
       "          (dropout): Dropout(p=0.1, inplace=False)\n",
       "        )\n",
       "      )\n",
       "      (10): BertLayer(\n",
       "        (attention): BertAttention(\n",
       "          (self): BertSelfAttention(\n",
       "            (query): Linear(in_features=768, out_features=768, bias=True)\n",
       "            (key): Linear(in_features=768, out_features=768, bias=True)\n",
       "            (value): Linear(in_features=768, out_features=768, bias=True)\n",
       "            (dropout): Dropout(p=0.1, inplace=False)\n",
       "          )\n",
       "          (output): BertSelfOutput(\n",
       "            (dense): Linear(in_features=768, out_features=768, bias=True)\n",
       "            (LayerNorm): LayerNorm((768,), eps=1e-12, elementwise_affine=True)\n",
       "            (dropout): Dropout(p=0.1, inplace=False)\n",
       "          )\n",
       "        )\n",
       "        (intermediate): BertIntermediate(\n",
       "          (dense): Linear(in_features=768, out_features=3072, bias=True)\n",
       "        )\n",
       "        (output): BertOutput(\n",
       "          (dense): Linear(in_features=3072, out_features=768, bias=True)\n",
       "          (LayerNorm): LayerNorm((768,), eps=1e-12, elementwise_affine=True)\n",
       "          (dropout): Dropout(p=0.1, inplace=False)\n",
       "        )\n",
       "      )\n",
       "      (11): BertLayer(\n",
       "        (attention): BertAttention(\n",
       "          (self): BertSelfAttention(\n",
       "            (query): Linear(in_features=768, out_features=768, bias=True)\n",
       "            (key): Linear(in_features=768, out_features=768, bias=True)\n",
       "            (value): Linear(in_features=768, out_features=768, bias=True)\n",
       "            (dropout): Dropout(p=0.1, inplace=False)\n",
       "          )\n",
       "          (output): BertSelfOutput(\n",
       "            (dense): Linear(in_features=768, out_features=768, bias=True)\n",
       "            (LayerNorm): LayerNorm((768,), eps=1e-12, elementwise_affine=True)\n",
       "            (dropout): Dropout(p=0.1, inplace=False)\n",
       "          )\n",
       "        )\n",
       "        (intermediate): BertIntermediate(\n",
       "          (dense): Linear(in_features=768, out_features=3072, bias=True)\n",
       "        )\n",
       "        (output): BertOutput(\n",
       "          (dense): Linear(in_features=3072, out_features=768, bias=True)\n",
       "          (LayerNorm): LayerNorm((768,), eps=1e-12, elementwise_affine=True)\n",
       "          (dropout): Dropout(p=0.1, inplace=False)\n",
       "        )\n",
       "      )\n",
       "    )\n",
       "  )\n",
       "  (pooler): BertPooler(\n",
       "    (dense): Linear(in_features=768, out_features=768, bias=True)\n",
       "    (activation): Tanh()\n",
       "  )\n",
       ")"
      ]
     },
     "execution_count": 1,
     "metadata": {},
     "output_type": "execute_result"
    }
   ],
   "source": [
    "import pandas as pd\n",
    "import torch\n",
    "import string\n",
    "from scipy.spatial.distance import cosine\n",
    "\n",
    "from transformers import BertTokenizer, BertModel\n",
    "tokenizer = BertTokenizer.from_pretrained('bert-base-uncased')\n",
    "model = BertModel.from_pretrained('bert-base-uncased', output_hidden_states=True)\n",
    "model.eval()"
   ]
  },
  {
   "cell_type": "markdown",
   "metadata": {},
   "source": [
    "# Load survey data"
   ]
  },
  {
   "cell_type": "code",
   "execution_count": 2,
   "metadata": {},
   "outputs": [],
   "source": [
    "# Read it in\n",
    "path = \"../data/surveys_clean.csv\"\n",
    "df = pd.read_csv(path, na_filter=False)\n",
    "\n",
    "# Drop unnecessary columns\n",
    "df.drop(columns=['ind_id', 'subject_id', 'image_name', 'image_name_2', 'index'], inplace=True)"
   ]
  },
  {
   "cell_type": "markdown",
   "metadata": {},
   "source": [
    "# Method 1: Simple Keyword Search"
   ]
  },
  {
   "cell_type": "markdown",
   "metadata": {},
   "source": [
    "Build a list of keywords relating to the topic and return responses containing any of these words. Requires much foresight to catch all forms/mispellings of relevant words."
   ]
  },
  {
   "cell_type": "code",
   "execution_count": null,
   "metadata": {},
   "outputs": [],
   "source": [
    "keys = [\n",
    "    \"negro\",\n",
    "    \"negros\",\n",
    "    \"color\",\n",
    "    \"colored\",\n",
    "    \"black\",\n",
    "    \"blacks\",\n",
    "    \"white\",\n",
    "    \"whites\",\n",
    "    \"race\",\n",
    "    \"races\",\n",
    "    \"racial\"\n",
    "]"
   ]
  },
  {
   "cell_type": "code",
   "execution_count": null,
   "metadata": {},
   "outputs": [],
   "source": [
    "# Create new column for tracking relevant responses\n",
    "df['about_race'] = 0\n",
    "\n",
    "for i in range(len(df['long'])):\n",
    "    for k in keys:\n",
    "        # set to lowercase + remove punctuation for easier comparison\n",
    "        if k in df['long'][i].lower().translate(str.maketrans('','',string.punctuation)).split():\n",
    "            df.at[i, 'about_race'] = 1\n",
    "            break"
   ]
  },
  {
   "cell_type": "markdown",
   "metadata": {},
   "source": [
    "Below is a response the keyword search failed to pick up. We will add the most relevant word from this response to our keyword list. One may not have initially guessed to add \"colerd\" to the list, highlighting one of the drawbacks to the simple keyword method. "
   ]
  },
  {
   "cell_type": "code",
   "execution_count": null,
   "metadata": {},
   "outputs": [],
   "source": [
    "display(df.iloc[[2936]])\n",
    "print(df['long'][2936])"
   ]
  },
  {
   "cell_type": "markdown",
   "metadata": {},
   "source": [
    "Continue to check results for false negatives, building the keyword list further."
   ]
  },
  {
   "cell_type": "code",
   "execution_count": null,
   "metadata": {},
   "outputs": [],
   "source": [
    "keys = keys + [\n",
    "    \"negrohis\",\n",
    "    \"colors\", \n",
    "    \"colerd\", \n",
    "    \"coller\", \n",
    "    \"blackman\" #, etc.\n",
    "]"
   ]
  },
  {
   "cell_type": "markdown",
   "metadata": {},
   "source": [
    "# Method 2: BERT-Contextualized Keyword Search"
   ]
  },
  {
   "cell_type": "markdown",
   "metadata": {},
   "source": [
    "Define method for returning the token embeddings for each token in a given text."
   ]
  },
  {
   "cell_type": "code",
   "execution_count": 3,
   "metadata": {},
   "outputs": [],
   "source": [
    "def get_token_embeddings(text):\n",
    "    \n",
    "    # Tokenize the text\n",
    "    split_text = text.split(\". \")\n",
    "    marked_text = \"[CLS] \" + \" [SEP] \".join(split_text) + \" [SEP]\"\n",
    "    tokenized_text = tokenizer.tokenize(marked_text)[:512] # Truncate if longer than 512\n",
    "    indexed_tokens = tokenizer.convert_tokens_to_ids(tokenized_text)\n",
    "\n",
    "    # Mark tokens belonging to a sentence\n",
    "    segment_ids = [0]*len(tokenized_text)\n",
    "    is_zero = True\n",
    "    for i in range(len(tokenized_text)):\n",
    "        segment_ids[i] = 0 if is_zero else 1\n",
    "        if tokenized_text[i] == \"[SEP]\":\n",
    "            is_zero = not is_zero\n",
    "\n",
    "    # Convert to torch tensors\n",
    "    tokens_tensor = torch.tensor([indexed_tokens])\n",
    "    segments_tensors = torch.tensor([segment_ids])\n",
    "\n",
    "    # Run through BERT\n",
    "    with torch.no_grad():\n",
    "        outputs = model(tokens_tensor, segments_tensors)\n",
    "        hidden_states = outputs[2]\n",
    "\n",
    "    # Adjust\n",
    "    token_embeddings = torch.stack(hidden_states, dim=0)\n",
    "    token_embeddings = torch.squeeze(token_embeddings, dim=1)\n",
    "    token_embeddings = token_embeddings.permute(1,0,2)\n",
    "\n",
    "    # Get token vectors\n",
    "    token_vecs_sum = []\n",
    "    for token in token_embeddings:\n",
    "        sum_vec = torch.sum(token[-4:], dim=0)\n",
    "        token_vecs_sum.append(sum_vec)\n",
    "    \n",
    "    return token_vecs_sum"
   ]
  },
  {
   "cell_type": "markdown",
   "metadata": {},
   "source": [
    "Again, conisder key words you would look for. Note that the tokenizer adds tokens and may split certain words into multiple tokens. As such, the embedding of your key token via **get_token_embeddings** may not be at the index you expect. "
   ]
  },
  {
   "cell_type": "markdown",
   "metadata": {},
   "source": [
    "For example, say we use the keyword \"white\". Here is the tokenization of the word:"
   ]
  },
  {
   "cell_type": "code",
   "execution_count": null,
   "metadata": {},
   "outputs": [],
   "source": [
    "text = \"white\"\n",
    "split_text = text.split(\". \")\n",
    "marked_text = \"[CLS] \" + \" [SEP] \".join(split_text) + \" [SEP]\"\n",
    "tokenized_text = tokenizer.tokenize(marked_text)\n",
    "print(tokenized_text)"
   ]
  },
  {
   "cell_type": "markdown",
   "metadata": {},
   "source": [
    "We see that \"white\" is at index 1. Therefore, the embedding we want will be at the 1st index of the list returned by **get_token_embeddings**. Manually check this for each word you add."
   ]
  },
  {
   "cell_type": "code",
   "execution_count": null,
   "metadata": {},
   "outputs": [],
   "source": [
    "keys = [\n",
    "    {\"text\": \"white\", \"idx\": 1, \"embed\": None},\n",
    "    {\"text\": \"negro\", \"idx\": 1, \"embed\": None}\n",
    "]\n",
    "\n",
    "# Update \"embed\" for the keywords\n",
    "for k in keys:\n",
    "    embeddings = get_token_embeddings(k['text'])\n",
    "    k['embed'] = embeddings[k['idx']]"
   ]
  },
  {
   "cell_type": "markdown",
   "metadata": {},
   "source": [
    "Now, we simply compare our key token embeddings to the token embeddings of each response. If a response contains a token with a high-enough* similarity to a key token, label it as \"about_race\". \n",
    "\n",
    "<small>\\* Begin with an arbitrary threshold for similarity, and adjust as needed. Consider printing the cosine similarity scores to get an idea of what scores are high/low.</small>"
   ]
  },
  {
   "cell_type": "code",
   "execution_count": 4,
   "metadata": {},
   "outputs": [],
   "source": [
    "# df: Dataframe\n",
    "# column: column to consider for labeling\n",
    "# label: name of column to store results in\n",
    "# keys: keyword dictionary\n",
    "# thresh: similarity threshold\n",
    "def label_topic(df, column, label, keys, thresh):\n",
    "\n",
    "    # Initialize/Reset column\n",
    "    df[label] = 0\n",
    "    \n",
    "    # Track tokens that matched to keywords\n",
    "    token_matches = []\n",
    "    \n",
    "    # Search\n",
    "    for i in range(len(df)):\n",
    "        embed = get_token_embeddings(df[column][i])\n",
    "        for j in range(len(embed)):\n",
    "            for k in keys:\n",
    "                sim = 1 - cosine(embed[j], k['embed'])\n",
    "                if sim >= thresh:\n",
    "                    df.at[i, label] += 1\n",
    "                    \n",
    "                    # Get the token that matched to a keyword\n",
    "                    split_text = df[column][i].split(\". \")\n",
    "                    marked_text = \"[CLS] \" + \" [SEP] \".join(split_text) + \" [SEP]\"\n",
    "                    tokenized_text = tokenizer.tokenize(marked_text)\n",
    "                    token_matches.append((tokenized_text[j], k['text']))\n",
    "                    \n",
    "                    break\n",
    "                    \n",
    "        # Track progress\n",
    "        if i%100==0:\n",
    "            print(i)\n",
    "                    \n",
    "    return token_matches"
   ]
  },
  {
   "cell_type": "code",
   "execution_count": null,
   "metadata": {},
   "outputs": [],
   "source": [
    "token_matches = label_topic(df, 'long', 'about_race', keys, 0.5)"
   ]
  },
  {
   "cell_type": "markdown",
   "metadata": {},
   "source": [
    "In our previous dictionary, we haven't made use of BERT's contextualizing capabilities. For example, the word \"white\" may be interpreted differently depending on how it's used. In our case, we are referring to race, but BERT may pick out responses that refer to various colors or words associated with the color white."
   ]
  },
  {
   "cell_type": "code",
   "execution_count": null,
   "metadata": {},
   "outputs": [],
   "source": [
    "print(set(token_matches))"
   ]
  },
  {
   "cell_type": "markdown",
   "metadata": {},
   "source": [
    "Rather than giving BERT our keywords out of context, use it in a short sentence/phrase. Again, tokenize the phrase you chose and note the index of your keyword. This should give an embedding that considers the keyword in a more narrow context."
   ]
  },
  {
   "cell_type": "code",
   "execution_count": null,
   "metadata": {},
   "outputs": [],
   "source": [
    "# Use keyword in a short sentence/phrase for context\n",
    "# NOTE: Pre-check the tokenization of each phrase.\n",
    "#       Set 'idx' to the index of the keyword in the list of tokens\n",
    "keys = [\n",
    "    {\"text\": \"The white man\", \"idx\": 2, \"embed\": None},\n",
    "    {\"text\": \"The negro man\", \"idx\": 2, \"embed\": None}\n",
    "]\n",
    "\n",
    "for k in keys:\n",
    "    embed = get_token_embeddings(k['text'])\n",
    "    k['embed'] = embed[k['idx']]"
   ]
  },
  {
   "cell_type": "code",
   "execution_count": null,
   "metadata": {},
   "outputs": [],
   "source": [
    "token_matches = label_topic(df, 'long', 'about_race', keys, 0.5)\n",
    "print(set(token_matches))"
   ]
  },
  {
   "cell_type": "markdown",
   "metadata": {},
   "source": [
    "Finally, let's look at some of the more interesting results (full results can be found in data/[].xlsx)."
   ]
  },
  {
   "cell_type": "markdown",
   "metadata": {},
   "source": [
    "Below are responses labeled as \"about_race\" which did not contain a keyword. A simple keyword search using the same keywords would not pick up any of these responses."
   ]
  },
  {
   "cell_type": "code",
   "execution_count": null,
   "metadata": {},
   "outputs": [],
   "source": [
    "for r in df['long'].loc[df['about_race'] > 0]:\n",
    "    if \"negro\" not in r and \"white\" not in r:\n",
    "        print(r,\"\\n\")"
   ]
  },
  {
   "cell_type": "markdown",
   "metadata": {},
   "source": [
    "Next are responses that were not labeled as \"about_race\" but contained a keyword. This is good in cases where one word may have multiple meanings. A simple keyword search using the same keywords would have picked up all of these responses. False negatives may be remedied by adding more keywords, using multiple short sentences for the same keywords, or lowering the similarity threshold."
   ]
  },
  {
   "cell_type": "code",
   "execution_count": null,
   "metadata": {},
   "outputs": [],
   "source": [
    "for r in df['long'].loc[df['about_race'] == 0]:\n",
    "    if \"negro\" in r or \"white\" in r:\n",
    "        print(r,\"\\n\")"
   ]
  },
  {
   "cell_type": "markdown",
   "metadata": {},
   "source": [
    "# Searching for other topics"
   ]
  },
  {
   "cell_type": "markdown",
   "metadata": {},
   "source": [
    "Now let's use the same ideas to search for responses that talk about women/gender relations."
   ]
  },
  {
   "cell_type": "code",
   "execution_count": 21,
   "metadata": {},
   "outputs": [],
   "source": [
    "# Use small sample for testing\n",
    "df_sample = df.sample(n=100, random_state=1).reset_index(drop=True)"
   ]
  },
  {
   "cell_type": "code",
   "execution_count": 14,
   "metadata": {},
   "outputs": [
    {
     "name": "stdout",
     "output_type": "stream",
     "text": [
      "['[CLS]', 'if', 'a', 'married', 'woman', 'was', 'working', '[SEP]']\n"
     ]
    }
   ],
   "source": [
    "text = \"if a married woman was working\"\n",
    "split_text = text.split(\". \")\n",
    "marked_text = \"[CLS] \" + \" [SEP] \".join(split_text) + \" [SEP]\"\n",
    "tokenized_text = tokenizer.tokenize(marked_text)\n",
    "print(tokenized_text)"
   ]
  },
  {
   "cell_type": "code",
   "execution_count": 22,
   "metadata": {},
   "outputs": [],
   "source": [
    "keys = [\n",
    "    {\"text\": \"woman\", \"idx\": 1, \"embed\": None}\n",
    "]\n",
    "\n",
    "for k in keys:\n",
    "    embed = get_token_embeddings(k['text'])\n",
    "    k['embed'] = embed[k['idx']]"
   ]
  },
  {
   "cell_type": "code",
   "execution_count": 23,
   "metadata": {},
   "outputs": [
    {
     "name": "stdout",
     "output_type": "stream",
     "text": [
      "0\n",
      "set()\n"
     ]
    }
   ],
   "source": [
    "token_matches = label_topic(df_sample, 'long', 'about_gender', keys, 0.9)\n",
    "print(set(token_matches))"
   ]
  },
  {
   "cell_type": "markdown",
   "metadata": {},
   "source": [
    "Looking just at the matches, there seem to be a lot of false positives. So we'll add more context, perhaps using phrases from the actual responses."
   ]
  },
  {
   "cell_type": "code",
   "execution_count": 24,
   "metadata": {},
   "outputs": [
    {
     "name": "stdout",
     "output_type": "stream",
     "text": [
      "['', 'as a soldier in the u.s. air force i am writing this to whom it may concern i here by say that as long as the negro of the north meets & mingles with the white man of the south there will always be a racial hatred among them no matter what happens take the northern negro out of the south and their is your question to morale as i foresee in the very near future nothing but race riots bloodshed and possible civil war among the northern negro and the southern white man.', 'negro soldiers should be more through examined for physical defection, men without any learning should be schooled', 'this is a good idea, to get an opinion of the soldiers and if acted on rightly there should be a lot of good changes to the benefit of the soldier. i will say that i hope this war does not act as an instrument in bringing restrictions and hardships on an extreme after the war is ended.', \"most of the things a soldier does his complaining about has been omitted. therefore i don't believe you can get a very good cross - section of what the average soldier think about the army\", 'america to the negro is home. any man will fight for his home and the negro will gladly fight for america. hitler will lose because he is wrong, for years america has been wrong and frankly she will pay and must pay. i fight for america because i feel i am fighting for everything i have as a kid in texas dreamed of, the right to see my parents protected by the law, to see them on election day go and vote like people even if they are negro. in front of the army exchange at the commemoration school there is a sign \"\"for white soldiers only\"\" right here at fort . when  was here we had to go into the back door. we have to walk guard in the time of war with empty rifles because we walk in a white neighborhood and might shoot some white person. to the reader of this paper it might seem as if i am a red, unloyal, and a cry baby, but i will assure, if this be your opinion make the best of it, just put your self in a negro place and i bet you would ask god almighty why did he make you black.', 'to maney questions a like in the last here.  the rest alright overseas across', 'i feel that we are due a equal break. the colored troops should be trained in the north where the people are civilized. i feel that we are due a equal break. the colored troops should be trained in the north where people are civilized.', ' the man come to th ward but in the war is these must to do  to see me to ', \"sir i'm a soldier from the westand i'm down south and i'm not used of this treatment and i think it is a very poor of showing democracydown here. treat negro soldiers as if they were dogs or some kind of animals why can't we have the same treatment as white soldiers after all we are fighting for the same thing aren't we, sometimes i wonder what are we the negro soldier fighting for, and i would rather be in the north than south. do not understand\", 'question 45 - united states is fighting to keep this country as it was, & make sure that it stays that way. (coded in . 20)', \"i have been sick practically ever since i've been here. and the doctor does'nt give me anything to reach my complaints. in the first place they tell me that there's nothing wrong with me, but i know my own feeling and if i could get to a doctor that would do something for me i would have something done. my back hurts me all the time. all they give me is aspirin tablets. they are no good.\", 'the army should have more zip, not by compulsion, but by appeal. more orientation. streamline paperwork. do not permit first classification in induction center be final', 'what  does this help', 'i disaprove of the way a large group of men are treated for what just a few do. the officers should pick out the offenders & give them the punishment. just a few men can keep a whole company in trouble most of the time.', \"i don't see why this country can't spend a little more money on a few men to go around checking different camps & outfits istead of wasting money on clothes like they do. give you one outfit then in about six months change them. to much money is being wasted on the change of clothing. i don't mean keep the boys short in cloths but don't wast clothing and time by taking in clothing then a few months turn around and give it back to them.\", 'i suppose there is no way to keep these personal opinion questionnaires from being rather asinine. frankly, i doubt their value. we have had too damn many questionnaires and too little action.', \"i think the bus service should be improved. i mean more of them. i don't think a person drafted has a very good chance of getting into the branch of service he would like to be in.  men with a good education are often overlooked & do not get a very good chance sometimes i think the men with a good education should have a little choice & it ought to help out better in promotions.\", '', \"the reason i don't feel that what  serving in the army is  that the negro are not treated   the constitution of the united states. negro do not have equal . on the other hand if i america don't win this war we will all be slaves to hitler. if i knew that my  would be treated better after the war i would not feel i have done my part in vain.\", \"it is pretty rotten when the boys can't make sick call with out extra duty. and also  sometimes  are forced to go to church.  there isn't an officer in our outfit that can do a good job drilling a btry. men that don't no what it is all about. suctions counts\", 'i do not like the hole damn set up.', '', 'i sometimes wonder why we, the negro is such a problem. is it becaue the white race want to superior to some one. we the negro have proven to be loyal and having as much courage as anyone, and yet we still are being lynched and murder for nothing. why not send negro troops to the lynch towns and perhaps there will be an end to it. our representation seem to favor lynching and jim crow. sometimes i wonder why we are fighting and do we have so called democracy and a constitution. if that is democracy the narrow minded white people of the south is showing, then patrick henry and geo. washington is turning over in their graves.', 'i think it was a fine idea for the boy in camp shelby miss', 'before an organization becomes efficient as a fighting unit they must stop shooting each other in the back. must have the same protective spirit, one for the other, as among themselves.', 'i believe this a very good plan in feeling out every mans attitude about his army life and conditions for the betterment of all concerned.', 'the negro is liked much less below the mason dixon line. i have noticed that the southern people do not get along with them as well as mid. western or northern people.', '', 'i think that the soldiers should be treated the best of all because they are willing to fight for their country. and go any they  to and do what they to as long as they are right and they should have the best of every thing. and we soldiers would like to have some more furlong time.', 'we is not all negro  we need more negro officers we need more negro officers in the infirmary more for our planned training officers i think in all of the negro outfit should be all negro officer our is not all negro dummy one need more negro officer one need more negro officers in the infantry more for our planned training officer i i??? in all of the negro unit outfit should be all negro officer', \"i'd like to see action on this questionnaire. a little more cooperation from our superior officers in regard to a mans abilities. duties. & furloughs. to consider him as a man and not something not outfit to associate with. too many non coms here forget that they were once privates. i also would like to see my superior officers keep their word & give a definite answer when a question is asked from them. i would also like to see the men go on furloughs during slack periods.\", '', 'if men were placed where they are trained a better and more economical and efficient army could be attained.  for example have civilian truck driver as cooks or bakers and visa versus.  men trained to handle foods for instance could give men more and better meals with the same or less rations as the food problem seems to be the one most complained about. from my own observation for better meals could be had as the army has good and well proportioned rations but in most cases are not properly prepared.', \"well i've been here for a short time and i think my captain is a square-shooter. i wish i could get in n. y. state though, being in 2nd ccorp area would make me feel better while in the army.\", 'this is a camp that you cant get but 8 to 7 days for a felo the artes ant fight i man in for suould get 15 days i stay so far i cant go town in that time i can do more out of the army and i can in heat i out doing very much good heat i guard bee more quality out', \"as far as cooperation between the men of our squadron it is very good but between the noncom officers and the men it is poor. they seem to rebuke one another's orders and the men take the blame for  failing to complete some order.\", \"i believe this camp is one of the best training camps in the u.s., and i would like very much to see our officer get these job's. there are better colored officers in some place than white but because of there colored they will have to take orders from the white. i would like very mich for and if permanent to see a camp run completely by colored.\", \"this questionnaire is undoubtedly a very good one, as it is easy to see that it has been carefully prepared. however, i think it fails to take into account the fact that many of the men who will answer this questionnaire are very recent arrivals in the army. i, for example, have been in the army for only 2 months. i haven't been assigned to any job yet, & i haven't been assigned to any permanent outfit as yet. so  i find it very difficult to answer questions 20-32 honestly. i really haven't had time to make up my mind.\", 'only comment i have is the army spends money & time sending men to m. m. school at ft. benning georgia. & when they return to camp or station they dont have the privelage to do what they are taught as results they forget most of it when the time comes when they need it most they dont have it.  truck drivers are not taught enough on combat driving & taking care of their vehicles. another thing our company commanders have too many pets they should treat all men as men should be treated.', \"some of the commissioned officers are too young to give the proper orders to non-coms who have been in the service for some time. i haven't been able to procure men for my section for quite some time, even though i spoke to the officer in charge. the work came down upon 4 of us just the same, where others had 12. the transportation is very poor. couldn't get out on weekends in time.\", \"this questionnaire itself make me mad like hell in spots. i am from the north i have never been in the south in my life (to remember) and why in hell do the army send me down south and they know that i can't get along here. why it make me almost wish that the war was down south. i am doing all that i can to help win this war, but i be damn if i am doing it for this no good god dame south.  i am not soldier in this hell-hole (the south).\", 'one question that should have been asked is the pay of the soldier today. the american soldier is the best soldier in the world. but not the highest paid soldier. i think that a buck private should draw at least 65 dollars a month. as for the rest of the questionnaire i think that it was fine. i also think that a soldier should not have to pay income tax.', \"i hope you read the clipping it shows farmers of the army. if a married woman was working her husband was put in 117 negro cash of there total money. where many married men with large sum's of money have been put in 317. such as billy rose millionaire.\", \"these people in the u.s.a. had better remember that they were oppressed at one time and had to fight for their freedom the negro might not be able to fight but if they were to quit fighting and quit working in was plants right now this country would be in a hell of a fix. don't these people know that lincoln was suppossed to have freed the negro a longtime ago and we were suppose to have had the same rights as they have. m he president who is a very good should stio to realize that ehasity begins at home in stead of always donate to this to help them he only needs to turn his head around then perhaps he could see what is going on around him. i haven't had a fuslough as yet but i wonder what kind of car i will ride in a day coach or sleeping coach. this is the first time i have ever been in the south (was born here but lived her for 1year) and the conditions were awful. these people  treat you as if you were there slave, the same way that the germans treat the jews thats how they treat us. it puts your morale very low. how do they expect you to fight war and win when they treat you so badley. i am pretty sure that after this war they will change or the negro soldier just from war will raise a lot of hell i know i will. my father was in the last war and he has told me all that i know today. if you ever hear of someone down here being killed   hong you know it will be me i will kill one of crackers as sure as hell. so please  fix up all of this mess before someone gets hurt. (when i talk about north that leaves the countreis capitol out as they are prejudice too\", 'the army would much stronger if most of the officers would be just half as fair with soldiers as this questionnaire.  we need more chances, and a equal brake.', 'i really think soldiers should be stationed closer to their family, so as to noty stay worried so much, and their minds would be more clear for becoming a good soldier. and furlough should be more often than every six months. the management of colored camps should not take advantage of soldiers, as far as prices of different articles in canteens, etc.', 'i think this is a very good test for the army to no what the boy in the  done and how they are treating', 'why is it that the government cannot step in and do away with this \"jim crow\" stuff of negro. after all we negro are american citizens and are fighting for the same thing, and in certain parts of the south you see signs which read for \"colored.\" after all we should not be segregated. this makes the negro feel as though he is not as free as he is suppose to be, which he actually is not. after all this country is suppose to give freedom to all its people. we negro are not free. we will not be free until we can do thing just as \"whites\" do, and looked upon as a white man. after this war is over the government has another problem to solve and that is the problem of the \"negro\". why doesn\\'t the government wake up and do something about this or this country will never be at rest. please see what can be done to better the conditions of the negro in the \"south\" ', 'they show to damn much distinction between officers and enlisted men when attending the theater. i think officers should try to cooperate more with enlisted men.', 'i think this is a good idea as you will find out quite a bit about army life', 'all i want is equal right in this state and nothing else and that is all and i want to get out of camp', 'i have answered these questions to the best of my ability and understand each and every question. the army is a great organization and i am proud to be a part of it. i think the army gives every soldier a good chance to show what he can do and for my self i am doing my best to be a good soldier and i think my job as a cook, is one of the important job in the army. i think most of the soldiers in my btry think the same i. the army is o.k.', 'question 21 my job is truck driver but would be better as a mechanic.  question 27. i could do better in the army if i were given half a chance to. there is too much partiality shown in my company.  question 12. being nearer home would give a soldier more ambition and less worries. of course when the time comes to go across he would at least been near and seen his folks during his training period. i even find partiality shown as far as furloughs go.', '(1) i do believe we are getting a fair chance of drilling & i feel right to say we should at least get sat afternoon off. & also a half aof a day thru the week for the rest. and i do think we should get a class a pass when your wife is down at dothen alabama or anywhere close. (2) we also have to sing a song. by that i mean ; we have to learn a song they give us to sing it to get a \"\"pass\"\"  & i do think it is most unusually unfair () (3) sometimes it seems to me they give us jobs that i dont think is winning any war. only passing away the time.', 'i feel that in a mixed division the training is better and the morale is higher ‚äì less soldiers would get into trouble or cause the officers trouble. this camp is the worst in the entire united states ‚äì no conveince at all ‚äì¬†during free hours the is no place to go ‚äì nothing of interest to do. unless you visit the slums of mexico or near by towns.', \"you ask about non-coms. i say that every man who is to be a non-comm, for him to take a test to see if he can qualify for the positions, because most non-coms today are picked because they are friends with 1st sarg even though i'm a non-comm. this does no formulate my answers about the army, or i can say most of what i do have to say about the army are not asked in this poll.\", 'negro soldiers should be removed from the south up north where the people at least act civilized. you could be a better soldier where peoples dont stare and laugh at you as if you were poison. i have often heard about the treatment negro get in the south but dueing to fact that we are soldiers and all may have to die for that same civilian who insists on insulting you. it is high time that we all should wake up and forget those things. we are at war with our enemies and we cannot win a war over there if we cannot conquer the south over here. the north is just a little bit better but not much. i have lived in the north for twenty years and this is my first time ever being in the south and i do hope after the war it will be my last, if i am still around.', \"i am under a bunch of negro officers. not only me but a lots of others think that is was a unwise move to have colored officers. the bars on their shoulders give them too much authority. they don't know how to use it fairly. to me they act like they are better than the plain soldier. two thirds of the time they are throwing rank on some one, which is not at all called for. my opinion is to  with all negro officers. i would solider better under a white officer any day. i would rather go across with a white officer.\", 'the army is all right for those that like it i dont get enough to eat some time and i dont see whay wee half to sleep in the woods so much but i guess that the way the army goes.', 'will have a damn butting commander that is not worth anything to the boys. we catch hell for every little thing we do. boys get sick & go to the med. when they came back, he gives them extra duty, & our passes we have a time getting passes, & all the boys hates him just like i do.  boys  to make something but know he just is not worth a damn. he does not know how to handle men. he thinks his doing them good, but just doing  bad. the whole battion knows an boys in war butley catches hell.', 'i think this was a good idea. i think this was a good idea', 'i think there should be a better system pertaining to furloughs.  i only me get home on 3 day passes others cannot they are too far from home. these men who cannot should get longer furloughs before six months is served. say at the end of four months, or some other plan on this order.', 'this questionnaire deals more less about white people and negro and i think they are the same as white people are. this questionnaire deals more less about white people and negro and i think they are the same as white people are', 'this questionnaire is a very good idea if it would only be tent into effect. and it answer all question too my openion.', 'this western life is no good, the reason i am to far from home. also there is no place to go or nothing to do in any spair time. but i would like very much to get where i could take up a traid of some kind to help me after the war is over. i have been in the army for 2 years and all i get done is washing other me the same thing over and over there for i would like to learn more my self. ', 'i will be glad when this war is over so i can go home and free life i wish the war would  in  cause i want to go home and it so far away from home and i cant  home  i  in the army and i hope the united state win this war', \"for some reason or other, no one wants to inform, or should i say insult, for that's what it would be called, the southern states, that a war is going on. the only people getting much out of the war spending seems to be the merchants who except a soldier is a soldier as long as he creates no disturbance. the methods of doing business and the living conditions as a whole down here (ala) are about 40 years behind time.\", '', 'i feel that a man in camp not doing anything are just expense to the country. any should be sent home or to some place where he can at least earn his food', \"the problems that the u.s. is having with colored and white in the armed forces could be eliminated in the white house, and those who would object would be those who wouldn't want unity, and unity is required for an all out victory. we have colored officers and proud to see them, but i hope that in peace time there will be more of them trained than before.\", 'i have been in the army 11 months and i cant get a filaw are a 3 day pass corise i have been a  2 times but is is  did the same thing and have went home and can get a pass vp town and it is just at times can only gat to go to town. i have a wife. i wood like to see her just as bad as any body alce i dont do no bader thin any one alce here. but i cant get no break here i have been a private every since i have been in the army not hade a chance to make my they alce if it is any way i can get a better gaub i will take one out on the  are a defense jab it will be all wrile so thank yal very much. it is all my company commander falt', 'the army is fine. but some people in it try to run the whole army. and they are only serving their country as a soldier just the same as anyone else. for a soldier to serve his country is one of the greatest things in the world.', 'i hope the negro be treated better when the war is over because we is doing our part only nations can  in usa and kill a nigros and they want so anything to him. it was a white man kill a soldier and he was a colour soldier and that did put him in jail at all that was not right at all.', 'i am only a private and i have  kids to support. i only make 30 a  in much more expence. while ', \"i think if a man tried to be a good man he should be given a chance to show what he can do. i am just back of my furlar an i heard some remark made that did not't sound so good i would just lake to no why some people dislike some people for no reason that in one think i really would like to no i am willing to die for my country an i feel that they should have some good in their heart for me i think you very much\", 'some question overlap others and you might think i just checked them to get finished but i checked them as i feel.', 'why is it they dont give an educated negro a break in this damn camp. they also pick some of the dumbest for noncomm  is it to try and break a fellows spirit i believe so.', 'if the army put some of the men in the branch of the services they like to be in. most of the man would be better soldiers.  than they are by putting them any place. i am an infantry man and i dont belong in this outfit for  there are other branchs of the services where i would be better outfit for.', 'there will always be a difference in colored and white people, which is right but the colored should be given a few more privileges.', 'well all one in the army fighting for the same thing i think', \"i answered the question at the best of my ability. the towns that we have to got to is just like a rat hole. when we want to give a dance its awfully hard to get a bigger place. the clubs  px are like a hell no room what so ever. isn't it some way we could enjoy our self like the white boys. it would be better if we could be stationed nearer home.\", '', \"petty jealous by and discrimination amongst negro and white officers has had hamper the progress of the army. do away with selfishness officers and men says the army should be run by the army and not some political bigwig that wants to be spotlighter. how can you fight with a machine gun  and artillery guns if you don't know the principles or fundamentals. they say you should know how yet how many soldiers try to find out. they have to be detailed and taught how about it.\", 'i dont get furlough often a month', \"why don't all camps handle furloughs and 3 day passes alike?\", 'these question is very good i think i hope i does make good and i hope i did very good on these questions.', 'it will, indeed, be a surprise to me if any action will be taken on the comments made on these questionnaires.', \" i think the questions were nice but i'm hoping in the newsletter we'll all come to-gather as a whole\", 'i have been in pain ever since i been in the army. i suffer with my legs and back', \"i don't like co. d 27. i'm and would like a transfer to camp lee. i don't like co, d 27 f.m and would like a transfer to camp lee\", 'i feel this is a very good questionnaire. it should give a good cross section of what we are thinking. from these  in  should come some solutions of this racial problem we have here in this country. when we as a group feel that although we are giving  our lives for this country the minute the war is over  the people we are fighting will at  have more privileges than us, makes us feel very badly. we know it is not right and the white people of this country know it is not right. why then in the name of god do the better thinking white people of the country permit such to exist. god help us to some day enjoy the things we are fighting for.', 'i am in hope that when the war is over negro will have a better chance and that there will not be so much difference made in giving a man a job because of his color. and for the separate p.x. for white and colored, they are separate and i think that is a good idea for this part of the country. although we are all both white and colored fighting for the same purpose and same country and should be able to live here in the army or in crosshair should be able to live as one big family, for both colored and white are giving their lives for the country.', \"they are just one thing about this battle i don't under stand just why the poor color man haptn to fight and he really don't no just what it all about he really don't have any thing to fight for if he make a great permission he mung get credits for it so the white man try to keep him down all the time\", 'well i dont think the nogether out to stay close to gather they are not aur coller,', 'my part in this war is not altogether for my country but against for and with the progress people. of the world i dont want to to see the axis defeated. because i want to see america rule the world. no i want to see all people free and complete free for the negro people of america.', 'if a  soldier deserts his post in the front lines, he is shot.  if a civilian deserts his post at a war plant his wages are docked. what about that?', \"the greatest fault that find is that i can't see why we should have to fight for victory and then be treated and then be treated like dogs or something like we are being done and i do think if we have to and all for victory & so on that we should have a fair chance and we should be treated a lot better then we are treated now for i don't think that we being treated a bit fair at all for we don't get enough food and we don't get proper kinds of privileges of any kind or at any time i don't think such as going to town for example we can't get a weekend pass even and i am not pleased with it at all.\", '', 'the reason why i had rather be in south-east is because the clymate suits my complant the best. i go to the clinit soo often that the dr. ensults me. an i would rather not have to go to the dr. at all. i think that every man in the u.s.a. should have the same rights an privilidge. because we are all americans. an the only diference in the different colors nations i think that every one should see it the same way. i think that if a soldier does have to go across an fight, that every soldier should have a chance to see there peoplebefore he does have to leave. that all for now. hope you can read an understand it all.']\n"
     ]
    }
   ],
   "source": [
    "print(df_sample[df_sample['about_gender'] == 0]['long'].tolist())"
   ]
  },
  {
   "cell_type": "code",
   "execution_count": 25,
   "metadata": {},
   "outputs": [],
   "source": [
    "keys = [\n",
    "    {\"text\": \"if a married woman was working\", \"idx\": 4, \"embed\": None},\n",
    "]\n",
    "\n",
    "for k in keys:\n",
    "    embed = get_token_embeddings(k['text'])\n",
    "    k['embed'] = embed[k['idx']]"
   ]
  }
 ],
 "metadata": {
  "kernelspec": {
   "display_name": "Python 3",
   "language": "python",
   "name": "python3"
  },
  "language_info": {
   "codemirror_mode": {
    "name": "ipython",
    "version": 3
   },
   "file_extension": ".py",
   "mimetype": "text/x-python",
   "name": "python",
   "nbconvert_exporter": "python",
   "pygments_lexer": "ipython3",
   "version": "3.7.3"
  }
 },
 "nbformat": 4,
 "nbformat_minor": 4
}
