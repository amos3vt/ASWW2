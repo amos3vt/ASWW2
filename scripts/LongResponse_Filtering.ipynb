{
 "cells": [
  {
   "cell_type": "markdown",
   "metadata": {},
   "source": [
    "# Import libraries"
   ]
  },
  {
   "cell_type": "code",
   "execution_count": 1,
   "metadata": {},
   "outputs": [
    {
     "name": "stderr",
     "output_type": "stream",
     "text": [
      "C:\\Users\\Savannah\\Anaconda3\\lib\\site-packages\\tensorflow\\python\\framework\\dtypes.py:526: FutureWarning: Passing (type, 1) or '1type' as a synonym of type is deprecated; in a future version of numpy, it will be understood as (type, (1,)) / '(1,)type'.\n",
      "  _np_qint8 = np.dtype([(\"qint8\", np.int8, 1)])\n",
      "C:\\Users\\Savannah\\Anaconda3\\lib\\site-packages\\tensorflow\\python\\framework\\dtypes.py:527: FutureWarning: Passing (type, 1) or '1type' as a synonym of type is deprecated; in a future version of numpy, it will be understood as (type, (1,)) / '(1,)type'.\n",
      "  _np_quint8 = np.dtype([(\"quint8\", np.uint8, 1)])\n",
      "C:\\Users\\Savannah\\Anaconda3\\lib\\site-packages\\tensorflow\\python\\framework\\dtypes.py:528: FutureWarning: Passing (type, 1) or '1type' as a synonym of type is deprecated; in a future version of numpy, it will be understood as (type, (1,)) / '(1,)type'.\n",
      "  _np_qint16 = np.dtype([(\"qint16\", np.int16, 1)])\n",
      "C:\\Users\\Savannah\\Anaconda3\\lib\\site-packages\\tensorflow\\python\\framework\\dtypes.py:529: FutureWarning: Passing (type, 1) or '1type' as a synonym of type is deprecated; in a future version of numpy, it will be understood as (type, (1,)) / '(1,)type'.\n",
      "  _np_quint16 = np.dtype([(\"quint16\", np.uint16, 1)])\n",
      "C:\\Users\\Savannah\\Anaconda3\\lib\\site-packages\\tensorflow\\python\\framework\\dtypes.py:530: FutureWarning: Passing (type, 1) or '1type' as a synonym of type is deprecated; in a future version of numpy, it will be understood as (type, (1,)) / '(1,)type'.\n",
      "  _np_qint32 = np.dtype([(\"qint32\", np.int32, 1)])\n",
      "C:\\Users\\Savannah\\Anaconda3\\lib\\site-packages\\tensorflow\\python\\framework\\dtypes.py:535: FutureWarning: Passing (type, 1) or '1type' as a synonym of type is deprecated; in a future version of numpy, it will be understood as (type, (1,)) / '(1,)type'.\n",
      "  np_resource = np.dtype([(\"resource\", np.ubyte, 1)])\n"
     ]
    },
    {
     "data": {
      "text/plain": [
       "BertModel(\n",
       "  (embeddings): BertEmbeddings(\n",
       "    (word_embeddings): Embedding(30522, 768, padding_idx=0)\n",
       "    (position_embeddings): Embedding(512, 768)\n",
       "    (token_type_embeddings): Embedding(2, 768)\n",
       "    (LayerNorm): LayerNorm((768,), eps=1e-12, elementwise_affine=True)\n",
       "    (dropout): Dropout(p=0.1, inplace=False)\n",
       "  )\n",
       "  (encoder): BertEncoder(\n",
       "    (layer): ModuleList(\n",
       "      (0): BertLayer(\n",
       "        (attention): BertAttention(\n",
       "          (self): BertSelfAttention(\n",
       "            (query): Linear(in_features=768, out_features=768, bias=True)\n",
       "            (key): Linear(in_features=768, out_features=768, bias=True)\n",
       "            (value): Linear(in_features=768, out_features=768, bias=True)\n",
       "            (dropout): Dropout(p=0.1, inplace=False)\n",
       "          )\n",
       "          (output): BertSelfOutput(\n",
       "            (dense): Linear(in_features=768, out_features=768, bias=True)\n",
       "            (LayerNorm): LayerNorm((768,), eps=1e-12, elementwise_affine=True)\n",
       "            (dropout): Dropout(p=0.1, inplace=False)\n",
       "          )\n",
       "        )\n",
       "        (intermediate): BertIntermediate(\n",
       "          (dense): Linear(in_features=768, out_features=3072, bias=True)\n",
       "        )\n",
       "        (output): BertOutput(\n",
       "          (dense): Linear(in_features=3072, out_features=768, bias=True)\n",
       "          (LayerNorm): LayerNorm((768,), eps=1e-12, elementwise_affine=True)\n",
       "          (dropout): Dropout(p=0.1, inplace=False)\n",
       "        )\n",
       "      )\n",
       "      (1): BertLayer(\n",
       "        (attention): BertAttention(\n",
       "          (self): BertSelfAttention(\n",
       "            (query): Linear(in_features=768, out_features=768, bias=True)\n",
       "            (key): Linear(in_features=768, out_features=768, bias=True)\n",
       "            (value): Linear(in_features=768, out_features=768, bias=True)\n",
       "            (dropout): Dropout(p=0.1, inplace=False)\n",
       "          )\n",
       "          (output): BertSelfOutput(\n",
       "            (dense): Linear(in_features=768, out_features=768, bias=True)\n",
       "            (LayerNorm): LayerNorm((768,), eps=1e-12, elementwise_affine=True)\n",
       "            (dropout): Dropout(p=0.1, inplace=False)\n",
       "          )\n",
       "        )\n",
       "        (intermediate): BertIntermediate(\n",
       "          (dense): Linear(in_features=768, out_features=3072, bias=True)\n",
       "        )\n",
       "        (output): BertOutput(\n",
       "          (dense): Linear(in_features=3072, out_features=768, bias=True)\n",
       "          (LayerNorm): LayerNorm((768,), eps=1e-12, elementwise_affine=True)\n",
       "          (dropout): Dropout(p=0.1, inplace=False)\n",
       "        )\n",
       "      )\n",
       "      (2): BertLayer(\n",
       "        (attention): BertAttention(\n",
       "          (self): BertSelfAttention(\n",
       "            (query): Linear(in_features=768, out_features=768, bias=True)\n",
       "            (key): Linear(in_features=768, out_features=768, bias=True)\n",
       "            (value): Linear(in_features=768, out_features=768, bias=True)\n",
       "            (dropout): Dropout(p=0.1, inplace=False)\n",
       "          )\n",
       "          (output): BertSelfOutput(\n",
       "            (dense): Linear(in_features=768, out_features=768, bias=True)\n",
       "            (LayerNorm): LayerNorm((768,), eps=1e-12, elementwise_affine=True)\n",
       "            (dropout): Dropout(p=0.1, inplace=False)\n",
       "          )\n",
       "        )\n",
       "        (intermediate): BertIntermediate(\n",
       "          (dense): Linear(in_features=768, out_features=3072, bias=True)\n",
       "        )\n",
       "        (output): BertOutput(\n",
       "          (dense): Linear(in_features=3072, out_features=768, bias=True)\n",
       "          (LayerNorm): LayerNorm((768,), eps=1e-12, elementwise_affine=True)\n",
       "          (dropout): Dropout(p=0.1, inplace=False)\n",
       "        )\n",
       "      )\n",
       "      (3): BertLayer(\n",
       "        (attention): BertAttention(\n",
       "          (self): BertSelfAttention(\n",
       "            (query): Linear(in_features=768, out_features=768, bias=True)\n",
       "            (key): Linear(in_features=768, out_features=768, bias=True)\n",
       "            (value): Linear(in_features=768, out_features=768, bias=True)\n",
       "            (dropout): Dropout(p=0.1, inplace=False)\n",
       "          )\n",
       "          (output): BertSelfOutput(\n",
       "            (dense): Linear(in_features=768, out_features=768, bias=True)\n",
       "            (LayerNorm): LayerNorm((768,), eps=1e-12, elementwise_affine=True)\n",
       "            (dropout): Dropout(p=0.1, inplace=False)\n",
       "          )\n",
       "        )\n",
       "        (intermediate): BertIntermediate(\n",
       "          (dense): Linear(in_features=768, out_features=3072, bias=True)\n",
       "        )\n",
       "        (output): BertOutput(\n",
       "          (dense): Linear(in_features=3072, out_features=768, bias=True)\n",
       "          (LayerNorm): LayerNorm((768,), eps=1e-12, elementwise_affine=True)\n",
       "          (dropout): Dropout(p=0.1, inplace=False)\n",
       "        )\n",
       "      )\n",
       "      (4): BertLayer(\n",
       "        (attention): BertAttention(\n",
       "          (self): BertSelfAttention(\n",
       "            (query): Linear(in_features=768, out_features=768, bias=True)\n",
       "            (key): Linear(in_features=768, out_features=768, bias=True)\n",
       "            (value): Linear(in_features=768, out_features=768, bias=True)\n",
       "            (dropout): Dropout(p=0.1, inplace=False)\n",
       "          )\n",
       "          (output): BertSelfOutput(\n",
       "            (dense): Linear(in_features=768, out_features=768, bias=True)\n",
       "            (LayerNorm): LayerNorm((768,), eps=1e-12, elementwise_affine=True)\n",
       "            (dropout): Dropout(p=0.1, inplace=False)\n",
       "          )\n",
       "        )\n",
       "        (intermediate): BertIntermediate(\n",
       "          (dense): Linear(in_features=768, out_features=3072, bias=True)\n",
       "        )\n",
       "        (output): BertOutput(\n",
       "          (dense): Linear(in_features=3072, out_features=768, bias=True)\n",
       "          (LayerNorm): LayerNorm((768,), eps=1e-12, elementwise_affine=True)\n",
       "          (dropout): Dropout(p=0.1, inplace=False)\n",
       "        )\n",
       "      )\n",
       "      (5): BertLayer(\n",
       "        (attention): BertAttention(\n",
       "          (self): BertSelfAttention(\n",
       "            (query): Linear(in_features=768, out_features=768, bias=True)\n",
       "            (key): Linear(in_features=768, out_features=768, bias=True)\n",
       "            (value): Linear(in_features=768, out_features=768, bias=True)\n",
       "            (dropout): Dropout(p=0.1, inplace=False)\n",
       "          )\n",
       "          (output): BertSelfOutput(\n",
       "            (dense): Linear(in_features=768, out_features=768, bias=True)\n",
       "            (LayerNorm): LayerNorm((768,), eps=1e-12, elementwise_affine=True)\n",
       "            (dropout): Dropout(p=0.1, inplace=False)\n",
       "          )\n",
       "        )\n",
       "        (intermediate): BertIntermediate(\n",
       "          (dense): Linear(in_features=768, out_features=3072, bias=True)\n",
       "        )\n",
       "        (output): BertOutput(\n",
       "          (dense): Linear(in_features=3072, out_features=768, bias=True)\n",
       "          (LayerNorm): LayerNorm((768,), eps=1e-12, elementwise_affine=True)\n",
       "          (dropout): Dropout(p=0.1, inplace=False)\n",
       "        )\n",
       "      )\n",
       "      (6): BertLayer(\n",
       "        (attention): BertAttention(\n",
       "          (self): BertSelfAttention(\n",
       "            (query): Linear(in_features=768, out_features=768, bias=True)\n",
       "            (key): Linear(in_features=768, out_features=768, bias=True)\n",
       "            (value): Linear(in_features=768, out_features=768, bias=True)\n",
       "            (dropout): Dropout(p=0.1, inplace=False)\n",
       "          )\n",
       "          (output): BertSelfOutput(\n",
       "            (dense): Linear(in_features=768, out_features=768, bias=True)\n",
       "            (LayerNorm): LayerNorm((768,), eps=1e-12, elementwise_affine=True)\n",
       "            (dropout): Dropout(p=0.1, inplace=False)\n",
       "          )\n",
       "        )\n",
       "        (intermediate): BertIntermediate(\n",
       "          (dense): Linear(in_features=768, out_features=3072, bias=True)\n",
       "        )\n",
       "        (output): BertOutput(\n",
       "          (dense): Linear(in_features=3072, out_features=768, bias=True)\n",
       "          (LayerNorm): LayerNorm((768,), eps=1e-12, elementwise_affine=True)\n",
       "          (dropout): Dropout(p=0.1, inplace=False)\n",
       "        )\n",
       "      )\n",
       "      (7): BertLayer(\n",
       "        (attention): BertAttention(\n",
       "          (self): BertSelfAttention(\n",
       "            (query): Linear(in_features=768, out_features=768, bias=True)\n",
       "            (key): Linear(in_features=768, out_features=768, bias=True)\n",
       "            (value): Linear(in_features=768, out_features=768, bias=True)\n",
       "            (dropout): Dropout(p=0.1, inplace=False)\n",
       "          )\n",
       "          (output): BertSelfOutput(\n",
       "            (dense): Linear(in_features=768, out_features=768, bias=True)\n",
       "            (LayerNorm): LayerNorm((768,), eps=1e-12, elementwise_affine=True)\n",
       "            (dropout): Dropout(p=0.1, inplace=False)\n",
       "          )\n",
       "        )\n",
       "        (intermediate): BertIntermediate(\n",
       "          (dense): Linear(in_features=768, out_features=3072, bias=True)\n",
       "        )\n",
       "        (output): BertOutput(\n",
       "          (dense): Linear(in_features=3072, out_features=768, bias=True)\n",
       "          (LayerNorm): LayerNorm((768,), eps=1e-12, elementwise_affine=True)\n",
       "          (dropout): Dropout(p=0.1, inplace=False)\n",
       "        )\n",
       "      )\n",
       "      (8): BertLayer(\n",
       "        (attention): BertAttention(\n",
       "          (self): BertSelfAttention(\n",
       "            (query): Linear(in_features=768, out_features=768, bias=True)\n",
       "            (key): Linear(in_features=768, out_features=768, bias=True)\n",
       "            (value): Linear(in_features=768, out_features=768, bias=True)\n",
       "            (dropout): Dropout(p=0.1, inplace=False)\n",
       "          )\n",
       "          (output): BertSelfOutput(\n",
       "            (dense): Linear(in_features=768, out_features=768, bias=True)\n",
       "            (LayerNorm): LayerNorm((768,), eps=1e-12, elementwise_affine=True)\n",
       "            (dropout): Dropout(p=0.1, inplace=False)\n",
       "          )\n",
       "        )\n",
       "        (intermediate): BertIntermediate(\n",
       "          (dense): Linear(in_features=768, out_features=3072, bias=True)\n",
       "        )\n",
       "        (output): BertOutput(\n",
       "          (dense): Linear(in_features=3072, out_features=768, bias=True)\n",
       "          (LayerNorm): LayerNorm((768,), eps=1e-12, elementwise_affine=True)\n",
       "          (dropout): Dropout(p=0.1, inplace=False)\n",
       "        )\n",
       "      )\n",
       "      (9): BertLayer(\n",
       "        (attention): BertAttention(\n",
       "          (self): BertSelfAttention(\n",
       "            (query): Linear(in_features=768, out_features=768, bias=True)\n",
       "            (key): Linear(in_features=768, out_features=768, bias=True)\n",
       "            (value): Linear(in_features=768, out_features=768, bias=True)\n",
       "            (dropout): Dropout(p=0.1, inplace=False)\n",
       "          )\n",
       "          (output): BertSelfOutput(\n",
       "            (dense): Linear(in_features=768, out_features=768, bias=True)\n",
       "            (LayerNorm): LayerNorm((768,), eps=1e-12, elementwise_affine=True)\n",
       "            (dropout): Dropout(p=0.1, inplace=False)\n",
       "          )\n",
       "        )\n",
       "        (intermediate): BertIntermediate(\n",
       "          (dense): Linear(in_features=768, out_features=3072, bias=True)\n",
       "        )\n",
       "        (output): BertOutput(\n",
       "          (dense): Linear(in_features=3072, out_features=768, bias=True)\n",
       "          (LayerNorm): LayerNorm((768,), eps=1e-12, elementwise_affine=True)\n",
       "          (dropout): Dropout(p=0.1, inplace=False)\n",
       "        )\n",
       "      )\n",
       "      (10): BertLayer(\n",
       "        (attention): BertAttention(\n",
       "          (self): BertSelfAttention(\n",
       "            (query): Linear(in_features=768, out_features=768, bias=True)\n",
       "            (key): Linear(in_features=768, out_features=768, bias=True)\n",
       "            (value): Linear(in_features=768, out_features=768, bias=True)\n",
       "            (dropout): Dropout(p=0.1, inplace=False)\n",
       "          )\n",
       "          (output): BertSelfOutput(\n",
       "            (dense): Linear(in_features=768, out_features=768, bias=True)\n",
       "            (LayerNorm): LayerNorm((768,), eps=1e-12, elementwise_affine=True)\n",
       "            (dropout): Dropout(p=0.1, inplace=False)\n",
       "          )\n",
       "        )\n",
       "        (intermediate): BertIntermediate(\n",
       "          (dense): Linear(in_features=768, out_features=3072, bias=True)\n",
       "        )\n",
       "        (output): BertOutput(\n",
       "          (dense): Linear(in_features=3072, out_features=768, bias=True)\n",
       "          (LayerNorm): LayerNorm((768,), eps=1e-12, elementwise_affine=True)\n",
       "          (dropout): Dropout(p=0.1, inplace=False)\n",
       "        )\n",
       "      )\n",
       "      (11): BertLayer(\n",
       "        (attention): BertAttention(\n",
       "          (self): BertSelfAttention(\n",
       "            (query): Linear(in_features=768, out_features=768, bias=True)\n",
       "            (key): Linear(in_features=768, out_features=768, bias=True)\n",
       "            (value): Linear(in_features=768, out_features=768, bias=True)\n",
       "            (dropout): Dropout(p=0.1, inplace=False)\n",
       "          )\n",
       "          (output): BertSelfOutput(\n",
       "            (dense): Linear(in_features=768, out_features=768, bias=True)\n",
       "            (LayerNorm): LayerNorm((768,), eps=1e-12, elementwise_affine=True)\n",
       "            (dropout): Dropout(p=0.1, inplace=False)\n",
       "          )\n",
       "        )\n",
       "        (intermediate): BertIntermediate(\n",
       "          (dense): Linear(in_features=768, out_features=3072, bias=True)\n",
       "        )\n",
       "        (output): BertOutput(\n",
       "          (dense): Linear(in_features=3072, out_features=768, bias=True)\n",
       "          (LayerNorm): LayerNorm((768,), eps=1e-12, elementwise_affine=True)\n",
       "          (dropout): Dropout(p=0.1, inplace=False)\n",
       "        )\n",
       "      )\n",
       "    )\n",
       "  )\n",
       "  (pooler): BertPooler(\n",
       "    (dense): Linear(in_features=768, out_features=768, bias=True)\n",
       "    (activation): Tanh()\n",
       "  )\n",
       ")"
      ]
     },
     "execution_count": 1,
     "metadata": {},
     "output_type": "execute_result"
    }
   ],
   "source": [
    "import pandas as pd\n",
    "import numpy as np\n",
    "import torch\n",
    "import string\n",
    "from scipy.spatial.distance import cosine\n",
    "\n",
    "from transformers import BertTokenizer, BertModel\n",
    "tokenizer = BertTokenizer.from_pretrained('bert-base-uncased')\n",
    "model = BertModel.from_pretrained('bert-base-uncased', output_hidden_states=True)\n",
    "model.eval()"
   ]
  },
  {
   "cell_type": "markdown",
   "metadata": {},
   "source": [
    "# Load survey data"
   ]
  },
  {
   "cell_type": "code",
   "execution_count": null,
   "metadata": {},
   "outputs": [],
   "source": [
    "# Read it in\n",
    "path = \"../data/surveys_clean.csv\"\n",
    "df = pd.read_csv(path, na_filter=False)\n",
    "\n",
    "# Drop unnecessary columns\n",
    "df.drop(columns=['ind_id', 'subject_id', 'image_name', 'image_name_2', 'index'], inplace=True)"
   ]
  },
  {
   "cell_type": "markdown",
   "metadata": {},
   "source": [
    "# Method 1: Simple Keyword Search"
   ]
  },
  {
   "cell_type": "markdown",
   "metadata": {},
   "source": [
    "Build a list of keywords relating to the topic and return responses containing any of these words. Requires much foresight to catch all forms/mispellings of relevant words."
   ]
  },
  {
   "cell_type": "code",
   "execution_count": null,
   "metadata": {},
   "outputs": [],
   "source": [
    "keys = [\n",
    "    \"negro\",\n",
    "    \"negros\",\n",
    "    \"color\",\n",
    "    \"colored\",\n",
    "    \"black\",\n",
    "    \"blacks\",\n",
    "    \"white\",\n",
    "    \"whites\",\n",
    "    \"race\",\n",
    "    \"races\",\n",
    "    \"racial\"\n",
    "]"
   ]
  },
  {
   "cell_type": "code",
   "execution_count": null,
   "metadata": {},
   "outputs": [],
   "source": [
    "# Create new column for tracking relevant responses\n",
    "df['about_race'] = 0\n",
    "\n",
    "for i in range(len(df['long'])):\n",
    "    for k in keys:\n",
    "        # set to lowercase + remove punctuation for easier comparison\n",
    "        if k in df['long'][i].lower().translate(str.maketrans('','',string.punctuation)).split():\n",
    "            df.at[i, 'about_race'] = 1\n",
    "            break"
   ]
  },
  {
   "cell_type": "markdown",
   "metadata": {},
   "source": [
    "Below is a response the keyword search failed to pick up. We will add the most relevant word from this response to our keyword list. One may not have initially guessed to add \"colerd\" to the list, highlighting one of the drawbacks to the simple keyword method. "
   ]
  },
  {
   "cell_type": "code",
   "execution_count": null,
   "metadata": {},
   "outputs": [],
   "source": [
    "display(df.iloc[[2936]])\n",
    "print(df['long'][2936])"
   ]
  },
  {
   "cell_type": "markdown",
   "metadata": {},
   "source": [
    "Continue to check results for false negatives, building the keyword list further."
   ]
  },
  {
   "cell_type": "code",
   "execution_count": null,
   "metadata": {},
   "outputs": [],
   "source": [
    "keys = keys + [\n",
    "    \"negrohis\",\n",
    "    \"colors\", \n",
    "    \"colerd\", \n",
    "    \"coller\", \n",
    "    \"blackman\" #, etc.\n",
    "]"
   ]
  },
  {
   "cell_type": "markdown",
   "metadata": {},
   "source": [
    "# Method 2: BERT-Contextualized Keyword Search"
   ]
  },
  {
   "cell_type": "markdown",
   "metadata": {},
   "source": [
    "Define method for returning the token embeddings for each token in a given text."
   ]
  },
  {
   "cell_type": "code",
   "execution_count": 2,
   "metadata": {},
   "outputs": [],
   "source": [
    "def get_token_embeddings(text):\n",
    "    \n",
    "    # Tokenize the text\n",
    "    split_text = text.split(\". \")\n",
    "    marked_text = \"[CLS] \" + \" [SEP] \".join(split_text) + \" [SEP]\"\n",
    "    tokenized_text = tokenizer.tokenize(marked_text)[:512] # Truncate if longer than 512\n",
    "    indexed_tokens = tokenizer.convert_tokens_to_ids(tokenized_text)\n",
    "\n",
    "    # Mark tokens belonging to a sentence\n",
    "    segment_ids = [0]*len(tokenized_text)\n",
    "    is_zero = True\n",
    "    for i in range(len(tokenized_text)):\n",
    "        segment_ids[i] = 0 if is_zero else 1\n",
    "        if tokenized_text[i] == \"[SEP]\":\n",
    "            is_zero = not is_zero\n",
    "\n",
    "    # Convert to torch tensors\n",
    "    tokens_tensor = torch.tensor([indexed_tokens])\n",
    "    segments_tensors = torch.tensor([segment_ids])\n",
    "\n",
    "    # Run through BERT\n",
    "    with torch.no_grad():\n",
    "        outputs = model(tokens_tensor, segments_tensors)\n",
    "        hidden_states = outputs[2]\n",
    "\n",
    "    # Adjust\n",
    "    token_embeddings = torch.stack(hidden_states, dim=0)\n",
    "    token_embeddings = torch.squeeze(token_embeddings, dim=1)\n",
    "    token_embeddings = token_embeddings.permute(1,0,2)\n",
    "\n",
    "    # Get token vectors\n",
    "    token_vecs_sum = []\n",
    "    for token in token_embeddings:\n",
    "        sum_vec = torch.sum(token[-4:], dim=0)\n",
    "        token_vecs_sum.append(sum_vec)\n",
    "    \n",
    "    return token_vecs_sum"
   ]
  },
  {
   "cell_type": "markdown",
   "metadata": {},
   "source": [
    "Again, conisder key words you would look for. Note that the tokenizer adds tokens and may split certain words into multiple tokens. As such, the embedding of your key token via **get_token_embeddings** may not be at the index you expect. "
   ]
  },
  {
   "cell_type": "markdown",
   "metadata": {},
   "source": [
    "For example, say we use the keyword \"white\". Here is the tokenization of the word:"
   ]
  },
  {
   "cell_type": "code",
   "execution_count": null,
   "metadata": {},
   "outputs": [],
   "source": [
    "text = \"white\"\n",
    "split_text = text.split(\". \")\n",
    "marked_text = \"[CLS] \" + \" [SEP] \".join(split_text) + \" [SEP]\"\n",
    "tokenized_text = tokenizer.tokenize(marked_text)\n",
    "print(tokenized_text)"
   ]
  },
  {
   "cell_type": "markdown",
   "metadata": {},
   "source": [
    "We see that \"white\" is at index 1. Therefore, the embedding we want will be at the 1st index of the list returned by **get_token_embeddings**. Manually check this for each word you add."
   ]
  },
  {
   "cell_type": "code",
   "execution_count": null,
   "metadata": {},
   "outputs": [],
   "source": [
    "keys = [\n",
    "    {\"text\": \"white\", \"idx\": 1, \"embed\": None},\n",
    "    {\"text\": \"negro\", \"idx\": 1, \"embed\": None}\n",
    "]\n",
    "\n",
    "# Update \"embed\" for the keywords\n",
    "for k in keys:\n",
    "    embeddings = get_token_embeddings(k['text'])\n",
    "    k['embed'] = embeddings[k['idx']]"
   ]
  },
  {
   "cell_type": "markdown",
   "metadata": {},
   "source": [
    "Now, we simply compare our key token embeddings to the token embeddings of each response. If a response contains a token with a high-enough* similarity to a key token, label it as \"about_race\". \n",
    "\n",
    "<small>\\* Begin with an arbitrary threshold for similarity, and adjust as needed. Consider printing the cosine similarity scores to get an idea of what scores are high/low.</small>"
   ]
  },
  {
   "cell_type": "code",
   "execution_count": 3,
   "metadata": {},
   "outputs": [],
   "source": [
    "# df: Dataframe\n",
    "# column: column to consider for labeling\n",
    "# label: name of column to store results in\n",
    "# keys: keyword dictionary\n",
    "# thresh: similarity threshold\n",
    "def label_topic(df, column, label, keys, thresh):\n",
    "\n",
    "    # Initialize/Reset column\n",
    "    df[label] = 0\n",
    "    \n",
    "    # Track tokens that matched to keywords\n",
    "    token_matches = []\n",
    "    \n",
    "    # Search\n",
    "    for i in range(len(df)):\n",
    "        embed = get_token_embeddings(df[column][i])\n",
    "        for j in range(len(embed)):\n",
    "            for k in keys:\n",
    "                sim = 1 - cosine(embed[j], k['embed'])\n",
    "                if sim >= thresh:\n",
    "                    df.at[i, label] += 1\n",
    "                    \n",
    "                    # Get the token that matched to a keyword\n",
    "                    split_text = df[column][i].split(\". \")\n",
    "                    marked_text = \"[CLS] \" + \" [SEP] \".join(split_text) + \" [SEP]\"\n",
    "                    tokenized_text = tokenizer.tokenize(marked_text)\n",
    "                    token_matches.append((tokenized_text[j], k['text']))\n",
    "                    \n",
    "                    break\n",
    "                    \n",
    "        # Track progress\n",
    "        if i%100==0:\n",
    "            print(i)\n",
    "                    \n",
    "    return token_matches"
   ]
  },
  {
   "cell_type": "code",
   "execution_count": null,
   "metadata": {},
   "outputs": [],
   "source": [
    "token_matches = label_topic(df, 'long', 'about_race', keys, 0.5)"
   ]
  },
  {
   "cell_type": "markdown",
   "metadata": {},
   "source": [
    "In our previous dictionary, we haven't made use of BERT's contextualizing capabilities. For example, the word \"white\" may be interpreted differently depending on how it's used. In our case, we are referring to race, but BERT may pick out responses that refer to various colors or words associated with the color white."
   ]
  },
  {
   "cell_type": "code",
   "execution_count": null,
   "metadata": {},
   "outputs": [],
   "source": [
    "print(set(token_matches))"
   ]
  },
  {
   "cell_type": "markdown",
   "metadata": {},
   "source": [
    "Rather than giving BERT our keywords out of context, use it in a short sentence/phrase. Again, tokenize the phrase you chose and note the index of your keyword. This should give an embedding that considers the keyword in a more narrow context."
   ]
  },
  {
   "cell_type": "code",
   "execution_count": null,
   "metadata": {},
   "outputs": [],
   "source": [
    "# Use keyword in a short sentence/phrase for context\n",
    "# NOTE: Pre-check the tokenization of each phrase.\n",
    "#       Set 'idx' to the index of the keyword in the list of tokens\n",
    "keys = [\n",
    "    {\"text\": \"The white man\", \"idx\": 2, \"embed\": None},\n",
    "    {\"text\": \"The negro man\", \"idx\": 2, \"embed\": None}\n",
    "]\n",
    "\n",
    "for k in keys:\n",
    "    embed = get_token_embeddings(k['text'])\n",
    "    k['embed'] = embed[k['idx']]"
   ]
  },
  {
   "cell_type": "code",
   "execution_count": null,
   "metadata": {},
   "outputs": [],
   "source": [
    "token_matches = label_topic(df, 'long', 'about_race', keys, 0.5)\n",
    "print(set(token_matches))"
   ]
  },
  {
   "cell_type": "markdown",
   "metadata": {},
   "source": [
    "Finally, let's look at some of the more interesting results (full results can be found in data/[].xlsx)."
   ]
  },
  {
   "cell_type": "markdown",
   "metadata": {},
   "source": [
    "Below are responses labeled as \"about_race\" which did not contain a keyword. A simple keyword search using the same keywords would not pick up any of these responses."
   ]
  },
  {
   "cell_type": "code",
   "execution_count": null,
   "metadata": {},
   "outputs": [],
   "source": [
    "for r in df['long'].loc[df['about_race'] > 0]:\n",
    "    if \"negro\" not in r and \"white\" not in r:\n",
    "        print(r,\"\\n\")"
   ]
  },
  {
   "cell_type": "markdown",
   "metadata": {},
   "source": [
    "Next are responses that were not labeled as \"about_race\" but contained a keyword. This is good in cases where one word may have multiple meanings. A simple keyword search using the same keywords would have picked up all of these responses. False negatives may be remedied by adding more keywords, using multiple short sentences for the same keywords, or lowering the similarity threshold."
   ]
  },
  {
   "cell_type": "code",
   "execution_count": null,
   "metadata": {},
   "outputs": [],
   "source": [
    "for r in df['long'].loc[df['about_race'] == 0]:\n",
    "    if \"negro\" in r or \"white\" in r:\n",
    "        print(r,\"\\n\")"
   ]
  },
  {
   "cell_type": "markdown",
   "metadata": {},
   "source": [
    "Finally, update CSV with our new column to avoid having to re-filter later"
   ]
  },
  {
   "cell_type": "code",
   "execution_count": null,
   "metadata": {},
   "outputs": [],
   "source": [
    "df.to_csv(\"../data/surveys_clean_filtered.csv\")"
   ]
  },
  {
   "cell_type": "markdown",
   "metadata": {},
   "source": [
    "# Searching for other topics"
   ]
  },
  {
   "cell_type": "markdown",
   "metadata": {},
   "source": [
    "Now let's use the same ideas to search for responses that talk about women/gender relations."
   ]
  },
  {
   "cell_type": "code",
   "execution_count": 4,
   "metadata": {},
   "outputs": [],
   "source": [
    "# Read it in\n",
    "path = \"../data/surveys_clean_filtered.csv\"\n",
    "df = pd.read_csv(path, na_filter=False)\n",
    "\n",
    "# Use small sample for testing\n",
    "#df_sample = df.sample(n=500, random_state=1).reset_index(drop=True)\n",
    "df_sample = df[0:500]"
   ]
  },
  {
   "cell_type": "code",
   "execution_count": 5,
   "metadata": {},
   "outputs": [
    {
     "name": "stdout",
     "output_type": "stream",
     "text": [
      "['[CLS]', 'a', 'woman', 'is', 'a', 'woman', '[SEP]']\n"
     ]
    }
   ],
   "source": [
    "# scratch work\n",
    "text = \"a woman is a woman\"\n",
    "split_text = text.split(\". \")\n",
    "marked_text = \"[CLS] \" + \" [SEP] \".join(split_text) + \" [SEP]\"\n",
    "tokenized_text = tokenizer.tokenize(marked_text)\n",
    "print(tokenized_text)"
   ]
  },
  {
   "cell_type": "code",
   "execution_count": 6,
   "metadata": {},
   "outputs": [],
   "source": [
    "keys = [\n",
    "    #{\"text\": \"the white woman and the negro man\", \"idx\": 3, \"embed\": None},\n",
    "    #{\"text\": \"forcing the woman to go and leave children\", \"idx\": 3, \"embed\": None},\n",
    "    #{\"text\": \"respectable young women\", \"idx\": 3, \"embed\": None},\n",
    "    #{\"text\": \"there is no color women\", \"idx\": 5, \"embed\": None},\n",
    "    #{\"text\": \"run after the womens\", \"idx\": 4, \"embed\": None}, #ok\n",
    "    #{\"text\": \"take your mother out and hang her\", \"idx\": 3, \"embed\": None},\n",
    "    #{\"text\": \"a woman is a woman\", \"idx\": 2, \"embed\": None}\n",
    "    {\"text\": \"woman\", \"idx\": 1, \"embed\": None}\n",
    "]\n",
    "\n",
    "man_embed = get_token_embeddings(\"man\")[1]\n",
    "for k in keys:\n",
    "    embed = get_token_embeddings(k['text'])\n",
    "    k['embed'] = embed[k['idx']] - (np.dot(embed[k['idx']], man_embed) / np.dot(man_embed, man_embed)) * man_embed"
   ]
  },
  {
   "cell_type": "code",
   "execution_count": 13,
   "metadata": {},
   "outputs": [
    {
     "name": "stdout",
     "output_type": "stream",
     "text": [
      "0\n",
      "100\n",
      "200\n",
      "300\n",
      "400\n",
      "500\n",
      "600\n",
      "700\n",
      "800\n",
      "900\n",
      "1000\n",
      "1100\n",
      "1200\n",
      "1300\n",
      "1400\n",
      "1500\n",
      "1600\n",
      "1700\n",
      "1800\n",
      "1900\n",
      "2000\n",
      "2100\n",
      "2200\n",
      "2300\n",
      "2400\n",
      "2500\n",
      "2600\n",
      "2700\n",
      "2800\n",
      "2900\n",
      "3000\n",
      "3100\n",
      "3200\n",
      "3300\n",
      "3400\n",
      "3500\n",
      "3600\n",
      "3700\n",
      "3800\n",
      "3900\n",
      "4000\n",
      "4100\n",
      "4200\n",
      "4300\n",
      "4400\n",
      "4500\n",
      "4600\n",
      "4700\n",
      "4800\n",
      "4900\n",
      "5000\n",
      "5100\n",
      "5200\n",
      "5300\n",
      "5400\n",
      "5500\n",
      "5600\n",
      "5700\n",
      "{('women', 'woman'), ('she', 'woman'), ('her', 'woman'), ('woman', 'woman'), ('with', 'woman'), ('ladies', 'woman'), ('mother', 'woman'), ('civilians', 'woman'), ('married', 'woman'), ('men', 'woman'), ('wives', 'woman'), ('marriage', 'woman'), ('girls', 'woman'), ('girl', 'woman'), ('wife', 'woman'), ('sister', 'woman')}\n"
     ]
    }
   ],
   "source": [
    "token_matches = label_topic(df, 'long', 'about_gender', keys, 0.3)\n",
    "print(set(token_matches))"
   ]
  },
  {
   "cell_type": "code",
   "execution_count": 31,
   "metadata": {
    "scrolled": true
   },
   "outputs": [],
   "source": [
    "#for r in df[(df['about_race'] == 0) | ((df['about_gender'] == 0))]['long'].tolist():\n",
    "#    print(r)\n",
    "#    print()"
   ]
  },
  {
   "cell_type": "code",
   "execution_count": 36,
   "metadata": {},
   "outputs": [
    {
     "name": "stdout",
     "output_type": "stream",
     "text": [
      "q(44) i think that the rights of the negro will be the same or even worse after the war. in miss. there are lynchers, also lynch leader who are wearing state polices buttons, the law in miss its self are with the lynchers. i was reading an article in the paper today. there was a colored soldier and col. woman in a cafe passing licks (blows) a law saw them came in there and began to beat the col. soldier on the head with a his blackjack. another white man was passing in a truck saw it stops, came in with a iron bar and began beating the soldier. the law was standing watching the soldier's blood drop on the street and wouldn't attemp to do anything. sir, i hope i live to see col. people be given equal throughout the u.s.\n",
      "\n",
      "in general negro in civil life are treated on the same bases as enemies of the u.s.a. than citizens. we as negro aren't thought of enough to be hired in defense plants. but any foreigner can have a better position than he. we have men and women qualified to hold any position as good as any race but we aren't given the chance. there is too much race prejudice in the army where there are negro troops and white officers. why should the negro soldiers fight for the country which is treating him so bad. the negro is treated as a parasite. we are thinking how germany treated the jewish race. what about the treatment of the white toward negro? it can be better and will have to be better before victory is won.\n",
      "\n",
      "the white can do anything they wants to colored soldiers or the women and it anything done but when a negro do something they want to give him the ropes. so therefore a negro soldiers just as same a dog in this white mans army. the white lieutenant. gets rated faster than the colored officers and they dont deserve it. the colored have to be here about twenty yrs before they can make captain. when the white come right off the farm and make the grade so i can see how that the army is hell for us negro but some day it will all be different.\n",
      "\n",
      "after being promised my release after 1 year of service i was kept and many soldiers release who hadn't had seven months of training just because they were 28 or over. i'll always feel that i was dealt with unjustly  i would have been  to return after pearl harbor.  this army  business in the  if the government can't protect her soldiers no matter what color how does she expect them to want to protect her. stop civilian cops from mistreating colored soldiers in the south.  going south soon if  molested in anyway there will be  and plenty. why isn't there more paper to write on? in an isolated camp as mine any is there such a thing as bed check? most   on weekend alone and 10,  soldiers heading for a town that can afford recreation of only 50. something should be done. why isn't home built around here for enlisted men and their families? the only women around here aren't outfit society for the japs and germans. for an all colored post it's pretty lightly colored. decent house belong to civilians why can't soldiers own them? why? i'm expecting combat duty soon this country had better make her promise good or we'll have another war within two years but with all her faults i love her.\n",
      "\n",
      "i don't think we cal. soldier are getting there rights in the south. the whiteman will go with our woman and dont want us to hook at his woman. eaven on the nus they dont want us to set on  seat. still we are in same army . i think after this war ther will be another war. between white men and colored men. 2 more in the number for them. some white men are dirty rats. some of them nothing but rats.\n",
      "\n",
      "i thank all soldiers should be the same don't you, if they cant be treated the same why take them in as a soldier. why not let them stay at home. why dont the war apartment do something about white police killing negro soldiers. i hope you all dont miss understand me most white men thank all a negro want is white women i dont thank so if negro is so low why do white peoples hair them work in their homes i thank if i can eat anyone cooking they are all wright do you i sure hope you dont miss under stand me\n",
      "\n",
      "after these questionnaire are read what action will be taken to better our army conditions? in regards to separate px & service clubs, a white soldier can get away with entering our p.x. service clubs & even have intercourse with our women. enter one of theirs or have an intercourse with a white woman & immediatly  theres a cry of blood retaliation, even in the theaters. they go so far as to have separate windows to buy tickets & a restricted area to sit in. yet we wear the same uniform, draw the same pay & is fighting for the same cause. i ask if you cut us do we not bleed as the do, do we too not shed tears, sweat & die as the do for the same cause? then why are we treated as an inferior race, our inteligence & edjucation ranks on the same level as any white mans, sometimes even higher. united we stand divided we fall, & we are a divided  country. racial discrimination, & yet dark hands buy bonds & mold bullets the black & white alike use. let their be a change. light in this dark nation, lets unite as one against our common enymy the natzis after these questionnaires are read what action will be taken to better our army conditions? in regards to separate px + service clubs, a white soildier can can get away with entering our p.x. service clubs + even have intercourse with out women. enter one of their or have intercourse with a white woman + immediately theres cry of blood relations, even in the theaters. they do so far as to have windows to buy tickets + a restricted area to sit in. yet we wear the same uniform, draw the same pay + is fighting for the same cause. i ask if you cut us, do we not bleed as the do, do we too not shed tears, sweat + die as the do for the same cause? then why are we treated as an inferior race, our intelligence + edjucation ranks on the same level as any white mans, sometimes even higher. united we stand divided we fall, + we are a divided county, racial discrimination + yet dark hands buy bonds + mold  the black + white alike use. let their be a change, light in this dark nation, lets unite as one against our common enemy the natzis\n",
      "\n",
      "(76) most white men worry about their women, yet they figure they can molest ours and still keep theirs. yet i've met white women who prefer negro to their own color or race. most white women are not prejudice. what we want is to be able to mix industrially and socially - not interracial.\n",
      "\n",
      "if the soldiers from the south were sent back i think there wouldn't be so much trouble between white and colored. also  a married man would be able to see his wife more often he wouldn't  so much. if officers would listen to a private  sometimes there wouldn't be so much  punishment. in the army camps in the south there should be separate  lines. most colored people ain't  a chance to  what they know in the army and in civilian life\n",
      "\n",
      "my honest opinion is this why should we have to as soldiers in the same army have to believe that just because i am white an he is a negro, feel we cannot eat, dance, sleep, and fight for our country side by side. i believe there are only two slaves left in thsi country they are the white woman and the negro man. the white man and negro woman can do anything they wish. the white man must believe or made to believe the negro doe not want his woman any more then he want his. this makes race  misunderstanding\n",
      "\n",
      "in being in a  camp, white pvt's. wouldn't want negro non comisions officers to give them orders. we doesn't mind fighting, if we get equal rights and privlage just like the whites. in the south a negro have to always go to the back of all hotels but whites goes in negro places anywhere they want to., i feel that is we are going to get equal rights we should get them now. it would make is feel more like we have some thing to fight for. but like it is now. it might turn out just like it did in the other war. after the war less privlages and right than before the war started. they're still whipping colored women on the buses in the south and lynching negro men on suspicion.\n",
      "\n",
      "i think after a man have been in the army six month's, he should be able to obtain a furlough, and the negro soldier's in the south should be treated better. the colored officer's are stops at a certain point, and there are no colored btry. commander's in our div.  out here in fort huachuca, the soldier's do not have any social life, and i think after serving five or six month's he should be moved to another camp, i don't under stand why they take the boy's from the north an send them to the south. i think if a soldier was closer to home he would be a better soldier. i under stand there is a man power shortage, why dont the government send the men who were working in a defense plant back especially the married one's. and i think now is the time for the negro to be given his equal right's, it would bring up his morale, because at the present he have to little privilege's to fight for. above all i wish the white would stop this lynching in the south.\n",
      "\n",
      "i would like to know why the negro have to fight and after the war is over it will be the same way. the negro have no say so cant go any place they will not to go. in some states if they get on the the street car they have to sit in the back and if the white people set (seat) as fill they will have to get up and let them have their set (seat). all a white woman have to say in the south that a color man look at her to hard they will tie a rope around his neck but still the will not (they want) a negro to fight for them and men half of his life withe got damn army and half of them will get kill. and when you try to go home they will not let you but they still will not you to fight for them. and you know that is the truth but the negro will see they day.\n",
      "\n",
      "i was born in this country + know of no other, but at times i am ashamed to even lift my head, i did not't ask to come into this world as far as that goes none of us did. but i believe we were all put here for a purpose so why scorn a man or woman because of his color whether white, yellow, or colored. he surely can't help it or can he? i've been approached many times by communist + frankly told them that i wanted no part's of them. i am a 100% for u.s, did not't have to be here, could have been  i chose to come in here fight yes gentlemen i said fight! for you who scorn me + my race + am doing so without a thing to defend my self + ask of you no pity or anything in return my father + i came in the same day my girl joined the  aac's. i haven't seen them for a year my mother is catching gentlemen + is doing it gladly for these united state's. the south is cruel + afraid of what might happen. i'd rather be in hell than live in the south. as a matter of fact i rather on the other side of fighting any way. i'm doing my share more and will continue to do so i trust you will wake up and do yours. unity is the only way this war will be ever won. pardon my spelling but you've arroussed my anger and that is the results. \"i saw one for all and all for one.\" what do you say? what about tuskegee flying school? alabama's property owners. mississippi? the klu klux klan? how would you feel in my place. also what about colored musicians, teacher and other professional people, laborer's, and colored farmers, what about colored women who have to work for $4.00 per week both in the north + south. why do they have to stoop too () low things too () support their families? i'm fighting so that these things will be demolished. \"i hope.\"\n",
      "\n",
      "in this questionnaire, there is nothing about the american negro women.  why aren't they given a fair chance in everything the same as the white women. since we are fighting for freedom of all, why dont we all be given a chance to fight in the  of the army that we want to. i am sure the best fighters are those who is fighting in the  the chose. hell if the united states were attacked and our continent were invaded invaded, there would be no hesitation in protecting it and driving the enemy from our shores. no one would stop to pick certain people to training for certain jobs which will drive them from our shores. and there is no job that we can\n",
      "\n",
      "the white commanders think a negro is being overpaid and they are causing the negro a lot of unnessary work not giving them enough to eat are giving out severe sentences and finds for minor offences. in the combat outfits they are killing the troops with hard work but are not learning them much because they don't thing they are smart enough to learn. they are breaking the morale of the troops by not showing no respect for the negro soldiers. the combat outfits are not fed and clothed as good as other outfits and not given the same privileges and they are not proud of there outfits. they are showing poor jugiment in picking noncom's. they pick noncoms. because they knell down to officers. and not for intellenges, smartness leading qualitys and hard work. some have no education not proud of race or army. the negro soldiers should no be restricked no more than white solders. fort hauchuca is a bad place to train negro solders because there are not enough negro women and other places for negro troops to go.\n",
      "\n",
      "well negro dont have a chance so if it was not for the white woman the negro man would have a chance, man would have a chance (the negro) if one (the negro) should fight the white man we would win because god are on our side god bless america their (the whites) home \n",
      "\n",
      "there is one thing you haven't mentioned, and that is about the south and the conditions there. just why can't you bring about fair conditions as the negro? or is it that this is not a free country as is claimed? you say that the germans want supremacy as you not, and the white race is fighting to hold up,  where as the negro is not considered as anything but a  as the white. as commander in chief of all the american force and president of u.s.a. why haven't roosevelt done anything about these conditions? or is it that he would rather have a warbe-tween the black people and the white people? where as the white women believe in fair treatment (and they would show it if they wasn't afraid) the men are not that way. why? because they are afraid of the negro, and his abilities.\n",
      "\n",
      "i thank the negro soldier should remain in   because most of them are near home also have a very good chance of going home to visit there family and wife. i thank   should be more conveneent for negro soldier. bus and other thing\n",
      "\n",
      "i would like to no what the negro is got to fight for it is not much i know when the white man is got it all. you don't like for them to go to the white man show and in the south they have put fire on some negro for looking at a white woman. there is so much shit going on down there an you don't try to put a stop to it. but i'm looking for them to send this outfit down there and if they do i know there will be some bull going on when they get there for they dont care about the white man and what he is doing.\n",
      "\n",
      "in my outfit we have a copany commander who seems to hate to see a negro have anything. for one while he had almost every one in the comany privates. i think all married men should be home with their wives doing war work. they could do more out of the army working in defense plants.\n",
      "\n",
      "as pertaining to the questions concerning the two races, the negro is willing, but has had so much unfair treatment from the white race, until he see that in general the white race really dont care to associate with the negro race, only the white man, with a negro woman and when it be known there is nothing done about it in particular, and a white woman can say a negro man did just anything to her and a gang is already to mob, lynch, or burn the negro. is that fair treatment for the negro race. no, give us justice, and, say we are all red blooded americans. all men are born the same.\n",
      "\n",
      "i dislike discrimination between colored and white soldiers on the part of the army. to win this war will take cooperation and color will have to be forgotten. the reason the other side is so far ahead of this country is because the southern white man goes out of his way to keep the colored man down. the southern white people seem as if they are not fighting any foreign country, but are fighting to keep the negro from advancing above his present level. when a colored officer is stationed in the south, white soldiers and officers turn their back to keep from saluting him. most negro officers are stationed in the north or on the west coast. white southerners would treat a yard dog better than they do a negro. roland hays of georgia. was terribly beaten because his wife refused to buy a pair of shoes. a southern white man wants you to kiss his ass to get along with him, but yet he wants you to fight to keep him in luxury. gov. talmadge of georgia said over the radio that he would rather see germany & japan rule the world rather than see a negro sit down beside him on a bus. the white people of texarkana cut a negro nuts and made him eat them because he was suspected of raping a white girl. i am sorry i don't have more space so i could speak my opinion more fully, i hope you can see my point of view about this whole set up.\n",
      "\n",
      "if the law would allow it or turn its back these southern whites would hitch a a negro to a plow and work him like a horse. a negro cannot vote in the state of texas . they want negro women to work in their filthy kitchens wosh their brats and fix their food but think you are not good enough to sit beside them on a bue or in a eating place. a negro was hung in  . negro in the south have never been treated like any thing but an old dog. on this post a negro soldier has to drink coffee out of a milk bottle in the u.s. government's army exchange while white soldiers drink from cups. after the war if we win a german or jap can come and live in any hotel or eat in any cafe while negro will be handed crumbs from the back door. i don't have any thing against the u.s. army in fact i think it a great idea, but not a jim crow army. p.s. if the law would allow it or turn its back, these southern whites would hitch a negro to a plow and work him like a horse. a negro cannot vote in the state of texas. they want negro women to work in their filthy kitchens, wash their brats and fix their food, but think you are not good enough to sit beside them on a bus or in an eating place. a negro was hung in  because he made master sgt. negro in the south have never been treated like anything but an old dog. on this post a negro soldier has to drink coffee out of a milk bottle in the us governmen's army exchange, while white soldiers drink from cups. after the war, if we win, a german or jap can come and live in any hotel or eat in any cafe while negro will be handed crumbs from the back door. i don't have anything against the us army, in fact i think it a great idea, but not a jim crow army.\n",
      "\n",
      "i am hoping we will win the war soon and do hope every man woman and child will fight hard for the colored to have the same privaleges as the white man and i would like to see the day when we all can be one big family because god made us all we are all human and i am hoping the white people will see the colored brethren as his brother. until hatred is ceased god is not going to let america win this it will not take weapon to win this war if only the white people stop using the colored people as dogs the the colored peoples prayer will win the war for america.\n",
      "\n",
      "i think if we as negro could have our own officers and other leaders we would have a much better army. i know of a certain incident happen in my company one boy was caught doing some stealing and an   my officers think because one negro do something they all is the same. he stood in in my face telling me that that i have been stealing food out of the company mess carrying it home to my wife i have not ever had that idea in my mind to ever carry food from my outfit to my wife or any one else seem to me because this guy was caught stealing all races are caught doing something wrong so i would not think all the men do as one have done\n",
      "\n",
      "it is some white people fine and it is some of them bad. i hope this don't happand but the way the white people trust us negro. there will be another war after this one if they don't get no better. i hope they will get better and the world will be fine but the negro are not going to help win this war and be treated now and have been for the rest of are 20 years. it seem to me if the white and colored don't mix they should let a negro soldier be station in a town where it is a lot of negro women and it won't be any  it. i hope it base is won't be help me.\n",
      "\n",
      "i feel that if some of the petty discriminations that are practiced against negro soldiers in restaurants, hotels, and transportation facilities were done away with, the morale of negro troops would improve considerably. when a negro soldier is refused service in any of the above places, he usually asks himself: what am i fighting for? am i fighting, being forced to give up my life, to perpetuate these things? must i always be looked upon as being inferior because of the color of my skin? in a nazi dominated country perhaps i would be required to wear a badge to show that i was inferior, even though i know i am not, but in america my badge in the color of my skin. i suppose he also wonders what sort of a regime will be in practice after the conflict is over. i for one do. will i have a chant to vote? will i have a chance to take part in the practice of democracy? will i still see my woman insulted and forced to  on certain economic ? will my brothers still be burned, lynched, and murdered and\n",
      "\n",
      "the negro soldier could easily be one of the best and loyalist men in the army. if given a half way chance. but the way this army is working you have no chance. one week i was wing assemblies on the b.17. the next week i am portering in a government hospital. a job that a 70 year old man or woman could do. the co. commander says i will never see a gun. do you think i feel as if i was doing any thing in this war. hell no.\n",
      "\n",
      "dear sirs: i enjoyed answer this question, only if they could be seen by everybody in the world. but i will bet my life that this won't leave this post. you people should not take all of the good things. i am a negro boy, but i have had some bad brake in this white man united states. in fact this is not a good place for negro. i hardly believe hitler would treat us as bad as the u.s. are treating us. however i willing to do my part for u.s.a. we don't have anything right. we feel that our boys who are married should be able to keep his wife on post as the white. well, may god see about all of these things for the poor negro. the food that we are eating is rotten at times. p.s. i haven't been in jail as guard house, therefore i feel as much as any white soldier.\n",
      "\n",
      "all married men in the army should be tested to see if he has the ability to become a noncom officer because of the small pay he receives as a private. we should have some negro lieutenants in our companies. it would help build the morale of any soldier that is married to be near his family while training as before he go overseas. all soldiers that are in the army and married and eligible for war work should be replaced by single men, and put in to war plants. the negro private in the army should be looked upon by the white officers as lower in rank not as a man of a lower race.\n",
      "\n",
      "in the first place we haven't had a fair deal in the buses in camp or civilian life stores, hotels camps and many other things. next we shouldn't't have to work night and day. i my self have my wife in a a city near camp and don't have time to visit her as i would like to do not that that i want all time off because work doesn't worry me. i can take it but you your self should like to have a two or three day pass so why do we have to suffer so hard. i think we have enough men in the army to do the job and give the men a good break no writing for myself only but for every man in all army units. navy,, marines and air corps but i think when this thing is all over then we will have something to say about our conditions but i know we haven't had a fair chance at all and i know that about ninety percent of the colored people think the same as i do when we ride buses or cars we are pushed in the back and most times at stations the white are loaded and if the number is great we are not allowed to enter and that is one thing that hurt me more so if things are changed from what they were before i came into the army i'll be willing to spend a while longer with the best of my ability, so i closing this survey and hope and pray to the lord above to better our conditions.\n",
      "\n",
      "well if i could get to go home once in a while i would mind the army. i would like to see my mother and wife and baby.  when we get to go to town we have to wait till the white boys get on the bus and if there is no room we will have to wait till the next bus come along. they run when they get ready.  we don't have a  to do  at night because they work us from 6 to 6.30 and then some time longer then that this is the only camp that does that. that is i know of but i wish that i was out of this camp in to a better one. well if i could go home once in a while i would mind the army. i would like to see my mother an wife an baby. when we get to go to town we haft to waite till the white boys get on the bus and if there is no room we will haft to waite till the next bus come along. they run when they get . we don't have a  to do  at night because they work us from 6 to 6.30 an then some time longer then that this is the only camp that does that. that is 2 hr of. but of wish that i was out of this camp in to a better one.\n",
      "\n",
      "in my opinion, the question of transportation wasn't covered enough. here in alabama a negro soldier has to wait until all white passengers are seated before they can even get on a bus. in some other places in the south, they can't even get on a bus if any of the passengers are white women.\n",
      "\n",
      "haw, this war is hell, i know. o even war is here on this soil. to let it be known that we are all one, out of one blood god made all nations. we came as slaves years ago. we have brains and even though we have been kept down considerably we managed to struggle and make more progress than any race in the last hundred years. still when i rode through the south, i could have cried, for i know no human wants to live as the southern negro. i'm from the north, and believe me i'm sure going back too, if i can. a negro is always being lynched, or accused by some white woman. withour a trial the negro is slain and dragged behind a car or hung to a tree. now, thats what we should fight for. thats why mandelf of the m.e.cp. started a movement on washington. i love this country deep in my heart, but lets get the jim crow signs down. i saw one here and i almost cried with blood in my verins. whites can have veneral disease, they do have it, you all seem to think negro are nasty. as for you, mr. roosevelt, i'm for you 100% and your wife is grand. yay, god bless, you forevermore..\n",
      "\n",
      "in many army camps where negro troops are stationed the quartermaster does not supply the men hall with adequate food for soldiers. more u.s.o. shows should visit colored camps for the soldier's amusement than they do. down here in alabama the transportation facilities are utterly rotten. something should be immediately done concerning this situation since many posts are typical of this one. in a number of the posts, camps in the north the same situation exists. southern enlisted men and officers will address negro soldiers as niggers. things like this cause riots. the southern civilian is liable to lose his life as well as the soldier. the majority of northern soldiers stationed will rather fight than be insult in this way. southern men and women such respect the northern negro soldiers and southern negro soldier. if the whites will not respect we will kill them or be killed. were supposed to be fighting for democracy. this is damn sure not that.\n",
      "\n",
      "this is the war of the u.s.a. regardless to race creed or color and god created us all he did not devide us so why should any one else without his power. this is our war so we should like it as well as the white. not as a horse just something we are forced to do by man power. we should be taught in the way that all parts of it will be a part of us not just a aliby for fear. we should live together and fight together, work together and serve together. it is time there is no such thing as segregation only between the white woman and the negro man to be sure of.\n",
      "\n",
      "i believe that southern whites in their stubborn ignorance are doing a great deal to aid the axis. sometimes i really believe they would rather see the allies lose than see the negro gain equal status with them. they dislike the negro‚äîbut when asked why, they fail to give an intelligent answer. they believe that intelligent negro are dangerous, but they tolerate the ignorant ones because they feel as though it is a simple matter to scare him into submission to the whites. this is generally true. the whites fear interracial marriage most. if they did not‚äôt feel their women might mingle with negro, i believe even the intelligent negro would be allowed more opportunity for equal status. i‚äôve wanted to say this for a long time. thank you.\n",
      "\n",
      "23. my enjoyment is in my work. seeing the pleasure, diversion and the good it does the men both officers and enlisted men is really enjoyment to me. 24. being the best place for relaxation and enjoyment on the post, and where man and wife are able to spend a few enjoyable hours together i really believe what i am doing is worth while. 63&64&65. where the man is yours or what his color would make no difference to me, but what is in his heart is what counts. i have spent every winter going all through the south and know good southern people both white & colored and the same in the north. of all is not fair within his hear and some he will not be right, no smatter where he is from or what color he is.\n",
      "\n",
      "(210): after the war negro soldiers will find it harder to get jobs because women will not want to give up their jobs and further more white soldiers will be given first preference. (41) in the present war negro soldiers are not given the chance to be  trained as the white soldier. most negro are but in work squadrons. (64)  squadrons, engineers  in the air force when white cadets \"wash out\" they are given another chance to prove their ability; as radar operators, bombridlers, gunners, etc. (64, 65, 66) as long as i am in a southern camp i prefer northern white lieutenants so that if any conflict comes up between the  and soldier matters can be ironed out. in this  of the country the odds are against the negro lieutenants in every respect.\n",
      "\n",
      "my frank opinion about the whole thing is that the race forms the tenth spoke in the wheel with ten spokes. if that spoke is cut out - the wheel will not run smoothly. the negro forms the largest of the minority group and he is definitely an asset and a good market and good worker. in the north-east and west the negro is discriminated against through last to be hired first to fired with most of them not getting enough pay thus forcing the woman to go and leave children with anybody in order the work for to help earn an living thus endangering the future race-economical inequality. in the south with 5/10 of the country's populations is definitely a lap in the nation's progress. it is still fighting the civil war - needs much improvement - the army have too much friendship instead of merits in its promotion of non comm and commissioner officers - too much red-tape give the enlisted men a laboratory on this field for experiment. the enlisted man do not get a chance because of his rank and red tape. i suggest an laboratory for his chance to prove his ability regardless of school-society-friendship-race-religious or rank.\n",
      "\n",
      "if the army, government, or the american people wish to keep the negro men from social contact with white women and white men from negro women, that's not so bad. but there can be no  in two races of the same sex associating together. the united states army uniform should be respect at all time regardless of what color the wearer might be. it should be given the same respect in the south as in the north. the negro soldier (especially ) that if the government for which we are fighting can't protect us from insults, segregation, beating and abuses from our fellow citizen, whom we haven't harmed, how can it protect us from the enemy when we do not even know. or why should it?\n",
      "\n",
      "26. when i see some work has not been done by another mechanic to the best of his ability. 30. on the account of my age i feel like i can serve best here servicing basic trainer planes. 57. 58. 59. all they ask for is a chance to help produce in our war plants or where ever there service is needed most this war cannot be won unless the negro labor is added to produce not slow up production and any firm refusing to hire a man or woman on the acct of color is as guilty as i would be doing something to a plane to cause it to crack up and kill a polit   the american negro as a whole just ask for a chance we have never failed yet, and we can't fail now. 65. i figure if a man was a gentleman in civilian life he will conduct himself the same as a soldier regardless of race ore creed.\n",
      "\n",
      "i dont like the army and i dont like the officer that runs the army  i   why uncle sam drafts the color boys.  i would rather be in hell than to be in the south.  you be walking along the st. and a white woman hollers rape then they have  for nothing. they all ought to be in hell  1200 clock to  all of them ain't nothing but shit? they ought to be made to eat shit. that goes for officers to. if i had my way no telling what i do. p.s closing for the white folks kiss my asshole. that is all i have to say.  i hope i meet you across the water.\n",
      "\n",
      "i think white people and negro people should be treated all the same because we're are all men and women you know there as a lot of difference kind of dog, but they are all dog in as that  if you catch what i mean.\n",
      "\n",
      "the 48 states supposed to be one but the army thinks other wise is is all prejudiced they are the best for white an what they dont want they dont want they give it to us down here if you look at the white they want to hang you to towns you cant walk on streets what kind of army is this in 25 years there will be another war with this side wheter a  an it will because of this war if the white dont treat the colored better the president orders to linch a colored boy for talk to a white women so the other side they knead to start with him hang him up by his nuts and pull his tung out he is just as bad as the rest so how can the others be any better then him\n",
      "\n",
      "well i am married and a good soldier. i have not run home to all my wife yet. i have been in here four months. i want to see her bad but they won't let me go and see her the white boys go see theirs wives the negro dont get to go see theirs wives we want to go home some time going in to town ant home we dont want other women ours wives is what we want we married them if we can't see thems and in four months we should have a divorce i don't need a wife if i can't see her sometime. i am willing to fight but i want to see my wife just like the white boys do. we are all soldier there wives aint no better than mind she is in there fighting \n",
      "\n",
      "we are all citizens of the united states. why can't we all train and fight together, give the negro a equal opportunity to share his ability. when we be come to realize what is going on in our on country get to gather a solve our on problem, then we all can feel that we are getting a equal chances a negro chances has been so slim in most cases he doesn't even know what he should fight about it is only one thing he could have in mind that i have a mother and a father, wife a child and etc. that is the only thing they he has in mind is to protect them then he begin to think on the other side of the fence. i am a negro i don't have a equal cance as a white man has it is many places i am not allowed to go a learned different things that the white has a different opportunity. we might be lucky to get some equipment up come a white man an take it away for the negro use it for him self\n",
      "\n",
      "in my opinion, the army is much fairer than the navy in its treatment of the races. the army graduate negro women from its officers' school in iowa. i have my first time to learn of a negro woman attaining the rank of a lieutenant in the army. the army give qualified negro a chance to graduate from west point and become high ranking officers. the navy railroads all qualified negro out of annapolis. i have a word to say about our defense industries too. why thousands of american soldiers are dying in battle, they are many narrow-minded industries in the south, who  and are denying qualified negro from doing much more than they really are dying to do.\n",
      "\n",
      "this war was in a way forced upon the american people, and i truly think we should fight to a finish. but there are certain phrases which could be made so clearer for the negro. for instance, the negro + whites px, separate units etc. probably could be together successful if we were to try it. usually white men like colored women, + vice-verse. we fight together, + die together why not live together in times of peace if thats what the individuals want.\n",
      "\n",
      "about the negro and white there is goo and bad in every thing. i get along with some and some i don't of both color. i dont like the army, i tried to get in may. the non-comm's we have are from the south west and i dont like any of them or the lieutenant. either. i think its jap's and german's should be crushed for they way the treated the woman & children that's enough for any man to want to fight for. tell them all the  getting isn't so hot but if it's going over to our boys then let them have it. some of the clothes outfit and some dont some time they can but half the time they dont. id like to get out of the army just as soon as the war's over weather i have a job or not just so i got home, then i could make out all night and look for a job or get my old one back. i dont have any faith in any of our officer's or non-coms. id hate to go in battle with any of them.\n",
      "\n",
      "63 - just as mark twain said or wrote, \"east is east and west is west and never the twain shall meet, it should be with color and white races. a white man married to a color girl is terrible but a white woman married to a color man is repulsive. i do not want to see it, tho in new york city, it is very common to see in the negro district, blond women going out with negro men, tho i can not say whether married or not.\n",
      "\n",
      "there should be more negro drafted because they are causing to much trouble at home for the women and girls.\n",
      "\n",
      "well i still believe that the white boy do not want to sleep with the colored\n",
      "\n",
      "refer to  #40-to many women will not want to leave the men's jobs that they now hold. ref to par #53-negro can no accept much responsibility and on a whole run around drinking & fighting among themselves as usual. refer to par # 57-negro are mixed with the whites in o.c.s. classes (tng. pos) at ft benning, georgia. they take advantage of the fact that they are in a uniform and do just as they please and in most cases they show their ignorance and disgrace their uniform.\n",
      "\n",
      "i know we'll win this war but, whether i'll see it is another question. when we win, will we again compel our allies to pay their financial debts to us by bleeding the conquered nations. if we do, we can expect another war. as for the racial problem, you can't break it down at once. we should allow the negro equal rights but, i'm afraid these southern boys won't allow them to an equal social standing. however, their human being like us, give them a fairly decent education & you'll see that at a mixed affair negro will not ask the wife of a white man to dance of course, you'll get that in the non-educated classes but, all they need is an equal, a fair chance to allow them to put the common sense they have, - to use.\n",
      "\n",
      "this questionnaire is o.k. excepting for the last part. it seems to be trying to distinguish the negro from the whites & vice versa. it is a hard matter to tell yourself that a negro is just as good as yourself. where one race is black & one is white, it is hardly fitting that they sleep & eat & associate together. there are numerous cases of white women marrying negro & bearing negro children. i do believe there is some solution whereby the white does not mingle with the black & still not oppress them. oppression is not right so i say ship them back to africa, providing we keep africa.\n",
      "\n",
      "and see just how much they will fight for our country. they might even win the war. then give them credit. most of them can't even write. why take a boy that has a good education and kill him. put the negro up first. .28 i would be better at home with my wife & baby. i could work on the p.rr. which they need men real bad. i have also had 9 yrs experience. i could also buy war bonds and would be better satisfied.\n",
      "\n",
      "58\n"
     ]
    }
   ],
   "source": [
    "for r in df[(df['about_race'] > 0) & ((df['about_gender'] > 0))]['long'].tolist():\n",
    "    print(r)\n",
    "    print()"
   ]
  }
 ],
 "metadata": {
  "kernelspec": {
   "display_name": "Python 3",
   "language": "python",
   "name": "python3"
  },
  "language_info": {
   "codemirror_mode": {
    "name": "ipython",
    "version": 3
   },
   "file_extension": ".py",
   "mimetype": "text/x-python",
   "name": "python",
   "nbconvert_exporter": "python",
   "pygments_lexer": "ipython3",
   "version": "3.7.3"
  }
 },
 "nbformat": 4,
 "nbformat_minor": 4
}
